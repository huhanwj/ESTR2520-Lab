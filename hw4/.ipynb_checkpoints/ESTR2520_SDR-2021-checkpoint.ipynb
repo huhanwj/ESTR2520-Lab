{
 "cells": [
  {
   "cell_type": "code",
   "execution_count": 1,
   "metadata": {},
   "outputs": [],
   "source": [
    "#import Pkg; Pkg.add(\"SCS\")"
   ]
  },
  {
   "cell_type": "code",
   "execution_count": 2,
   "metadata": {},
   "outputs": [
    {
     "name": "stderr",
     "output_type": "stream",
     "text": [
      "┌ Info: Recompiling stale cache file C:\\Users\\h\\.julia\\compiled\\v1.1\\JuMP\\DmXqY.ji for JuMP [4076af6c-e467-56ae-b986-b466b2749572]\n",
      "└ @ Base loading.jl:1184\n",
      "┌ Info: Recompiling stale cache file C:\\Users\\h\\.julia\\compiled\\v1.1\\SCS\\uaibp.ji for SCS [c946c3f1-0d1f-5ce8-9dea-7daa1f7e2d13]\n",
      "└ @ Base loading.jl:1184\n",
      "┌ Info: Recompiling stale cache file C:\\Users\\h\\.julia\\compiled\\v1.1\\Plots\\ld3vC.ji for Plots [91a5bcdd-55d7-5caf-9e0b-520d859cae80]\n",
      "└ @ Base loading.jl:1184\n"
     ]
    }
   ],
   "source": [
    "using JuMP\n",
    "using SCS # please install the package SCS with support for SDP\n",
    "using LinearAlgebra\n",
    "using Plots"
   ]
  },
  {
   "cell_type": "markdown",
   "metadata": {},
   "source": [
    "# Testbed: over a single instance\n",
    "\n",
    "Before we compare and benchmark over a large number of random instances, you may test the validity of your program on a single instance first. We begin by specifying the problem dimensions as follows:"
   ]
  },
  {
   "cell_type": "code",
   "execution_count": 3,
   "metadata": {},
   "outputs": [],
   "source": [
    "n = 10 # m = n\n",
    "noise_power = 0.2;"
   ]
  },
  {
   "cell_type": "markdown",
   "metadata": {},
   "source": [
    "Next we generate the random $y,A$ and the ground truth binary vector $x_{true} \\in \\{-1,1\\}^n$. "
   ]
  },
  {
   "cell_type": "code",
   "execution_count": 4,
   "metadata": {},
   "outputs": [],
   "source": [
    "A = randn(n,n) / sqrt(n); # generate the A matrix\n",
    "x_true = 2*(rand(n) .< 0.5).-1;\n",
    "y = A*x_true + noise_power*randn(n); # generate the observation"
   ]
  },
  {
   "cell_type": "markdown",
   "metadata": {},
   "source": [
    "Now, we have $y,A$ and the ground truth $x_{true}$, and we can try to recover the binary vector x_true.\n",
    "\n",
    "### Brute-force approach:\n",
    "\n",
    "The following function generates a list of all $m$-element binary vectors."
   ]
  },
  {
   "cell_type": "code",
   "execution_count": 5,
   "metadata": {},
   "outputs": [
    {
     "data": {
      "text/plain": [
       "8-element Array{Tuple{Int64,Int64,Int64},1}:\n",
       " (-1, -1, -1)\n",
       " (-1, -1, 1) \n",
       " (-1, 1, -1) \n",
       " (-1, 1, 1)  \n",
       " (1, -1, -1) \n",
       " (1, -1, 1)  \n",
       " (1, 1, -1)  \n",
       " (1, 1, 1)   "
      ]
     },
     "execution_count": 5,
     "metadata": {},
     "output_type": "execute_result"
    }
   ],
   "source": [
    "m = 3; list_bin = reverse.(Iterators.product(fill([-1,1],m)...))[:]"
   ]
  },
  {
   "cell_type": "markdown",
   "metadata": {},
   "source": [
    "The elements are given in the tuple format, which can be accessed as an array by"
   ]
  },
  {
   "cell_type": "code",
   "execution_count": 6,
   "metadata": {},
   "outputs": [
    {
     "data": {
      "text/plain": [
       "3-element Array{Int64,1}:\n",
       " -1\n",
       " -1\n",
       " -1"
      ]
     },
     "execution_count": 6,
     "metadata": {},
     "output_type": "execute_result"
    }
   ],
   "source": [
    "[i for i in list_bin[1]]"
   ]
  },
  {
   "cell_type": "markdown",
   "metadata": {},
   "source": [
    "With the above code, write a function to compute the brute-force BLS solution as follows:"
   ]
  },
  {
   "cell_type": "code",
   "execution_count": 7,
   "metadata": {},
   "outputs": [
    {
     "data": {
      "text/plain": [
       "brute_force_bls (generic function with 1 method)"
      ]
     },
     "execution_count": 7,
     "metadata": {},
     "output_type": "execute_result"
    }
   ],
   "source": [
    "# we better write a function here\n",
    "function brute_force_bls( y, A )\n",
    "    n = size(A,1);\n",
    "    # generate all the possible combinations!\n",
    "    list_bin = reverse.(Iterators.product(fill([-1,1],n)...))[:]\n",
    "    # initialize the variable \"x_best\"\n",
    "    x_best = [i for i in list_bin[1]];\n",
    "    # your code here\n",
    "    # tips: you may run a for loop here to go through every combinations generated in \"list_bin\" and save the \n",
    "    #       one with the smallest objective value, The number of combinations in \"list_bin\" is given by 2^n.\n",
    "    #       notice that to compute the norm of a vector \"x\", you may simply type \"norm(x)\"\n",
    "    for j = 1:2^n-1\n",
    "        temp = [i for i in list_bin[j]];\n",
    "        LHS = norm(y-A*temp)^2;\n",
    "        RHS = norm(y-A*x_best)^2;\n",
    "        if LHS <= RHS\n",
    "            x_best = temp;\n",
    "        end\n",
    "    end\n",
    "    return x_best # it should output the best solution found in the list_bin\n",
    "end"
   ]
  },
  {
   "cell_type": "code",
   "execution_count": 8,
   "metadata": {},
   "outputs": [],
   "source": [
    "x_bf = brute_force_bls( y, A );"
   ]
  },
  {
   "cell_type": "markdown",
   "metadata": {},
   "source": [
    "We can compute the error relative to x_true."
   ]
  },
  {
   "cell_type": "code",
   "execution_count": 9,
   "metadata": {},
   "outputs": [
    {
     "data": {
      "text/plain": [
       "0.0"
      ]
     },
     "execution_count": 9,
     "metadata": {},
     "output_type": "execute_result"
    }
   ],
   "source": [
    "no_error_bf = sum(abs.(x_bf - x_true)) / 2"
   ]
  },
  {
   "cell_type": "markdown",
   "metadata": {},
   "source": [
    "### SDR Approach\n",
    "- we shall use Julia/JuMP to solve the SDP involved. We first construct the C matrix:"
   ]
  },
  {
   "cell_type": "code",
   "execution_count": 10,
   "metadata": {},
   "outputs": [],
   "source": [
    "C = [A'*A -A'*y;-y'*A y'*y]; # fill in the \"C\" here"
   ]
  },
  {
   "cell_type": "markdown",
   "metadata": {},
   "source": [
    "- Next, we set up the JuMP model using SCS as the solver"
   ]
  },
  {
   "cell_type": "code",
   "execution_count": 11,
   "metadata": {},
   "outputs": [],
   "source": [
    "model = Model(SCS.Optimizer);"
   ]
  },
  {
   "cell_type": "markdown",
   "metadata": {},
   "source": [
    "- the variable specification are similar to before. \n",
    "- the diagonal constraint should be enforced such that \n",
    "$$ X_{i,i} = 1,~i=1,...,n+1 $$\n",
    "please refer to the notebook for the Bishop problem to see how to specify $n+1$ constraints in one line.\n",
    "- for $X$ to be PSD, in JuMP, we use the command `@SDconstraint(model, X >= zeros(n+1, n+1));'. For reference, see http://www.juliaopt.org/JuMP.jl/v0.21/constraints/#Semidefinite-constraints-1\n",
    "- in Julia, we use `Tr(X)' to represent the trace of X. "
   ]
  },
  {
   "cell_type": "code",
   "execution_count": 12,
   "metadata": {},
   "outputs": [
    {
     "name": "stdout",
     "output_type": "stream",
     "text": [
      "----------------------------------------------------------------------------\n",
      "\tSCS v2.1.2 - Splitting Conic Solver\n",
      "\t(c) Brendan O'Donoghue, Stanford University, 2012\n",
      "----------------------------------------------------------------------------\n",
      "Lin-sys: sparse-indirect, nnz in A = 187, CG tol ~ 1/iter^(2.00)\n",
      "eps = 1.00e-005, alpha = 1.50, max_iters = 5000, normalize = 1, scale = 1.00\n",
      "acceleration_lookback = 10, rho_x = 1.00e-003\n",
      "Variables n = 121, constraints m = 132\n",
      "Cones:\tprimal zero / dual free vars: 66\n",
      "\tsd vars: 66, sd blks: 1\n",
      "Setup time: 8.92e-005s\n",
      "----------------------------------------------------------------------------\n",
      " Iter | pri res | dua res | rel gap | pri obj | dua obj | kap/tau | time (s)\n",
      "----------------------------------------------------------------------------\n",
      "     0|5.62e+019 1.29e+020 1.00e+000 -2.09e+021 3.29e+021 1.47e+021 3.84e-004 \n",
      "   100|1.49e-004 1.73e-004 7.78e-004 2.40e-001 2.39e-001 2.35e-015 2.73e-002 \n",
      "   160|1.29e-006 2.55e-006 9.98e-006 2.42e-001 2.42e-001 2.34e-015 4.35e-002 \n",
      "----------------------------------------------------------------------------\n",
      "Status: Solved\n",
      "Timing: Solve time: 4.35e-002s\n",
      "\tLin-sys: avg # CG iterations: 2.57, avg solve time: 4.03e-006s\n",
      "\tCones: avg projection time: 2.45e-004s\n",
      "\tAcceleration: avg step time: 1.80e-005s\n",
      "----------------------------------------------------------------------------\n",
      "Error metrics:\n",
      "dist(s, K) = 1.7469e-009, dist(y, K*) = 2.0172e-009, s'y/|s||y| = 1.5393e-011\n",
      "primal res: |Ax + s - b|_2 / (1 + |b|_2) = 1.2917e-006\n",
      "dual res:   |A'y + c|_2 / (1 + |c|_2) = 2.5513e-006\n",
      "rel gap:    |c'x + b'y| / (1 + |c'x| + |b'y|) = 9.9793e-006\n",
      "----------------------------------------------------------------------------\n",
      "c'x = 0.2420, -b'y = 0.2420\n",
      "============================================================================\n"
     ]
    }
   ],
   "source": [
    "@variable( model, X[1:n+1,1:n+1] );\n",
    "@SDconstraint(model, X >= zeros(n+1, n+1));\n",
    "##### fill in the constraint and objective here ###\n",
    "@constraint(model, [i=1:n+1], X[i,i].==1);\n",
    "@objective(model, Min, tr(C*X));\n",
    "###################################################\n",
    "optimize!(model);"
   ]
  },
  {
   "cell_type": "markdown",
   "metadata": {},
   "source": [
    "- Finally, we round off the solution by taking the signs in the last column of X.\n",
    "- Moreover, we can compute the no. of errors made relative to x_true."
   ]
  },
  {
   "cell_type": "code",
   "execution_count": 13,
   "metadata": {},
   "outputs": [
    {
     "data": {
      "text/plain": [
       "0.0"
      ]
     },
     "execution_count": 13,
     "metadata": {},
     "output_type": "execute_result"
    }
   ],
   "source": [
    "x_SDR_sign = sign.(value.(X[1:n,n+1]));\n",
    "no_error_SDR = sum(abs.( x_SDR_sign - x_true)) / 2\n",
    "# remark: the round-off procedure here is different from the randomization technique introduced in the lecture"
   ]
  },
  {
   "cell_type": "markdown",
   "metadata": {},
   "source": [
    "# Actual Simulation over 100 trials across choices of $n$\n",
    "\n",
    "After verifying that your Ordinary LS, and SDR codes work,  you can input the code into the respective sections below. The *average error* performance will then be computed."
   ]
  },
  {
   "cell_type": "code",
   "execution_count": 14,
   "metadata": {},
   "outputs": [],
   "source": [
    "n_choice = [5,10,15]\n",
    "noise_power = 0.2; max_trial = 100;\n",
    "\n",
    "store_obj_bf = [];\n",
    "store_obj_sdr = [];\n",
    "\n",
    "for n in n_choice\n",
    "    obj_value_bf = 0;\n",
    "    obj_value_sdr = 0;\n",
    "    for trial = 1:max_trial\n",
    "        A = randn(n,n) / sqrt(n); # generate the A matrix\n",
    "        x_true = 2*(rand(n) .< 0.5).-1;\n",
    "        y = A*x_true + noise_power*randn(n); # generate the observation\n",
    "        \n",
    "        ###### This Block uses the Brute-force #########\n",
    "        x_bf = brute_force_bls( y, A );\n",
    "        \n",
    "        # let the binary solution after round-off be x_ls_sign\n",
    "        obj_value_bf += norm(y-A*x_bf)^2; # calculate the obj value wrt x_bf\n",
    "        \n",
    "        ###### This Block uses the SDR ################\n",
    "        C = [A'*A -A'*y;-y'*A y'*y]; # fill in the C here\n",
    "        model = Model(SCS.Optimizer);\n",
    "        @variable( model, X[1:n+1,1:n+1] );\n",
    "        @SDconstraint(model, X >= zeros(n+1, n+1));\n",
    "        \n",
    "        # your code here \n",
    "        @constraint(model, [i=1:n+1], X[i,i]==1);\n",
    "        @objective(model, Min, tr(C*X));\n",
    "        \n",
    "        set_silent(model);\n",
    "        optimize!(model);\n",
    "        \n",
    "        x_sdr_sign = sign.(value.(X[1:n,n+1]));\n",
    "        \n",
    "        # let the binary solution after round-off be x_sdr_sign\n",
    "        obj_value_sdr += norm(y-A*x_sdr_sign)^2; # calculate the obj value wrt x_sdr_sign\n",
    "    end\n",
    "    # this compute the average error\n",
    "    push!(store_obj_bf, obj_value_bf / (max_trial) );\n",
    "    push!(store_obj_sdr, obj_value_sdr / (max_trial) );\n",
    "end"
   ]
  },
  {
   "cell_type": "code",
   "execution_count": 15,
   "metadata": {},
   "outputs": [
    {
     "data": {
      "image/svg+xml": [
       "<?xml version=\"1.0\" encoding=\"utf-8\"?>\n",
       "<svg xmlns=\"http://www.w3.org/2000/svg\" xmlns:xlink=\"http://www.w3.org/1999/xlink\" width=\"600\" height=\"400\" viewBox=\"0 0 2400 1600\">\n",
       "<defs>\n",
       "  <clipPath id=\"clip580\">\n",
       "    <rect x=\"0\" y=\"0\" width=\"2400\" height=\"1600\"/>\n",
       "  </clipPath>\n",
       "</defs>\n",
       "<path clip-path=\"url(#clip580)\" d=\"\n",
       "M0 1600 L2400 1600 L2400 0 L0 0  Z\n",
       "  \" fill=\"#ffffff\" fill-rule=\"evenodd\" fill-opacity=\"1\"/>\n",
       "<defs>\n",
       "  <clipPath id=\"clip581\">\n",
       "    <rect x=\"480\" y=\"0\" width=\"1681\" height=\"1600\"/>\n",
       "  </clipPath>\n",
       "</defs>\n",
       "<path clip-path=\"url(#clip580)\" d=\"\n",
       "M311.81 1423.18 L2352.76 1423.18 L2352.76 123.472 L311.81 123.472  Z\n",
       "  \" fill=\"#ffffff\" fill-rule=\"evenodd\" fill-opacity=\"1\"/>\n",
       "<defs>\n",
       "  <clipPath id=\"clip582\">\n",
       "    <rect x=\"311\" y=\"123\" width=\"2042\" height=\"1301\"/>\n",
       "  </clipPath>\n",
       "</defs>\n",
       "<polyline clip-path=\"url(#clip582)\" style=\"stroke:#000000; stroke-width:2; stroke-opacity:0.1; fill:none\" points=\"\n",
       "  562.115,1423.18 562.115,123.472 \n",
       "  \"/>\n",
       "<polyline clip-path=\"url(#clip582)\" style=\"stroke:#000000; stroke-width:2; stroke-opacity:0.1; fill:none\" points=\"\n",
       "  947.199,1423.18 947.199,123.472 \n",
       "  \"/>\n",
       "<polyline clip-path=\"url(#clip582)\" style=\"stroke:#000000; stroke-width:2; stroke-opacity:0.1; fill:none\" points=\"\n",
       "  1332.28,1423.18 1332.28,123.472 \n",
       "  \"/>\n",
       "<polyline clip-path=\"url(#clip582)\" style=\"stroke:#000000; stroke-width:2; stroke-opacity:0.1; fill:none\" points=\"\n",
       "  1717.37,1423.18 1717.37,123.472 \n",
       "  \"/>\n",
       "<polyline clip-path=\"url(#clip582)\" style=\"stroke:#000000; stroke-width:2; stroke-opacity:0.1; fill:none\" points=\"\n",
       "  2102.45,1423.18 2102.45,123.472 \n",
       "  \"/>\n",
       "<polyline clip-path=\"url(#clip582)\" style=\"stroke:#000000; stroke-width:2; stroke-opacity:0.1; fill:none\" points=\"\n",
       "  311.81,1243.76 2352.76,1243.76 \n",
       "  \"/>\n",
       "<polyline clip-path=\"url(#clip582)\" style=\"stroke:#000000; stroke-width:2; stroke-opacity:0.1; fill:none\" points=\"\n",
       "  311.81,963.945 2352.76,963.945 \n",
       "  \"/>\n",
       "<polyline clip-path=\"url(#clip582)\" style=\"stroke:#000000; stroke-width:2; stroke-opacity:0.1; fill:none\" points=\"\n",
       "  311.81,684.133 2352.76,684.133 \n",
       "  \"/>\n",
       "<polyline clip-path=\"url(#clip582)\" style=\"stroke:#000000; stroke-width:2; stroke-opacity:0.1; fill:none\" points=\"\n",
       "  311.81,404.321 2352.76,404.321 \n",
       "  \"/>\n",
       "<polyline clip-path=\"url(#clip582)\" style=\"stroke:#000000; stroke-width:2; stroke-opacity:0.1; fill:none\" points=\"\n",
       "  311.81,124.508 2352.76,124.508 \n",
       "  \"/>\n",
       "<polyline clip-path=\"url(#clip580)\" style=\"stroke:#000000; stroke-width:4; stroke-opacity:1; fill:none\" points=\"\n",
       "  311.81,1423.18 2352.76,1423.18 \n",
       "  \"/>\n",
       "<polyline clip-path=\"url(#clip580)\" style=\"stroke:#000000; stroke-width:4; stroke-opacity:1; fill:none\" points=\"\n",
       "  311.81,1423.18 311.81,123.472 \n",
       "  \"/>\n",
       "<polyline clip-path=\"url(#clip580)\" style=\"stroke:#000000; stroke-width:4; stroke-opacity:1; fill:none\" points=\"\n",
       "  562.115,1423.18 562.115,1407.58 \n",
       "  \"/>\n",
       "<polyline clip-path=\"url(#clip580)\" style=\"stroke:#000000; stroke-width:4; stroke-opacity:1; fill:none\" points=\"\n",
       "  947.199,1423.18 947.199,1407.58 \n",
       "  \"/>\n",
       "<polyline clip-path=\"url(#clip580)\" style=\"stroke:#000000; stroke-width:4; stroke-opacity:1; fill:none\" points=\"\n",
       "  1332.28,1423.18 1332.28,1407.58 \n",
       "  \"/>\n",
       "<polyline clip-path=\"url(#clip580)\" style=\"stroke:#000000; stroke-width:4; stroke-opacity:1; fill:none\" points=\"\n",
       "  1717.37,1423.18 1717.37,1407.58 \n",
       "  \"/>\n",
       "<polyline clip-path=\"url(#clip580)\" style=\"stroke:#000000; stroke-width:4; stroke-opacity:1; fill:none\" points=\"\n",
       "  2102.45,1423.18 2102.45,1407.58 \n",
       "  \"/>\n",
       "<polyline clip-path=\"url(#clip580)\" style=\"stroke:#000000; stroke-width:4; stroke-opacity:1; fill:none\" points=\"\n",
       "  311.81,1243.76 336.302,1243.76 \n",
       "  \"/>\n",
       "<polyline clip-path=\"url(#clip580)\" style=\"stroke:#000000; stroke-width:4; stroke-opacity:1; fill:none\" points=\"\n",
       "  311.81,963.945 336.302,963.945 \n",
       "  \"/>\n",
       "<polyline clip-path=\"url(#clip580)\" style=\"stroke:#000000; stroke-width:4; stroke-opacity:1; fill:none\" points=\"\n",
       "  311.81,684.133 336.302,684.133 \n",
       "  \"/>\n",
       "<polyline clip-path=\"url(#clip580)\" style=\"stroke:#000000; stroke-width:4; stroke-opacity:1; fill:none\" points=\"\n",
       "  311.81,404.321 336.302,404.321 \n",
       "  \"/>\n",
       "<polyline clip-path=\"url(#clip580)\" style=\"stroke:#000000; stroke-width:4; stroke-opacity:1; fill:none\" points=\"\n",
       "  311.81,124.508 336.302,124.508 \n",
       "  \"/>\n",
       "<path clip-path=\"url(#clip580)\" d=\"M 0 0 M562.52 1457.51 Q559.372 1457.51 557.52 1459.66 Q555.691 1461.81 555.691 1465.56 Q555.691 1469.29 557.52 1471.47 Q559.372 1473.62 562.52 1473.62 Q565.668 1473.62 567.497 1471.47 Q569.349 1469.29 569.349 1465.56 Q569.349 1461.81 567.497 1459.66 Q565.668 1457.51 562.52 1457.51 M571.802 1442.86 L571.802 1447.11 Q570.043 1446.28 568.238 1445.84 Q566.455 1445.4 564.696 1445.4 Q560.066 1445.4 557.613 1448.53 Q555.182 1451.65 554.835 1457.97 Q556.201 1455.96 558.261 1454.89 Q560.321 1453.8 562.798 1453.8 Q568.006 1453.8 571.015 1456.98 Q574.048 1460.12 574.048 1465.56 Q574.048 1470.89 570.9 1474.11 Q567.751 1477.32 562.52 1477.32 Q556.525 1477.32 553.353 1472.74 Q550.182 1468.13 550.182 1459.41 Q550.182 1451.21 554.071 1446.35 Q557.96 1441.47 564.511 1441.47 Q566.27 1441.47 568.052 1441.81 Q569.858 1442.16 571.802 1442.86 Z\" fill=\"#000000\" fill-rule=\"evenodd\" fill-opacity=\"1\" /><path clip-path=\"url(#clip580)\" d=\"M 0 0 M947.199 1460.24 Q943.866 1460.24 941.944 1462.02 Q940.046 1463.8 940.046 1466.93 Q940.046 1470.05 941.944 1471.84 Q943.866 1473.62 947.199 1473.62 Q950.532 1473.62 952.454 1471.84 Q954.375 1470.03 954.375 1466.93 Q954.375 1463.8 952.454 1462.02 Q950.555 1460.24 947.199 1460.24 M942.523 1458.25 Q939.514 1457.51 937.824 1455.45 Q936.157 1453.39 936.157 1450.43 Q936.157 1446.28 939.097 1443.87 Q942.06 1441.47 947.199 1441.47 Q952.361 1441.47 955.301 1443.87 Q958.241 1446.28 958.241 1450.43 Q958.241 1453.39 956.551 1455.45 Q954.884 1457.51 951.898 1458.25 Q955.278 1459.04 957.153 1461.33 Q959.051 1463.62 959.051 1466.93 Q959.051 1471.95 955.972 1474.64 Q952.917 1477.32 947.199 1477.32 Q941.481 1477.32 938.403 1474.64 Q935.347 1471.95 935.347 1466.93 Q935.347 1463.62 937.245 1461.33 Q939.143 1459.04 942.523 1458.25 M940.81 1450.86 Q940.81 1453.55 942.477 1455.05 Q944.167 1456.56 947.199 1456.56 Q950.208 1456.56 951.898 1455.05 Q953.611 1453.55 953.611 1450.86 Q953.611 1448.18 951.898 1446.68 Q950.208 1445.17 947.199 1445.17 Q944.167 1445.17 942.477 1446.68 Q940.81 1448.18 940.81 1450.86 Z\" fill=\"#000000\" fill-rule=\"evenodd\" fill-opacity=\"1\" /><path clip-path=\"url(#clip580)\" d=\"M 0 0 M1309.16 1472.72 L1316.8 1472.72 L1316.8 1446.35 L1308.49 1448.02 L1308.49 1443.76 L1316.75 1442.09 L1321.43 1442.09 L1321.43 1472.72 L1329.07 1472.72 L1329.07 1476.65 L1309.16 1476.65 L1309.16 1472.72 Z\" fill=\"#000000\" fill-rule=\"evenodd\" fill-opacity=\"1\" /><path clip-path=\"url(#clip580)\" d=\"M 0 0 M1344.13 1445.17 Q1340.52 1445.17 1338.7 1448.74 Q1336.89 1452.28 1336.89 1459.41 Q1336.89 1466.51 1338.7 1470.08 Q1340.52 1473.62 1344.13 1473.62 Q1347.77 1473.62 1349.57 1470.08 Q1351.4 1466.51 1351.4 1459.41 Q1351.4 1452.28 1349.57 1448.74 Q1347.77 1445.17 1344.13 1445.17 M1344.13 1441.47 Q1349.95 1441.47 1353 1446.07 Q1356.08 1450.66 1356.08 1459.41 Q1356.08 1468.13 1353 1472.74 Q1349.95 1477.32 1344.13 1477.32 Q1338.32 1477.32 1335.25 1472.74 Q1332.19 1468.13 1332.19 1459.41 Q1332.19 1450.66 1335.25 1446.07 Q1338.32 1441.47 1344.13 1441.47 Z\" fill=\"#000000\" fill-rule=\"evenodd\" fill-opacity=\"1\" /><path clip-path=\"url(#clip580)\" d=\"M 0 0 M1695.04 1472.72 L1702.68 1472.72 L1702.68 1446.35 L1694.37 1448.02 L1694.37 1443.76 L1702.63 1442.09 L1707.31 1442.09 L1707.31 1472.72 L1714.95 1472.72 L1714.95 1476.65 L1695.04 1476.65 L1695.04 1472.72 Z\" fill=\"#000000\" fill-rule=\"evenodd\" fill-opacity=\"1\" /><path clip-path=\"url(#clip580)\" d=\"M 0 0 M1724.05 1472.72 L1740.36 1472.72 L1740.36 1476.65 L1718.42 1476.65 L1718.42 1472.72 Q1721.08 1469.96 1725.67 1465.33 Q1730.27 1460.68 1731.45 1459.34 Q1733.7 1456.81 1734.58 1455.08 Q1735.48 1453.32 1735.48 1451.63 Q1735.48 1448.87 1733.54 1447.14 Q1731.61 1445.4 1728.51 1445.4 Q1726.31 1445.4 1723.86 1446.17 Q1721.43 1446.93 1718.65 1448.48 L1718.65 1443.76 Q1721.48 1442.62 1723.93 1442.05 Q1726.38 1441.47 1728.42 1441.47 Q1733.79 1441.47 1736.99 1444.15 Q1740.18 1446.84 1740.18 1451.33 Q1740.18 1453.46 1739.37 1455.38 Q1738.58 1457.28 1736.48 1459.87 Q1735.9 1460.54 1732.8 1463.76 Q1729.69 1466.95 1724.05 1472.72 Z\" fill=\"#000000\" fill-rule=\"evenodd\" fill-opacity=\"1\" /><path clip-path=\"url(#clip580)\" d=\"M 0 0 M2079.08 1472.72 L2086.72 1472.72 L2086.72 1446.35 L2078.41 1448.02 L2078.41 1443.76 L2086.68 1442.09 L2091.35 1442.09 L2091.35 1472.72 L2098.99 1472.72 L2098.99 1476.65 L2079.08 1476.65 L2079.08 1472.72 Z\" fill=\"#000000\" fill-rule=\"evenodd\" fill-opacity=\"1\" /><path clip-path=\"url(#clip580)\" d=\"M 0 0 M2116.91 1446.17 L2105.1 1464.61 L2116.91 1464.61 L2116.91 1446.17 M2115.68 1442.09 L2121.56 1442.09 L2121.56 1464.61 L2126.49 1464.61 L2126.49 1468.5 L2121.56 1468.5 L2121.56 1476.65 L2116.91 1476.65 L2116.91 1468.5 L2101.31 1468.5 L2101.31 1463.99 L2115.68 1442.09 Z\" fill=\"#000000\" fill-rule=\"evenodd\" fill-opacity=\"1\" /><path clip-path=\"url(#clip580)\" d=\"M 0 0 M167.2 1263.55 L174.839 1263.55 L174.839 1237.18 L166.529 1238.85 L166.529 1234.59 L174.793 1232.92 L179.469 1232.92 L179.469 1263.55 L187.108 1263.55 L187.108 1267.48 L167.2 1267.48 L167.2 1263.55 Z\" fill=\"#000000\" fill-rule=\"evenodd\" fill-opacity=\"1\" /><path clip-path=\"url(#clip580)\" d=\"M 0 0 M202.177 1236 Q198.566 1236 196.737 1239.57 Q194.932 1243.11 194.932 1250.24 Q194.932 1257.35 196.737 1260.91 Q198.566 1264.45 202.177 1264.45 Q205.811 1264.45 207.617 1260.91 Q209.445 1257.35 209.445 1250.24 Q209.445 1243.11 207.617 1239.57 Q205.811 1236 202.177 1236 M202.177 1232.3 Q207.987 1232.3 211.043 1236.91 Q214.121 1241.49 214.121 1250.24 Q214.121 1258.97 211.043 1263.57 Q207.987 1268.16 202.177 1268.16 Q196.367 1268.16 193.288 1263.57 Q190.233 1258.97 190.233 1250.24 Q190.233 1241.49 193.288 1236.91 Q196.367 1232.3 202.177 1232.3 Z\" fill=\"#000000\" fill-rule=\"evenodd\" fill-opacity=\"1\" /><path clip-path=\"url(#clip580)\" d=\"M 0 0 M214.121 1227.98 L224.259 1227.98 L224.259 1231.07 L214.121 1231.07 L214.121 1227.98 Z\" fill=\"#000000\" fill-rule=\"evenodd\" fill-opacity=\"1\" /><path clip-path=\"url(#clip580)\" d=\"M 0 0 M247.938 1214.5 Q245.004 1214.5 243.518 1217.39 Q242.051 1220.27 242.051 1226.06 Q242.051 1231.84 243.518 1234.73 Q245.004 1237.61 247.938 1237.61 Q250.891 1237.61 252.358 1234.73 Q253.843 1231.84 253.843 1226.06 Q253.843 1220.27 252.358 1217.39 Q250.891 1214.5 247.938 1214.5 M247.938 1211.49 Q252.658 1211.49 255.141 1215.23 Q257.643 1218.95 257.643 1226.06 Q257.643 1233.15 255.141 1236.9 Q252.658 1240.62 247.938 1240.62 Q243.217 1240.62 240.716 1236.9 Q238.233 1233.15 238.233 1226.06 Q238.233 1218.95 240.716 1215.23 Q243.217 1211.49 247.938 1211.49 Z\" fill=\"#000000\" fill-rule=\"evenodd\" fill-opacity=\"1\" /><path clip-path=\"url(#clip580)\" d=\"M 0 0 M261.761 1235.3 L265.73 1235.3 L265.73 1240.07 L261.761 1240.07 L261.761 1235.3 Z\" fill=\"#000000\" fill-rule=\"evenodd\" fill-opacity=\"1\" /><path clip-path=\"url(#clip580)\" d=\"M 0 0 M278.444 1224.52 Q275.886 1224.52 274.381 1226.27 Q272.896 1228.02 272.896 1231.07 Q272.896 1234.09 274.381 1235.86 Q275.886 1237.61 278.444 1237.61 Q281.002 1237.61 282.488 1235.86 Q283.992 1234.09 283.992 1231.07 Q283.992 1228.02 282.488 1226.27 Q281.002 1224.52 278.444 1224.52 M285.986 1212.61 L285.986 1216.08 Q284.556 1215.4 283.089 1215.04 Q281.641 1214.68 280.212 1214.68 Q276.45 1214.68 274.457 1217.22 Q272.482 1219.76 272.2 1224.9 Q273.309 1223.26 274.983 1222.39 Q276.657 1221.51 278.67 1221.51 Q282.901 1221.51 285.346 1224.09 Q287.81 1226.65 287.81 1231.07 Q287.81 1235.39 285.252 1238.01 Q282.695 1240.62 278.444 1240.62 Q273.573 1240.62 270.996 1236.9 Q268.419 1233.15 268.419 1226.06 Q268.419 1219.4 271.579 1215.45 Q274.739 1211.49 280.061 1211.49 Q281.491 1211.49 282.939 1211.77 Q284.406 1212.05 285.986 1212.61 Z\" fill=\"#000000\" fill-rule=\"evenodd\" fill-opacity=\"1\" /><path clip-path=\"url(#clip580)\" d=\"M 0 0 M168.141 983.737 L175.78 983.737 L175.78 957.372 L167.469 959.038 L167.469 954.779 L175.733 953.112 L180.409 953.112 L180.409 983.737 L188.048 983.737 L188.048 987.672 L168.141 987.672 L168.141 983.737 Z\" fill=\"#000000\" fill-rule=\"evenodd\" fill-opacity=\"1\" /><path clip-path=\"url(#clip580)\" d=\"M 0 0 M203.117 956.191 Q199.506 956.191 197.678 959.756 Q195.872 963.297 195.872 970.427 Q195.872 977.533 197.678 981.098 Q199.506 984.64 203.117 984.64 Q206.752 984.64 208.557 981.098 Q210.386 977.533 210.386 970.427 Q210.386 963.297 208.557 959.756 Q206.752 956.191 203.117 956.191 M203.117 952.487 Q208.928 952.487 211.983 957.094 Q215.062 961.677 215.062 970.427 Q215.062 979.154 211.983 983.76 Q208.928 988.344 203.117 988.344 Q197.307 988.344 194.229 983.76 Q191.173 979.154 191.173 970.427 Q191.173 961.677 194.229 957.094 Q197.307 952.487 203.117 952.487 Z\" fill=\"#000000\" fill-rule=\"evenodd\" fill-opacity=\"1\" /><path clip-path=\"url(#clip580)\" d=\"M 0 0 M215.062 948.169 L225.199 948.169 L225.199 951.253 L215.062 951.253 L215.062 948.169 Z\" fill=\"#000000\" fill-rule=\"evenodd\" fill-opacity=\"1\" /><path clip-path=\"url(#clip580)\" d=\"M 0 0 M248.878 934.683 Q245.944 934.683 244.458 937.58 Q242.991 940.457 242.991 946.25 Q242.991 952.024 244.458 954.921 Q245.944 957.798 248.878 957.798 Q251.831 957.798 253.298 954.921 Q254.784 952.024 254.784 946.25 Q254.784 940.457 253.298 937.58 Q251.831 934.683 248.878 934.683 M248.878 931.674 Q253.599 931.674 256.082 935.417 Q258.583 939.141 258.583 946.25 Q258.583 953.341 256.082 957.083 Q253.599 960.807 248.878 960.807 Q244.157 960.807 241.656 957.083 Q239.173 953.341 239.173 946.25 Q239.173 939.141 241.656 935.417 Q244.157 931.674 248.878 931.674 Z\" fill=\"#000000\" fill-rule=\"evenodd\" fill-opacity=\"1\" /><path clip-path=\"url(#clip580)\" d=\"M 0 0 M262.702 955.485 L266.67 955.485 L266.67 960.262 L262.702 960.262 L262.702 955.485 Z\" fill=\"#000000\" fill-rule=\"evenodd\" fill-opacity=\"1\" /><path clip-path=\"url(#clip580)\" d=\"M 0 0 M270.827 932.182 L285.741 932.182 L285.741 935.379 L274.306 935.379 L274.306 942.263 Q275.134 941.981 275.961 941.849 Q276.789 941.699 277.616 941.699 Q282.318 941.699 285.064 944.275 Q287.81 946.852 287.81 951.253 Q287.81 955.786 284.989 958.306 Q282.168 960.807 277.033 960.807 Q275.265 960.807 273.422 960.506 Q271.598 960.205 269.642 959.604 L269.642 955.786 Q271.335 956.707 273.14 957.159 Q274.946 957.61 276.958 957.61 Q280.212 957.61 282.111 955.899 Q284.011 954.187 284.011 951.253 Q284.011 948.319 282.111 946.607 Q280.212 944.896 276.958 944.896 Q275.435 944.896 273.911 945.235 Q272.407 945.573 270.827 946.288 L270.827 932.182 Z\" fill=\"#000000\" fill-rule=\"evenodd\" fill-opacity=\"1\" /><path clip-path=\"url(#clip580)\" d=\"M 0 0 M166.937 703.925 L174.576 703.925 L174.576 677.559 L166.266 679.226 L166.266 674.967 L174.53 673.3 L179.205 673.3 L179.205 703.925 L186.844 703.925 L186.844 707.86 L166.937 707.86 L166.937 703.925 Z\" fill=\"#000000\" fill-rule=\"evenodd\" fill-opacity=\"1\" /><path clip-path=\"url(#clip580)\" d=\"M 0 0 M201.914 676.379 Q198.303 676.379 196.474 679.944 Q194.668 683.485 194.668 690.615 Q194.668 697.721 196.474 701.286 Q198.303 704.828 201.914 704.828 Q205.548 704.828 207.353 701.286 Q209.182 697.721 209.182 690.615 Q209.182 683.485 207.353 679.944 Q205.548 676.379 201.914 676.379 M201.914 672.675 Q207.724 672.675 210.779 677.282 Q213.858 681.865 213.858 690.615 Q213.858 699.342 210.779 703.948 Q207.724 708.532 201.914 708.532 Q196.104 708.532 193.025 703.948 Q189.969 699.342 189.969 690.615 Q189.969 681.865 193.025 677.282 Q196.104 672.675 201.914 672.675 Z\" fill=\"#000000\" fill-rule=\"evenodd\" fill-opacity=\"1\" /><path clip-path=\"url(#clip580)\" d=\"M 0 0 M213.858 668.356 L223.995 668.356 L223.995 671.441 L213.858 671.441 L213.858 668.356 Z\" fill=\"#000000\" fill-rule=\"evenodd\" fill-opacity=\"1\" /><path clip-path=\"url(#clip580)\" d=\"M 0 0 M247.674 654.871 Q244.74 654.871 243.255 657.768 Q241.788 660.645 241.788 666.438 Q241.788 672.212 243.255 675.108 Q244.74 677.986 247.674 677.986 Q250.627 677.986 252.094 675.108 Q253.58 672.212 253.58 666.438 Q253.58 660.645 252.094 657.768 Q250.627 654.871 247.674 654.871 M247.674 651.862 Q252.395 651.862 254.878 655.605 Q257.379 659.329 257.379 666.438 Q257.379 673.529 254.878 677.271 Q252.395 680.995 247.674 680.995 Q242.954 680.995 240.452 677.271 Q237.97 673.529 237.97 666.438 Q237.97 659.329 240.452 655.605 Q242.954 651.862 247.674 651.862 Z\" fill=\"#000000\" fill-rule=\"evenodd\" fill-opacity=\"1\" /><path clip-path=\"url(#clip580)\" d=\"M 0 0 M261.498 675.673 L265.467 675.673 L265.467 680.45 L261.498 680.45 L261.498 675.673 Z\" fill=\"#000000\" fill-rule=\"evenodd\" fill-opacity=\"1\" /><path clip-path=\"url(#clip580)\" d=\"M 0 0 M280.024 655.68 L270.432 670.67 L280.024 670.67 L280.024 655.68 M279.027 652.37 L283.804 652.37 L283.804 670.67 L287.81 670.67 L287.81 673.829 L283.804 673.829 L283.804 680.45 L280.024 680.45 L280.024 673.829 L267.347 673.829 L267.347 670.162 L279.027 652.37 Z\" fill=\"#000000\" fill-rule=\"evenodd\" fill-opacity=\"1\" /><path clip-path=\"url(#clip580)\" d=\"M 0 0 M167.859 424.113 L175.497 424.113 L175.497 397.747 L167.187 399.414 L167.187 395.155 L175.451 393.488 L180.127 393.488 L180.127 424.113 L187.766 424.113 L187.766 428.048 L167.859 428.048 L167.859 424.113 Z\" fill=\"#000000\" fill-rule=\"evenodd\" fill-opacity=\"1\" /><path clip-path=\"url(#clip580)\" d=\"M 0 0 M202.835 396.567 Q199.224 396.567 197.395 400.132 Q195.59 403.673 195.59 410.803 Q195.59 417.909 197.395 421.474 Q199.224 425.016 202.835 425.016 Q206.47 425.016 208.275 421.474 Q210.104 417.909 210.104 410.803 Q210.104 403.673 208.275 400.132 Q206.47 396.567 202.835 396.567 M202.835 392.863 Q208.645 392.863 211.701 397.47 Q214.78 402.053 214.78 410.803 Q214.78 419.53 211.701 424.136 Q208.645 428.719 202.835 428.719 Q197.025 428.719 193.946 424.136 Q190.891 419.53 190.891 410.803 Q190.891 402.053 193.946 397.47 Q197.025 392.863 202.835 392.863 Z\" fill=\"#000000\" fill-rule=\"evenodd\" fill-opacity=\"1\" /><path clip-path=\"url(#clip580)\" d=\"M 0 0 M214.78 388.544 L224.917 388.544 L224.917 391.629 L214.78 391.629 L214.78 388.544 Z\" fill=\"#000000\" fill-rule=\"evenodd\" fill-opacity=\"1\" /><path clip-path=\"url(#clip580)\" d=\"M 0 0 M248.596 375.059 Q245.662 375.059 244.176 377.956 Q242.709 380.833 242.709 386.626 Q242.709 392.4 244.176 395.296 Q245.662 398.174 248.596 398.174 Q251.549 398.174 253.016 395.296 Q254.502 392.4 254.502 386.626 Q254.502 380.833 253.016 377.956 Q251.549 375.059 248.596 375.059 M248.596 372.05 Q253.317 372.05 255.799 375.793 Q258.301 379.517 258.301 386.626 Q258.301 393.716 255.799 397.459 Q253.317 401.183 248.596 401.183 Q243.875 401.183 241.374 397.459 Q238.891 393.716 238.891 386.626 Q238.891 379.517 241.374 375.793 Q243.875 372.05 248.596 372.05 Z\" fill=\"#000000\" fill-rule=\"evenodd\" fill-opacity=\"1\" /><path clip-path=\"url(#clip580)\" d=\"M 0 0 M262.42 395.861 L266.388 395.861 L266.388 400.638 L262.42 400.638 L262.42 395.861 Z\" fill=\"#000000\" fill-rule=\"evenodd\" fill-opacity=\"1\" /><path clip-path=\"url(#clip580)\" d=\"M 0 0 M282.017 385.497 Q284.745 386.081 286.268 387.924 Q287.81 389.767 287.81 392.475 Q287.81 396.632 284.951 398.907 Q282.093 401.183 276.826 401.183 Q275.059 401.183 273.178 400.826 Q271.316 400.487 269.322 399.791 L269.322 396.124 Q270.902 397.045 272.783 397.516 Q274.664 397.986 276.714 397.986 Q280.287 397.986 282.149 396.575 Q284.03 395.165 284.03 392.475 Q284.03 389.993 282.281 388.601 Q280.55 387.19 277.447 387.19 L274.175 387.19 L274.175 384.068 L277.598 384.068 Q280.4 384.068 281.886 382.958 Q283.372 381.83 283.372 379.723 Q283.372 377.561 281.829 376.413 Q280.306 375.247 277.447 375.247 Q275.886 375.247 274.099 375.586 Q272.313 375.924 270.169 376.639 L270.169 373.254 Q272.331 372.652 274.212 372.351 Q276.112 372.05 277.786 372.05 Q282.111 372.05 284.632 374.025 Q287.152 375.981 287.152 379.329 Q287.152 381.661 285.817 383.278 Q284.481 384.877 282.017 385.497 Z\" fill=\"#000000\" fill-rule=\"evenodd\" fill-opacity=\"1\" /><path clip-path=\"url(#clip580)\" d=\"M 0 0 M168.63 144.301 L176.269 144.301 L176.269 117.935 L167.958 119.602 L167.958 115.343 L176.222 113.676 L180.898 113.676 L180.898 144.301 L188.537 144.301 L188.537 148.236 L168.63 148.236 L168.63 144.301 Z\" fill=\"#000000\" fill-rule=\"evenodd\" fill-opacity=\"1\" /><path clip-path=\"url(#clip580)\" d=\"M 0 0 M203.606 116.755 Q199.995 116.755 198.167 120.32 Q196.361 123.861 196.361 130.991 Q196.361 138.097 198.167 141.662 Q199.995 145.204 203.606 145.204 Q207.241 145.204 209.046 141.662 Q210.875 138.097 210.875 130.991 Q210.875 123.861 209.046 120.32 Q207.241 116.755 203.606 116.755 M203.606 113.051 Q209.417 113.051 212.472 117.657 Q215.551 122.241 215.551 130.991 Q215.551 139.718 212.472 144.324 Q209.417 148.907 203.606 148.907 Q197.796 148.907 194.718 144.324 Q191.662 139.718 191.662 130.991 Q191.662 122.241 194.718 117.657 Q197.796 113.051 203.606 113.051 Z\" fill=\"#000000\" fill-rule=\"evenodd\" fill-opacity=\"1\" /><path clip-path=\"url(#clip580)\" d=\"M 0 0 M215.551 108.732 L225.688 108.732 L225.688 111.817 L215.551 111.817 L215.551 108.732 Z\" fill=\"#000000\" fill-rule=\"evenodd\" fill-opacity=\"1\" /><path clip-path=\"url(#clip580)\" d=\"M 0 0 M249.367 95.2471 Q246.433 95.2471 244.947 98.1435 Q243.48 101.021 243.48 106.814 Q243.48 112.588 244.947 115.484 Q246.433 118.362 249.367 118.362 Q252.32 118.362 253.787 115.484 Q255.273 112.588 255.273 106.814 Q255.273 101.021 253.787 98.1435 Q252.32 95.2471 249.367 95.2471 M249.367 92.2378 Q254.088 92.2378 256.571 95.9806 Q259.072 99.7045 259.072 106.814 Q259.072 113.904 256.571 117.647 Q254.088 121.371 249.367 121.371 Q244.646 121.371 242.145 117.647 Q239.662 113.904 239.662 106.814 Q239.662 99.7045 242.145 95.9806 Q244.646 92.2378 249.367 92.2378 Z\" fill=\"#000000\" fill-rule=\"evenodd\" fill-opacity=\"1\" /><path clip-path=\"url(#clip580)\" d=\"M 0 0 M263.191 116.048 L267.159 116.048 L267.159 120.826 L263.191 120.826 L263.191 116.048 Z\" fill=\"#000000\" fill-rule=\"evenodd\" fill-opacity=\"1\" /><path clip-path=\"url(#clip580)\" d=\"M 0 0 M274.551 117.628 L287.81 117.628 L287.81 120.826 L269.98 120.826 L269.98 117.628 Q272.143 115.39 275.867 111.629 Q279.61 107.848 280.569 106.757 Q282.394 104.707 283.108 103.297 Q283.842 101.867 283.842 100.494 Q283.842 98.2563 282.262 96.8457 Q280.701 95.4351 278.181 95.4351 Q276.394 95.4351 274.4 96.0558 Q272.425 96.6765 270.169 97.9366 L270.169 94.0998 Q272.463 93.1782 274.457 92.708 Q276.45 92.2378 278.105 92.2378 Q282.469 92.2378 285.064 94.4195 Q287.66 96.6012 287.66 100.25 Q287.66 101.98 287.001 103.541 Q286.362 105.084 284.651 107.19 Q284.18 107.735 281.66 110.35 Q279.14 112.945 274.551 117.628 Z\" fill=\"#000000\" fill-rule=\"evenodd\" fill-opacity=\"1\" /><path clip-path=\"url(#clip580)\" d=\"M 0 0 M466.423 16.7545 L466.423 25.383 Q462.291 21.5346 457.592 19.6307 Q452.933 17.7268 447.667 17.7268 Q437.297 17.7268 431.787 24.0867 Q426.278 30.4061 426.278 42.3968 Q426.278 54.3469 431.787 60.7069 Q437.297 67.0263 447.667 67.0263 Q452.933 67.0263 457.592 65.1223 Q462.291 63.2184 466.423 59.3701 L466.423 67.9175 Q462.129 70.8341 457.308 72.2924 Q452.528 73.7508 447.181 73.7508 Q433.448 73.7508 425.549 65.3654 Q417.65 56.9395 417.65 42.3968 Q417.65 27.8135 425.549 19.4281 Q433.448 11.0023 447.181 11.0023 Q452.609 11.0023 457.389 12.4606 Q462.21 13.8784 466.423 16.7545 Z\" fill=\"#000000\" fill-rule=\"evenodd\" fill-opacity=\"1\" /><path clip-path=\"url(#clip580)\" d=\"M 0 0 M491.822 32.4315 Q485.826 32.4315 482.343 37.1306 Q478.859 41.7891 478.859 49.9314 Q478.859 58.0738 482.302 62.7728 Q485.786 67.4314 491.822 67.4314 Q497.777 67.4314 501.26 62.7323 Q504.744 58.0333 504.744 49.9314 Q504.744 41.8701 501.26 37.1711 Q497.777 32.4315 491.822 32.4315 M491.822 26.1121 Q501.544 26.1121 507.094 32.4315 Q512.643 38.7509 512.643 49.9314 Q512.643 61.0714 507.094 67.4314 Q501.544 73.7508 491.822 73.7508 Q482.059 73.7508 476.509 67.4314 Q471 61.0714 471 49.9314 Q471 38.7509 476.509 32.4315 Q482.059 26.1121 491.822 26.1121 Z\" fill=\"#000000\" fill-rule=\"evenodd\" fill-opacity=\"1\" /><path clip-path=\"url(#clip580)\" d=\"M 0 0 M555.785 35.9153 Q558.581 30.8922 562.469 28.5022 Q566.358 26.1121 571.625 26.1121 Q578.714 26.1121 582.562 31.0947 Q586.41 36.0368 586.41 45.1919 L586.41 72.576 L578.916 72.576 L578.916 45.4349 Q578.916 38.913 576.607 35.7533 Q574.298 32.5936 569.559 32.5936 Q563.766 32.5936 560.404 36.4419 Q557.041 40.2903 557.041 46.9338 L557.041 72.576 L549.547 72.576 L549.547 45.4349 Q549.547 38.8725 547.238 35.7533 Q544.929 32.5936 540.108 32.5936 Q534.397 32.5936 531.034 36.4824 Q527.672 40.3308 527.672 46.9338 L527.672 72.576 L520.178 72.576 L520.178 27.2059 L527.672 27.2059 L527.672 34.2544 Q530.224 30.082 533.789 28.0971 Q537.354 26.1121 542.255 26.1121 Q547.198 26.1121 550.641 28.6237 Q554.125 31.1352 555.785 35.9153 Z\" fill=\"#000000\" fill-rule=\"evenodd\" fill-opacity=\"1\" /><path clip-path=\"url(#clip580)\" d=\"M 0 0 M601.439 65.7705 L601.439 89.8329 L593.945 89.8329 L593.945 27.2059 L601.439 27.2059 L601.439 34.0924 Q603.789 30.0415 607.353 28.0971 Q610.959 26.1121 615.941 26.1121 Q624.205 26.1121 629.35 32.6746 Q634.535 39.2371 634.535 49.9314 Q634.535 60.6258 629.35 67.1883 Q624.205 73.7508 615.941 73.7508 Q610.959 73.7508 607.353 71.8063 Q603.789 69.8214 601.439 65.7705 M626.798 49.9314 Q626.798 41.7081 623.395 37.0496 Q620.033 32.3505 614.119 32.3505 Q608.204 32.3505 604.801 37.0496 Q601.439 41.7081 601.439 49.9314 Q601.439 58.1548 604.801 62.8538 Q608.204 67.5124 614.119 67.5124 Q620.033 67.5124 623.395 62.8538 Q626.798 58.1548 626.798 49.9314 Z\" fill=\"#000000\" fill-rule=\"evenodd\" fill-opacity=\"1\" /><path clip-path=\"url(#clip580)\" d=\"M 0 0 M662.972 49.7694 Q653.939 49.7694 650.455 51.8354 Q646.971 53.9013 646.971 58.8839 Q646.971 62.8538 649.564 65.2034 Q652.197 67.5124 656.694 67.5124 Q662.891 67.5124 666.618 63.1374 Q670.386 58.7219 670.386 51.4303 L670.386 49.7694 L662.972 49.7694 M677.839 46.6907 L677.839 72.576 L670.386 72.576 L670.386 65.6895 Q667.833 69.8214 664.026 71.8063 Q660.218 73.7508 654.709 73.7508 Q647.741 73.7508 643.609 69.8619 Q639.518 65.9325 639.518 59.3701 Q639.518 51.7138 644.622 47.825 Q649.766 43.9361 659.934 43.9361 L670.386 43.9361 L670.386 43.2069 Q670.386 38.0623 666.983 35.2672 Q663.621 32.4315 657.504 32.4315 Q653.615 32.4315 649.929 33.3632 Q646.242 34.295 642.839 36.1584 L642.839 29.2718 Q646.931 27.692 650.779 26.9223 Q654.628 26.1121 658.273 26.1121 Q668.117 26.1121 672.978 31.2163 Q677.839 36.3204 677.839 46.6907 Z\" fill=\"#000000\" fill-rule=\"evenodd\" fill-opacity=\"1\" /><path clip-path=\"url(#clip580)\" d=\"M 0 0 M711.948 34.1734 Q710.692 33.4443 709.193 33.1202 Q707.735 32.7556 705.953 32.7556 Q699.633 32.7556 696.23 36.8875 Q692.868 40.9789 692.868 48.6757 L692.868 72.576 L685.374 72.576 L685.374 27.2059 L692.868 27.2059 L692.868 34.2544 Q695.218 30.1225 698.985 28.1376 Q702.752 26.1121 708.14 26.1121 Q708.91 26.1121 709.841 26.2337 Q710.773 26.3147 711.907 26.5172 L711.948 34.1734 Z\" fill=\"#000000\" fill-rule=\"evenodd\" fill-opacity=\"1\" /><path clip-path=\"url(#clip580)\" d=\"M 0 0 M719.766 27.2059 L727.22 27.2059 L727.22 72.576 L719.766 72.576 L719.766 27.2059 M719.766 9.54393 L727.22 9.54393 L727.22 18.9825 L719.766 18.9825 L719.766 9.54393 Z\" fill=\"#000000\" fill-rule=\"evenodd\" fill-opacity=\"1\" /><path clip-path=\"url(#clip580)\" d=\"M 0 0 M772.752 45.1919 L772.752 72.576 L765.298 72.576 L765.298 45.4349 Q765.298 38.994 762.787 35.7938 Q760.275 32.5936 755.252 32.5936 Q749.216 32.5936 745.732 36.4419 Q742.249 40.2903 742.249 46.9338 L742.249 72.576 L734.754 72.576 L734.754 27.2059 L742.249 27.2059 L742.249 34.2544 Q744.922 30.163 748.528 28.1376 Q752.173 26.1121 756.913 26.1121 Q764.731 26.1121 768.742 30.9732 Q772.752 35.7938 772.752 45.1919 Z\" fill=\"#000000\" fill-rule=\"evenodd\" fill-opacity=\"1\" /><path clip-path=\"url(#clip580)\" d=\"M 0 0 M810.425 49.3643 Q810.425 41.2625 807.063 36.8065 Q803.741 32.3505 797.705 32.3505 Q791.71 32.3505 788.348 36.8065 Q785.026 41.2625 785.026 49.3643 Q785.026 57.4256 788.348 61.8816 Q791.71 66.3376 797.705 66.3376 Q803.741 66.3376 807.063 61.8816 Q810.425 57.4256 810.425 49.3643 M817.879 66.9452 Q817.879 78.5308 812.734 84.1616 Q807.59 89.8329 796.976 89.8329 Q793.047 89.8329 789.563 89.2252 Q786.079 88.6581 782.798 87.4428 L782.798 80.1917 Q786.079 81.9741 789.28 82.8248 Q792.48 83.6755 795.802 83.6755 Q803.134 83.6755 806.78 79.8271 Q810.425 76.0193 810.425 68.282 L810.425 64.5957 Q808.116 68.6061 804.511 70.5911 Q800.906 72.576 795.883 72.576 Q787.538 72.576 782.434 66.2161 Q777.329 59.8562 777.329 49.3643 Q777.329 38.832 782.434 32.472 Q787.538 26.1121 795.883 26.1121 Q800.906 26.1121 804.511 28.0971 Q808.116 30.082 810.425 34.0924 L810.425 27.2059 L817.879 27.2059 L817.879 66.9452 Z\" fill=\"#000000\" fill-rule=\"evenodd\" fill-opacity=\"1\" /><path clip-path=\"url(#clip580)\" d=\"M 0 0 M872.688 49.7694 Q863.654 49.7694 860.17 51.8354 Q856.687 53.9013 856.687 58.8839 Q856.687 62.8538 859.279 65.2034 Q861.912 67.5124 866.409 67.5124 Q872.607 67.5124 876.334 63.1374 Q880.101 58.7219 880.101 51.4303 L880.101 49.7694 L872.688 49.7694 M887.555 46.6907 L887.555 72.576 L880.101 72.576 L880.101 65.6895 Q877.549 69.8214 873.741 71.8063 Q869.933 73.7508 864.424 73.7508 Q857.456 73.7508 853.324 69.8619 Q849.233 65.9325 849.233 59.3701 Q849.233 51.7138 854.337 47.825 Q859.482 43.9361 869.65 43.9361 L880.101 43.9361 L880.101 43.2069 Q880.101 38.0623 876.698 35.2672 Q873.336 32.4315 867.219 32.4315 Q863.33 32.4315 859.644 33.3632 Q855.957 34.295 852.555 36.1584 L852.555 29.2718 Q856.646 27.692 860.495 26.9223 Q864.343 26.1121 867.989 26.1121 Q877.832 26.1121 882.693 31.2163 Q887.555 36.3204 887.555 46.6907 Z\" fill=\"#000000\" fill-rule=\"evenodd\" fill-opacity=\"1\" /><path clip-path=\"url(#clip580)\" d=\"M 0 0 M890.026 27.2059 L897.925 27.2059 L912.103 65.2844 L926.281 27.2059 L934.18 27.2059 L917.167 72.576 L907.039 72.576 L890.026 27.2059 Z\" fill=\"#000000\" fill-rule=\"evenodd\" fill-opacity=\"1\" /><path clip-path=\"url(#clip580)\" d=\"M 0 0 M971.854 49.3643 Q971.854 41.2625 968.492 36.8065 Q965.17 32.3505 959.134 32.3505 Q953.139 32.3505 949.776 36.8065 Q946.455 41.2625 946.455 49.3643 Q946.455 57.4256 949.776 61.8816 Q953.139 66.3376 959.134 66.3376 Q965.17 66.3376 968.492 61.8816 Q971.854 57.4256 971.854 49.3643 M979.308 66.9452 Q979.308 78.5308 974.163 84.1616 Q969.018 89.8329 958.405 89.8329 Q954.475 89.8329 950.992 89.2252 Q947.508 88.6581 944.227 87.4428 L944.227 80.1917 Q947.508 81.9741 950.708 82.8248 Q953.908 83.6755 957.23 83.6755 Q964.562 83.6755 968.208 79.8271 Q971.854 76.0193 971.854 68.282 L971.854 64.5957 Q969.545 68.6061 965.94 70.5911 Q962.334 72.576 957.311 72.576 Q948.966 72.576 943.862 66.2161 Q938.758 59.8562 938.758 49.3643 Q938.758 38.832 943.862 32.472 Q948.966 26.1121 957.311 26.1121 Q962.334 26.1121 965.94 28.0971 Q969.545 30.082 971.854 34.0924 L971.854 27.2059 L979.308 27.2059 L979.308 66.9452 Z\" fill=\"#000000\" fill-rule=\"evenodd\" fill-opacity=\"1\" /><path clip-path=\"url(#clip580)\" d=\"M 0 0 M1031.08 32.4315 Q1025.08 32.4315 1021.6 37.1306 Q1018.12 41.7891 1018.12 49.9314 Q1018.12 58.0738 1021.56 62.7728 Q1025.04 67.4314 1031.08 67.4314 Q1037.03 67.4314 1040.52 62.7323 Q1044 58.0333 1044 49.9314 Q1044 41.8701 1040.52 37.1711 Q1037.03 32.4315 1031.08 32.4315 M1031.08 26.1121 Q1040.8 26.1121 1046.35 32.4315 Q1051.9 38.7509 1051.9 49.9314 Q1051.9 61.0714 1046.35 67.4314 Q1040.8 73.7508 1031.08 73.7508 Q1021.32 73.7508 1015.77 67.4314 Q1010.26 61.0714 1010.26 49.9314 Q1010.26 38.7509 1015.77 32.4315 Q1021.32 26.1121 1031.08 26.1121 Z\" fill=\"#000000\" fill-rule=\"evenodd\" fill-opacity=\"1\" /><path clip-path=\"url(#clip580)\" d=\"M 0 0 M1092.29 49.9314 Q1092.29 41.7081 1088.88 37.0496 Q1085.52 32.3505 1079.61 32.3505 Q1073.69 32.3505 1070.29 37.0496 Q1066.93 41.7081 1066.93 49.9314 Q1066.93 58.1548 1070.29 62.8538 Q1073.69 67.5124 1079.61 67.5124 Q1085.52 67.5124 1088.88 62.8538 Q1092.29 58.1548 1092.29 49.9314 M1066.93 34.0924 Q1069.28 30.0415 1072.84 28.0971 Q1076.45 26.1121 1081.43 26.1121 Q1089.69 26.1121 1094.84 32.6746 Q1100.02 39.2371 1100.02 49.9314 Q1100.02 60.6258 1094.84 67.1883 Q1089.69 73.7508 1081.43 73.7508 Q1076.45 73.7508 1072.84 71.8063 Q1069.28 69.8214 1066.93 65.7705 L1066.93 72.576 L1059.43 72.576 L1059.43 9.54393 L1066.93 9.54393 L1066.93 34.0924 Z\" fill=\"#000000\" fill-rule=\"evenodd\" fill-opacity=\"1\" /><path clip-path=\"url(#clip580)\" d=\"M 0 0 M1107.84 27.2059 L1115.3 27.2059 L1115.3 73.3862 Q1115.3 82.0551 1111.97 85.944 Q1108.69 89.8329 1101.36 89.8329 L1098.53 89.8329 L1098.53 83.5134 L1100.51 83.5134 Q1104.76 83.5134 1106.3 81.5285 Q1107.84 79.5841 1107.84 73.3862 L1107.84 27.2059 M1107.84 9.54393 L1115.3 9.54393 L1115.3 18.9825 L1107.84 18.9825 L1107.84 9.54393 Z\" fill=\"#000000\" fill-rule=\"evenodd\" fill-opacity=\"1\" /><path clip-path=\"url(#clip580)\" d=\"M 0 0 M1144.14 27.2059 L1152.04 27.2059 L1166.22 65.2844 L1180.39 27.2059 L1188.29 27.2059 L1171.28 72.576 L1161.15 72.576 L1144.14 27.2059 Z\" fill=\"#000000\" fill-rule=\"evenodd\" fill-opacity=\"1\" /><path clip-path=\"url(#clip580)\" d=\"M 0 0 M1216.73 49.7694 Q1207.7 49.7694 1204.21 51.8354 Q1200.73 53.9013 1200.73 58.8839 Q1200.73 62.8538 1203.32 65.2034 Q1205.96 67.5124 1210.45 67.5124 Q1216.65 67.5124 1220.38 63.1374 Q1224.14 58.7219 1224.14 51.4303 L1224.14 49.7694 L1216.73 49.7694 M1231.6 46.6907 L1231.6 72.576 L1224.14 72.576 L1224.14 65.6895 Q1221.59 69.8214 1217.78 71.8063 Q1213.98 73.7508 1208.47 73.7508 Q1201.5 73.7508 1197.37 69.8619 Q1193.28 65.9325 1193.28 59.3701 Q1193.28 51.7138 1198.38 47.825 Q1203.53 43.9361 1213.69 43.9361 L1224.14 43.9361 L1224.14 43.2069 Q1224.14 38.0623 1220.74 35.2672 Q1217.38 32.4315 1211.26 32.4315 Q1207.37 32.4315 1203.69 33.3632 Q1200 34.295 1196.6 36.1584 L1196.6 29.2718 Q1200.69 27.692 1204.54 26.9223 Q1208.39 26.1121 1212.03 26.1121 Q1221.88 26.1121 1226.74 31.2163 Q1231.6 36.3204 1231.6 46.6907 Z\" fill=\"#000000\" fill-rule=\"evenodd\" fill-opacity=\"1\" /><path clip-path=\"url(#clip580)\" d=\"M 0 0 M1239.42 9.54393 L1246.87 9.54393 L1246.87 72.576 L1239.42 72.576 L1239.42 9.54393 Z\" fill=\"#000000\" fill-rule=\"evenodd\" fill-opacity=\"1\" /><path clip-path=\"url(#clip580)\" d=\"M 0 0 M1253.92 54.671 L1253.92 27.2059 L1261.37 27.2059 L1261.37 54.3874 Q1261.37 60.8284 1263.88 64.0691 Q1266.4 67.2693 1271.42 67.2693 Q1277.45 67.2693 1280.94 63.421 Q1284.46 59.5726 1284.46 52.9291 L1284.46 27.2059 L1291.92 27.2059 L1291.92 72.576 L1284.46 72.576 L1284.46 65.6084 Q1281.75 69.7404 1278.14 71.7658 Q1274.58 73.7508 1269.84 73.7508 Q1262.02 73.7508 1257.97 68.8897 Q1253.92 64.0286 1253.92 54.671 M1272.67 26.1121 L1272.67 26.1121 Z\" fill=\"#000000\" fill-rule=\"evenodd\" fill-opacity=\"1\" /><path clip-path=\"url(#clip580)\" d=\"M 0 0 M1338.54 48.0275 L1338.54 51.6733 L1304.27 51.6733 Q1304.76 59.3701 1308.89 63.421 Q1313.06 67.4314 1320.47 67.4314 Q1324.77 67.4314 1328.78 66.3781 Q1332.83 65.3249 1336.8 63.2184 L1336.8 70.267 Q1332.79 71.9684 1328.58 72.8596 Q1324.36 73.7508 1320.03 73.7508 Q1309.17 73.7508 1302.81 67.4314 Q1296.49 61.1119 1296.49 50.3365 Q1296.49 39.1965 1302.49 32.6746 Q1308.52 26.1121 1318.73 26.1121 Q1327.89 26.1121 1333.19 32.0264 Q1338.54 37.9003 1338.54 48.0275 M1331.09 45.84 Q1331.01 39.7232 1327.64 36.0774 Q1324.32 32.4315 1318.81 32.4315 Q1312.58 32.4315 1308.81 35.9558 Q1305.08 39.4801 1304.51 45.8805 L1331.09 45.84 Z\" fill=\"#000000\" fill-rule=\"evenodd\" fill-opacity=\"1\" /><path clip-path=\"url(#clip580)\" d=\"M 0 0 M1390.31 32.4315 Q1384.32 32.4315 1380.83 37.1306 Q1377.35 41.7891 1377.35 49.9314 Q1377.35 58.0738 1380.79 62.7728 Q1384.28 67.4314 1390.31 67.4314 Q1396.27 67.4314 1399.75 62.7323 Q1403.23 58.0333 1403.23 49.9314 Q1403.23 41.8701 1399.75 37.1711 Q1396.27 32.4315 1390.31 32.4315 M1390.31 26.1121 Q1400.03 26.1121 1405.58 32.4315 Q1411.13 38.7509 1411.13 49.9314 Q1411.13 61.0714 1405.58 67.4314 Q1400.03 73.7508 1390.31 73.7508 Q1380.55 73.7508 1375 67.4314 Q1369.49 61.0714 1369.49 49.9314 Q1369.49 38.7509 1375 32.4315 Q1380.55 26.1121 1390.31 26.1121 Z\" fill=\"#000000\" fill-rule=\"evenodd\" fill-opacity=\"1\" /><path clip-path=\"url(#clip580)\" d=\"M 0 0 M1441.92 9.54393 L1441.92 15.7418 L1434.79 15.7418 Q1430.78 15.7418 1429.2 17.3622 Q1427.66 18.9825 1427.66 23.1955 L1427.66 27.2059 L1439.94 27.2059 L1439.94 32.9987 L1427.66 32.9987 L1427.66 72.576 L1420.17 72.576 L1420.17 32.9987 L1413.04 32.9987 L1413.04 27.2059 L1420.17 27.2059 L1420.17 24.0462 Q1420.17 16.471 1423.69 13.0277 Q1427.22 9.54393 1434.87 9.54393 L1441.92 9.54393 Z\" fill=\"#000000\" fill-rule=\"evenodd\" fill-opacity=\"1\" /><path clip-path=\"url(#clip580)\" d=\"M 0 0 M1484.62 43.6931 L1484.62 65.8515 L1497.74 65.8515 Q1504.35 65.8515 1507.5 63.1374 Q1510.71 60.3828 1510.71 54.752 Q1510.71 49.0808 1507.5 46.4072 Q1504.35 43.6931 1497.74 43.6931 L1484.62 43.6931 M1484.62 18.8205 L1484.62 37.0496 L1496.73 37.0496 Q1502.72 37.0496 1505.64 34.8216 Q1508.6 32.5531 1508.6 27.935 Q1508.6 23.3575 1505.64 21.089 Q1502.72 18.8205 1496.73 18.8205 L1484.62 18.8205 M1476.43 12.096 L1497.34 12.096 Q1506.69 12.096 1511.76 15.9849 Q1516.82 19.8737 1516.82 27.0438 Q1516.82 32.5936 1514.23 35.8748 Q1511.64 39.156 1506.61 39.9662 Q1512.65 41.2625 1515.97 45.3944 Q1519.33 49.4858 1519.33 55.6432 Q1519.33 63.745 1513.82 68.1605 Q1508.32 72.576 1498.15 72.576 L1476.43 72.576 L1476.43 12.096 Z\" fill=\"#000000\" fill-rule=\"evenodd\" fill-opacity=\"1\" /><path clip-path=\"url(#clip580)\" d=\"M 0 0 M1553.44 34.1734 Q1552.19 33.4443 1550.69 33.1202 Q1549.23 32.7556 1547.45 32.7556 Q1541.13 32.7556 1537.72 36.8875 Q1534.36 40.9789 1534.36 48.6757 L1534.36 72.576 L1526.87 72.576 L1526.87 27.2059 L1534.36 27.2059 L1534.36 34.2544 Q1536.71 30.1225 1540.48 28.1376 Q1544.25 26.1121 1549.63 26.1121 Q1550.4 26.1121 1551.34 26.2337 Q1552.27 26.3147 1553.4 26.5172 L1553.44 34.1734 Z\" fill=\"#000000\" fill-rule=\"evenodd\" fill-opacity=\"1\" /><path clip-path=\"url(#clip580)\" d=\"M 0 0 M1560.49 54.671 L1560.49 27.2059 L1567.94 27.2059 L1567.94 54.3874 Q1567.94 60.8284 1570.46 64.0691 Q1572.97 67.2693 1577.99 67.2693 Q1584.03 67.2693 1587.51 63.421 Q1591.03 59.5726 1591.03 52.9291 L1591.03 27.2059 L1598.49 27.2059 L1598.49 72.576 L1591.03 72.576 L1591.03 65.6084 Q1588.32 69.7404 1584.72 71.7658 Q1581.15 73.7508 1576.41 73.7508 Q1568.59 73.7508 1564.54 68.8897 Q1560.49 64.0286 1560.49 54.671 M1579.25 26.1121 L1579.25 26.1121 Z\" fill=\"#000000\" fill-rule=\"evenodd\" fill-opacity=\"1\" /><path clip-path=\"url(#clip580)\" d=\"M 0 0 M1613.68 14.324 L1613.68 27.2059 L1629.03 27.2059 L1629.03 32.9987 L1613.68 32.9987 L1613.68 57.6282 Q1613.68 63.1779 1615.18 64.7578 Q1616.72 66.3376 1621.38 66.3376 L1629.03 66.3376 L1629.03 72.576 L1621.38 72.576 Q1612.75 72.576 1609.47 69.3758 Q1606.18 66.1351 1606.18 57.6282 L1606.18 32.9987 L1600.72 32.9987 L1600.72 27.2059 L1606.18 27.2059 L1606.18 14.324 L1613.68 14.324 Z\" fill=\"#000000\" fill-rule=\"evenodd\" fill-opacity=\"1\" /><path clip-path=\"url(#clip580)\" d=\"M 0 0 M1675.66 48.0275 L1675.66 51.6733 L1641.39 51.6733 Q1641.87 59.3701 1646.01 63.421 Q1650.18 67.4314 1657.59 67.4314 Q1661.88 67.4314 1665.9 66.3781 Q1669.95 65.3249 1673.92 63.2184 L1673.92 70.267 Q1669.91 71.9684 1665.69 72.8596 Q1661.48 73.7508 1657.15 73.7508 Q1646.29 73.7508 1639.93 67.4314 Q1633.61 61.1119 1633.61 50.3365 Q1633.61 39.1965 1639.6 32.6746 Q1645.64 26.1121 1655.85 26.1121 Q1665 26.1121 1670.31 32.0264 Q1675.66 37.9003 1675.66 48.0275 M1668.2 45.84 Q1668.12 39.7232 1664.76 36.0774 Q1661.44 32.4315 1655.93 32.4315 Q1649.69 32.4315 1645.92 35.9558 Q1642.2 39.4801 1641.63 45.8805 L1668.2 45.84 Z\" fill=\"#000000\" fill-rule=\"evenodd\" fill-opacity=\"1\" /><path clip-path=\"url(#clip580)\" d=\"M 0 0 M1679.71 46.5287 L1701.54 46.5287 L1701.54 53.1722 L1679.71 53.1722 L1679.71 46.5287 Z\" fill=\"#000000\" fill-rule=\"evenodd\" fill-opacity=\"1\" /><path clip-path=\"url(#clip580)\" d=\"M 0 0 M1732.33 9.54393 L1732.33 15.7418 L1725.2 15.7418 Q1721.19 15.7418 1719.61 17.3622 Q1718.07 18.9825 1718.07 23.1955 L1718.07 27.2059 L1730.35 27.2059 L1730.35 32.9987 L1718.07 32.9987 L1718.07 72.576 L1710.58 72.576 L1710.58 32.9987 L1703.45 32.9987 L1703.45 27.2059 L1710.58 27.2059 L1710.58 24.0462 Q1710.58 16.471 1714.1 13.0277 Q1717.63 9.54393 1725.28 9.54393 L1732.33 9.54393 Z\" fill=\"#000000\" fill-rule=\"evenodd\" fill-opacity=\"1\" /><path clip-path=\"url(#clip580)\" d=\"M 0 0 M1757.73 32.4315 Q1751.73 32.4315 1748.25 37.1306 Q1744.77 41.7891 1744.77 49.9314 Q1744.77 58.0738 1748.21 62.7728 Q1751.69 67.4314 1757.73 67.4314 Q1763.68 67.4314 1767.17 62.7323 Q1770.65 58.0333 1770.65 49.9314 Q1770.65 41.8701 1767.17 37.1711 Q1763.68 32.4315 1757.73 32.4315 M1757.73 26.1121 Q1767.45 26.1121 1773 32.4315 Q1778.55 38.7509 1778.55 49.9314 Q1778.55 61.0714 1773 67.4314 Q1767.45 73.7508 1757.73 73.7508 Q1747.97 73.7508 1742.42 67.4314 Q1736.91 61.0714 1736.91 49.9314 Q1736.91 38.7509 1742.42 32.4315 Q1747.97 26.1121 1757.73 26.1121 Z\" fill=\"#000000\" fill-rule=\"evenodd\" fill-opacity=\"1\" /><path clip-path=\"url(#clip580)\" d=\"M 0 0 M1812.66 34.1734 Q1811.4 33.4443 1809.9 33.1202 Q1808.45 32.7556 1806.66 32.7556 Q1800.34 32.7556 1796.94 36.8875 Q1793.58 40.9789 1793.58 48.6757 L1793.58 72.576 L1786.09 72.576 L1786.09 27.2059 L1793.58 27.2059 L1793.58 34.2544 Q1795.93 30.1225 1799.7 28.1376 Q1803.46 26.1121 1808.85 26.1121 Q1809.62 26.1121 1810.55 26.2337 Q1811.48 26.3147 1812.62 26.5172 L1812.66 34.1734 Z\" fill=\"#000000\" fill-rule=\"evenodd\" fill-opacity=\"1\" /><path clip-path=\"url(#clip580)\" d=\"M 0 0 M1851.31 28.9478 L1851.31 35.9153 Q1848.15 34.1734 1844.95 33.3227 Q1841.79 32.4315 1838.54 32.4315 Q1831.29 32.4315 1827.28 37.0496 Q1823.27 41.6271 1823.27 49.9314 Q1823.27 58.2358 1827.28 62.8538 Q1831.29 67.4314 1838.54 67.4314 Q1841.79 67.4314 1844.95 66.5807 Q1848.15 65.6895 1851.31 63.9476 L1851.31 70.8341 Q1848.19 72.2924 1844.82 73.0216 Q1841.5 73.7508 1837.73 73.7508 Q1827.49 73.7508 1821.45 67.3098 Q1815.41 60.8689 1815.41 49.9314 Q1815.41 38.832 1821.49 32.472 Q1827.61 26.1121 1838.22 26.1121 Q1841.66 26.1121 1844.95 26.8413 Q1848.23 27.5299 1851.31 28.9478 Z\" fill=\"#000000\" fill-rule=\"evenodd\" fill-opacity=\"1\" /><path clip-path=\"url(#clip580)\" d=\"M 0 0 M1897.93 48.0275 L1897.93 51.6733 L1863.66 51.6733 Q1864.15 59.3701 1868.28 63.421 Q1872.45 67.4314 1879.86 67.4314 Q1884.16 67.4314 1888.17 66.3781 Q1892.22 65.3249 1896.19 63.2184 L1896.19 70.267 Q1892.18 71.9684 1887.97 72.8596 Q1883.75 73.7508 1879.42 73.7508 Q1868.56 73.7508 1862.2 67.4314 Q1855.88 61.1119 1855.88 50.3365 Q1855.88 39.1965 1861.88 32.6746 Q1867.91 26.1121 1878.12 26.1121 Q1887.28 26.1121 1892.58 32.0264 Q1897.93 37.9003 1897.93 48.0275 M1890.48 45.84 Q1890.4 39.7232 1887.03 36.0774 Q1883.71 32.4315 1878.2 32.4315 Q1871.96 32.4315 1868.2 35.9558 Q1864.47 39.4801 1863.9 45.8805 L1890.48 45.84 Z\" fill=\"#000000\" fill-rule=\"evenodd\" fill-opacity=\"1\" /><path clip-path=\"url(#clip580)\" d=\"M 0 0 M1952.74 49.7694 Q1943.71 49.7694 1940.22 51.8354 Q1936.74 53.9013 1936.74 58.8839 Q1936.74 62.8538 1939.33 65.2034 Q1941.96 67.5124 1946.46 67.5124 Q1952.66 67.5124 1956.39 63.1374 Q1960.15 58.7219 1960.15 51.4303 L1960.15 49.7694 L1952.74 49.7694 M1967.61 46.6907 L1967.61 72.576 L1960.15 72.576 L1960.15 65.6895 Q1957.6 69.8214 1953.79 71.8063 Q1949.99 73.7508 1944.48 73.7508 Q1937.51 73.7508 1933.38 69.8619 Q1929.29 65.9325 1929.29 59.3701 Q1929.29 51.7138 1934.39 47.825 Q1939.53 43.9361 1949.7 43.9361 L1960.15 43.9361 L1960.15 43.2069 Q1960.15 38.0623 1956.75 35.2672 Q1953.39 32.4315 1947.27 32.4315 Q1943.38 32.4315 1939.7 33.3632 Q1936.01 34.295 1932.61 36.1584 L1932.61 29.2718 Q1936.7 27.692 1940.55 26.9223 Q1944.39 26.1121 1948.04 26.1121 Q1957.88 26.1121 1962.75 31.2163 Q1967.61 36.3204 1967.61 46.6907 Z\" fill=\"#000000\" fill-rule=\"evenodd\" fill-opacity=\"1\" /><path clip-path=\"url(#clip580)\" d=\"M 0 0 M2013.14 45.1919 L2013.14 72.576 L2005.69 72.576 L2005.69 45.4349 Q2005.69 38.994 2003.17 35.7938 Q2000.66 32.5936 1995.64 32.5936 Q1989.6 32.5936 1986.12 36.4419 Q1982.64 40.2903 1982.64 46.9338 L1982.64 72.576 L1975.14 72.576 L1975.14 27.2059 L1982.64 27.2059 L1982.64 34.2544 Q1985.31 30.163 1988.91 28.1376 Q1992.56 26.1121 1997.3 26.1121 Q2005.12 26.1121 2009.13 30.9732 Q2013.14 35.7938 2013.14 45.1919 Z\" fill=\"#000000\" fill-rule=\"evenodd\" fill-opacity=\"1\" /><path clip-path=\"url(#clip580)\" d=\"M 0 0 M2050.81 34.0924 L2050.81 9.54393 L2058.27 9.54393 L2058.27 72.576 L2050.81 72.576 L2050.81 65.7705 Q2048.46 69.8214 2044.86 71.8063 Q2041.29 73.7508 2036.27 73.7508 Q2028.05 73.7508 2022.86 67.1883 Q2017.72 60.6258 2017.72 49.9314 Q2017.72 39.2371 2022.86 32.6746 Q2028.05 26.1121 2036.27 26.1121 Q2041.29 26.1121 2044.86 28.0971 Q2048.46 30.0415 2050.81 34.0924 M2025.41 49.9314 Q2025.41 58.1548 2028.78 62.8538 Q2032.18 67.5124 2038.09 67.5124 Q2044.01 67.5124 2047.41 62.8538 Q2050.81 58.1548 2050.81 49.9314 Q2050.81 41.7081 2047.41 37.0496 Q2044.01 32.3505 2038.09 32.3505 Q2032.18 32.3505 2028.78 37.0496 Q2025.41 41.7081 2025.41 49.9314 Z\" fill=\"#000000\" fill-rule=\"evenodd\" fill-opacity=\"1\" /><path clip-path=\"url(#clip580)\" d=\"M 0 0 M2129.04 14.0809 L2129.04 22.0612 Q2124.38 19.8332 2120.24 18.7395 Q2116.11 17.6457 2112.26 17.6457 Q2105.58 17.6457 2101.93 20.2383 Q2098.33 22.8309 2098.33 27.611 Q2098.33 31.6214 2100.72 33.6873 Q2103.15 35.7128 2109.87 36.9686 L2114.82 37.9813 Q2123.97 39.7232 2128.31 44.1387 Q2132.68 48.5136 2132.68 55.8863 Q2132.68 64.6767 2126.77 69.2137 Q2120.89 73.7508 2109.51 73.7508 Q2105.22 73.7508 2100.35 72.7785 Q2095.53 71.8063 2090.35 69.9024 L2090.35 61.4765 Q2095.33 64.2716 2100.11 65.6895 Q2104.89 67.1073 2109.51 67.1073 Q2116.52 67.1073 2120.33 64.3527 Q2124.13 61.598 2124.13 56.4939 Q2124.13 52.0379 2121.38 49.5264 Q2118.66 47.0148 2112.43 45.759 L2107.44 44.7868 Q2098.29 42.9639 2094.2 39.075 Q2090.11 35.1862 2090.11 28.2591 Q2090.11 20.2383 2095.74 15.6203 Q2101.41 11.0023 2111.33 11.0023 Q2115.59 11.0023 2120 11.7719 Q2124.42 12.5416 2129.04 14.0809 Z\" fill=\"#000000\" fill-rule=\"evenodd\" fill-opacity=\"1\" /><path clip-path=\"url(#clip580)\" d=\"M 0 0 M2149.01 18.8205 L2149.01 65.8515 L2158.89 65.8515 Q2171.41 65.8515 2177.2 60.1802 Q2183.03 54.509 2183.03 42.2752 Q2183.03 30.1225 2177.2 24.4918 Q2171.41 18.8205 2158.89 18.8205 L2149.01 18.8205 M2140.82 12.096 L2157.63 12.096 Q2175.22 12.096 2183.44 19.4281 Q2191.66 26.7198 2191.66 42.2752 Q2191.66 57.9117 2183.4 65.2439 Q2175.13 72.576 2157.63 72.576 L2140.82 72.576 L2140.82 12.096 Z\" fill=\"#000000\" fill-rule=\"evenodd\" fill-opacity=\"1\" /><path clip-path=\"url(#clip580)\" d=\"M 0 0 M2228.48 44.2197 Q2231.12 45.1109 2233.59 48.0275 Q2236.1 50.9442 2238.61 56.0483 L2246.92 72.576 L2238.13 72.576 L2230.39 57.061 Q2227.39 50.9847 2224.56 48.9997 Q2221.76 47.0148 2216.9 47.0148 L2207.99 47.0148 L2207.99 72.576 L2199.8 72.576 L2199.8 12.096 L2218.28 12.096 Q2228.65 12.096 2233.75 16.4305 Q2238.86 20.7649 2238.86 29.5149 Q2238.86 35.2267 2236.18 38.994 Q2233.55 42.7613 2228.48 44.2197 M2207.99 18.8205 L2207.99 40.2903 L2218.28 40.2903 Q2224.19 40.2903 2227.19 37.5762 Q2230.23 34.8216 2230.23 29.5149 Q2230.23 24.2082 2227.19 21.5346 Q2224.19 18.8205 2218.28 18.8205 L2207.99 18.8205 Z\" fill=\"#000000\" fill-rule=\"evenodd\" fill-opacity=\"1\" /><path clip-path=\"url(#clip580)\" d=\"M 0 0 M1294.38 1534.53 L1294.38 1556.04 L1288.52 1556.04 L1288.52 1534.72 Q1288.52 1529.66 1286.55 1527.14 Q1284.57 1524.63 1280.63 1524.63 Q1275.88 1524.63 1273.15 1527.65 Q1270.41 1530.68 1270.41 1535.9 L1270.41 1556.04 L1264.52 1556.04 L1264.52 1520.4 L1270.41 1520.4 L1270.41 1525.93 Q1272.51 1522.72 1275.34 1521.13 Q1278.21 1519.54 1281.93 1519.54 Q1288.07 1519.54 1291.22 1523.36 Q1294.38 1527.14 1294.38 1534.53 Z\" fill=\"#000000\" fill-rule=\"evenodd\" fill-opacity=\"1\" /><path clip-path=\"url(#clip580)\" d=\"M 0 0 M1301.28 1526.44 L1342.09 1526.44 L1342.09 1531.79 L1301.28 1531.79 L1301.28 1526.44 M1301.28 1539.43 L1342.09 1539.43 L1342.09 1544.84 L1301.28 1544.84 L1301.28 1539.43 Z\" fill=\"#000000\" fill-rule=\"evenodd\" fill-opacity=\"1\" /><path clip-path=\"url(#clip580)\" d=\"M 0 0 M1375.98 1527.24 Q1378.18 1523.29 1381.24 1521.41 Q1384.29 1519.54 1388.43 1519.54 Q1394 1519.54 1397.02 1523.45 Q1400.05 1527.33 1400.05 1534.53 L1400.05 1556.04 L1394.16 1556.04 L1394.16 1534.72 Q1394.16 1529.59 1392.34 1527.11 Q1390.53 1524.63 1386.81 1524.63 Q1382.25 1524.63 1379.61 1527.65 Q1376.97 1530.68 1376.97 1535.9 L1376.97 1556.04 L1371.08 1556.04 L1371.08 1534.72 Q1371.08 1529.56 1369.27 1527.11 Q1367.45 1524.63 1363.67 1524.63 Q1359.18 1524.63 1356.54 1527.68 Q1353.89 1530.71 1353.89 1535.9 L1353.89 1556.04 L1348.01 1556.04 L1348.01 1520.4 L1353.89 1520.4 L1353.89 1525.93 Q1355.9 1522.66 1358.7 1521.1 Q1361.5 1519.54 1365.35 1519.54 Q1369.24 1519.54 1371.94 1521.51 Q1374.68 1523.48 1375.98 1527.24 Z\" fill=\"#000000\" fill-rule=\"evenodd\" fill-opacity=\"1\" /><path clip-path=\"url(#clip580)\" d=\"M 0 0 M44.8447 974.753 Q44.8447 981.755 50.0645 985.893 Q55.2844 989.999 64.2919 989.999 Q73.2675 989.999 78.4874 985.893 Q83.7073 981.755 83.7073 974.753 Q83.7073 967.751 78.4874 963.677 Q73.2675 959.571 64.2919 959.571 Q55.2844 959.571 50.0645 963.677 Q44.8447 967.751 44.8447 974.753 M39.6248 974.753 Q39.6248 964.759 46.3406 958.775 Q53.0246 952.791 64.2919 952.791 Q75.5274 952.791 82.2432 958.775 Q88.9272 964.759 88.9272 974.753 Q88.9272 984.779 82.2432 990.794 Q75.5592 996.778 64.2919 996.778 Q53.0246 996.778 46.3406 990.794 Q39.6248 984.779 39.6248 974.753 Z\" fill=\"#000000\" fill-rule=\"evenodd\" fill-opacity=\"1\" /><path clip-path=\"url(#clip580)\" d=\"M 0 0 M70.212 921.058 Q63.7508 921.058 60.0905 923.732 Q56.3984 926.373 56.3984 931.02 Q56.3984 935.667 60.0905 938.341 Q63.7508 940.983 70.212 940.983 Q76.6732 940.983 80.3653 938.341 Q84.0256 935.667 84.0256 931.02 Q84.0256 926.373 80.3653 923.732 Q76.6732 921.058 70.212 921.058 M57.7671 940.983 Q54.5842 939.137 53.0564 936.336 Q51.4968 933.503 51.4968 929.588 Q51.4968 923.095 56.6531 919.053 Q61.8093 914.979 70.212 914.979 Q78.6147 914.979 83.771 919.053 Q88.9272 923.095 88.9272 929.588 Q88.9272 933.503 87.3994 936.336 Q85.8398 939.137 82.657 940.983 L88.0042 940.983 L88.0042 946.871 L38.479 946.871 L38.479 940.983 L57.7671 940.983 Z\" fill=\"#000000\" fill-rule=\"evenodd\" fill-opacity=\"1\" /><path clip-path=\"url(#clip580)\" d=\"M 0 0 M52.3562 908.836 L52.3562 902.98 L88.6407 902.98 Q95.452 902.98 98.5076 905.589 Q101.563 908.168 101.563 913.929 L101.563 916.157 L96.5979 916.157 L96.5979 914.597 Q96.5979 911.255 95.0383 910.045 Q93.5105 908.836 88.6407 908.836 L52.3562 908.836 M38.479 908.836 L38.479 902.98 L45.895 902.98 L45.895 908.836 L38.479 908.836 Z\" fill=\"#000000\" fill-rule=\"evenodd\" fill-opacity=\"1\" /><path clip-path=\"url(#clip580)\" d=\"M 0 0 M68.7161 866.345 L71.5806 866.345 L71.5806 893.272 Q77.6281 892.89 80.8109 889.643 Q83.9619 886.365 83.9619 880.54 Q83.9619 877.167 83.1344 874.016 Q82.3069 870.833 80.6518 867.713 L86.1899 867.713 Q87.5267 870.865 88.227 874.175 Q88.9272 877.485 88.9272 880.891 Q88.9272 889.421 83.9619 894.418 Q78.9967 899.383 70.5303 899.383 Q61.7774 899.383 56.6531 894.672 Q51.4968 889.93 51.4968 881.909 Q51.4968 874.716 56.1438 870.546 Q60.7589 866.345 68.7161 866.345 M66.9973 872.201 Q62.1912 872.265 59.3266 874.907 Q56.4621 877.517 56.4621 881.845 Q56.4621 886.747 59.2312 889.707 Q62.0002 892.635 67.0292 893.081 L66.9973 872.201 Z\" fill=\"#000000\" fill-rule=\"evenodd\" fill-opacity=\"1\" /><path clip-path=\"url(#clip580)\" d=\"M 0 0 M53.7248 834.548 L59.1993 834.548 Q57.8307 837.031 57.1623 839.545 Q56.4621 842.028 56.4621 844.574 Q56.4621 850.271 60.0905 853.422 Q63.6872 856.574 70.212 856.574 Q76.7369 856.574 80.3653 853.422 Q83.9619 850.271 83.9619 844.574 Q83.9619 842.028 83.2935 839.545 Q82.5933 837.031 81.2247 834.548 L86.6355 834.548 Q87.7814 836.999 88.3543 839.641 Q88.9272 842.251 88.9272 845.211 Q88.9272 853.263 83.8664 858.006 Q78.8057 862.748 70.212 862.748 Q61.491 862.748 56.4939 857.974 Q51.4968 853.168 51.4968 844.829 Q51.4968 842.123 52.0697 839.545 Q52.6108 836.967 53.7248 834.548 Z\" fill=\"#000000\" fill-rule=\"evenodd\" fill-opacity=\"1\" /><path clip-path=\"url(#clip580)\" d=\"M 0 0 M42.2347 822.612 L52.3562 822.612 L52.3562 810.549 L56.9077 810.549 L56.9077 822.612 L76.2594 822.612 Q80.6199 822.612 81.8613 821.435 Q83.1026 820.225 83.1026 816.565 L83.1026 810.549 L88.0042 810.549 L88.0042 816.565 Q88.0042 823.345 85.4897 825.923 Q82.9434 828.501 76.2594 828.501 L56.9077 828.501 L56.9077 832.798 L52.3562 832.798 L52.3562 828.501 L42.2347 828.501 L42.2347 822.612 Z\" fill=\"#000000\" fill-rule=\"evenodd\" fill-opacity=\"1\" /><path clip-path=\"url(#clip580)\" d=\"M 0 0 M52.3562 804.407 L52.3562 798.55 L88.0042 798.55 L88.0042 804.407 L52.3562 804.407 M38.479 804.407 L38.479 798.55 L45.895 798.55 L45.895 804.407 L38.479 804.407 Z\" fill=\"#000000\" fill-rule=\"evenodd\" fill-opacity=\"1\" /><path clip-path=\"url(#clip580)\" d=\"M 0 0 M52.3562 796.609 L52.3562 790.402 L82.275 779.262 L52.3562 768.122 L52.3562 761.915 L88.0042 775.283 L88.0042 783.241 L52.3562 796.609 Z\" fill=\"#000000\" fill-rule=\"evenodd\" fill-opacity=\"1\" /><path clip-path=\"url(#clip580)\" d=\"M 0 0 M68.7161 725.281 L71.5806 725.281 L71.5806 752.208 Q77.6281 751.826 80.8109 748.579 Q83.9619 745.301 83.9619 739.476 Q83.9619 736.103 83.1344 732.951 Q82.3069 729.769 80.6518 726.649 L86.1899 726.649 Q87.5267 729.8 88.227 733.111 Q88.9272 736.421 88.9272 739.826 Q88.9272 748.356 83.9619 753.354 Q78.9967 758.319 70.5303 758.319 Q61.7774 758.319 56.6531 753.608 Q51.4968 748.866 51.4968 740.845 Q51.4968 733.652 56.1438 729.482 Q60.7589 725.281 68.7161 725.281 M66.9973 731.137 Q62.1912 731.201 59.3266 733.843 Q56.4621 736.453 56.4621 740.781 Q56.4621 745.683 59.2312 748.643 Q62.0002 751.571 67.0292 752.017 L66.9973 731.137 Z\" fill=\"#000000\" fill-rule=\"evenodd\" fill-opacity=\"1\" /><path clip-path=\"url(#clip580)\" d=\"M 0 0 M52.3562 702.619 L52.3562 696.412 L82.275 685.272 L52.3562 674.132 L52.3562 667.926 L88.0042 681.294 L88.0042 689.251 L52.3562 702.619 Z\" fill=\"#000000\" fill-rule=\"evenodd\" fill-opacity=\"1\" /><path clip-path=\"url(#clip580)\" d=\"M 0 0 M70.0847 645.582 Q70.0847 652.68 71.7079 655.417 Q73.3312 658.154 77.2461 658.154 Q80.3653 658.154 82.2114 656.117 Q84.0256 654.049 84.0256 650.516 Q84.0256 645.646 80.5881 642.718 Q77.1188 639.758 71.3897 639.758 L70.0847 639.758 L70.0847 645.582 M67.6657 633.901 L88.0042 633.901 L88.0042 639.758 L82.5933 639.758 Q85.8398 641.763 87.3994 644.755 Q88.9272 647.747 88.9272 652.075 Q88.9272 657.55 85.8716 660.796 Q82.7843 664.011 77.6281 664.011 Q71.6125 664.011 68.5569 660 Q65.5014 655.958 65.5014 647.969 L65.5014 639.758 L64.9285 639.758 Q60.8862 639.758 58.6901 642.431 Q56.4621 645.073 56.4621 649.879 Q56.4621 652.935 57.1941 655.831 Q57.9262 658.727 59.3903 661.401 L53.9795 661.401 Q52.7381 658.186 52.1334 655.163 Q51.4968 652.139 51.4968 649.274 Q51.4968 641.54 55.5072 637.721 Q59.5176 633.901 67.6657 633.901 Z\" fill=\"#000000\" fill-rule=\"evenodd\" fill-opacity=\"1\" /><path clip-path=\"url(#clip580)\" d=\"M 0 0 M38.479 627.758 L38.479 621.902 L88.0042 621.902 L88.0042 627.758 L38.479 627.758 Z\" fill=\"#000000\" fill-rule=\"evenodd\" fill-opacity=\"1\" /><path clip-path=\"url(#clip580)\" d=\"M 0 0 M73.9359 616.364 L52.3562 616.364 L52.3562 610.507 L73.7131 610.507 Q78.7739 610.507 81.3202 608.534 Q83.8346 606.56 83.8346 602.614 Q83.8346 597.871 80.8109 595.134 Q77.7872 592.365 72.5673 592.365 L52.3562 592.365 L52.3562 586.508 L88.0042 586.508 L88.0042 592.365 L82.5296 592.365 Q85.7762 594.497 87.3676 597.33 Q88.9272 600.131 88.9272 603.855 Q88.9272 609.998 85.1078 613.181 Q81.2883 616.364 73.9359 616.364 M51.4968 601.627 L51.4968 601.627 Z\" fill=\"#000000\" fill-rule=\"evenodd\" fill-opacity=\"1\" /><path clip-path=\"url(#clip580)\" d=\"M 0 0 M68.7161 549.874 L71.5806 549.874 L71.5806 576.801 Q77.6281 576.419 80.8109 573.172 Q83.9619 569.894 83.9619 564.069 Q83.9619 560.695 83.1344 557.544 Q82.3069 554.362 80.6518 551.242 L86.1899 551.242 Q87.5267 554.393 88.227 557.704 Q88.9272 561.014 88.9272 564.419 Q88.9272 572.949 83.9619 577.947 Q78.9967 582.912 70.5303 582.912 Q61.7774 582.912 56.6531 578.201 Q51.4968 573.459 51.4968 565.438 Q51.4968 558.245 56.1438 554.075 Q60.7589 549.874 68.7161 549.874 M66.9973 555.73 Q62.1912 555.794 59.3266 558.436 Q56.4621 561.046 56.4621 565.374 Q56.4621 570.276 59.2312 573.236 Q62.0002 576.164 67.0292 576.61 L66.9973 555.73 Z\" fill=\"#000000\" fill-rule=\"evenodd\" fill-opacity=\"1\" /><polyline clip-path=\"url(#clip582)\" style=\"stroke:#009af9; stroke-width:12; stroke-opacity:1; fill:none\" points=\"\n",
       "  369.573,1217.88 1332.28,676.418 2294.99,185.125 \n",
       "  \"/>\n",
       "<polyline clip-path=\"url(#clip582)\" style=\"stroke:#e26f46; stroke-width:12; stroke-opacity:1; fill:none\" points=\"\n",
       "  369.573,1386.4 1332.28,619.702 2294.99,160.256 \n",
       "  \"/>\n",
       "<path clip-path=\"url(#clip580)\" d=\"\n",
       "M1799.9 388.432 L2280.76 388.432 L2280.76 206.992 L1799.9 206.992  Z\n",
       "  \" fill=\"#ffffff\" fill-rule=\"evenodd\" fill-opacity=\"1\"/>\n",
       "<polyline clip-path=\"url(#clip580)\" style=\"stroke:#000000; stroke-width:4; stroke-opacity:1; fill:none\" points=\"\n",
       "  1799.9,388.432 2280.76,388.432 2280.76,206.992 1799.9,206.992 1799.9,388.432 \n",
       "  \"/>\n",
       "<polyline clip-path=\"url(#clip580)\" style=\"stroke:#009af9; stroke-width:4; stroke-opacity:1; fill:none\" points=\"\n",
       "  1823.9,267.472 1967.9,267.472 \n",
       "  \"/>\n",
       "<path clip-path=\"url(#clip580)\" d=\"M 0 0 M1996.58 268.248 L1996.58 280.91 L2004.08 280.91 Q2007.85 280.91 2009.66 279.359 Q2011.48 277.785 2011.48 274.567 Q2011.48 271.326 2009.66 269.799 Q2007.85 268.248 2004.08 268.248 L1996.58 268.248 M1996.58 254.035 L1996.58 264.451 L2003.5 264.451 Q2006.92 264.451 2008.59 263.178 Q2010.28 261.882 2010.28 259.243 Q2010.28 256.627 2008.59 255.331 Q2006.92 254.035 2003.5 254.035 L1996.58 254.035 M1991.9 250.192 L2003.85 250.192 Q2009.19 250.192 2012.09 252.414 Q2014.98 254.637 2014.98 258.734 Q2014.98 261.905 2013.5 263.78 Q2012.02 265.655 2009.15 266.118 Q2012.6 266.859 2014.49 269.22 Q2016.41 271.558 2016.41 275.076 Q2016.41 279.706 2013.27 282.229 Q2010.12 284.752 2004.31 284.752 L1991.9 284.752 L1991.9 250.192 Z\" fill=\"#000000\" fill-rule=\"evenodd\" fill-opacity=\"1\" /><path clip-path=\"url(#clip580)\" d=\"M 0 0 M2035.91 262.808 Q2035.19 262.391 2034.33 262.206 Q2033.5 261.998 2032.48 261.998 Q2028.87 261.998 2026.92 264.359 Q2025 266.697 2025 271.095 L2025 284.752 L2020.72 284.752 L2020.72 258.826 L2025 258.826 L2025 262.854 Q2026.34 260.493 2028.5 259.359 Q2030.65 258.201 2033.73 258.201 Q2034.17 258.201 2034.7 258.271 Q2035.23 258.317 2035.88 258.433 L2035.91 262.808 Z\" fill=\"#000000\" fill-rule=\"evenodd\" fill-opacity=\"1\" /><path clip-path=\"url(#clip580)\" d=\"M 0 0 M2039.93 274.521 L2039.93 258.826 L2044.19 258.826 L2044.19 274.359 Q2044.19 278.039 2045.63 279.891 Q2047.06 281.72 2049.93 281.72 Q2053.38 281.72 2055.37 279.521 Q2057.39 277.322 2057.39 273.525 L2057.39 258.826 L2061.65 258.826 L2061.65 284.752 L2057.39 284.752 L2057.39 280.771 Q2055.84 283.132 2053.78 284.289 Q2051.74 285.423 2049.03 285.423 Q2044.56 285.423 2042.25 282.646 Q2039.93 279.868 2039.93 274.521 M2050.65 258.201 L2050.65 258.201 Z\" fill=\"#000000\" fill-rule=\"evenodd\" fill-opacity=\"1\" /><path clip-path=\"url(#clip580)\" d=\"M 0 0 M2070.33 251.465 L2070.33 258.826 L2079.1 258.826 L2079.1 262.137 L2070.33 262.137 L2070.33 276.211 Q2070.33 279.382 2071.18 280.285 Q2072.06 281.187 2074.72 281.187 L2079.1 281.187 L2079.1 284.752 L2074.72 284.752 Q2069.79 284.752 2067.92 282.923 Q2066.04 281.072 2066.04 276.211 L2066.04 262.137 L2062.92 262.137 L2062.92 258.826 L2066.04 258.826 L2066.04 251.465 L2070.33 251.465 Z\" fill=\"#000000\" fill-rule=\"evenodd\" fill-opacity=\"1\" /><path clip-path=\"url(#clip580)\" d=\"M 0 0 M2105.74 270.724 L2105.74 272.808 L2086.16 272.808 Q2086.44 277.206 2088.8 279.521 Q2091.18 281.812 2095.42 281.812 Q2097.87 281.812 2100.16 281.21 Q2102.48 280.609 2104.75 279.405 L2104.75 283.433 Q2102.46 284.405 2100.05 284.914 Q2097.64 285.423 2095.16 285.423 Q2088.96 285.423 2085.33 281.812 Q2081.72 278.201 2081.72 272.044 Q2081.72 265.678 2085.14 261.951 Q2088.59 258.201 2094.42 258.201 Q2099.65 258.201 2102.69 261.581 Q2105.74 264.937 2105.74 270.724 M2101.48 269.474 Q2101.44 265.979 2099.52 263.896 Q2097.62 261.812 2094.47 261.812 Q2090.9 261.812 2088.75 263.826 Q2086.62 265.84 2086.3 269.498 L2101.48 269.474 Z\" fill=\"#000000\" fill-rule=\"evenodd\" fill-opacity=\"1\" /><path clip-path=\"url(#clip580)\" d=\"M 0 0 M2108.06 269.868 L2120.53 269.868 L2120.53 273.664 L2108.06 273.664 L2108.06 269.868 Z\" fill=\"#000000\" fill-rule=\"evenodd\" fill-opacity=\"1\" /><path clip-path=\"url(#clip580)\" d=\"M 0 0 M2138.13 248.734 L2138.13 252.275 L2134.05 252.275 Q2131.76 252.275 2130.86 253.201 Q2129.98 254.127 2129.98 256.535 L2129.98 258.826 L2136.99 258.826 L2136.99 262.137 L2129.98 262.137 L2129.98 284.752 L2125.7 284.752 L2125.7 262.137 L2121.62 262.137 L2121.62 258.826 L2125.7 258.826 L2125.7 257.021 Q2125.7 252.692 2127.71 250.725 Q2129.72 248.734 2134.1 248.734 L2138.13 248.734 Z\" fill=\"#000000\" fill-rule=\"evenodd\" fill-opacity=\"1\" /><path clip-path=\"url(#clip580)\" d=\"M 0 0 M2152.64 261.812 Q2149.21 261.812 2147.22 264.498 Q2145.23 267.16 2145.23 271.812 Q2145.23 276.465 2147.2 279.15 Q2149.19 281.812 2152.64 281.812 Q2156.04 281.812 2158.03 279.127 Q2160.02 276.442 2160.02 271.812 Q2160.02 267.206 2158.03 264.521 Q2156.04 261.812 2152.64 261.812 M2152.64 258.201 Q2158.2 258.201 2161.37 261.812 Q2164.54 265.424 2164.54 271.812 Q2164.54 278.178 2161.37 281.812 Q2158.2 285.423 2152.64 285.423 Q2147.06 285.423 2143.89 281.812 Q2140.74 278.178 2140.74 271.812 Q2140.74 265.424 2143.89 261.812 Q2147.06 258.201 2152.64 258.201 Z\" fill=\"#000000\" fill-rule=\"evenodd\" fill-opacity=\"1\" /><path clip-path=\"url(#clip580)\" d=\"M 0 0 M2184.03 262.808 Q2183.31 262.391 2182.46 262.206 Q2181.62 261.998 2180.6 261.998 Q2176.99 261.998 2175.05 264.359 Q2173.13 266.697 2173.13 271.095 L2173.13 284.752 L2168.84 284.752 L2168.84 258.826 L2173.13 258.826 L2173.13 262.854 Q2174.47 260.493 2176.62 259.359 Q2178.77 258.201 2181.85 258.201 Q2182.29 258.201 2182.83 258.271 Q2183.36 258.317 2184.01 258.433 L2184.03 262.808 Z\" fill=\"#000000\" fill-rule=\"evenodd\" fill-opacity=\"1\" /><path clip-path=\"url(#clip580)\" d=\"M 0 0 M2206.11 259.822 L2206.11 263.803 Q2204.31 262.808 2202.48 262.322 Q2200.67 261.812 2198.82 261.812 Q2194.68 261.812 2192.39 264.451 Q2190.09 267.067 2190.09 271.812 Q2190.09 276.558 2192.39 279.197 Q2194.68 281.812 2198.82 281.812 Q2200.67 281.812 2202.48 281.326 Q2204.31 280.817 2206.11 279.822 L2206.11 283.757 Q2204.33 284.59 2202.41 285.007 Q2200.51 285.423 2198.36 285.423 Q2192.5 285.423 2189.05 281.743 Q2185.6 278.062 2185.6 271.812 Q2185.6 265.47 2189.08 261.836 Q2192.57 258.201 2198.64 258.201 Q2200.6 258.201 2202.48 258.618 Q2204.35 259.012 2206.11 259.822 Z\" fill=\"#000000\" fill-rule=\"evenodd\" fill-opacity=\"1\" /><path clip-path=\"url(#clip580)\" d=\"M 0 0 M2232.76 270.724 L2232.76 272.808 L2213.17 272.808 Q2213.45 277.206 2215.81 279.521 Q2218.2 281.812 2222.43 281.812 Q2224.89 281.812 2227.18 281.21 Q2229.49 280.609 2231.76 279.405 L2231.76 283.433 Q2229.47 284.405 2227.06 284.914 Q2224.65 285.423 2222.18 285.423 Q2215.97 285.423 2212.34 281.812 Q2208.73 278.201 2208.73 272.044 Q2208.73 265.678 2212.15 261.951 Q2215.6 258.201 2221.44 258.201 Q2226.67 258.201 2229.7 261.581 Q2232.76 264.937 2232.76 270.724 M2228.5 269.474 Q2228.45 265.979 2226.53 263.896 Q2224.63 261.812 2221.48 261.812 Q2217.92 261.812 2215.77 263.826 Q2213.64 265.84 2213.31 269.498 L2228.5 269.474 Z\" fill=\"#000000\" fill-rule=\"evenodd\" fill-opacity=\"1\" /><polyline clip-path=\"url(#clip580)\" style=\"stroke:#e26f46; stroke-width:4; stroke-opacity:1; fill:none\" points=\"\n",
       "  1823.9,327.952 1967.9,327.952 \n",
       "  \"/>\n",
       "<path clip-path=\"url(#clip580)\" d=\"M 0 0 M2014.15 311.806 L2014.15 316.367 Q2011.48 315.093 2009.12 314.468 Q2006.76 313.843 2004.56 313.843 Q2000.74 313.843 1998.66 315.325 Q1996.6 316.806 1996.6 319.538 Q1996.6 321.829 1997.97 323.01 Q1999.35 324.167 2003.2 324.885 L2006.02 325.464 Q2011.25 326.459 2013.73 328.982 Q2016.23 331.482 2016.23 335.695 Q2016.23 340.718 2012.85 343.311 Q2009.49 345.903 2002.99 345.903 Q2000.53 345.903 1997.76 345.348 Q1995 344.792 1992.04 343.704 L1992.04 338.89 Q1994.89 340.487 1997.62 341.297 Q2000.35 342.107 2002.99 342.107 Q2006.99 342.107 2009.17 340.533 Q2011.35 338.959 2011.35 336.042 Q2011.35 333.496 2009.77 332.061 Q2008.22 330.626 2004.66 329.908 L2001.81 329.353 Q1996.58 328.311 1994.24 326.089 Q1991.9 323.866 1991.9 319.908 Q1991.9 315.325 1995.12 312.686 Q1998.36 310.047 2004.03 310.047 Q2006.46 310.047 2008.98 310.487 Q2011.51 310.927 2014.15 311.806 Z\" fill=\"#000000\" fill-rule=\"evenodd\" fill-opacity=\"1\" /><path clip-path=\"url(#clip580)\" d=\"M 0 0 M2025.56 314.515 L2025.56 341.39 L2031.21 341.39 Q2038.36 341.39 2041.67 338.149 Q2045 334.908 2045 327.917 Q2045 320.973 2041.67 317.755 Q2038.36 314.515 2031.21 314.515 L2025.56 314.515 M2020.88 310.672 L2030.49 310.672 Q2040.53 310.672 2045.23 314.862 Q2049.93 319.029 2049.93 327.917 Q2049.93 336.853 2045.21 341.042 Q2040.49 345.232 2030.49 345.232 L2020.88 345.232 L2020.88 310.672 Z\" fill=\"#000000\" fill-rule=\"evenodd\" fill-opacity=\"1\" /><path clip-path=\"url(#clip580)\" d=\"M 0 0 M2070.97 329.029 Q2072.48 329.538 2073.89 331.204 Q2075.33 332.871 2076.76 335.788 L2081.51 345.232 L2076.48 345.232 L2072.06 336.366 Q2070.35 332.894 2068.73 331.76 Q2067.13 330.626 2064.35 330.626 L2059.26 330.626 L2059.26 345.232 L2054.59 345.232 L2054.59 310.672 L2065.14 310.672 Q2071.07 310.672 2073.98 313.149 Q2076.9 315.626 2076.9 320.626 Q2076.9 323.89 2075.37 326.042 Q2073.87 328.195 2070.97 329.029 M2059.26 314.515 L2059.26 326.783 L2065.14 326.783 Q2068.52 326.783 2070.23 325.232 Q2071.97 323.658 2071.97 320.626 Q2071.97 317.593 2070.23 316.066 Q2068.52 314.515 2065.14 314.515 L2059.26 314.515 Z\" fill=\"#000000\" fill-rule=\"evenodd\" fill-opacity=\"1\" /></svg>\n"
      ]
     },
     "execution_count": 15,
     "metadata": {},
     "output_type": "execute_result"
    }
   ],
   "source": [
    "# the following code helps you with visualizing the SDR vs Brute-force comparison\n",
    "plot( n_choice, [store_obj_bf,store_obj_sdr], xlabel = \"n=m\", ylabel = \"Objective value\", \n",
    "    label = [\"Brute-force\" \"SDR\"], lw = 3, yaxis=:log , title = \"Comparing avg obj value of Brute-force and SDR\")"
   ]
  },
  {
   "cell_type": "code",
   "execution_count": null,
   "metadata": {},
   "outputs": [],
   "source": []
  },
  {
   "cell_type": "code",
   "execution_count": null,
   "metadata": {},
   "outputs": [],
   "source": []
  }
 ],
 "metadata": {
  "kernelspec": {
   "display_name": "Julia 1.1.1",
   "language": "julia",
   "name": "julia-1.1"
  },
  "language_info": {
   "file_extension": ".jl",
   "mimetype": "application/julia",
   "name": "julia",
   "version": "1.1.1"
  },
  "varInspector": {
   "cols": {
    "lenName": 16,
    "lenType": 16,
    "lenVar": 40
   },
   "kernels_config": {
    "python": {
     "delete_cmd_postfix": "",
     "delete_cmd_prefix": "del ",
     "library": "var_list.py",
     "varRefreshCmd": "print(var_dic_list())"
    },
    "r": {
     "delete_cmd_postfix": ") ",
     "delete_cmd_prefix": "rm(",
     "library": "var_list.r",
     "varRefreshCmd": "cat(var_dic_list()) "
    }
   },
   "types_to_exclude": [
    "module",
    "function",
    "builtin_function_or_method",
    "instance",
    "_Feature"
   ],
   "window_display": false
  }
 },
 "nbformat": 4,
 "nbformat_minor": 2
}
