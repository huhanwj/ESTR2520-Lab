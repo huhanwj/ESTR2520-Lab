{
 "cells": [
  {
   "cell_type": "code",
   "execution_count": 1,
   "metadata": {},
   "outputs": [],
   "source": [
    "# load th following packages\n",
    "using JuMP\n",
    "using GLPK\n",
    "using LinearAlgebra"
   ]
  },
  {
   "cell_type": "markdown",
   "metadata": {},
   "source": [
    "## Shortest Path's Problem - part a\n",
    "\n",
    "You should have formulated the (binary) integer program in Q2 of this HW already. This part of the homework asks you to implement the integer program using Julia/JuMP. For your convenience, we have programmed the 7x7 adjacency matrix of the transportation network below (an alternative is to \"hard-code\" the constraints required in the IP formulations *one-by-one*, yet the latter requires a lot of efforts...):"
   ]
  },
  {
   "cell_type": "code",
   "execution_count": 2,
   "metadata": {},
   "outputs": [],
   "source": [
    "W = [0 5 6 4 0 0 0;\n",
    "     0 0 0 4 4 0 0;\n",
    "     0 0 0 2 0 3 0;\n",
    "     0 0 0 0 3 5 6;\n",
    "     0 0 0 0 0 0 2;\n",
    "     0 0 0 0 0 0 2;\n",
    "     0 0 0 0 0 0 0];\n",
    "A = sign.(W);"
   ]
  },
  {
   "cell_type": "markdown",
   "metadata": {},
   "source": [
    "The two matrices $A, W$ in the above are\n",
    "\n",
    "$$ W_{ij} = \\begin{cases}\n",
    "\\text{distance between $i$ and $j$}, & \\text{if there is a road from $i$ to $j$}, \\\\\n",
    "0, & \\text{otherwise}.\n",
    "\\end{cases}, \\quad \n",
    "A_{ij} = \\begin{cases}\n",
    "1, & \\text{if there is a road from $i$ to $j$}, \\\\\n",
    "0, & \\text{otherwise}.\n",
    "\\end{cases}\n",
    "$$"
   ]
  },
  {
   "cell_type": "markdown",
   "metadata": {},
   "source": [
    "To set up the optimization problem, we will need to initialize the object (we call it as \"model\" here) for the optimization problem, it can be done by\n",
    "\n",
    "$$ \\text{model = Model(GLPK.Optimizer)} $$"
   ]
  },
  {
   "cell_type": "markdown",
   "metadata": {},
   "source": [
    "Next, you will need to specify the optimization problem. Here are some hints on the syntax used for JuMP (which should be sufficient for this HW):\n",
    "\n",
    "__Decision variables__: you can define an $n \\times n$ (with n=7) *binary* matrix \"Y\" as a variable using the command (change the \"n\" to anything you need):\n",
    "\n",
    "$$ \\text{@variable(model, Y[1:n,1:n], Bin)} $$\n",
    "\n",
    "Remark: note that there are less than $7 \\times 7$ edges on the network, but for simplicity, it might be easier to define a binary variable for every combination, and use the $A$ matrix defined in the above to force those decision variables to be zero.\n",
    "\n",
    "__Constraints__: for the constraints, of course you can \"hard-code\" a lot of constraints by writing a long list of things like \"@constraint(model, Y[1,2]+Y[1,4]+Y[1,3]==1)\", but you will probably get tired after the 5/6th constraint. \n",
    "\n",
    "A smarter way to program is to make use of various programming tricks, \n",
    "\n",
    "1. You may have some constraint that is in the form of summing up certain subset of variables, e.g., requiring \n",
    "\n",
    "$$\\sum_{j=1}^n A_{ij} X_{ij} \\leq 1,~~i=1,...,n$$ \n",
    "\n",
    "Furthermore, in the above there are $n$ different constraints, each indexed by $i=1,...,n$. To program this in Julia/JuMP, you can use the following command to describe the constraints above:\n",
    "\n",
    "$$ \\begin{array}{l}\n",
    "\\text{for i = 1 : n}\\\\\n",
    "~~~~~~\\text{@constraint(model, sum(A[i,:].*X[i,:]) <= 1)}\\\\\n",
    "\\text{end} \\end{array} $$\n",
    "\n",
    "* The syntax \"X[i,:]\" takes the entire $i$th row of the matrix variable \"X\"\n",
    "* The syntax \"A[i,:].\\*X[i,:]\" produces an array/vector whose elements are the result of the element-wise product between the $i$th row of \"X\" and \"A\". E.g., the $j$th element of this vector is $X_{ij} A_{ij}$.\n",
    "* The syntax \"sum(A[i,:].\\*X[i,:])<=1\" specifies that the sum of every elements in the $i$th row of \"A.*X\" has to be smaller than 1.\n",
    "* Note that the \"for i = 1 : n\" ... \"end\" part in the above works just like a for-loop in any other programming languages. You may add additional logical control to \"shape\" the constraints as you like!\n",
    "\n",
    "2. For constraints that are \"element-wise\", e.g., \n",
    "\n",
    "$$ Y_{ij} \\leq A_{ij}, i = 1,...,n , j= 1, ..., n. $$\n",
    "\n",
    "It can be enforced by \n",
    "\n",
    "$$ \\text{@constraint( model, Y .<= A )} $$\n",
    "\n",
    "The syntax \".<=\" compares the two matrices $Y$ and $A$ in an element-wise fashion.\n",
    "\n",
    "3. You may want to program a double-summmation\n",
    "\n",
    "$$\\sum_{i=1}^n \\sum_{j=1}^n Y_{ij} W_{ij}$$\n",
    "\n",
    "in your objective function, etc.. To do so, you can use the following syntax to calculate the double sum:\n",
    "\n",
    "$$ \\text{sum( Y.* W )} $$\n",
    "\n",
    "For further reference about arrays/matrices in Julia, see: \n",
    "\n",
    "http://web.stanford.edu/class/ee103/julia_slides/julia_matrices_slides.pdf\n",
    "\n",
    "https://docs.julialang.org/en/v1/manual/arrays/index.html\n",
    "\n",
    "Please write your optimization model in Julia/JuMP below:"
   ]
  },
  {
   "cell_type": "code",
   "execution_count": 4,
   "metadata": {},
   "outputs": [
    {
     "data": {
      "text/latex": [
       "$$ 5 Y_{1,2} + 6 Y_{1,3} + 4 Y_{1,4} + 4 Y_{2,4} + 2 Y_{3,4} + 4 Y_{2,5} + 3 Y_{4,5} + 3 Y_{3,6} + 5 Y_{4,6} + 6 Y_{4,7} + 2 Y_{5,7} + 2 Y_{6,7} $$"
      ],
      "text/plain": [
       "5 Y[1,2] + 6 Y[1,3] + 4 Y[1,4] + 4 Y[2,4] + 2 Y[3,4] + 4 Y[2,5] + 3 Y[4,5] + 3 Y[3,6] + 5 Y[4,6] + 6 Y[4,7] + 2 Y[5,7] + 2 Y[6,7]"
      ]
     },
     "execution_count": 4,
     "metadata": {},
     "output_type": "execute_result"
    }
   ],
   "source": [
    "model = Model(GLPK.Optimizer);\n",
    "# your code here\n",
    "n = 7;\n",
    "m = 7;\n",
    "@variable(model, Y[1:n, 1:m], Bin)\n",
    "@variable(model, a[1:m], Bin)\n",
    "@constraint(model, sum(Y[1, :].*A[1, :]) == 1)\n",
    "@constraint(model, [j=2:6], sum(A[:, j] .* Y[:, j]) <= 7*(1-a[j]))\n",
    "@constraint(model, [j=2:6], 1-sum(A[j,:].*Y[j,:])<=7*a[j])\n",
    "@objective(model, Min, sum(W.*Y))"
   ]
  },
  {
   "cell_type": "markdown",
   "metadata": {},
   "source": [
    "It is not a bad idea to inspect how does the formulated problem look like (mathematically):"
   ]
  },
  {
   "cell_type": "code",
   "execution_count": 5,
   "metadata": {},
   "outputs": [
    {
     "name": "stdout",
     "output_type": "stream",
     "text": [
      "Min 5 Y[1,2] + 6 Y[1,3] + 4 Y[1,4] + 4 Y[2,4] + 2 Y[3,4] + 4 Y[2,5] + 3 Y[4,5] + 3 Y[3,6] + 5 Y[4,6] + 6 Y[4,7] + 2 Y[5,7] + 2 Y[6,7]\n",
      "Subject to\n",
      " Y[1,2] + Y[1,3] + Y[1,4] == 1.0\n",
      " Y[1,2] + 7 a[2] <= 7.0\n",
      " Y[1,3] + 7 a[3] <= 7.0\n",
      " Y[1,4] + Y[2,4] + Y[3,4] + 7 a[4] <= 7.0\n",
      " Y[2,5] + Y[4,5] + 7 a[5] <= 7.0\n",
      " Y[3,6] + Y[4,6] + 7 a[6] <= 7.0\n",
      " -Y[2,4] - Y[2,5] - 7 a[2] <= -1.0\n",
      " -Y[3,4] - Y[3,6] - 7 a[3] <= -1.0\n",
      " -Y[4,5] - Y[4,6] - Y[4,7] - 7 a[4] <= -1.0\n",
      " -Y[5,7] - 7 a[5] <= -1.0\n",
      " -Y[6,7] - 7 a[6] <= -1.0\n",
      " Y[1,1] binary\n",
      " Y[2,1] binary\n",
      " Y[3,1] binary\n",
      " Y[4,1] binary\n",
      " Y[5,1] binary\n",
      " Y[6,1] binary\n",
      " Y[7,1] binary\n",
      " Y[1,2] binary\n",
      " Y[2,2] binary\n",
      " Y[3,2] binary\n",
      " Y[4,2] binary\n",
      " Y[5,2] binary\n",
      " Y[6,2] binary\n",
      " Y[7,2] binary\n",
      " Y[1,3] binary\n",
      " Y[2,3] binary\n",
      " Y[3,3] binary\n",
      " Y[4,3] binary\n",
      " Y[5,3] binary\n",
      " Y[6,3] binary\n",
      " Y[7,3] binary\n",
      " Y[1,4] binary\n",
      " Y[2,4] binary\n",
      " Y[3,4] binary\n",
      " Y[4,4] binary\n",
      " Y[5,4] binary\n",
      " Y[6,4] binary\n",
      " Y[7,4] binary\n",
      " Y[1,5] binary\n",
      " Y[2,5] binary\n",
      " Y[3,5] binary\n",
      " Y[4,5] binary\n",
      " Y[5,5] binary\n",
      " Y[6,5] binary\n",
      " Y[7,5] binary\n",
      " Y[1,6] binary\n",
      " Y[2,6] binary\n",
      " Y[3,6] binary\n",
      " Y[4,6] binary\n",
      " Y[5,6] binary\n",
      " Y[6,6] binary\n",
      " Y[7,6] binary\n",
      " Y[1,7] binary\n",
      " Y[2,7] binary\n",
      " Y[3,7] binary\n",
      " Y[4,7] binary\n",
      " Y[5,7] binary\n",
      " Y[6,7] binary\n",
      " Y[7,7] binary\n",
      " a[1] binary\n",
      " a[2] binary\n",
      " a[3] binary\n",
      " a[4] binary\n",
      " a[5] binary\n",
      " a[6] binary\n",
      " a[7] binary\n"
     ]
    }
   ],
   "source": [
    "print(model)"
   ]
  },
  {
   "cell_type": "markdown",
   "metadata": {},
   "source": [
    "The following codes will help you in visualizing the solution. Run them after you have specified your model."
   ]
  },
  {
   "cell_type": "code",
   "execution_count": 6,
   "metadata": {},
   "outputs": [],
   "source": [
    "# solve the programmed optimization model\n",
    "status = optimize!(model)"
   ]
  },
  {
   "cell_type": "code",
   "execution_count": 7,
   "metadata": {},
   "outputs": [
    {
     "data": {
      "text/plain": [
       "7×7 Array{Float64,2}:\n",
       " 0.0  0.0  0.0  1.0  0.0  0.0  0.0\n",
       " 0.0  0.0  0.0  0.0  0.0  0.0  0.0\n",
       " 0.0  0.0  0.0  0.0  0.0  0.0  0.0\n",
       " 0.0  0.0  0.0  0.0  1.0  0.0  0.0\n",
       " 0.0  0.0  0.0  0.0  0.0  0.0  1.0\n",
       " 0.0  0.0  0.0  0.0  0.0  0.0  0.0\n",
       " 0.0  0.0  0.0  0.0  0.0  0.0  0.0"
      ]
     },
     "execution_count": 7,
     "metadata": {},
     "output_type": "execute_result"
    }
   ],
   "source": [
    "# print out the solution, please copy the output below as your solution\n",
    "value.(Y)"
   ]
  },
  {
   "cell_type": "code",
   "execution_count": 8,
   "metadata": {},
   "outputs": [
    {
     "data": {
      "text/plain": [
       "9.0"
      ]
     },
     "execution_count": 8,
     "metadata": {},
     "output_type": "execute_result"
    }
   ],
   "source": [
    "# print out the objective value\n",
    "objective_value(model)"
   ]
  },
  {
   "cell_type": "markdown",
   "metadata": {},
   "source": [
    "Reminder: The solution you obtain in the above should be the same as the one in Q2b."
   ]
  },
  {
   "cell_type": "markdown",
   "metadata": {},
   "source": [
    "## Shortest Path Problem - part c\n",
    "Next, we shall implement the IP problem formulated in part c) of Q2. Most of the syntax should follow straightforwardly. However, in order to avoid confusion, please use a different names for the optimization object and variables.\n",
    "\n",
    "__Hints__: For this part of the problem, it maybe helpful to define a 3-way-array for the decision variables, e.g.,\n",
    "\n",
    "$$ \\text{@variable( model2, Yb[1:n,1:n,1:p], Bin )} $$\n",
    "\n",
    "will define a $n \\times n \\times p$ array of binary variables, named as 'Yb', where the elements are $Yb_{i,j,k}$ with $i=1,...,n, j=1,...,n, k=1,...,p$. \n",
    "\n",
    "For 3-way-arrays, you can slice it with the following syntax, e.g., with the 'Yb' defined above,\n",
    "\n",
    "$$ \\text{Yb[:,:,1]} $$ \n",
    "\n",
    "corresponds to a matrix consisting of the elements $Y_{i,j,1}$ for $i=1,...,n, j=1,...,n$. \n",
    "\n",
    "The 'sum' function can be used on 3-way-array as well. For example, \n",
    "\n",
    "$$ \\text{sum( Yb, dims = 3 )} $$\n",
    "\n",
    "outputs a matrix consisting of the elements $\\sum_{k=1}^p Y_{i,j,k}$."
   ]
  },
  {
   "cell_type": "code",
   "execution_count": 20,
   "metadata": {},
   "outputs": [
    {
     "data": {
      "text/latex": [
       "$$ 5 Yb_{1,2,1} + 6 Yb_{1,3,1} + 4 Yb_{1,4,1} + 4 Yb_{2,4,1} + 2 Yb_{3,4,1} + 4 Yb_{2,5,1} + 3 Yb_{4,5,1} + 3 Yb_{3,6,1} + 5 Yb_{4,6,1} + 6 Yb_{4,7,1} + 2 Yb_{5,7,1} + 2 Yb_{6,7,1} + 5 Yb_{1,2,2} + 6 Yb_{1,3,2} + 4 Yb_{1,4,2} + 4 Yb_{2,4,2} + 2 Yb_{3,4,2} + 4 Yb_{2,5,2} + 3 Yb_{4,5,2} + 3 Yb_{3,6,2} + 5 Yb_{4,6,2} + 6 Yb_{4,7,2} + 2 Yb_{5,7,2} + 2 Yb_{6,7,2} + 5 Yb_{1,2,3} + 6 Yb_{1,3,3} + 4 Yb_{1,4,3} + 4 Yb_{2,4,3} + 2 Yb_{3,4,3} + 4 Yb_{2,5,3} + 3 Yb_{4,5,3} + 3 Yb_{3,6,3} + 5 Yb_{4,6,3} + 6 Yb_{4,7,3} + 2 Yb_{5,7,3} + 2 Yb_{6,7,3} + 5 Yb_{1,2,4} + 6 Yb_{1,3,4} + 4 Yb_{1,4,4} + 4 Yb_{2,4,4} + 2 Yb_{3,4,4} + 4 Yb_{2,5,4} + 3 Yb_{4,5,4} + 3 Yb_{3,6,4} + 5 Yb_{4,6,4} + 6 Yb_{4,7,4} + 2 Yb_{5,7,4} + 2 Yb_{6,7,4} + 5 Yb_{1,2,5} + 6 Yb_{1,3,5} + 4 Yb_{1,4,5} + 4 Yb_{2,4,5} + 2 Yb_{3,4,5} + 4 Yb_{2,5,5} + 3 Yb_{4,5,5} + 3 Yb_{3,6,5} + 5 Yb_{4,6,5} + 6 Yb_{4,7,5} + 2 Yb_{5,7,5} + 2 Yb_{6,7,5} + 5 Yb_{1,2,6} + 6 Yb_{1,3,6} + 4 Yb_{1,4,6} + 4 Yb_{2,4,6} + 2 Yb_{3,4,6} + 4 Yb_{2,5,6} + 3 Yb_{4,5,6} + 3 Yb_{3,6,6} + 5 Yb_{4,6,6} + 6 Yb_{4,7,6} + 2 Yb_{5,7,6} + 2 Yb_{6,7,6} $$"
      ],
      "text/plain": [
       "5 Yb[1,2,1] + 6 Yb[1,3,1] + 4 Yb[1,4,1] + 4 Yb[2,4,1] + 2 Yb[3,4,1] + 4 Yb[2,5,1] + 3 Yb[4,5,1] + 3 Yb[3,6,1] + 5 Yb[4,6,1] + 6 Yb[4,7,1] + 2 Yb[5,7,1] + 2 Yb[6,7,1] + 5 Yb[1,2,2] + 6 Yb[1,3,2] + 4 Yb[1,4,2] + 4 Yb[2,4,2] + 2 Yb[3,4,2] + 4 Yb[2,5,2] + 3 Yb[4,5,2] + 3 Yb[3,6,2] + 5 Yb[4,6,2] + 6 Yb[4,7,2] + 2 Yb[5,7,2] + 2 Yb[6,7,2] + 5 Yb[1,2,3] + 6 Yb[1,3,3] + 4 Yb[1,4,3] + 4 Yb[2,4,3] + 2 Yb[3,4,3] + 4 Yb[2,5,3] + 3 Yb[4,5,3] + 3 Yb[3,6,3] + 5 Yb[4,6,3] + 6 Yb[4,7,3] + 2 Yb[5,7,3] + 2 Yb[6,7,3] + 5 Yb[1,2,4] + 6 Yb[1,3,4] + 4 Yb[1,4,4] + 4 Yb[2,4,4] + 2 Yb[3,4,4] + 4 Yb[2,5,4] + 3 Yb[4,5,4] + 3 Yb[3,6,4] + 5 Yb[4,6,4] + 6 Yb[4,7,4] + 2 Yb[5,7,4] + 2 Yb[6,7,4] + 5 Yb[1,2,5] + 6 Yb[1,3,5] + 4 Yb[1,4,5] + 4 Yb[2,4,5] + 2 Yb[3,4,5] + 4 Yb[2,5,5] + 3 Yb[4,5,5] + 3 Yb[3,6,5] + 5 Yb[4,6,5] + 6 Yb[4,7,5] + 2 Yb[5,7,5] + 2 Yb[6,7,5] + 5 Yb[1,2,6] + 6 Yb[1,3,6] + 4 Yb[1,4,6] + 4 Yb[2,4,6] + 2 Yb[3,4,6] + 4 Yb[2,5,6] + 3 Yb[4,5,6] + 3 Yb[3,6,6] + 5 Yb[4,6,6] + 6 Yb[4,7,6] + 2 Yb[5,7,6] + 2 Yb[6,7,6]"
      ]
     },
     "execution_count": 20,
     "metadata": {},
     "output_type": "execute_result"
    }
   ],
   "source": [
    "model2 = Model(GLPK.Optimizer)\n",
    "@variable(model2, Yb[1:7,1:7,1:6], Bin);\n",
    "@variable(model2, a2[1:7, 1:6], Bin)\n",
    "@variable(model2, b, Bin)\n",
    "@constraint(model2, [k=1:6], sum(Yb[1, :, k].*A[1, :]) == 1)\n",
    "@constraint(model2, [j=2:6,k=1:6], sum(A[:, j] .* Yb[:, j,k]) <= 7*(1-a2[j,k]))\n",
    "@constraint(model2, [j=2:6,k=1:6], 1-sum(A[j,:].*Yb[j,:,k])<=7*a2[j,k])\n",
    "@constraint(model2, [i=1:7, j=1:7], A[i,j]*sum(Yb[i,j,:]) <= 4)\n",
    "@constraint(model2, 4-sum(A[1,2].*Yb[1,2,:])<=36*(1-b))\n",
    "@constraint(model2, sum(sum(A[:,4].*Yb[:,4,:])+sum(A[4,:].*Yb[4,:,:]))<=36*b)\n",
    "@objective(model2, Min, sum(W.*Yb))\n"
   ]
  },
  {
   "cell_type": "code",
   "execution_count": 21,
   "metadata": {},
   "outputs": [],
   "source": [
    "# solve the programmed optimization model\n",
    "status = optimize!(model2)"
   ]
  },
  {
   "cell_type": "markdown",
   "metadata": {},
   "source": [
    "For the solution in this part, please indicate the \"optimized flow\" on each road of the network, i.e., the total number of people traveling on each road."
   ]
  },
  {
   "cell_type": "code",
   "execution_count": 22,
   "metadata": {},
   "outputs": [
    {
     "data": {
      "text/plain": [
       "7×7×1 Array{Float64,3}:\n",
       "[:, :, 1] =\n",
       " 0.0  4.0  0.0  2.0  0.0  0.0  0.0\n",
       " 0.0  0.0  0.0  0.0  4.0  0.0  0.0\n",
       " 0.0  0.0  0.0  0.0  0.0  0.0  0.0\n",
       " 0.0  0.0  0.0  0.0  0.0  0.0  2.0\n",
       " 0.0  0.0  0.0  0.0  0.0  0.0  4.0\n",
       " 0.0  0.0  0.0  0.0  0.0  0.0  0.0\n",
       " 0.0  0.0  0.0  0.0  0.0  0.0  0.0"
      ]
     },
     "execution_count": 22,
     "metadata": {},
     "output_type": "execute_result"
    }
   ],
   "source": [
    "# print out the solution, please copy the output below as your solution\n",
    "sum(value.(Yb), dims=3)"
   ]
  },
  {
   "cell_type": "code",
   "execution_count": 23,
   "metadata": {},
   "outputs": [
    {
     "data": {
      "text/plain": [
       "64.0"
      ]
     },
     "execution_count": 23,
     "metadata": {},
     "output_type": "execute_result"
    }
   ],
   "source": [
    "# print out the objective value\n",
    "objective_value(model2)"
   ]
  },
  {
   "cell_type": "markdown",
   "metadata": {},
   "source": [
    "## Submission\n",
    "\n",
    "Please copy and paste the solution (the \"0,1\" solution) for part a and b in a separate document, with the format as demonstrated in the homework question. Submit that document along with your HW4 submission to Blackboard.\n",
    "\n",
    "For the program code, please save the current Jupyter notebook and upload it to Blackboard."
   ]
  },
  {
   "cell_type": "code",
   "execution_count": null,
   "metadata": {},
   "outputs": [],
   "source": []
  }
 ],
 "metadata": {
  "kernelspec": {
   "display_name": "Julia 1.1.1",
   "language": "julia",
   "name": "julia-1.1"
  },
  "language_info": {
   "file_extension": ".jl",
   "mimetype": "application/julia",
   "name": "julia",
   "version": "1.1.1"
  },
  "varInspector": {
   "cols": {
    "lenName": 16,
    "lenType": 16,
    "lenVar": 40
   },
   "kernels_config": {
    "python": {
     "delete_cmd_postfix": "",
     "delete_cmd_prefix": "del ",
     "library": "var_list.py",
     "varRefreshCmd": "print(var_dic_list())"
    },
    "r": {
     "delete_cmd_postfix": ") ",
     "delete_cmd_prefix": "rm(",
     "library": "var_list.r",
     "varRefreshCmd": "cat(var_dic_list()) "
    }
   },
   "types_to_exclude": [
    "module",
    "function",
    "builtin_function_or_method",
    "instance",
    "_Feature"
   ],
   "window_display": false
  }
 },
 "nbformat": 4,
 "nbformat_minor": 2
}
