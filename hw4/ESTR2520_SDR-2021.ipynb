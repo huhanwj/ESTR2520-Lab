{
 "cells": [
  {
   "cell_type": "code",
   "execution_count": null,
   "metadata": {},
   "outputs": [],
   "source": [
    "using JuMP\n",
    "using SCS # please install the package SCS with support for SDP\n",
    "using LinearAlgebra\n",
    "using Plots"
   ]
  },
  {
   "cell_type": "markdown",
   "metadata": {},
   "source": [
    "# Testbed: over a single instance\n",
    "\n",
    "Before we compare and benchmark over a large number of random instances, you may test the validity of your program on a single instance first. We begin by specifying the problem dimensions as follows:"
   ]
  },
  {
   "cell_type": "code",
   "execution_count": null,
   "metadata": {},
   "outputs": [],
   "source": [
    "n = 10 # m = n\n",
    "noise_power = 0.2;"
   ]
  },
  {
   "cell_type": "markdown",
   "metadata": {},
   "source": [
    "Next we generate the random $y,A$ and the ground truth binary vector $x_{true} \\in \\{-1,1\\}^n$. "
   ]
  },
  {
   "cell_type": "code",
   "execution_count": null,
   "metadata": {},
   "outputs": [],
   "source": [
    "A = randn(n,n) / sqrt(n); # generate the A matrix\n",
    "x_true = 2*(rand(n) .< 0.5).-1;\n",
    "y = A*x_true + noise_power*randn(n); # generate the observation"
   ]
  },
  {
   "cell_type": "markdown",
   "metadata": {},
   "source": [
    "Now, we have $y,A$ and the ground truth $x_{true}$, and we can try to recover the binary vector x_true.\n",
    "\n",
    "### Brute-force approach:\n",
    "\n",
    "The following function generates a list of all $m$-element binary vectors."
   ]
  },
  {
   "cell_type": "code",
   "execution_count": null,
   "metadata": {},
   "outputs": [],
   "source": [
    "m = 3; list_bin = reverse.(Iterators.product(fill([-1,1],m)...))[:]"
   ]
  },
  {
   "cell_type": "markdown",
   "metadata": {},
   "source": [
    "The elements are given in the tuple format, which can be accessed as an array by"
   ]
  },
  {
   "cell_type": "code",
   "execution_count": null,
   "metadata": {},
   "outputs": [],
   "source": [
    "[i for i in list_bin[1]]"
   ]
  },
  {
   "cell_type": "markdown",
   "metadata": {},
   "source": [
    "With the above code, write a function to compute the brute-force BLS solution as follows:"
   ]
  },
  {
   "cell_type": "code",
   "execution_count": null,
   "metadata": {},
   "outputs": [],
   "source": [
    "# we better write a function here\n",
    "function brute_force_bls( y, A )\n",
    "    n = size(A,1);\n",
    "    # generate all the possible combinations!\n",
    "    list_bin = reverse.(Iterators.product(fill([-1,1],n)...))[:]\n",
    "    # initialize the variable \"x_best\"\n",
    "    x_best = [i for i in list_bin[1]];\n",
    "    # your code here\n",
    "    # tips: you may run a for loop here to go through every combinations generated in \"list_bin\" and save the \n",
    "    #       one with the smallest objective value, The number of combinations in \"list_bin\" is given by 2^n.\n",
    "    #       notice that to compute the norm of a vector \"x\", you may simply type \"norm(x)\"\n",
    "    \n",
    "    return x_best # it should output the best solution found in the list_bin\n",
    "end"
   ]
  },
  {
   "cell_type": "code",
   "execution_count": null,
   "metadata": {},
   "outputs": [],
   "source": [
    "x_bf = brute_force_bls( y, A );"
   ]
  },
  {
   "cell_type": "markdown",
   "metadata": {},
   "source": [
    "We can compute the error relative to x_true."
   ]
  },
  {
   "cell_type": "code",
   "execution_count": null,
   "metadata": {},
   "outputs": [],
   "source": [
    "no_error_bf = sum(abs.(x_bf - x_true)) / 2"
   ]
  },
  {
   "cell_type": "markdown",
   "metadata": {},
   "source": [
    "### SDR Approach\n",
    "- we shall use Julia/JuMP to solve the SDP involved. We first construct the C matrix:"
   ]
  },
  {
   "cell_type": "code",
   "execution_count": null,
   "metadata": {},
   "outputs": [],
   "source": [
    "C = ; # fill in the \"C\" here"
   ]
  },
  {
   "cell_type": "markdown",
   "metadata": {},
   "source": [
    "- Next, we set up the JuMP model using SCS as the solver"
   ]
  },
  {
   "cell_type": "code",
   "execution_count": null,
   "metadata": {},
   "outputs": [],
   "source": [
    "model = Model(SCS.Optimizer);"
   ]
  },
  {
   "cell_type": "markdown",
   "metadata": {},
   "source": [
    "- the variable specification are similar to before. \n",
    "- the diagonal constraint should be enforced such that \n",
    "$$ X_{i,i} = 1,~i=1,...,n+1 $$\n",
    "please refer to the notebook for the Bishop problem to see how to specify $n+1$ constraints in one line.\n",
    "- for $X$ to be PSD, in JuMP, we use the command `@SDconstraint(model, X >= zeros(n+1, n+1));'. For reference, see http://www.juliaopt.org/JuMP.jl/v0.21/constraints/#Semidefinite-constraints-1\n",
    "- in Julia, we use `Tr(X)' to represent the trace of X. "
   ]
  },
  {
   "cell_type": "code",
   "execution_count": null,
   "metadata": {},
   "outputs": [],
   "source": [
    "@variable( model, X[1:n+1,1:n+1] );\n",
    "@SDconstraint(model, X >= zeros(n+1, n+1));\n",
    "##### fill in the constraint and objective here ###\n",
    "\n",
    "###################################################\n",
    "optimize!(model);"
   ]
  },
  {
   "cell_type": "markdown",
   "metadata": {},
   "source": [
    "- Finally, we round off the solution by taking the signs in the last column of X.\n",
    "- Moreover, we can compute the no. of errors made relative to x_true."
   ]
  },
  {
   "cell_type": "code",
   "execution_count": null,
   "metadata": {},
   "outputs": [],
   "source": [
    "x_SDR_sign = sign.(value.(X[1:n,n+1]));\n",
    "no_error_SDR = sum(abs.( x_SDR_sign - x_true)) / 2\n",
    "# remark: the round-off procedure here is different from the randomization technique introduced in the lecture"
   ]
  },
  {
   "cell_type": "markdown",
   "metadata": {},
   "source": [
    "# Actual Simulation over 100 trials across choices of $n$\n",
    "\n",
    "After verifying that your Ordinary LS, and SDR codes work,  you can input the code into the respective sections below. The *average error* performance will then be computed."
   ]
  },
  {
   "cell_type": "code",
   "execution_count": null,
   "metadata": {},
   "outputs": [],
   "source": [
    "n_choice = [5,10,15]\n",
    "noise_power = 0.2; max_trial = 100;\n",
    "\n",
    "store_obj_bf = [];\n",
    "store_obj_sdr = [];\n",
    "\n",
    "for n in n_choice\n",
    "    obj_value_bf = 0;\n",
    "    obj_value_sdr = 0;\n",
    "    for trial = 1:max_trial\n",
    "        A = randn(n,n) / sqrt(n); # generate the A matrix\n",
    "        x_true = 2*(rand(n) .< 0.5).-1;\n",
    "        y = A*x_true + noise_power*randn(n); # generate the observation\n",
    "        \n",
    "        ###### This Block uses the Brute-force #########\n",
    "        x_bf = brute_force_bls( y, A );\n",
    "        \n",
    "        # let the binary solution after round-off be x_ls_sign\n",
    "        obj_value_bf += ; # calculate the obj value wrt x_bf\n",
    "        \n",
    "        ###### This Block uses the SDR ################\n",
    "        C = ; # fill in the C here\n",
    "        model = Model(SCS.Optimizer);\n",
    "        @variable( model, X[1:n+1,1:n+1] );\n",
    "        @SDconstraint(model, X >= zeros(n+1, n+1));\n",
    "        \n",
    "        # your code here \n",
    "        \n",
    "        set_silent(model);\n",
    "        optimize!(model);\n",
    "        \n",
    "        x_sdr_sign = sign.(value.(X[1:n,n+1]));\n",
    "        \n",
    "        # let the binary solution after round-off be x_sdr_sign\n",
    "        obj_value_sdr += ; # calculate the obj value wrt x_sdr_sign\n",
    "    end\n",
    "    # this compute the average error\n",
    "    push!(store_obj_bf, obj_value_bf / (max_trial) );\n",
    "    push!(store_obj_sdr, obj_value_sdr / (max_trial) );\n",
    "end"
   ]
  },
  {
   "cell_type": "code",
   "execution_count": null,
   "metadata": {},
   "outputs": [],
   "source": [
    "# the following code helps you with visualizing the SDR vs Brute-force comparison\n",
    "plot( n_choice, [store_obj_bf,store_obj_sdr], xlabel = \"n=m\", ylabel = \"Objective value\", \n",
    "    label = [\"Brute-force\" \"SDR\"], lw = 3, yaxis=:log , title = \"Comparing avg obj value of Brute-force and SDR\")"
   ]
  },
  {
   "cell_type": "code",
   "execution_count": null,
   "metadata": {},
   "outputs": [],
   "source": []
  },
  {
   "cell_type": "code",
   "execution_count": null,
   "metadata": {},
   "outputs": [],
   "source": []
  }
 ],
 "metadata": {
  "kernelspec": {
   "display_name": "Julia 1.1.1",
   "language": "julia",
   "name": "julia-1.1"
  },
  "language_info": {
   "file_extension": ".jl",
   "mimetype": "application/julia",
   "name": "julia",
   "version": "1.1.1"
  },
  "varInspector": {
   "cols": {
    "lenName": 16,
    "lenType": 16,
    "lenVar": 40
   },
   "kernels_config": {
    "python": {
     "delete_cmd_postfix": "",
     "delete_cmd_prefix": "del ",
     "library": "var_list.py",
     "varRefreshCmd": "print(var_dic_list())"
    },
    "r": {
     "delete_cmd_postfix": ") ",
     "delete_cmd_prefix": "rm(",
     "library": "var_list.r",
     "varRefreshCmd": "cat(var_dic_list()) "
    }
   },
   "types_to_exclude": [
    "module",
    "function",
    "builtin_function_or_method",
    "instance",
    "_Feature"
   ],
   "window_display": false
  }
 },
 "nbformat": 4,
 "nbformat_minor": 2
}
