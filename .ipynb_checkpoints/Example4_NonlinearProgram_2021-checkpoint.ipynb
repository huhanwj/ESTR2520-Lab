{
 "cells": [
  {
   "cell_type": "code",
   "execution_count": 2,
   "metadata": {},
   "outputs": [],
   "source": [
    "# we use the following optimization packages\n",
    "using JuMP, ECOS, Juniper, Ipopt\n",
    "# some standard package of Linear algebra is also needed \n",
    "using LinearAlgebra"
   ]
  },
  {
   "cell_type": "markdown",
   "metadata": {},
   "source": [
    "## Lab 3: Solving Nonlinear Program with Integer/Constraints\n",
    "\n",
    "In this laboratory, we will demonstrate how to implement and solve a (constrained) nonlinear program in Julia/JuMP. The techniques introduced should be helpful for the practical project!\n",
    "\n",
    "To motivate the following optimization formulations, we consider the problem of recovering an 4-dimensional vector $x$ from an underdetermined system of linear equations:\n",
    "\n",
    "$$ y = A \\bar{x} ~~~\\text{where}~~~y \\in \\mathbb{R}^m,~A \\in \\mathbb{R}^{m \\times n} $$\n",
    "\n",
    "More concretely, set $m = 4$, $n=8$ such that the system of equations has more *unknowns* than *equations*. We set \n",
    "\n",
    "$$ A = \\left( \\begin{array}{cccccccc} \n",
    "1 & 0 & 0 & 4 & 3 & 2 & 0 & 1 \\\\\n",
    "2 & 3 & 1 & -2 & 2 & 1 & 0 & -2 \\\\\n",
    "6 & -2 & 0 & 1 & 0 & 0 & 2 & 3 \\\\\n",
    "2 & 9 & 1 & 6 & -1 & -1 & 1 & 0\n",
    "\\end{array} \\right) ,~~\\bar{x} = \\left( \\begin{array}{c} \n",
    "-3 \\\\ 0 \\\\ 0 \\\\ 10 \\\\ 1 \\\\ 0 \\\\ 0 \\\\ 0\n",
    "\\end{array} \\right),~~\n",
    "y = A \\bar{x} = \\left( \\begin{array}{c} \n",
    "40 \\\\ -24 \\\\ -8 \\\\ 53\n",
    "\\end{array} \\right) $$\n",
    "\n",
    "Our task is to recover $\\bar{x}$, given that we only know $y, A$. Let us first program the matrices/vectors as follows:"
   ]
  },
  {
   "cell_type": "code",
   "execution_count": 3,
   "metadata": {},
   "outputs": [],
   "source": [
    "m = 4; n = 8; \n",
    "A = [ 1 0 0 4 3 2 0 1; \n",
    "    2 3 1 -2 2 1 0 -2;\n",
    "    6 -2 0 1 0 0 2 3;\n",
    "    2 9 1 6 -1 -1 1 0]\n",
    "barx = [ -3; 0; 0; 10; 1; 0; 0; 0];\n",
    "y = A*barx;"
   ]
  },
  {
   "cell_type": "markdown",
   "metadata": {},
   "source": [
    "As there are more unknowns than the number of equations in the system $y = Ax$. In general, it is difficult to retrieve $\\bar{x}$ since the system has more than one solution. \n",
    "\n",
    "In the following, we are going to tackle two formulations related to recovering $\\bar{x}$ using different constrained nonlinear program formulations."
   ]
  },
  {
   "cell_type": "markdown",
   "metadata": {},
   "source": [
    "## Task 1: Solving Underdetermined System using NLP with a \"Cardinality\" constraint\n",
    "\n",
    "As a remedy, we observe from the above that (i) $\\bar{x}$ is a \"sparse\" vector with at most 3 non-zeros, and (ii) it is bounded between $-10$ and $10$. \n",
    "\n",
    "With this in mind, we consider the following optimization:\n",
    "\n",
    "$$ \\min_{ x \\in \\mathbb{R}^n } (y-Ax)^\\top (y-Ax) ~~~\\text{s.t.}~~~ -10 \\leq x_i \\leq 10,~i=1,...,n,~~\\text{(no. of non-zeros in $x$)} \\leq 3. $$\n",
    "\n",
    "The above can be reformulated as a *mixed-integer* nonlinear program:\n",
    "\n",
    "$$ \\begin{array}{rl} \\min_{ x \\in \\mathbb{R}^n, z \\in \\{0,1\\}^n } & (y-Ax)^\\top (y-Ax) \\\\\n",
    "\\text{s.t.} & -10 \\leq x_i \\leq 10,~i=1,...,n, \\\\\n",
    "& x_i \\leq 10 z_i,~-x_i \\leq 10 z_i,~i=1,...,n, \\\\\n",
    "& \\sum_{i=1}^n z_i \\leq 3. \\end{array} $$\n",
    "\n",
    "Notice that the reformulation in the above is similar to what we learnt in the class. The problem can be further simplified as \n",
    "\n",
    "$$ \\begin{array}{rl} \\min_{ p \\in \\mathbb{R}^m, x \\in \\mathbb{R}^n, z \\in \\{0,1\\}^n } & \\sum_{i=1}^m p_i^2 \\\\\n",
    "\\text{s.t.} & x_i \\leq 10 z_i,~-x_i \\leq 10 z_i,~i=1,...,n, \\\\\n",
    "& \\sum_{i=1}^n z_i \\leq 3, p = y - Ax. \\end{array} $$\n",
    "\n",
    "The above problem is a mixed-integer nonlinear program, in which the only nonlinearity stems from the objective function. \n",
    "\n",
    "We are going to use the solver called \"Juniper\" that is suitable for MI-NLP. "
   ]
  },
  {
   "cell_type": "code",
   "execution_count": 4,
   "metadata": {},
   "outputs": [],
   "source": [
    "nl_solver = optimizer_with_attributes(Ipopt.Optimizer, \"print_level\"=>0)\n",
    "optimizer = Juniper.Optimizer\n",
    "model = Model(optimizer_with_attributes(optimizer, \"nl_solver\"=>nl_solver, \"atol\"=>1e-10));\n",
    "\n",
    "@variable( model, z[1:n], Bin )\n",
    "@variable( model, x[1:n] )\n",
    "@variable( model, p[1:m] )\n",
    "for i = 1 : n\n",
    "    @constraint( model, x[i] <= 10*z[i] )\n",
    "    @constraint( model, -x[i] <= 10*z[i] )\n",
    "end\n",
    "@constraint( model, sum(z) <= 3 )\n",
    "@constraint( model, p .== y - A*x )\n",
    "@NLobjective( model, Min, sum(p[i]^2 for i=1:m))"
   ]
  },
  {
   "cell_type": "markdown",
   "metadata": {},
   "source": [
    "In the above, most of the syntaxes used are similar to the previous labs/HWs, which should now be familiar to you. However, you should pay special attention to the use of \"$\\texttt{NLObjective}$ which specifies that the objective function is nonlinear. This is a command specific to Juniper for tackling nonlinear programs. \n",
    "\n",
    "Next, let us print the model out and verify that we have formulated the right optimization problem:"
   ]
  },
  {
   "cell_type": "code",
   "execution_count": 5,
   "metadata": {},
   "outputs": [
    {
     "name": "stdout",
     "output_type": "stream",
     "text": [
      "Min p[1] ^ 2.0 + p[2] ^ 2.0 + p[3] ^ 2.0 + p[4] ^ 2.0\n",
      "Subject to\n",
      " x[1] + 4 x[4] + 3 x[5] + 2 x[6] + x[8] + p[1] = 40.0\n",
      " 2 x[1] + 3 x[2] + x[3] - 2 x[4] + 2 x[5] + x[6] - 2 x[8] + p[2] = -24.0\n",
      " 6 x[1] - 2 x[2] + x[4] + 2 x[7] + 3 x[8] + p[3] = -8.0\n",
      " 2 x[1] + 9 x[2] + x[3] + 6 x[4] - x[5] - x[6] + x[7] + p[4] = 53.0\n",
      " -10 z[1] + x[1] ≤ 0.0\n",
      " -10 z[1] - x[1] ≤ 0.0\n",
      " -10 z[2] + x[2] ≤ 0.0\n",
      " -10 z[2] - x[2] ≤ 0.0\n",
      " -10 z[3] + x[3] ≤ 0.0\n",
      " -10 z[3] - x[3] ≤ 0.0\n",
      " -10 z[4] + x[4] ≤ 0.0\n",
      " -10 z[4] - x[4] ≤ 0.0\n",
      " -10 z[5] + x[5] ≤ 0.0\n",
      " -10 z[5] - x[5] ≤ 0.0\n",
      " -10 z[6] + x[6] ≤ 0.0\n",
      " -10 z[6] - x[6] ≤ 0.0\n",
      " -10 z[7] + x[7] ≤ 0.0\n",
      " -10 z[7] - x[7] ≤ 0.0\n",
      " -10 z[8] + x[8] ≤ 0.0\n",
      " -10 z[8] - x[8] ≤ 0.0\n",
      " z[1] + z[2] + z[3] + z[4] + z[5] + z[6] + z[7] + z[8] ≤ 3.0\n",
      " z[1] binary\n",
      " z[2] binary\n",
      " z[3] binary\n",
      " z[4] binary\n",
      " z[5] binary\n",
      " z[6] binary\n",
      " z[7] binary\n",
      " z[8] binary\n"
     ]
    }
   ],
   "source": [
    "print(model)"
   ]
  },
  {
   "cell_type": "code",
   "execution_count": 6,
   "metadata": {},
   "outputs": [
    {
     "name": "stdout",
     "output_type": "stream",
     "text": [
      "atol              : 1.0e-10\n",
      "nl_solver         : MathOptInterface.OptimizerWithAttributes(Ipopt.Optimizer, Pair{MathOptInterface.AbstractOptimizerAttribute,Any}[RawParameter(\"print_level\")=>0])\n",
      "feasibility_pump  : false\n",
      "log_levels        : Symbol[:Options, :Table, :Info]\n",
      "\n",
      "#Variables: 20\n",
      "#IntBinVar: 8\n",
      "#Constraints: 21\n",
      "#Linear Constraints: 21\n",
      "#Quadratic Constraints: 0\n",
      "#NonLinear Constraints: 0\n",
      "Obj Sense: Min\n",
      "\n",
      "\n",
      "******************************************************************************\n",
      "This program contains Ipopt, a library for large-scale nonlinear optimization.\n",
      " Ipopt is released as open source code under the Eclipse Public License (EPL).\n",
      "         For more information visit http://projects.coin-or.org/Ipopt\n",
      "******************************************************************************\n",
      "\n",
      "Incumbent using start values: 5048.999977199866\n",
      "Status of relaxation: LOCALLY_SOLVED\n",
      "Time for relaxation: 16.576091051101685\n",
      "Relaxation Obj: 4.871607767017558e-19\n",
      "\n",
      " ONodes   CLevel          Incumbent                   BestBound            Gap    Time   Restarts  GainGap  \n",
      "============================================================================================================\n",
      "    2       2               5049.0                       0.0             100.0%   1.6       0         -     \n",
      "    3       3               5049.0                       0.0             100.0%   2.2       -       77.7%   \n",
      "    4       4               5049.0                       0.0             100.0%   2.2       -       100.0%  \n",
      "    5       5               5049.0                       0.0             100.0%   2.3       -       100.0%  \n",
      "    6       6               5049.0                       0.0             100.0%   2.3       -       100.0%  \n",
      "    7       4               5049.0                       0.0             100.0%   2.3       -        5.8%   \n",
      "    8       5               5049.0                       0.0             100.0%   2.4       -       100.0%  \n",
      "    9       6               5049.0                       0.0             100.0%   2.4       -       100.0%  \n",
      "   10       7               5049.0                       0.0             100.0%   2.4       -       100.0%  \n",
      "   11       7               5049.0                       0.0             100.0%   2.5       -       97.6%   \n",
      "   11       7               5049.0                       0.0             100.0%   2.5       -         >>    \n",
      "   11       8               5049.0                       0.0             100.0%   2.6       -       100.0%  \n",
      "    0       9               1.7e-9                      1.7e-9            0.2%    2.6       -       100.0%  \n",
      "\n",
      "#branches: 13\n",
      "Obj: 1.6909247198663935e-9\n"
     ]
    }
   ],
   "source": [
    "optimize!(model)"
   ]
  },
  {
   "cell_type": "markdown",
   "metadata": {},
   "source": [
    "We can now inspect if the correct solution is found as follows"
   ]
  },
  {
   "cell_type": "code",
   "execution_count": 7,
   "metadata": {},
   "outputs": [
    {
     "data": {
      "text/plain": [
       "8-element Array{Float64,1}:\n",
       " -2.999997669186949     \n",
       "  2.640884402008824e-11 \n",
       "  1.5383110752450906e-12\n",
       "  9.99999417294484      \n",
       "  1.0000000000087825    \n",
       " -5.12769633041031e-13  \n",
       "  1.5383398714813575e-12\n",
       "  3.204927008484469e-12 "
      ]
     },
     "execution_count": 7,
     "metadata": {},
     "output_type": "execute_result"
    }
   ],
   "source": [
    "value.(x)"
   ]
  },
  {
   "cell_type": "markdown",
   "metadata": {},
   "source": [
    "We can see that they are quite close to the original $\\bar{x}$. "
   ]
  },
  {
   "cell_type": "markdown",
   "metadata": {},
   "source": [
    "## Task 2: Solving Underdetermined System with Abs-value constraint as an SOCP\n",
    "\n",
    "The mixed integer program formulation examined in Task 1 may blow up in terms of complexity, especially if $n$ is large. As a remedy, people have studied the following problem:\n",
    "\n",
    "$$ \n",
    "\\min_{x \\in \\mathbb{R}^n}~(y-Ax)^\\top (y-Ax)~~\\text{s.t.}~~-10 \\leq x_i \\leq 10,~i=1,...,n,~\\sum_{i=1}^n |x_i| \\leq 14.\n",
    "$$\n",
    "\n",
    "where we have replaced the cardinality constraint \"no of non-zeros in $x$ must be less than or equal to 3\" by an absolute value constraint $\\sum_{i=1}^n |x_i| \\leq 14$ (a.k.a. an \"L1\" constraint).\n",
    "\n",
    "It can be verified that the above problem is a convex optimization problem. To this end, one may be tempted to simply program it into Julia and solve it directly:"
   ]
  },
  {
   "cell_type": "code",
   "execution_count": 8,
   "metadata": {},
   "outputs": [
    {
     "name": "stdout",
     "output_type": "stream",
     "text": [
      "Min 45 x_w[1]² + 36 x_w[4]*x_w[1] + 10 x_w[5]*x_w[1] + 4 x_w[6]*x_w[1] + 30 x_w[8]*x_w[1] + 57 x_w[4]² + 4 x_w[5]*x_w[4] + 22 x_w[8]*x_w[4] + 14 x_w[5]² + 18 x_w[6]*x_w[5] - 2 x_w[8]*x_w[5] + 6 x_w[6]² + 14 x_w[8]² + 24 x_w[2]*x_w[1] + 8 x_w[3]*x_w[1] + 94 x_w[2]² + 24 x_w[3]*x_w[2] + 92 x_w[4]*x_w[2] - 6 x_w[5]*x_w[2] - 12 x_w[6]*x_w[2] - 24 x_w[8]*x_w[2] + 2 x_w[3]² + 8 x_w[4]*x_w[3] + 2 x_w[5]*x_w[3] - 4 x_w[8]*x_w[3] + 28 x_w[7]*x_w[1] + 10 x_w[7]*x_w[2] + 16 x_w[7]*x_w[4] + 5 x_w[7]² + 12 x_w[8]*x_w[7] + 2 x_w[7]*x_w[3] - 2 x_w[7]*x_w[5] - 2 x_w[7]*x_w[6] - 100 x_w[1] - 1036 x_w[4] - 38 x_w[5] - 6 x_w[6] - 128 x_w[8] - 842 x_w[2] - 58 x_w[3] - 74 x_w[7] + 5049\n",
      "Subject to\n",
      " x_w[1] ∈ [-10.0, 10.0]\n",
      " x_w[2] ∈ [-10.0, 10.0]\n",
      " x_w[3] ∈ [-10.0, 10.0]\n",
      " x_w[4] ∈ [-10.0, 10.0]\n",
      " x_w[5] ∈ [-10.0, 10.0]\n",
      " x_w[6] ∈ [-10.0, 10.0]\n",
      " x_w[7] ∈ [-10.0, 10.0]\n",
      " x_w[8] ∈ [-10.0, 10.0]\n",
      " (abs(x_w[1]) + abs(x_w[2]) + abs(x_w[3]) + abs(x_w[4]) + abs(x_w[5]) + abs(x_w[6]) + abs(x_w[7]) + abs(x_w[8])) - 14.0 ≤ 0\n"
     ]
    }
   ],
   "source": [
    "model_wrong = Model(ECOS.Optimizer)\n",
    "set_optimizer_attribute(model_wrong, \"verbose\", true)\n",
    "@variable(model_wrong, x_w[1:n]);\n",
    "@objective(model_wrong, Min, dot(y-A*x_w,y-A*x_w));\n",
    "for i = 1 : n\n",
    "    @constraint(model_wrong, -10 <= x_w[i] <= 10);\n",
    "end\n",
    "@NLconstraint(model_wrong, sum(abs(x_w[i]) for i = 1:n) <= 14 )\n",
    "print(model_wrong)"
   ]
  },
  {
   "cell_type": "markdown",
   "metadata": {},
   "source": [
    "It may seem fine that the problem is well recognized by Julia, but it doesn't work if we try to solve it:"
   ]
  },
  {
   "cell_type": "code",
   "execution_count": 9,
   "metadata": {},
   "outputs": [
    {
     "ename": "ErrorException",
     "evalue": "The optimizer supports second-order cone constraints and not quadratic constraints but you entered a quadratic constraint of type: `MathOptInterface.ScalarQuadraticFunction{Float64}`-in-`MathOptInterface.LessThan{Float64}`. A bridge attempted to transform the quadratic constraint to a second order cone constraint but the constraint is not strongly convex, i.e., the symmetric matrix of quadratic coefficients is not positive definite. Convex constraints that are not strongly convex, i.e. the matrix is positive semidefinite but not positive definite, are not supported yet.",
     "output_type": "error",
     "traceback": [
      "The optimizer supports second-order cone constraints and not quadratic constraints but you entered a quadratic constraint of type: `MathOptInterface.ScalarQuadraticFunction{Float64}`-in-`MathOptInterface.LessThan{Float64}`. A bridge attempted to transform the quadratic constraint to a second order cone constraint but the constraint is not strongly convex, i.e., the symmetric matrix of quadratic coefficients is not positive definite. Convex constraints that are not strongly convex, i.e. the matrix is positive semidefinite but not positive definite, are not supported yet.",
      "",
      "Stacktrace:",
      " [1] error(::String, ::String, ::String, ::String, ::String, ::String, ::String, ::String, ::String, ::String) at ./error.jl:42",
      " [2] bridge_constraint(::Type{MathOptInterface.Bridges.Constraint.QuadtoSOCBridge{Float64}}, ::MathOptInterface.Bridges.LazyBridgeOptimizer{MathOptInterface.Utilities.CachingOptimizer{ECOS.Optimizer,MathOptInterface.Utilities.UniversalFallback{MathOptInterface.Utilities.Model{Float64}}}}, ::MathOptInterface.ScalarQuadraticFunction{Float64}, ::MathOptInterface.LessThan{Float64}) at /Users/han/.julia/packages/MathOptInterface/5WwpK/src/Bridges/Constraint/quad_to_soc.jl:81",
      " [3] add_bridged_constraint(::MathOptInterface.Bridges.LazyBridgeOptimizer{MathOptInterface.Utilities.CachingOptimizer{ECOS.Optimizer,MathOptInterface.Utilities.UniversalFallback{MathOptInterface.Utilities.Model{Float64}}}}, ::Type, ::MathOptInterface.ScalarQuadraticFunction{Float64}, ::MathOptInterface.LessThan{Float64}) at /Users/han/.julia/packages/MathOptInterface/5WwpK/src/Bridges/bridge_optimizer.jl:1271",
      " [4] add_constraint(::MathOptInterface.Bridges.LazyBridgeOptimizer{MathOptInterface.Utilities.CachingOptimizer{ECOS.Optimizer,MathOptInterface.Utilities.UniversalFallback{MathOptInterface.Utilities.Model{Float64}}}}, ::MathOptInterface.ScalarQuadraticFunction{Float64}, ::MathOptInterface.LessThan{Float64}) at /Users/han/.julia/packages/MathOptInterface/5WwpK/src/Bridges/bridge_optimizer.jl:1343",
      " [5] #normalize_and_add_constraint#132(::Bool, ::Function, ::MathOptInterface.Bridges.LazyBridgeOptimizer{MathOptInterface.Utilities.CachingOptimizer{ECOS.Optimizer,MathOptInterface.Utilities.UniversalFallback{MathOptInterface.Utilities.Model{Float64}}}}, ::MathOptInterface.ScalarQuadraticFunction{Float64}, ::MathOptInterface.LessThan{Float64}) at /Users/han/.julia/packages/MathOptInterface/5WwpK/src/Utilities/constraints.jl:19",
      " [6] normalize_and_add_constraint(::MathOptInterface.Bridges.LazyBridgeOptimizer{MathOptInterface.Utilities.CachingOptimizer{ECOS.Optimizer,MathOptInterface.Utilities.UniversalFallback{MathOptInterface.Utilities.Model{Float64}}}}, ::MathOptInterface.ScalarQuadraticFunction{Float64}, ::MathOptInterface.LessThan{Float64}) at /Users/han/.julia/packages/MathOptInterface/5WwpK/src/Utilities/constraints.jl:19",
      " [7] bridge_objective(::Type{MathOptInterface.Bridges.Objective.SlackBridge{Float64,MathOptInterface.ScalarQuadraticFunction{Float64},MathOptInterface.ScalarQuadraticFunction{Float64}}}, ::MathOptInterface.Bridges.LazyBridgeOptimizer{MathOptInterface.Utilities.CachingOptimizer{ECOS.Optimizer,MathOptInterface.Utilities.UniversalFallback{MathOptInterface.Utilities.Model{Float64}}}}, ::MathOptInterface.ScalarQuadraticFunction{Float64}) at /Users/han/.julia/packages/MathOptInterface/5WwpK/src/Bridges/Objective/slack.jl:42",
      " [8] _bridge_objective(::MathOptInterface.Bridges.LazyBridgeOptimizer{MathOptInterface.Utilities.CachingOptimizer{ECOS.Optimizer,MathOptInterface.Utilities.UniversalFallback{MathOptInterface.Utilities.Model{Float64}}}}, ::DataType, ::MathOptInterface.ScalarQuadraticFunction{Float64}) at /Users/han/.julia/packages/MathOptInterface/5WwpK/src/Bridges/bridge_optimizer.jl:854",
      " [9] set(::MathOptInterface.Bridges.LazyBridgeOptimizer{MathOptInterface.Utilities.CachingOptimizer{ECOS.Optimizer,MathOptInterface.Utilities.UniversalFallback{MathOptInterface.Utilities.Model{Float64}}}}, ::MathOptInterface.ObjectiveFunction{MathOptInterface.ScalarQuadraticFunction{Float64}}, ::MathOptInterface.ScalarQuadraticFunction{Float64}) at /Users/han/.julia/packages/MathOptInterface/5WwpK/src/Bridges/bridge_optimizer.jl:890",
      " [10] _pass_attributes(::MathOptInterface.Bridges.LazyBridgeOptimizer{MathOptInterface.Utilities.CachingOptimizer{ECOS.Optimizer,MathOptInterface.Utilities.UniversalFallback{MathOptInterface.Utilities.Model{Float64}}}}, ::MathOptInterface.Utilities.UniversalFallback{MathOptInterface.Utilities.Model{Float64}}, ::MathOptInterface.Utilities.IndexMap, ::Array{MathOptInterface.AbstractModelAttribute,1}, ::Tuple{}, ::Tuple{}, ::Tuple{}, ::Function) at /Users/han/.julia/packages/MathOptInterface/5WwpK/src/Utilities/copy.jl:295",
      " [11] pass_attributes at /Users/han/.julia/packages/MathOptInterface/5WwpK/src/Utilities/copy.jl:201 [inlined]",
      " [12] pass_attributes at /Users/han/.julia/packages/MathOptInterface/5WwpK/src/Utilities/copy.jl:197 [inlined]",
      " [13] default_copy_to(::MathOptInterface.Bridges.LazyBridgeOptimizer{MathOptInterface.Utilities.CachingOptimizer{ECOS.Optimizer,MathOptInterface.Utilities.UniversalFallback{MathOptInterface.Utilities.Model{Float64}}}}, ::MathOptInterface.Utilities.UniversalFallback{MathOptInterface.Utilities.Model{Float64}}, ::Bool, ::Nothing) at /Users/han/.julia/packages/MathOptInterface/5WwpK/src/Utilities/copy.jl:649",
      " [14] #automatic_copy_to#135 at /Users/han/.julia/packages/MathOptInterface/5WwpK/src/Utilities/copy.jl:24 [inlined]",
      " [15] #automatic_copy_to at ./none:0 [inlined]",
      " [16] #copy_to#3 at /Users/han/.julia/packages/MathOptInterface/5WwpK/src/Bridges/bridge_optimizer.jl:324 [inlined]",
      " [17] (::getfield(MathOptInterface, Symbol(\"#kw##copy_to\")))(::NamedTuple{(:copy_names,),Tuple{Bool}}, ::typeof(MathOptInterface.copy_to), ::MathOptInterface.Bridges.LazyBridgeOptimizer{MathOptInterface.Utilities.CachingOptimizer{ECOS.Optimizer,MathOptInterface.Utilities.UniversalFallback{MathOptInterface.Utilities.Model{Float64}}}}, ::MathOptInterface.Utilities.UniversalFallback{MathOptInterface.Utilities.Model{Float64}}) at ./none:0",
      " [18] attach_optimizer(::MathOptInterface.Utilities.CachingOptimizer{MathOptInterface.AbstractOptimizer,MathOptInterface.Utilities.UniversalFallback{MathOptInterface.Utilities.Model{Float64}}}) at /Users/han/.julia/packages/MathOptInterface/5WwpK/src/Utilities/cachingoptimizer.jl:171",
      " [19] optimize!(::MathOptInterface.Utilities.CachingOptimizer{MathOptInterface.AbstractOptimizer,MathOptInterface.Utilities.UniversalFallback{MathOptInterface.Utilities.Model{Float64}}}) at /Users/han/.julia/packages/MathOptInterface/5WwpK/src/Utilities/cachingoptimizer.jl:233",
      " [20] #optimize!#102(::Bool, ::Bool, ::Base.Iterators.Pairs{Union{},Union{},Tuple{},NamedTuple{(),Tuple{}}}, ::Function, ::Model, ::Nothing) at /Users/han/.julia/packages/JuMP/qhoVb/src/optimizer_interface.jl:130",
      " [21] optimize! at /Users/han/.julia/packages/JuMP/qhoVb/src/optimizer_interface.jl:106 [inlined] (repeats 2 times)",
      " [22] top-level scope at In[9]:1"
     ]
    }
   ],
   "source": [
    "status = optimize!(model_wrong)"
   ]
  },
  {
   "cell_type": "markdown",
   "metadata": {},
   "source": [
    "#### Second Order Cone Programming\n",
    "\n",
    "We first recall that an SOCP problem is given in the form of\n",
    "\n",
    "$$ \\begin{array}{rl} \n",
    "\\min_{x \\in \\mathbb{R}^n} & c^\\top x \\\\\n",
    "\\text{s.t.} & \\sqrt{ (A_i x + b_i)^\\top (A_i x + b_i) } \\leq c_i^\\top x + d_i,~i=1,...,m \n",
    "\\end{array} $$\n",
    "\n",
    "Note that $\\| A_i x + b_i \\| = \\sqrt{ (A_i x + b_i)^\\top (A_i x + b_i) }$ is the Euclidean norm of $A_i x + b_i$. This problem can be solved by the solver called \"ECOS\".\n",
    "\n",
    "### Reformulating the constrained NLP into an SOCP\n",
    "\n",
    "Now, recall that we have\n",
    "\n",
    "$$ \n",
    "\\min_{x \\in \\mathbb{R}^n}~(y-Ax)^\\top (y-Ax)~~\\text{s.t.}~~-10 \\leq x_i \\leq 10,~i=1,...,n,~\\sum_{i=1}^n |x_i| \\leq 14.\n",
    "$$\n",
    "\n",
    "For the above NLP that we can want to solve, there are two sources of non-conformity with the SOCP requirements: (i) the objective function is not linear, (ii) there is a constraint with absolute value. We can transform the problem into the following SOCP:\n",
    "\n",
    "$$ \\begin{array}{rl} \\min_{ x \\in \\mathbb{R}^n, t \\in \\mathbb{R}^n, z } & z \\\\\n",
    "\\text{s.t.} & z \\geq \\| y-Ax \\|,~\\sum_{i=1}^n t_i \\leq 14, \\\\\n",
    "& ~-10 \\leq x_i \\leq 10,~x_i \\leq t_i,~-x_i \\leq t_i,~i=1,...,n.\n",
    "\\end{array} $$\n",
    "\n",
    "where we have used the simple observation that minimizing $(y-Ax)^\\top (y-Ax)$ is equivalent to minimizing $\\| y-Ax \\|$.\n",
    "\n",
    "We are now ready to model the problem using JuMP."
   ]
  },
  {
   "cell_type": "code",
   "execution_count": 10,
   "metadata": {},
   "outputs": [],
   "source": [
    "model_socp = Model(ECOS.Optimizer);\n",
    "@variable( model_socp, x_socp[1:n] )\n",
    "@variable( model_socp, t[1:n] )\n",
    "@variable( model_socp, z )\n",
    "for i = 1 : n\n",
    "    @constraint( model_socp, -10 <= x_socp[i] <= 10 )\n",
    "    @constraint( model_socp, x_socp[i] <= t[i] )\n",
    "    @constraint( model_socp, -x_socp[i] <= t[i] )\n",
    "end\n",
    "@constraint( model_socp, sum(t) <= 14 )\n",
    "\n",
    "@constraint( model_socp, [z; y-A*x_socp] in SecondOrderCone());\n",
    "\n",
    "@objective( model_socp, Min, z);"
   ]
  },
  {
   "cell_type": "markdown",
   "metadata": {},
   "source": [
    "Again, most of the above codes should be familiar for you. Notice that to model the SOC constraint given in the form\n",
    "\n",
    "$$ \\| y - A x_{socp} \\| \\leq z, $$\n",
    "\n",
    "we have used\n",
    "\n",
    "$$ \\texttt{ @constraint( model_socp, [ z ; y-A*x_socp ] in SecondOrderCone() ) } $$\n",
    "\n",
    "It is instrumental to take a look at the programmed problem below:"
   ]
  },
  {
   "cell_type": "code",
   "execution_count": 11,
   "metadata": {},
   "outputs": [
    {
     "name": "stdout",
     "output_type": "stream",
     "text": [
      "Min z\n",
      "Subject to\n",
      " x_socp[1] - t[1] ≤ 0.0\n",
      " -x_socp[1] - t[1] ≤ 0.0\n",
      " x_socp[2] - t[2] ≤ 0.0\n",
      " -x_socp[2] - t[2] ≤ 0.0\n",
      " x_socp[3] - t[3] ≤ 0.0\n",
      " -x_socp[3] - t[3] ≤ 0.0\n",
      " x_socp[4] - t[4] ≤ 0.0\n",
      " -x_socp[4] - t[4] ≤ 0.0\n",
      " x_socp[5] - t[5] ≤ 0.0\n",
      " -x_socp[5] - t[5] ≤ 0.0\n",
      " x_socp[6] - t[6] ≤ 0.0\n",
      " -x_socp[6] - t[6] ≤ 0.0\n",
      " x_socp[7] - t[7] ≤ 0.0\n",
      " -x_socp[7] - t[7] ≤ 0.0\n",
      " x_socp[8] - t[8] ≤ 0.0\n",
      " -x_socp[8] - t[8] ≤ 0.0\n",
      " t[1] + t[2] + t[3] + t[4] + t[5] + t[6] + t[7] + t[8] ≤ 14.0\n",
      " x_socp[1] ∈ [-10.0, 10.0]\n",
      " x_socp[2] ∈ [-10.0, 10.0]\n",
      " x_socp[3] ∈ [-10.0, 10.0]\n",
      " x_socp[4] ∈ [-10.0, 10.0]\n",
      " x_socp[5] ∈ [-10.0, 10.0]\n",
      " x_socp[6] ∈ [-10.0, 10.0]\n",
      " x_socp[7] ∈ [-10.0, 10.0]\n",
      " x_socp[8] ∈ [-10.0, 10.0]\n",
      " [z, -x_socp[1] - 4 x_socp[4] - 3 x_socp[5] - 2 x_socp[6] - x_socp[8] + 40, -2 x_socp[1] - 3 x_socp[2] - x_socp[3] + 2 x_socp[4] - 2 x_socp[5] - x_socp[6] + 2 x_socp[8] - 24, -6 x_socp[1] + 2 x_socp[2] - x_socp[4] - 2 x_socp[7] - 3 x_socp[8] - 8, -2 x_socp[1] - 9 x_socp[2] - x_socp[3] - 6 x_socp[4] + x_socp[5] + x_socp[6] - x_socp[7] + 53] ∈ MathOptInterface.SecondOrderCone(5)\n"
     ]
    }
   ],
   "source": [
    "print(model_socp)"
   ]
  },
  {
   "cell_type": "code",
   "execution_count": null,
   "metadata": {},
   "outputs": [],
   "source": [
    "status = optimize!(model_socp)"
   ]
  },
  {
   "cell_type": "markdown",
   "metadata": {},
   "source": [
    "Again, we see that the recovered solution is quite close to the original $\\bar{x}$:"
   ]
  },
  {
   "cell_type": "code",
   "execution_count": null,
   "metadata": {},
   "outputs": [],
   "source": [
    "value.(x_socp)"
   ]
  },
  {
   "cell_type": "markdown",
   "metadata": {},
   "source": [
    "## In-class/After-class Exercise\n",
    "\n",
    "From the above demonstrations, we observe that the cardinality constrained formulation, and the absolute-value constrained formulation have performed relatively well. To this end, one may question if this is purely by luck that the two formulation works. In particular, is it possible to simply adopt a formulation with the cardinality/absolute value constraints? In this after-class exercise, we will implement other formulations to confirm that the cardinality/absolute value constraints are actually useful in this case.\n",
    "\n",
    "The first optimization problem we will explore is as follows:\n",
    "\n",
    "$$ \\min_{ x \\in \\mathbb{R}^n }~(y-Ax)^\\top (y-Ax)~~~\\text{s.t.}~~~~-10 \\leq x_i \\leq 10,~i=1,...,n. $$\n",
    "\n",
    "As we have done before, it can be easily transformed into an SOCP as follows:\n",
    "\n",
    "$$ \\min_{ x \\in \\mathbb{R}^n , z \\in \\mathbb{R} }~z~~~\\text{s.t.}~~~~z \\geq \\| y - Ax \\|,~-10 \\leq x_i \\leq 10,~i=1,...,n. $$\n",
    "\n",
    "Now, implement the above problem in Julia/JuMP:"
   ]
  },
  {
   "cell_type": "code",
   "execution_count": null,
   "metadata": {},
   "outputs": [],
   "source": [
    "model_after1 = Model( ECOS.Optimizer )\n",
    "# your code here"
   ]
  },
  {
   "cell_type": "code",
   "execution_count": null,
   "metadata": {},
   "outputs": [],
   "source": [
    "status = optimize!( model_after1 )"
   ]
  },
  {
   "cell_type": "code",
   "execution_count": null,
   "metadata": {},
   "outputs": [],
   "source": [
    "value.(x_after1)"
   ]
  },
  {
   "cell_type": "markdown",
   "metadata": {},
   "source": [
    "We can see that the solution recovered is quite far away from the ground truth. Let us try one more formulation:\n",
    "\n",
    "$$ \\min_{ x \\in \\mathbb{R}^n }~(y-Ax)^\\top (y-Ax)~~~\\text{s.t.}~~~~-10 \\leq x_i \\leq 10,~i=1,...,n,~\\sum_{i=1}^n x_i^2 \\leq 110. $$\n",
    "\n",
    "Observing that $\\sum_{i=1}^n x_i^2 = \\| x \\|^2$. Similarly, it can be easily transformed into an SOCP as:\n",
    "\n",
    "$$ \\min_{ x \\in \\mathbb{R}^n , z \\in \\mathbb{R} }~z~~~\\text{s.t.}~~~~z \\geq \\| y - Ax \\|,~\\sqrt{110} \\geq \\| x \\|,~-10 \\leq x_i \\leq 10,~i=1,...,n. $$\n",
    "\n",
    "Now, implement the above problem in Julia/JuMP:"
   ]
  },
  {
   "cell_type": "code",
   "execution_count": null,
   "metadata": {},
   "outputs": [],
   "source": [
    "model_after2 = Model( ECOS.Optimizer )\n",
    "# your code here"
   ]
  },
  {
   "cell_type": "code",
   "execution_count": null,
   "metadata": {},
   "outputs": [],
   "source": [
    "status = optimize!(model_after2)"
   ]
  },
  {
   "cell_type": "code",
   "execution_count": null,
   "metadata": {},
   "outputs": [],
   "source": [
    "value.(x_after2)"
   ]
  },
  {
   "cell_type": "markdown",
   "metadata": {},
   "source": [
    "We see that the solution is again quite far away from the ground truth."
   ]
  },
  {
   "cell_type": "code",
   "execution_count": null,
   "metadata": {},
   "outputs": [],
   "source": []
  }
 ],
 "metadata": {
  "kernelspec": {
   "display_name": "Julia 1.1.1",
   "language": "julia",
   "name": "julia-1.1"
  },
  "language_info": {
   "file_extension": ".jl",
   "mimetype": "application/julia",
   "name": "julia",
   "version": "1.1.1"
  },
  "varInspector": {
   "cols": {
    "lenName": 16,
    "lenType": 16,
    "lenVar": 40
   },
   "kernels_config": {
    "python": {
     "delete_cmd_postfix": "",
     "delete_cmd_prefix": "del ",
     "library": "var_list.py",
     "varRefreshCmd": "print(var_dic_list())"
    },
    "r": {
     "delete_cmd_postfix": ") ",
     "delete_cmd_prefix": "rm(",
     "library": "var_list.r",
     "varRefreshCmd": "cat(var_dic_list()) "
    }
   },
   "types_to_exclude": [
    "module",
    "function",
    "builtin_function_or_method",
    "instance",
    "_Feature"
   ],
   "window_display": false
  }
 },
 "nbformat": 4,
 "nbformat_minor": 2
}
