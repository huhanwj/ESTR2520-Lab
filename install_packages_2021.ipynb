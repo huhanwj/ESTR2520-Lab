{
 "cells": [
  {
   "cell_type": "markdown",
   "metadata": {},
   "source": [
    "This code installs the necessary packages for FTEC2101/ESTR2520:"
   ]
  },
  {
   "cell_type": "code",
   "execution_count": null,
   "metadata": {},
   "outputs": [],
   "source": [
    "using Pkg\n",
    "\n",
    "Pkg.add(Pkg.PackageSpec(;name=\"JuMP\", version=\"0.21.5\"))\n",
    "Pkg.add(Pkg.PackageSpec(;name=\"GLPK\", version=\"0.14.4\"))\n",
    "Pkg.add(Pkg.PackageSpec(;name=\"CSV\", version=\"0.8.2\"))\n",
    "Pkg.add(Pkg.PackageSpec(;name=\"Plots\", version=\"1.4.3\"))\n",
    "Pkg.add(Pkg.PackageSpec(;name=\"ECOS\", version=\"0.12.2\"))\n",
    "Pkg.add(Pkg.PackageSpec(;name=\"Glob\", version=\"1.3.0\"))\n",
    "Pkg.add(Pkg.PackageSpec(;name=\"Ipopt\", version=\"0.6.5\"))\n",
    "Pkg.add(Pkg.PackageSpec(;name=\"Juniper\", version=\"0.6.5\"))\n",
    "Pkg.add(Pkg.PackageSpec(;name=\"DataFrames\", version=\"0.22.5\"))\n",
    "\n",
    "Pkg.API.precompile()"
   ]
  },
  {
   "cell_type": "code",
   "execution_count": null,
   "metadata": {},
   "outputs": [],
   "source": []
  }
 ],
 "metadata": {
  "kernelspec": {
   "display_name": "Julia 1.1.1",
   "language": "julia",
   "name": "julia-1.1"
  },
  "language_info": {
   "file_extension": ".jl",
   "mimetype": "application/julia",
   "name": "julia",
   "version": "1.1.1"
  },
  "varInspector": {
   "cols": {
    "lenName": 16,
    "lenType": 16,
    "lenVar": 40
   },
   "kernels_config": {
    "python": {
     "delete_cmd_postfix": "",
     "delete_cmd_prefix": "del ",
     "library": "var_list.py",
     "varRefreshCmd": "print(var_dic_list())"
    },
    "r": {
     "delete_cmd_postfix": ") ",
     "delete_cmd_prefix": "rm(",
     "library": "var_list.r",
     "varRefreshCmd": "cat(var_dic_list()) "
    }
   },
   "types_to_exclude": [
    "module",
    "function",
    "builtin_function_or_method",
    "instance",
    "_Feature"
   ],
   "window_display": false
  }
 },
 "nbformat": 4,
 "nbformat_minor": 2
}
