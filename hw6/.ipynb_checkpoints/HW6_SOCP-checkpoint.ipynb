{
 "cells": [
  {
   "cell_type": "code",
   "execution_count": 2,
   "id": "likely-louisville",
   "metadata": {},
   "outputs": [],
   "source": [
    "using LinearAlgebra\n",
    "using JuMP, ECOS # we need to use ECOS as the solver in this case"
   ]
  },
  {
   "cell_type": "markdown",
   "id": "technical-freedom",
   "metadata": {},
   "source": [
    "## Solving the SOCP in Q1a\n",
    "\n",
    "We shall solve the problem \n",
    "\n",
    "$$ \\begin{array}{rl}\n",
    "\\min_{ x_1 , x_2 \\in \\mathbb{R} } & \\sqrt{ 2x_1^2 + 4 x_2^2 - 4 x_1 x_2 } - x_1 - x_2 \\\\\n",
    "\\text{s.t.} & x_1^2 + x_2^2 + 2x_2 \\leq 4, \\\\[.1cm]\n",
    "& -1 \\leq x_1 \\leq 1,~-1 \\leq x_2 \\leq 1\n",
    "\\end{array} $$\n",
    "\n",
    "In part a of this problem, you should have rewritten the program as an SOCP. Now, you can program that into Julia/JuMP and solve it. \n",
    "\n",
    "As a reminder, for SOC constraints such as\n",
    "\n",
    "$$ \\| y - A x \\| \\leq z, $$\n",
    "\n",
    "you can program it as\n",
    "\n",
    "$$ \\texttt{ @constraint( model, [ z ; y-A*x] in SecondOrderCone() ) } $$"
   ]
  },
  {
   "cell_type": "code",
   "execution_count": 4,
   "id": "continued-blank",
   "metadata": {},
   "outputs": [
    {
     "name": "stdout",
     "output_type": "stream",
     "text": [
      "Min x[1]\n",
      "Subject to\n",
      " x[2] ∈ [-1.0, 1.0]\n",
      " x[3] ∈ [-1.0, 1.0]\n",
      " [x[1] + x[2] + x[3], x[2] - 2 x[3], x[2]] ∈ MathOptInterface.SecondOrderCone(3)\n",
      " [2.23606797749979, x[2], x[3] + 1] ∈ MathOptInterface.SecondOrderCone(3)\n",
      "\n",
      "ECOS 2.0.5 - (C) embotech GmbH, Zurich Switzerland, 2012-15. Web: www.embotech.com/ECOS\n",
      "\n",
      "It     pcost       dcost      gap   pres   dres    k/t    mu     step   sigma     IR    |   BT\n",
      " 0  +1.061e-01  -7.969e+00  +2e+01  3e-01  1e-01  1e+00  3e+00    ---    ---    1  1  - |  -  - \n",
      " 1  -8.771e-01  -2.005e+00  +4e+00  5e-02  2e-02  4e-01  7e-01  0.7948  5e-02   2  1  2 |  0  0\n",
      " 2  -5.775e-01  -8.134e-01  +1e+00  1e-02  4e-03  9e-02  2e-01  0.8088  5e-02   2  2  2 |  0  0\n",
      " 3  -6.493e-01  -6.984e-01  +2e-01  2e-03  8e-04  2e-02  4e-02  0.8324  5e-02   1  1  1 |  0  0\n",
      " 4  -6.344e-01  -6.421e-01  +3e-02  3e-04  1e-04  2e-03  5e-03  0.9143  7e-02   2  1  1 |  0  0\n",
      " 5  -6.347e-01  -6.380e-01  +1e-02  1e-04  5e-05  1e-03  2e-03  0.7296  2e-01   1  1  1 |  0  0\n",
      " 6  -6.340e-01  -6.345e-01  +2e-03  2e-05  8e-06  2e-04  4e-04  0.8503  1e-02   1  1  1 |  0  0\n",
      " 7  -6.340e-01  -6.341e-01  +3e-04  3e-06  1e-06  2e-05  6e-05  0.9137  8e-02   1  1  1 |  0  0\n",
      " 8  -6.340e-01  -6.340e-01  +7e-05  6e-07  3e-07  5e-06  1e-05  0.8137  2e-02   1  1  1 |  0  0\n",
      " 9  -6.340e-01  -6.340e-01  +2e-05  2e-07  7e-08  1e-06  3e-06  0.8662  1e-01   2  1  1 |  0  0\n",
      "10  -6.340e-01  -6.340e-01  +4e-06  3e-08  1e-08  3e-07  6e-07  0.8078  2e-02   1  1  1 |  0  0\n",
      "11  -6.340e-01  -6.340e-01  +8e-07  7e-09  3e-09  5e-08  1e-07  0.8854  1e-01   2  1  1 |  0  0\n",
      "12  -6.340e-01  -6.340e-01  +2e-07  1e-09  6e-10  1e-08  3e-08  0.8095  2e-02   1  1  1 |  0  0\n",
      "13  -6.340e-01  -6.340e-01  +3e-08  3e-10  1e-10  2e-09  6e-09  0.8990  1e-01   2  1  1 |  0  0\n",
      "14  -6.340e-01  -6.340e-01  +7e-09  6e-11  3e-11  5e-10  1e-09  0.8158  2e-02   1  1  1 |  0  0\n",
      "\n",
      "OPTIMAL (within feastol=5.8e-11, reltol=1.1e-08, abstol=6.7e-09).\n",
      "Runtime: 0.000160 seconds.\n",
      "\n"
     ]
    }
   ],
   "source": [
    "model = Model( ECOS.Optimizer );\n",
    "# Your code here\n",
    "B1 = [1 1 1];\n",
    "B2 = [0 1 -2;0 1 0];\n",
    "C1 = [0 1 0; 0 0 1];\n",
    "C2 = [0;1];\n",
    "@variable(model,x[1:3]);\n",
    "@constraint(model, -1 <= x[2] <= 1);\n",
    "@constraint(model, -1 <= x[3] <= 1);\n",
    "@constraint(model, [B1*x; B2*x] in SecondOrderCone())\n",
    "@constraint(model, [sqrt(5); C1*x+C2] in SecondOrderCone())\n",
    "@objective(model, Min, x[1])\n",
    "print(model)\n",
    "optimize!(model)"
   ]
  },
  {
   "cell_type": "code",
   "execution_count": 5,
   "id": "arabic-finnish",
   "metadata": {},
   "outputs": [
    {
     "data": {
      "text/plain": [
       "3-element Array{Float64,1}:\n",
       " -0.6339745962692581\n",
       "  0.9999999995226998\n",
       "  0.7886892510399303"
      ]
     },
     "execution_count": 5,
     "metadata": {},
     "output_type": "execute_result"
    }
   ],
   "source": [
    "# you can print the solution found here\n",
    "value.(x)"
   ]
  },
  {
   "cell_type": "code",
   "execution_count": null,
   "id": "noble-buffer",
   "metadata": {},
   "outputs": [],
   "source": []
  }
 ],
 "metadata": {
  "kernelspec": {
   "display_name": "Julia 1.1.1",
   "language": "julia",
   "name": "julia-1.1"
  },
  "language_info": {
   "file_extension": ".jl",
   "mimetype": "application/julia",
   "name": "julia",
   "version": "1.1.1"
  }
 },
 "nbformat": 4,
 "nbformat_minor": 5
}
