{
 "metadata": {
  "language_info": {
   "codemirror_mode": {
    "name": "ipython",
    "version": 3
   },
   "file_extension": ".py",
   "mimetype": "text/x-python",
   "name": "python",
   "nbconvert_exporter": "python",
   "pygments_lexer": "ipython3",
   "version": "3.8.5"
  },
  "orig_nbformat": 2,
  "kernelspec": {
   "name": "julia-1.1",
   "display_name": "Julia 1.1.1",
   "language": "julia"
  }
 },
 "nbformat": 4,
 "nbformat_minor": 2,
 "cells": [
  {
   "cell_type": "code",
   "execution_count": 1,
   "metadata": {},
   "outputs": [],
   "source": [
    "# Load the JuMP related packages and several solvers\n",
    "# ECOS - for solving SOCP problems\n",
    "# Juniper & Ipopt - for solving MI-NLP problems\n",
    "using JuMP, Juniper, ECOS, Ipopt\n",
    "# Load the data/file processing related packages\n",
    "using CSV, Glob, DataFrames, Statistics\n",
    "# Load the Plot package for illustrating the solution\n",
    "using Plots\n",
    "# Load the custom functions for benchmarking  \n",
    "include(\"./func.jl\");\n"
   ]
  },
  {
   "cell_type": "code",
   "execution_count": 2,
   "metadata": {},
   "outputs": [],
   "source": [
    "# load the full data set!\n",
    "files = glob( \"*_train.csv\", \"./ftec_project_files/\");\n",
    "dfs = DataFrame.( CSV.File.( files ) );\n",
    "T = 800; n = length(dfs);\n",
    "stocks_retur_full = zeros(T,n);\n",
    "for i = 1:n\n",
    "    # compute the realized return R_i(t)\n",
    "    stocks_retur_full[:,i] = (dfs[i].close-dfs[i].open) ./ dfs[i].open;\n",
    "end\n",
    "names_stocks_full = [ dfs[i].Name[1] for i in 1:n ];\n",
    "# calculate r_i and Sigma\n",
    "bar_R_full = [ mean( stocks_retur_full[:,i] ) for i in 1:length(dfs) ];\n",
    "Sigma_full = [ mean( (stocks_retur_full[:,i].-bar_R_full[i]).*(stocks_retur_full[:,j].-bar_R_full[j]) ) for i=1:n, j=1:n ]; "
   ]
  },
  {
   "cell_type": "code",
   "execution_count": 3,
   "metadata": {},
   "outputs": [
    {
     "output_type": "execute_result",
     "data": {
      "text/plain": [
       "obj_v (generic function with 1 method)"
      ]
     },
     "metadata": {},
     "execution_count": 3
    }
   ],
   "source": [
    "# your code/functions here\n",
    "B = 20;\n",
    "Rd = 1.01*sum(bar_R_full);\n",
    "function calc_gamma(delta)\n",
    "    delta = 0.01;\n",
    "    L = a/delta + max(diag(Sigma_full));\n",
    "    gamma = 1/L;\n",
    "    return gamma;\n",
    "end\n",
    "\n",
    "function gd(x,w,a,lambda,upsilon,delta)\n",
    "    @assert length(x)==n;\n",
    "    grad = Sigma_full*x+Sigma_full*w - lambda.*bar_R_full+upsilon.*ones(n);\n",
    "    for i=1:n\n",
    "        if abs(x[i])> delta\n",
    "            grad[i] += sign(x[i])*upsilon*a;\n",
    "        else\n",
    "            grad[i] += upsilon*(a/delta)*x[i];\n",
    "        end\n",
    "    end\n",
    "    return grad;\n",
    "end\n",
    "\n",
    "function obj_v(x,w,a,lambda,upsilon,delta)\n",
    "    @assert length(x)==n;\n",
    "    obj = 1/2*((x+w)'*Sigma_full*(x+w))+lambda*(Rd-bar_R_full'*x-bar_R_full'*w)+(upsilon*sum(x)-upsilon*B);\n",
    "    for i=1:n\n",
    "        if abs(x[i])>delta\n",
    "            obj += upsilon*(a*abs(x[i])-a*delta/2);\n",
    "        else\n",
    "            obj += upsilon*(a/(2*delta)*x[i]^2);\n",
    "        end\n",
    "    end\n",
    "    return obj;\n",
    "end\n",
    "            "
   ]
  },
  {
   "cell_type": "code",
   "execution_count": 4,
   "metadata": {},
   "outputs": [
    {
     "output_type": "stream",
     "name": "stdout",
     "text": [
      "Sharpe Ratio = 0.0638488802620314, Return = 0.0570267396781918, Tx Cost = 942, Portfo Value = 184.99240357763316openfile!Sharpe Ratio = 0.08016146474740363, Return = 0.000672387100952848, Tx Cost = 942, Portfo Value = 1.7998431817007101openfile!Sharpe Ratio = 0.08016146474740449, Return = 0.000672387100952855, Tx Cost = 942, Portfo Value = 1.7998431817007086openfile!Sharpe Ratio = 0.08016146474740451, Return = 0.0006723871009528557, Tx Cost = 942, Portfo Value = 1.7998431817007094openfile!"
     ]
    }
   ],
   "source": [
    "# set the parameters as specified by the problem\n",
    "M = 20; w = 1*ones(n); a = 1; delta = 0.01;\n",
    "\n",
    "# calculate l and u - your code here (should be a simple formula)\n",
    "u = M.*ones(n);\n",
    "l = -w;\n",
    "outfile = \"output.txt\";\n",
    "# initialize the algorithm\n",
    "for lambda = 1:10:70000\n",
    "    for upsilon = 1:1000\n",
    "        x_custom = zeros(n); \n",
    "        store_obj = []\n",
    "        push!(store_obj, obj_v(x_custom,w,a,lambda,upsilon,delta) ) # replace \"..\" with the function you wrote for computing the objective val.\n",
    "\n",
    "        for iteration_no = 1 : 50000 # feel free to adjust the number of iterations run here.\n",
    "            # your code here\n",
    "            gamma = 1/(iteration_no+1);\n",
    "            x_custom -= gamma* gd(x_custom,w,a,lambda,upsilon,delta);\n",
    "            for i=1:n\n",
    "                if x_custom[i] > u[i]\n",
    "                    x_custom[i] = u[i];\n",
    "                elseif x_custom[i] < l[i]\n",
    "                    x_custom[i] = l[i];\n",
    "                end\n",
    "            end\n",
    "            push!(store_obj, obj_v(x_custom,w,a,lambda,upsilon,delta) ) # replace \"..\" with the function you wrote for computing the objective val.\n",
    "        end\n",
    "        x_custom_pp = copy( x_custom )\n",
    "        x_custom_pp[ abs.(x_custom_pp) .< delta ] .= 0;\n",
    "        sharpe_PPGD = sharpe_ratio( \"./ftec_project_files/\", x_custom_pp, ones(n), 2 )\n",
    "        score = sharpe_PPGD[1]/0.1+sharpe_PPGD[2]/1.5+200/sharpe_PPGD[3];\n",
    "        open(outfile, \"w\") do f\n",
    "                println(f, score);\n",
    "                flush(f);\n",
    "            end\n",
    "        end\n",
    "    end\n",
    "end"
   ]
  },
  {
   "cell_type": "code",
   "execution_count": null,
   "metadata": {},
   "outputs": [],
   "source": []
  }
 ]
}