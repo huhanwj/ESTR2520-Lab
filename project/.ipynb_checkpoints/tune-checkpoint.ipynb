{
 "cells": [
  {
   "cell_type": "code",
   "execution_count": 1,
   "metadata": {},
   "outputs": [],
   "source": [
    "# Load the JuMP related packages and several solvers\n",
    "# ECOS - for solving SOCP problems\n",
    "# Juniper & Ipopt - for solving MI-NLP problems\n",
    "using JuMP, Juniper, ECOS, Ipopt\n",
    "# Load the data/file processing related packages\n",
    "using CSV, Glob, DataFrames, Statistics\n",
    "# Load the Plot package for illustrating the solution\n",
    "using Plots\n",
    "# Load the custom functions for benchmarking  \n",
    "include(\"./func.jl\");\n"
   ]
  },
  {
   "cell_type": "code",
   "execution_count": 2,
   "metadata": {},
   "outputs": [],
   "source": [
    "# load the full data set!\n",
    "files = glob( \"*_train.csv\", \"./ftec_project_files/\");\n",
    "dfs = DataFrame.( CSV.File.( files ) );\n",
    "T = 800; n = length(dfs);\n",
    "stocks_retur_full = zeros(T,n);\n",
    "for i = 1:n\n",
    "    # compute the realized return R_i(t)\n",
    "    stocks_retur_full[:,i] = (dfs[i].close-dfs[i].open) ./ dfs[i].open;\n",
    "end\n",
    "names_stocks_full = [ dfs[i].Name[1] for i in 1:n ];\n",
    "# calculate r_i and Sigma\n",
    "bar_R_full = [ mean( stocks_retur_full[:,i] ) for i in 1:length(dfs) ];\n",
    "Sigma_full = [ mean( (stocks_retur_full[:,i].-bar_R_full[i]).*(stocks_retur_full[:,j].-bar_R_full[j]) ) for i=1:n, j=1:n ]; "
   ]
  },
  {
   "cell_type": "code",
   "execution_count": 3,
   "metadata": {},
   "outputs": [
    {
     "data": {
      "text/plain": [
       "obj_v (generic function with 1 method)"
      ]
     },
     "execution_count": 3,
     "metadata": {},
     "output_type": "execute_result"
    }
   ],
   "source": [
    "# your code/functions here\n",
    "B = 20;\n",
    "Rd = 1.01*sum(bar_R_full);\n",
    "function calc_gamma(delta)\n",
    "    delta = 0.01;\n",
    "    L = a/delta + max(diag(Sigma_full));\n",
    "    gamma = 1/L;\n",
    "    return gamma;\n",
    "end\n",
    "\n",
    "function gd(x,w,a,lambda,upsilon,delta)\n",
    "    @assert length(x)==n;\n",
    "    grad = Sigma_full*x+Sigma_full*w - lambda.*bar_R_full+upsilon.*ones(n);\n",
    "    for i=1:n\n",
    "        if abs(x[i])> delta\n",
    "            grad[i] += sign(x[i])*upsilon*a;\n",
    "        else\n",
    "            grad[i] += upsilon*(a/delta)*x[i];\n",
    "        end\n",
    "    end\n",
    "    return grad;\n",
    "end\n",
    "\n",
    "function obj_v(x,w,a,lambda,upsilon,delta)\n",
    "    @assert length(x)==n;\n",
    "    obj = 1/2*((x+w)'*Sigma_full*(x+w))+lambda*(Rd-bar_R_full'*x-bar_R_full'*w)+(upsilon*sum(x)-upsilon*B);\n",
    "    for i=1:n\n",
    "        if abs(x[i])>delta\n",
    "            obj += upsilon*(a*abs(x[i])-a*delta/2);\n",
    "        else\n",
    "            obj += upsilon*(a/(2*delta)*x[i]^2);\n",
    "        end\n",
    "    end\n",
    "    return obj;\n",
    "end\n",
    "            "
   ]
  },
  {
   "cell_type": "code",
   "execution_count": 5,
   "metadata": {},
   "outputs": [
    {
     "name": "stdout",
     "output_type": "stream",
     "text": [
      "Sharpe Ratio = 0.0701469341107985, Return = 0.13276831484860846, Tx Cost = 146, Portfo Value = 399.4506911508313Sharpe Ratio = 0.0701468144360978, Return = 0.1327684129016947, Tx Cost = 146, Portfo Value = 399.45149612652096Sharpe Ratio = 0.0701466436888702, Return = 0.13276849490157835, Tx Cost = 146, Portfo Value = 399.45249219022935Sharpe Ratio = 0.07014647266954893, Return = 0.13276857566512265, Tx Cost = 146, Portfo Value = 399.4534872000732Sharpe Ratio = 0.07014638012040299, Return = 0.13276869749671685, Tx Cost = 146, Portfo Value = 399.4542128279745Sharpe Ratio = 0.07014615062984074, Return = 0.13276875157027804, Tx Cost = 146, Portfo Value = 399.4554129269593Sharpe Ratio = 0.07014601437986628, Return = 0.1327688506989393, Tx Cost = 146, Portfo Value = 399.45628459433317Sharpe Ratio = 0.0701457953917986, Return = 0.13276891143952535, Tx Cost = 146, Portfo Value = 399.4574526012795Sharpe Ratio = 0.07014562590600772, Return = 0.13276899332865827, Tx Cost = 146, Portfo Value = 399.4584431086939Sharpe Ratio = 0.07014549799196666, Return = 0.1327690925860908, Tx Cost = 146, Portfo Value = 399.45927833029083Sharpe Ratio = 0.07014528371842789, Return = 0.13276915558899482, Tx Cost = 146, Portfo Value = 399.46043342909337Sharpe Ratio = 0.07014509978515081, Return = 0.13276923643135272, Tx Cost = 146, Portfo Value = 399.46148249731266Sharpe Ratio = 0.07014488691806035, Return = 0.1327692951438439, Tx Cost = 146, Portfo Value = 399.46261871228955Sharpe Ratio = 0.07014478098311756, Return = 0.1327694139095782, Tx Cost = 146, Portfo Value = 399.463399089631Sharpe Ratio = 0.07014467197621747, Return = 0.13276952132811756, Tx Cost = 146, Portfo Value = 399.46416501856424Sharpe Ratio = 0.0701443895733445, Return = 0.13276956333573603, Tx Cost = 146, Portfo Value = 399.46558071778145Sharpe Ratio = 0.07014425346958197, Return = 0.132769655434783, Tx Cost = 146, Portfo Value = 399.46644498666944Sharpe Ratio = 0.07014411232565822, Return = 0.1327697583477254, Tx Cost = 146, Portfo Value = 399.4673448196001Sharpe Ratio = 0.07014391424007377, Return = 0.13276982582815497, Tx Cost = 146, Portfo Value = 399.4684344110687Sharpe Ratio = 0.07014377323314357, Return = 0.13276993084164612, Tx Cost = 146, Portfo Value = 399.4693406922005Sharpe Ratio = 0.07014357238055341, Return = 0.13276999818219065, Tx Cost = 146, Portfo Value = 399.47044581196917Sharpe Ratio = 0.0701433659066573, Return = 0.13277006789389906, Tx Cost = 146, Portfo Value = 399.47157200279185Sharpe Ratio = 0.07014319499174408, Return = 0.13277014634085843, Tx Cost = 146, Portfo Value = 399.4725586708197Sharpe Ratio = 0.07014299022426161, Return = 0.132770213544673, Tx Cost = 146, Portfo Value = 399.4736790064526Sharpe Ratio = 0.0701428822521905, Return = 0.1327703281912493, Tx Cost = 146, Portfo Value = 399.4744620094478Sharpe Ratio = 0.070142756195374, Return = 0.1327704334571954, Tx Cost = 146, Portfo Value = 399.4753029980292Sharpe Ratio = 0.07014266352541769, Return = 0.1327705590529967, Tx Cost = 146, Portfo Value = 399.476037518815Sharpe Ratio = 0.07014249063461431, Return = 0.13277064360211518, Tx Cost = 146, Portfo Value = 399.4770422952218Sharpe Ratio = 0.07014237436973976, Return = 0.13277075583416542, Tx Cost = 146, Portfo Value = 399.47784990222857Sharpe Ratio = 0.07014213207585344, Return = 0.13277080730869054, Tx Cost = 146, Portfo Value = 399.4791002756633Sharpe Ratio = 0.0701420028546881, Return = 0.13277091136601343, Tx Cost = 146, Portfo Value = 399.4799529188611Sharpe Ratio = 0.07014185698502484, Return = 0.1327710093756957, Tx Cost = 146, Portfo Value = 399.4808663866877Sharpe Ratio = 0.07014172857287362, Return = 0.13277111487066973, Tx Cost = 146, Portfo Value = 399.4817203732739Sharpe Ratio = 0.07014156838339743, Return = 0.13277120539336812, Tx Cost = 146, Portfo Value = 399.48268487820957Sharpe Ratio = 0.07014131226557306, Return = 0.13277124965640782, Tx Cost = 146, Portfo Value = 399.48397887552994Sharpe Ratio = 0.07014116761067227, Return = 0.13277134147579608, Tx Cost = 146, Portfo Value = 399.4848756952401Sharpe Ratio = 0.07014101444518474, Return = 0.13277143694691004, Tx Cost = 146, Portfo Value = 399.48581960044146Sharpe Ratio = 0.07014090475737021, Return = 0.1327715471545282, Tx Cost = 146, Portfo Value = 399.4866021134045Sharpe Ratio = 0.07014072299717874, Return = 0.13277162926456232, Tx Cost = 146, Portfo Value = 399.4876381826488Sharpe Ratio = 0.07014058534667215, Return = 0.13277173006162696, Tx Cost = 146, Portfo Value = 399.48852205911953Sharpe Ratio = 0.07014047041989127, Return = 0.1327718438964447, Tx Cost = 146, Portfo Value = 399.4893265123174Sharpe Ratio = 0.07014036663934702, Return = 0.13277196300705052, Tx Cost = 146, Portfo Value = 399.49009178023204Sharpe Ratio = 0.07014025049428578, Return = 0.13277207462887536, Tx Cost = 146, Portfo Value = 399.49089843830683Sharpe Ratio = 0.07014004786329013, Return = 0.13277214137830204, Tx Cost = 146, Portfo Value = 399.4920039112065Sharpe Ratio = 0.07013993357586283, Return = 0.13277225949138566, Tx Cost = 146, Portfo Value = 399.49281533445554Sharpe Ratio = 0.0701397665242836, Return = 0.13277233908243338, Tx Cost = 146, Portfo Value = 399.49379418640876Sharpe Ratio = 0.07013962401748207, Return = 0.13277243729304572, Tx Cost = 146, Portfo Value = 399.4946894517132Sharpe Ratio = 0.07013947408083898, Return = 0.1327725334164888, Tx Cost = 146, Portfo Value = 399.49562417420134Sharpe Ratio = 0.07013935975360984, Return = 0.1327726427250983, Tx Cost = 146, Portfo Value = 399.49641080841354Sharpe Ratio = 0.07013926691718467, Return = 0.13277276754478684, Tx Cost = 146, Portfo Value = 399.49714567191404Sharpe Ratio = 0.07013907076452214, Return = 0.1327728406718453, Tx Cost = 146, Portfo Value = 399.4982342660578Sharpe Ratio = 0.07013903884461249, Return = 0.13277298600857346, Tx Cost = 146, Portfo Value = 399.4987318415271Sharpe Ratio = 0.07013887750563938, Return = 0.13277307930911225, Tx Cost = 146, Portfo Value = 399.4996951269102Sharpe Ratio = 0.07013874265017041, Return = 0.1327731875011413, Tx Cost = 146, Portfo Value = 399.5005803367609Sharpe Ratio = 0.07013874672751191, Return = 0.13277334995837256, Tx Cost = 146, Portfo Value = 399.50095364940546Sharpe Ratio = 0.07013855145104254, Return = 0.1327734206755536, Tx Cost = 146, Portfo Value = 399.5020348172061Sharpe Ratio = 0.07009526874654634, Return = 0.13272485395547187, Tx Cost = 148, Portfo Value = 399.57186090782386Sharpe Ratio = 0.07003356255984462, Return = 0.13265556279978513, Tx Cost = 148, Portfo Value = 399.6711842910777Sharpe Ratio = 0.06997176859384202, Return = 0.13258622931587116, Tx Cost = 148, Portfo Value = 399.7706494676628Sharpe Ratio = 0.06991006086215795, Return = 0.13251699470763317, Tx Cost = 148, Portfo Value = 399.8698348056222Sharpe Ratio = 0.06984820388510347, Return = 0.13244765873620162, Tx Cost = 148, Portfo Value = 399.9693036576099Sharpe Ratio = 0.06978630239131477, Return = 0.13237831252940094, Tx Cost = 148, Portfo Value = 400.068809892348Sharpe Ratio = 0.0697245622683992, Return = 0.13230912705605047, Tx Cost = 148, Portfo Value = 400.1678439454241Sharpe Ratio = 0.06966263307572852, Return = 0.13223981107292854, Tx Cost = 148, Portfo Value = 400.2672886899509Sharpe Ratio = 0.06960088531327212, Return = 0.13217066814939846, Tx Cost = 148, Portfo Value = 400.36619689561303Sharpe Ratio = 0.0695388879928441, Return = 0.13210133941425586, Tx Cost = 148, Portfo Value = 400.4656502331626Sharpe Ratio = 0.0694767265805426, Return = 0.13203190167365503, Tx Cost = 148, Portfo Value = 400.5654439213116Sharpe Ratio = 0.06941487505316975, Return = 0.13196274585554285, Tx Cost = 148, Portfo Value = 400.6644007476872Sharpe Ratio = 0.06935273682694171, Return = 0.13189337425234612, Tx Cost = 148, Portfo Value = 400.76399053592036Sharpe Ratio = 0.06929062856057155, Return = 0.13182404919334895, Tx Cost = 148, Portfo Value = 400.86344015740735Sharpe Ratio = 0.06922862483546728, Return = 0.13175483175219282, Tx Cost = 148, Portfo Value = 400.9625535980703Sharpe Ratio = 0.06916647462278597, Return = 0.13168552868989475, Tx Cost = 148, Portfo Value = 401.061993270293Sharpe Ratio = 0.06910449903730945, Return = 0.13161637569004944, Tx Cost = 148, Portfo Value = 401."
     ]
    },
    {
     "name": "stdout",
     "output_type": "stream",
     "text": [
      "16090252857657Sharpe Ratio = 0.0690421932759927, Return = 0.13154697679149802, Tx Cost = 148, Portfo Value = 401.26056037462087Sharpe Ratio = 0.06898006279536001, Return = 0.13147774310542845, Tx Cost = 148, Portfo Value = 401.35972597396415Sharpe Ratio = 0.06891789146131767, Return = 0.13140850161781054, Tx Cost = 148, Portfo Value = 401.45893626464675Sharpe Ratio = 0.06885571863582968, Return = 0.13133927478179702, Tx Cost = 148, Portfo Value = 401.55806089718374Sharpe Ratio = 0.06879341959520605, Return = 0.1312699704885495, Tx Cost = 148, Portfo Value = 401.657469786809Sharpe Ratio = 0.06873114018168013, Return = 0.13120068795655168, Tx Cost = 148, Portfo Value = 401.75672212284627Sharpe Ratio = 0.06866892196602477, Return = 0.1311315037415287, Tx Cost = 148, Portfo Value = 401.85583495915716Sharpe Ratio = 0.06860649049498117, Return = 0.13106214117065831, Tx Cost = 148, Portfo Value = 401.95535342486323Sharpe Ratio = 0.06854398016981142, Return = 0.13099274352700477, Tx Cost = 148, Portfo Value = 402.0550264634521Sharpe Ratio = 0.06848167558908991, Return = 0.13092353723309724, Tx Cost = 148, Portfo Value = 402.1541451632615Sharpe Ratio = 0.06841927239592645, Return = 0.1308542621401707, Tx Cost = 148, Portfo Value = 402.2534282184485Sharpe Ratio = 0.06835696825361062, Return = 0.13078510240661184, Tx Cost = 148, Portfo Value = 402.3524376597583Sharpe Ratio = 0.06829439241891135, Return = 0.13071572055808756, Tx Cost = 148, Portfo Value = 402.4520367515521Sharpe Ratio = 0.0682319034178364, Return = 0.13064643721614605, Tx Cost = 148, Portfo Value = 402.55137805826405Sharpe Ratio = 0.06816937064969869, Return = 0.1305771293058488, Tx Cost = 148, Portfo Value = 402.65075202045614Sharpe Ratio = 0.06810678624502477, Return = 0.13050780260471584, Tx Cost = 148, Portfo Value = 402.75021924878354Sharpe Ratio = 0.06804433250927525, Return = 0.13043860612883348, Tx Cost = 148, Portfo Value = 402.8492983354339Sharpe Ratio = 0.06798173513460756, Return = 0.13036929681715884, Tx Cost = 148, Portfo Value = 402.9486652054437Sharpe Ratio = 0.06791918218649992, Return = 0.13030005477172804, Tx Cost = 148, Portfo Value = 403.0479053514171Sharpe Ratio = 0.06785653298970358, Return = 0.13023075088018637, Tx Cost = 148, Portfo Value = 403.14732965098074Sharpe Ratio = 0.06779394146540083, Return = 0.13016151425203953, Tx Cost = 148, Portfo Value = 403.24656319806473Sharpe Ratio = 0.06773130997009583, Return = 0.13009224380020962, Tx Cost = 148, Portfo Value = 403.34580642085984Sharpe Ratio = 0.06766874874835717, Return = 0.13002306244206413, Tx Cost = 148, Portfo Value = 403.4448499589902Sharpe Ratio = 0.06760601117788456, Return = 0.12995374714153074, Tx Cost = 148, Portfo Value = 403.5442786714916Sharpe Ratio = 0.06754337225344895, Return = 0.12988453183166798, Tx Cost = 148, Portfo Value = 403.6434296359941Sharpe Ratio = 0.06748060880792556, Return = 0.12981523083210758, Tx Cost = 148, Portfo Value = 403.7428315136263Sharpe Ratio = 0.06741793488220449, Return = 0.12974601165431593, Tx Cost = 148, Portfo Value = 403.8419521677921Sharpe Ratio = 0.06735517665641591, Return = 0.12967674363506385, Tx Cost = 148, Portfo Value = 403.9412496923106Sharpe Ratio = 0.06729236726515518, Return = 0.1296074435255946, Tx Cost = 148, Portfo Value = 404.04061748836057Sharpe Ratio = 0.06722959760690962, Return = 0.12953819745703704, Tx Cost = 148, Portfo Value = 404.13985524832765Sharpe Ratio = 0.06716696273586696, Return = 0.12947311252730398, Tx Cost = 146, Portfo Value = 404.2489613127349Sharpe Ratio = 0.06710409092670089, Return = 0.12940358946601457, Tx Cost = 146, Portfo Value = 404.34781264817747Sharpe Ratio = 0.06704121117526991, Return = 0.12933407420408438, Tx Cost = 146, Portfo Value = 404.44664405531887Sharpe Ratio = 0.06697848853565569, Return = 0.1292647334914504, Tx Cost = 146, Portfo Value = 404.54511526040494Sharpe Ratio = 0.06691544063045046, Return = 0.12919508510970154, Tx Cost = 146, Portfo Value = 404.64422796482677Sharpe Ratio = 0.06685239076052693, Return = 0.12912544815926363, Tx Cost = 146, Portfo Value = 404.74330689544416Sharpe Ratio = 0.06678970097891986, Return = 0.12905618689607273, Tx Cost = 146, Portfo Value = 404.8416037886997Sharpe Ratio = 0.06672677965452761, Return = 0.12898671531894523, Tx Cost = 146, Portfo Value = 404.9403513408831Sharpe Ratio = 0.06666368835987665, Return = 0.12891708572428964, Tx Cost = 146, Portfo Value = 405.0394232920943Sharpe Ratio = 0.06660072189642902, Return = 0.12884759778196625, Tx Cost = 146, Portfo Value = 405.1382051598282Sharpe Ratio = 0.0665377611505028, Return = 0.1287781274174392, Tx Cost = 146, Portfo Value = 405.23693987285645Sharpe Ratio = 0.06647475988759471, Return = 0.12870863325738324, Tx Cost = 146, Portfo Value = 405.3357300881799Sharpe Ratio = 0.06641182388636707, Return = 0.12863921610364493, Tx Cost = 146, Portfo Value = 405.4343451102392Sharpe Ratio = 0.06634875219711722, Return = 0.12856968162914367, Tx Cost = 146, Portfo Value = 405.5332268988557Sharpe Ratio = 0.06628579246650726, Return = 0.12850026781378565, Tx Cost = 146, Portfo Value = 405.6318263182201Sharpe Ratio = 0.06622273317778087, Return = 0.12843077126116148, Tx Cost = 146, Portfo Value = 405.73062162272925Sharpe Ratio = 0.06615954929818876, Return = 0.12836115878866106, Tx Cost = 146, Portfo Value = 405.82964808716787Sharpe Ratio = 0.06609652148379107, Return = 0.128291719591826, Tx Cost = 146, Portfo Value = 405.92831424502197Sharpe Ratio = 0.06603339750792672, Return = 0.12822219635775936, Tx Cost = 146, Portfo Value = 406.0271606536353Sharpe Ratio = 0.06597034793761099, Return = 0.1281527572522839, Tx Cost = 146, Portfo Value = 406.125823319393Sharpe Ratio = 0.06590722705040715, Return = 0.12808326253866495, Tx Cost = 146, Portfo Value = 406.22461645568256Sharpe Ratio = 0.06584421022162125, Return = 0.12801388206681882, Tx Cost = 146, Portfo Value = 406.3231604851353Sharpe Ratio = 0.06578114697699698, Return = 0.1279444661923313, Tx Cost = 146, Portfo Value = 406.421769148761Sharpe Ratio = 0.06571800538084088, Return = 0.12787498294813837, Tx Cost = 146, Portfo Value = 406.5205177347385Sharpe Ratio = 0.06565489915662853, Return = 0.12780554991732385, Tx Cost = 146, Portfo Value = 406.61918972701267Sharpe Ratio = 0.06559162436840026, Return = 0.12773595510768665, Tx Cost = 146, Portfo Value = 406.7181819143161Sharpe Ratio = 0.06552842786373202, Return = 0.1276664493282548, Tx Cost = 146, Portfo Value = 406.8169991471872Sharpe Ratio = 0.06546519210757085, Return = 0.1275969154422373, Tx Cost = 146, Portfo Value = 406.91586391180346Sharpe Ratio = 0.06540209104231033, Return = 0.12752752862662614, Tx Cost = 146, Portfo Value = 407.01442435879744Sharpe Ratio = 0.06533885063136635, Return = 0.12745801008767887, Tx Cost = 146, Portfo Value = 407.11326451990726Sharpe Ratio = 0.06527575398519807, Return = 0.1273886448264263, Tx Cost = 146, Portfo Value = 407.21177828426295Sharpe Ratio = 0.06521243444103116, Return = 0.12731906441086185, Tx Cost = 146, Portfo Value = 407.3107456448578Sharpe Ratio = 0.06514927251955861, Return = 0.12724965162708982, Tx Cost = 146, Portfo Value = 407.4093560996014Sharpe Ratio = 0.06508595625713087, Return = 0.12718009121858925, Tx Cost = 146, Portfo Value = 407.50828109035433Sharpe Ratio = 0.06502278389962639, Return = 0.12711068475541656, Tx Cost = 146, Portfo Value = 407.60687955928523Sharpe Ratio = 0.06495941523964383, Return = 0.12704108842281428, Tx Cost = 146, Portfo Value = 407.70588637464004Sharpe Ratio = 0.064896117690485, Return = 0.12697157494920136, Tx Cost = 146, Portfo Value = 407.8047201820342Sharpe Ratio = 0.06483276416162881, Return = 0.12690200791228737, Tx Cost = 146, Portfo Value = 407.9036496674888Sharpe Ratio = 0.0647694980712501, Return = 0.1268325382244195, Tx Cost = 146, Portfo Value = 408.0023892135988Sharpe Ratio = 0.06470629412928203, Return = 0.12676313752011642, Tx Cost = 146, Portfo Value = 408.10097384879015Sharpe Ratio = 0.06464299947130378, Return = 0.12669365235868313, Tx Cost = 146, Portfo Value = 408.19973889532764Sharpe Ratio = 0.06457967788335792, Return = 0.12662414718825152, Tx Cost = 146, Portfo Value = 408.29855753689685Sharpe Ratio = 0.06451637860585054, Return = 0.12655467092307293, Tx Cost = 146, Portfo Value = 408.3973071976508"
     ]
    },
    {
     "name": "stdout",
     "output_type": "stream",
     "text": [
      "Sharpe Ratio = 0.06445306823725908, Return = 0.12648518705025705, Tx Cost = 146, Portfo Value = 408.49606412785624Sharpe Ratio = 0.06438966912391293, Return = 0.1264156210980783, Tx Cost = 146, Portfo Value = 408.5950158710622Sharpe Ratio = 0.06432629872756258, Return = 0.12634609015666737, Tx Cost = 146, Portfo Value = 408.6938790456804Sharpe Ratio = 0.06426300047629643, Return = 0.12627663414290013, Tx Cost = 146, Portfo Value = 408.7925775610419Sharpe Ratio = 0.06419966512834159, Return = 0.12620714955651222, Tx Cost = 146, Portfo Value = 408.8913539799295Sharpe Ratio = 0.06413614238073855, Return = 0.1261374764422824, Tx Cost = 146, Portfo Value = 408.99052589720327Sharpe Ratio = 0.06407278273189533, Return = 0.12606797644714096, Tx Cost = 146, Portfo Value = 409.089321560814Sharpe Ratio = 0.06400946953490763, Return = 0.12599852561296634, Tx Cost = 146, Portfo Value = 409.18803106409564Sharpe Ratio = 0.06394602474468487, Return = 0.12592894361414256, Tx Cost = 146, Portfo Value = 409.28699518576957Sharpe Ratio = 0.06388269627991622, Return = 0.12585948173782002, Tx Cost = 146, Portfo Value = 409.38570505705496Sharpe Ratio = 0.06381929417979434, Return = 0.1257899529423374, Tx Cost = 146, Portfo Value = 409.4845739714792Sharpe Ratio = 0.06375598418460006, Return = 0.12572051786587024, Tx Cost = 146, Portfo Value = 409.5832324142717Sharpe Ratio = 0.06369263835562267, Return = 0.12565104948407316, Tx Cost = 146, Portfo Value = 409.68196963869025Sharpe Ratio = 0.06362925288895024, Return = 0.12558154343426428, Tx Cost = 146, Portfo Value = 409.7807852760617Sharpe Ratio = 0.06356598007009259, Return = 0.12551215686963052, Tx Cost = 146, Portfo Value = 409.8793557655549Sharpe Ratio = 0.06350247946480934, Return = 0.12544253855784374, Tx Cost = 146, Portfo Value = 409.97840145051725Sharpe Ratio = 0.06343920326436377, Return = 0.1253731485681768, Tx Cost = 146, Portfo Value = 410.0769743157056Sharpe Ratio = 0.06337575035607228, Return = 0.12530358325594576, Tx Cost = 146, Portfo Value = 410.17591722047143Sharpe Ratio = 0.06331244397177518, Return = 0.1252341673482219, Tx Cost = 146, Portfo Value = 410.27453945784896Sharpe Ratio = 0.06324902634130748, Return = 0.12516463881418616, Tx Cost = 146, Portfo Value = 410.3734048667345Sharpe Ratio = 0.06318565427416716, Return = 0.12509515526203932, Tx Cost = 146, Portfo Value = 410.47215894577Sharpe Ratio = 0.06312226848796507, Return = 0.12502565954332473, Tx Cost = 146, Portfo Value = 410.57095142208374Sharpe Ratio = 0.06305886529781701, Return = 0.12495614689540946, Tx Cost = 146, Portfo Value = 410.6697806856368Sharpe Ratio = 0.06299550545703589, Return = 0.12488667834231534, Tx Cost = 146, Portfo Value = 410.7685160592508Sharpe Ratio = 0.06293210871764408, Return = 0.12481716896439496, Tx Cost = 146, Portfo Value = 410.86733383238595Sharpe Ratio = 0.06286873800256244, Return = 0.12474768973410838, Tx Cost = 146, Portfo Value = 410.96609043020635Sharpe Ratio = 0.06280541293821004, Return = 0.12467825730264881, Tx Cost = 146, Portfo Value = 411.0647429793504Sharpe Ratio = 0.06274211623032384, Return = 0.12460884963487012, Tx Cost = 146, Portfo Value = 411.163352844579Sharpe Ratio = 0.06267871638099928, Return = 0.12453933411654389, Tx Cost = 146, Portfo Value = 411.262184195951Sharpe Ratio = 0.06261533756955083, Return = 0.12446984088920798, Tx Cost = 146, Portfo Value = 411.36096300378335Sharpe Ratio = 0.06255194693953056, Return = 0.12440033219576274, Tx Cost = 146, Portfo Value = 411.45977852328906Sharpe Ratio = 0.0624884311021791, Return = 0.12433069358637078, Tx Cost = 146, Portfo Value = 411.5588725525246Sharpe Ratio = 0.06242505461307651, Return = 0.12426119278680117, Tx Cost = 146, Portfo Value = 411.6576672221462Sharpe Ratio = 0.06236177597225708, Return = 0.1241917919476033, Tx Cost = 146, Portfo Value = 411.75625343126814Sharpe Ratio = 0.062298424005074966, Return = 0.12412231373724261, Tx Cost = 146, Portfo Value = 411.855008777384Sharpe Ratio = 0.06223501377457538, Return = 0.12405277333989545, Tx Cost = 146, Portfo Value = 411.95389091213286Sharpe Ratio = 0.06217172024468212, Return = 0.12398334904946134, Tx Cost = 146, Portfo Value = 412.0525385703805Sharpe Ratio = 0.06210843942248131, Return = 0.12391393365702974, Tx Cost = 146, Portfo Value = 412.15114708469457Sharpe Ratio = 0.06204497685371088, Return = 0.12384433032076719, Tx Cost = 146, Portfo Value = 412.2501742090932Sharpe Ratio = 0.06198165780076239, Return = 0.12377486826205522, Tx Cost = 146, Portfo Value = 412.3488972090324Sharpe Ratio = 0.061918261660331535, Return = 0.123705320726361, Tx Cost = 146, Portfo Value = 412.44779184155914Sharpe Ratio = 0.061855001132513736, Return = 0.12363591111005756, Tx Cost = 146, Portfo Value = 412.5463959240217Sharpe Ratio = 0.061791683754699886, Return = 0.12356643914525259, Tx Cost = 146, Portfo Value = 412.64514303682955Sharpe Ratio = 0.061728288655208643, Return = 0.12349687999933914, Tx Cost = 146, Portfo Value = 412.744064590285Sharpe Ratio = 0.061664941234164494, Return = 0.12342736579639296, Tx Cost = 146, Portfo Value = 412.8429001804825Sharpe Ratio = 0.061601647374404635, Return = 0.12335789928967636, Tx Cost = 146, Portfo Value = 412.94162127012345Sharpe Ratio = 0.061538351330829424, Return = 0.12328842511928823, Tx Cost = 146, Portfo Value = 413.0403615066247Sharpe Ratio = 0.06147498445088463, Return = 0.12321887220243255, Tx Cost = 146, Portfo Value = 413.1392784210092Sharpe Ratio = 0.06141175732195958, Return = 0.12314945899446422, Tx Cost = 146, Portfo Value = 413.2378907962558Sharpe Ratio = 0.06134841334210124, Return = 0.12307991727616463, Tx Cost = 146, Portfo Value = 413.33677897834747Sharpe Ratio = 0.06128509550051937, Return = 0.12301039573671388, Tx Cost = 146, Portfo Value = 413.4356193950214Sharpe Ratio = 0.06122199612773876, Return = 0.12294109468795045, Tx Cost = 146, Portfo Value = 413.53399431731407Sharpe Ratio = 0.061158715017846685, Return = 0.12287159893011618, Tx Cost = 146, Portfo Value = 413.6327837823128Sharpe Ratio = 0.06109557016489049, Return = 0.12280223559200015, Tx Cost = 146, Portfo Value = 413.731296956223Sharpe Ratio = 0.06103216290423356, Return = 0.12273259376334111, Tx Cost = 146, Portfo Value = 413.8304087789319Sharpe Ratio = 0.06096895845047809, Return = 0.12266315240423614, Tx Cost = 146, Portfo Value = 413.92907331143044Sharpe Ratio = 0.06090564932394977, Return = 0.1225935957307921, Tx Cost = 146, Portfo Value = 414.0279974981046Sharpe Ratio = 0.0608424527258655, Return = 0.12252414721922822, Tx Cost = 146, Portfo Value = 414.1267014846641Sharpe Ratio = 0.06077926351661625, Return = 0.12245469727855457, Tx Cost = 146, Portfo Value = 414.2253926173781Sharpe Ratio = 0.06071606631710826, Return = 0.12238523032763077, Tx Cost = 146, Portfo Value = 414.3241151580671Sharpe Ratio = 0.06065294730093347, Return = 0.12231583364868873, Tx Cost = 146, Portfo Value = 414.4226789669232Sharpe Ratio = 0.06058978438274452, Return = 0.12224638288374418, Tx Cost = 146, Portfo Value = 414.52136900039375Sharpe Ratio = 0.06052658159505966, Return = 0.12217688209710059, Tx Cost = 146, Portfo Value = 414.6201657754121Sharpe Ratio = 0.060463441765029206, Return = 0.12210743812794089, Tx Cost = 146, Portfo Value = 414.7188539107416Sharpe Ratio = 0.06040015304142378, Return = 0.12203782668882163, Tx Cost = 146, Portfo Value = 414.81789149238193Sharpe Ratio = 0.06033717542913749, Return = 0.12196853132956989, Tx Cost = 146, Portfo Value = 414.9162535689992Sharpe Ratio = 0.06027389084569728, Return = 0.12189890480250587, Tx Cost = 146, Portfo Value = 415.0153208691628Sharpe Ratio = 0.06021076451518567, Return = 0.12182943383522155, Tx Cost = 146, Portfo Value = 415.1140675520369Sharpe Ratio = 0.06014763813985205, Return = 0.12175994879454219, Tx Cost = 146, Portfo Value = 415.2128329248945Sharpe Ratio = 0.06008444699864145, Return = 0.12169038505650437, Tx Cost = 146, Portfo Value = 415.31177077299276Sharpe Ratio = 0.060021265023001084, Return = 0.12162082324165832, Tx Cost = 146, Portfo Value = 415.41070085172095Sharpe Ratio = 0.05995822879252474, Return = 0.12155139881369548, Tx Cost = 146, Portfo Value = 415.5093364530099Sharpe Ratio = 0.059895110150055136, Return = 0.12148187784785824, Tx Cost = 146, Portfo Value = 415.608171725847"
     ]
    },
    {
     "name": "stdout",
     "output_type": "stream",
     "text": [
      "Sharpe Ratio = 0.05983203072327385, Return = 0.12141238590197592, Tx Cost = 146, Portfo Value = 415.70695362359373Sharpe Ratio = 0.0597689521903874, Return = 0.12134288516262537, Tx Cost = 146, Portfo Value = 415.8057674074534Sharpe Ratio = 0.05970600272706365, Return = 0.12127350459702821, Tx Cost = 146, Portfo Value = 415.90431944854225Sharpe Ratio = 0.05964294759987698, Return = 0.12120399920410074, Tx Cost = 146, Portfo Value = 416.0031230099272Sharpe Ratio = 0.05957976914897718, Return = 0.12113435173618822, Tx Cost = 146, Portfo Value = 416.10224559852736Sharpe Ratio = 0.0595168111692032, Return = 0.12106492693539142, Tx Cost = 146, Portfo Value = 416.20087857460743Sharpe Ratio = 0.05945377584884043, Return = 0.12099540075040302, Tx Cost = 146, Portfo Value = 416.29973478785155Sharpe Ratio = 0.05939075996087149, Return = 0.1209258874719075, Tx Cost = 146, Portfo Value = 416.39856721826925Sharpe Ratio = 0.059327838556819334, Return = 0.12085645526807615, Tx Cost = 146, Portfo Value = 416.4972164883018Sharpe Ratio = 0.05926484576331392, Return = 0.12078693585135178, Tx Cost = 146, Portfo Value = 416.59605717585004Sharpe Ratio = 0.05920184314572123, Return = 0.12071739270058851, Tx Cost = 146, Portfo Value = 416.6949592793327Sharpe Ratio = 0.05913873430998599, Return = 0.12064772237260907, Tx Cost = 146, Portfo Value = 416.7941178179178Sharpe Ratio = 0.059075879783767236, Return = 0.12057830391753954, Tx Cost = 146, Portfo Value = 416.89274621835835Sharpe Ratio = 0.059012896207803006, Return = 0.12050873555023561, Tx Cost = 146, Portfo Value = 416.99169328836444Sharpe Ratio = 0.05894988371495467, Return = 0.12043912321794184, Tx Cost = 146, Portfo Value = 417.09074327347093Sharpe Ratio = 0.058887076035236754, Return = 0.12036971051196002, Tx Cost = 146, Portfo Value = 417.1893526635556Sharpe Ratio = 0.0588241157712924, Return = 0.12030011974465624, Tx Cost = 146, Portfo Value = 417.2883498073468Sharpe Ratio = 0.05876128208087908, Return = 0.12023064722935783, Tx Cost = 146, Portfo Value = 417.387105475338Sharpe Ratio = 0.05869840202246083, Return = 0.12016111169253793, Tx Cost = 146, Portfo Value = 417.485991960898Sharpe Ratio = 0.0586355121880711, Return = 0.12009154803337266, Tx Cost = 146, Portfo Value = 417.58492391874427Sharpe Ratio = 0.05857262930693659, Return = 0.12002197489996133, Tx Cost = 146, Portfo Value = 417.6838809032243Sharpe Ratio = 0.05850993765004497, Return = 0.11995258836140207, Tx Cost = 146, Portfo Value = 417.78244267289784Sharpe Ratio = 0.05844710659558876, Return = 0.11988303629574418, Tx Cost = 146, Portfo Value = 417.8813450014659Sharpe Ratio = 0.058384365648987045, Return = 0.11981356137316879, Tx Cost = 146, Portfo Value = 417.9800851054081Sharpe Ratio = 0.058321714569486226, Return = 0.11974416639660773, Tx Cost = 146, Portfo Value = 418.07867479467757Sharpe Ratio = 0.05825899798808533, Return = 0.11967468220113184, Tx Cost = 146, Portfo Value = 418.17742896446Sharpe Ratio = 0.058196304051834825, Return = 0.11960520667503644, Tx Cost = 146, Portfo Value = 418.2761789980036Sharpe Ratio = 0.058133534358696, Return = 0.11953563094586642, Tx Cost = 146, Portfo Value = 418.37514784908615Sharpe Ratio = 0.058070839000286416, Return = 0.1194661183837423, Tx Cost = 146, Portfo Value = 418.47397560119356Sharpe Ratio = 0.05800815994108388, Return = 0.11939660140647373, Tx Cost = 146, Portfo Value = 418.5728045967942Sharpe Ratio = 0.057945521751087026, Return = 0.11932711100341306, Tx Cost = 146, Portfo Value = 418.6715863998962Sharpe Ratio = 0.057882739271621, Return = 0.11925744824863815, Tx Cost = 146, Portfo Value = 418.770719661083Sharpe Ratio = 0.057820256145697885, Return = 0.11918808523633986, Tx Cost = 146, Portfo Value = 418.8692340697604Sharpe Ratio = 0.057757597510680665, Return = 0.11911851766085835, Tx Cost = 146, Portfo Value = 418.9681789440626Sharpe Ratio = 0.057695082011257955, Return = 0.1190490786160345, Tx Cost = 146, Portfo Value = 419.0668401995076Sharpe Ratio = 0.0576325337111289, Return = 0.11897958552249269, Tx Cost = 146, Portfo Value = 419.1656233468592Sharpe Ratio = 0.05757011120865512, Return = 0.11891021137008265, Tx Cost = 146, Portfo Value = 419.2641604475012Sharpe Ratio = 0.05750754299800596, Return = 0.11884065853154796, Tx Cost = 146, Portfo Value = 419.36307037909796Sharpe Ratio = 0.057445200238089994, Return = 0.11877132625611639, Tx Cost = 146, Portfo Value = 419.4615027155236Sharpe Ratio = 0.05738265904835257, Return = 0.11870176400285626, Tx Cost = 146, Portfo Value = 419.56043899305405Sharpe Ratio = 0.0573558681783711, Return = 0.11867196145197567, Tx Cost = 146, Portfo Value = 419.6029039666226Sharpe Ratio = 0.05735578542529541, Return = 0.11867187574047808, Tx Cost = 146, Portfo Value = 419.6031516434772Sharpe Ratio = 0.05735572466100257, Return = 0.11867181443890762, Tx Cost = 146, Portfo Value = 419.60333245651543Sharpe Ratio = 0.05735559294292494, Return = 0.11867167045843516, Tx Cost = 146, Portfo Value = 419.60372559821127Sharpe Ratio = 0.05735552886452471, Return = 0.11867160964253987, Tx Cost = 146, Portfo Value = 419.60392005474193Sharpe Ratio = 0.057355400781038034, Return = 0.11867146796581685, Tx Cost = 146, Portfo Value = 419.60429715702435Sharpe Ratio = 0.057355298038693686, Return = 0.11867135887362135, Tx Cost = 146, Portfo Value = 419.60461139698793Sharpe Ratio = 0.05735516005334597, Return = 0.11867121510977577, Tx Cost = 146, Portfo Value = 419.6050340905389Sharpe Ratio = 0.05735503973285112, Return = 0.11867109031838308, Tx Cost = 146, Portfo Value = 419.60540119996614Sharpe Ratio = 0.05735492066496289, Return = 0.11867096743991018, Tx Cost = 146, Portfo Value = 419.60576609092413Sharpe Ratio = 0.05735479618304113, Return = 0.11867084022110802, Tx Cost = 146, Portfo Value = 419.6061522098961Sharpe Ratio = 0.05735468348014289, Return = 0.11867071987951933, Tx Cost = 146, Portfo Value = 419.6064894091442Sharpe Ratio = 0.057354562413048246, Return = 0.11867059420053466, Tx Cost = 146, Portfo Value = 419.6068595908323Sharpe Ratio = 0.0573544451749796, Return = 0.11867047035586079, Tx Cost = 146, Portfo Value = 419.60721819800284Sharpe Ratio = 0.05735433816849021, Return = 0.1186703591253972, Tx Cost = 146, Portfo Value = 419.60754355509334Sharpe Ratio = 0.05735423787147553, Return = 0.11867025568738923, Tx Cost = 146, Portfo Value = 419.6078456783529Sharpe Ratio = 0.05735410447413774, Return = 0.11867011441459102, Tx Cost = 146, Portfo Value = 419.6082547654625Sharpe Ratio = 0.057354016342540774, Return = 0.11867002575949104, Tx Cost = 146, Portfo Value = 419.6085248874652Sharpe Ratio = 0.05735390873351866, Return = 0.11866991033737193, Tx Cost = 146, Portfo Value = 419.608852122579Sharpe Ratio = 0.057353783541969953, Return = 0.11866978333695427, Tx Cost = 146, Portfo Value = 419.6092382569592Sharpe Ratio = 0.05735364236761275, Return = 0.11866963483482229, Tx Cost = 146, Portfo Value = 419.60966783004096Sharpe Ratio = 0.057353456586626404, Return = 0.11866944582286967, Tx Cost = 146, Portfo Value = 419.6102559569091Sharpe Ratio = 0.05735339270201109, Return = 0.11866937711963976, Tx Cost = 146, Portfo Value = 419.61044173134417Sharpe Ratio = 0.05735328317034492, Return = 0.11866926368514213, Tx Cost = 146, Portfo Value = 419.61077713956746Sharpe Ratio = 0.0573531792119608, Return = 0.11866915316851057, Tx Cost = 146, Portfo Value = 419.61109153444363Sharpe Ratio = 0.057353081378516656, Return = 0.11866905136102307, Tx Cost = 146, Portfo Value = 419.61138600784403Sharpe Ratio = 0.057352932116007685, Return = 0.11866889887669549, Tx Cost = 146, Portfo Value = 419.6118523828658Sharpe Ratio = 0.057352763176911015, Return = 0.11866872320587685, Tx Cost = 146, Portfo Value = 419.61238035170845Sharpe Ratio = 0.05735267401688898, Return = 0.11866863009061013, Tx Cost = 146, Portfo Value = 419.6126480253077Sharpe Ratio = 0.05735253085129255, Return = 0.11866848308977015, Tx Cost = 146, Portfo Value = 419.61309379765225Sharpe Ratio = 0.057352455668511194, Return = 0.11866840395603556, Tx Cost = 146, Portfo Value = 419.61331738335815Sharpe Ratio = 0.05735229484703358, Return = 0.11866823978038174, Tx Cost = 146, Portfo Value = 419.61382045834034Sharpe Ratio = 0.057352183388489346, Return = 0.11866812232206939, Tx Cost = 146, Portfo Value = 419."
     ]
    },
    {
     "name": "stdout",
     "output_type": "stream",
     "text": [
      "61415903524545Sharpe Ratio = 0.05735202272960661, Return = 0.11866795916214537, Tx Cost = 146, Portfo Value = 419.6146696590832Sharpe Ratio = 0.057351913882487456, Return = 0.11866784533408678, Tx Cost = 146, Portfo Value = 419.61499758908633Sharpe Ratio = 0.05735171984749203, Return = 0.11866764723552081, Tx Cost = 146, Portfo Value = 419.61561189665343Sharpe Ratio = 0.05735166446515298, Return = 0.11866758699297736, Tx Cost = 146, Portfo Value = 419.61576348305005Sharpe Ratio = 0.057351576959077256, Return = 0.1186674939315912, Tx Cost = 146, Portfo Value = 419.61603400095794Sharpe Ratio = 0.057351399851090765, Return = 0.11866731409073472, Tx Cost = 146, Portfo Value = 419.6165906487308Sharpe Ratio = 0.057351296160482956, Return = 0.11866720793567229, Tx Cost = 146, Portfo Value = 419.616909480235Sharpe Ratio = 0.05735118612097425, Return = 0.1186670922822313, Tx Cost = 146, Portfo Value = 419.61724512704905Sharpe Ratio = 0.05735112427144037, Return = 0.11866702541378252, Tx Cost = 146, Portfo Value = 419.6174256200004Sharpe Ratio = 0.057350952915059775, Return = 0.11866685076390321, Tx Cost = 146, Portfo Value = 419.6179622561881Sharpe Ratio = 0.05735086757703531, Return = 0.11866676084140537, Tx Cost = 146, Portfo Value = 419.6182204679851Sharpe Ratio = 0.057350667424165745, Return = 0.11866655569454404, Tx Cost = 146, Portfo Value = 419.6188467259186Sharpe Ratio = 0.05735062416505173, Return = 0.11866650812636009, Tx Cost = 146, Portfo Value = 419.6189729572374Sharpe Ratio = 0.05735047455219082, Return = 0.11866635168325618, Tx Cost = 146, Portfo Value = 419.61943307532283Sharpe Ratio = 0.05735034731960796, Return = 0.11866622092654969, Tx Cost = 146, Portfo Value = 419.6198287372447Sharpe Ratio = 0.05735025448551607, Return = 0.1186661239193165, Tx Cost = 146, Portfo Value = 419.6201126248394Sharpe Ratio = 0.05735009518968974, Return = 0.11866596137729027, Tx Cost = 146, Portfo Value = 419.62061416468407Sharpe Ratio = 0.05734999334366427, Return = 0.11866585282061104, Tx Cost = 146, Portfo Value = 419.6209204451486Sharpe Ratio = 0.05734986979943631, Return = 0.11866572530444328, Tx Cost = 146, Portfo Value = 419.62130587880074Sharpe Ratio = 0.05734974476954992, Return = 0.11866559873186663, Tx Cost = 146, Portfo Value = 419.6217001225244Sharpe Ratio = 0.05734962263312013, Return = 0.11866547225977556, Tx Cost = 146, Portfo Value = 419.62207677155226Sharpe Ratio = 0.05734949833430367, Return = 0.11866534333085124, Tx Cost = 146, Portfo Value = 419.6224624366827Sharpe Ratio = 0.05734938766056395, Return = 0.11866522902864798, Tx Cost = 146, Portfo Value = 419.6227988740334Sharpe Ratio = 0.0573492335031453, Return = 0.11866507240796983, Tx Cost = 146, Portfo Value = 419.6232852124509Sharpe Ratio = 0.05734907330754148, Return = 0.11866490767486262, Tx Cost = 146, Portfo Value = 419.6237882352033Sharpe Ratio = 0.057348954929072854, Return = 0.11866478212066206, Tx Cost = 146, Portfo Value = 419.62415196465054Sharpe Ratio = 0."
     ]
    },
    {
     "ename": "InterruptException",
     "evalue": "InterruptException:",
     "output_type": "error",
     "traceback": [
      "InterruptException:",
      "",
      "Stacktrace:",
      " [1] try_yieldto(::typeof(Base.ensure_rescheduled), ::Base.RefValue{Task}) at .\\event.jl:196",
      " [2] wait() at .\\event.jl:255",
      " [3] uv_write(::Base.PipeEndpoint, ::Ptr{UInt8}, ::UInt64) at .\\stream.jl:853",
      " [4] unsafe_write(::Base.PipeEndpoint, ::Ptr{UInt8}, ::UInt64) at .\\stream.jl:901",
      " [5] unsafe_write at .\\io.jl:225 [inlined]",
      " [6] macro expansion at .\\gcutils.jl:87 [inlined]",
      " [7] write at .\\strings\\io.jl:165 [inlined]",
      " [8] print at .\\strings\\io.jl:167 [inlined]",
      " [9] _show(::IJulia.IJuliaStdio{Base.PipeEndpoint}, ::Float64, ::Int64, ::Int64, ::Bool, ::Bool) at .\\grisu\\grisu.jl:133",
      " [10] show(::IJulia.IJuliaStdio{Base.PipeEndpoint}, ::Float64) at .\\grisu\\grisu.jl:161",
      " [11] print(::IJulia.IJuliaStdio{Base.PipeEndpoint}, ::Float64) at .\\strings\\io.jl:31",
      " [12] print(::IJulia.IJuliaStdio{Base.PipeEndpoint}, ::String, ::Float64, ::Vararg{Any,N} where N) at .\\strings\\io.jl:42",
      " [13] print(::String, ::Float64, ::String, ::Vararg{Any,N} where N) at .\\coreio.jl:3",
      " [14] sharpe_ratio(::String, ::Array{Float64,1}, ::Array{Float64,1}, ::Int64) at C:\\Users\\huhan\\Documents\\ESTR2520-Lab\\project\\func.jl:26",
      " [15] top-level scope at .\\In[5]:30"
     ]
    }
   ],
   "source": [
    "# set the parameters as specified by the problem\n",
    "M = 20; w = 1*ones(n); a = 1; upsilon = 10;delta = 0.01;\n",
    "\n",
    "# calculate l and u - your code here (should be a simple formula)\n",
    "u = M.*ones(n);\n",
    "l = -w;\n",
    "outfile = \"output.txt\";\n",
    "score = []\n",
    "# initialize the algorithm\n",
    "for lambda = 30000:5:50000\n",
    "    x_custom = zeros(n); \n",
    "    store_obj = []\n",
    "    push!(store_obj, obj_v(x_custom,w,a,lambda,upsilon,delta) ) # replace \"..\" with the function you wrote for computing the objective val.\n",
    "\n",
    "    for iteration_no = 1 : 50000 # feel free to adjust the number of iterations run here.\n",
    "        # your code here\n",
    "        gamma = 1/(iteration_no+1);\n",
    "        x_custom -= gamma* gd(x_custom,w,a,lambda,upsilon,delta);\n",
    "        for i=1:n\n",
    "            if x_custom[i] > u[i]\n",
    "                x_custom[i] = u[i];\n",
    "            elseif x_custom[i] < l[i]\n",
    "                x_custom[i] = l[i];\n",
    "            end\n",
    "        end\n",
    "        push!(store_obj, obj_v(x_custom,w,a,lambda,upsilon,delta) ) # replace \"..\" with the function you wrote for computing the objective val.\n",
    "    end\n",
    "    x_custom_pp = copy( x_custom )\n",
    "    x_custom_pp[ abs.(x_custom_pp) .< delta ] .= 0;\n",
    "    sharpe_PPGD = sharpe_ratio( \"./ftec_project_files/\", x_custom_pp, ones(n), 2 )\n",
    "    push!(score,sharpe_PPGD[1]/0.1+sharpe_PPGD[2]/1.5+200/sharpe_PPGD[3]);\n",
    "    end\n",
    "end\n",
    "open(outfile, \"w\") do f\n",
    "    for s in score\n",
    "        println(f, score);\n",
    "    end\n",
    "end"
   ]
  },
  {
   "cell_type": "code",
   "execution_count": null,
   "metadata": {},
   "outputs": [],
   "source": []
  }
 ],
 "metadata": {
  "kernelspec": {
   "display_name": "Julia 1.1.1",
   "language": "julia",
   "name": "julia-1.1"
  },
  "language_info": {
   "file_extension": ".jl",
   "mimetype": "application/julia",
   "name": "julia",
   "version": "1.1.1"
  }
 },
 "nbformat": 4,
 "nbformat_minor": 2
}
