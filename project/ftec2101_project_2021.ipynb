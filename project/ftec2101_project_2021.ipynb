{
 "cells": [
  {
   "cell_type": "markdown",
   "metadata": {},
   "source": [
    "# Practical Project \n",
    "\n",
    "The aim of this project is to solve various forms of the portfolio optimization problem through Julia/computer software. This program template will provide hints/template code for you to focus on the optimization formulation part.\n",
    "\n",
    "As usual, we first need to load a few packages in Julia."
   ]
  },
  {
   "cell_type": "markdown",
   "metadata": {},
   "source": [
    "# Part I - Compulsory Task"
   ]
  },
  {
   "cell_type": "code",
   "execution_count": 29,
   "metadata": {},
   "outputs": [],
   "source": [
    "# Load the JuMP related packages and several solvers\n",
    "# ECOS - for solving SOCP problems\n",
    "# Juniper & Ipopt - for solving MI-NLP problems\n",
    "using JuMP, Juniper, ECOS, Ipopt\n",
    "# Load the data/file processing related packages\n",
    "using CSV, Glob, DataFrames, Statistics\n",
    "# Load the Plot package for illustrating the solution\n",
    "using Plots\n",
    "# Load the custom functions for benchmarking  \n",
    "include(\"./reusablefunc.jl\");"
   ]
  },
  {
   "cell_type": "markdown",
   "metadata": {},
   "source": [
    "#### Data Preprocessing\n",
    "The first step is to load the raw data into the memory. The following codes are provided for you to help you get started. "
   ]
  },
  {
   "cell_type": "code",
   "execution_count": 30,
   "metadata": {},
   "outputs": [],
   "source": [
    "# Change \"subgroup1\" to other names according to the subgroup you are assigned.\n",
    "path_subgroup = \"./ftec_project_subgroup2/\" \n",
    "files = glob( \"*_train.csv\", path_subgroup );\n",
    "dfs = DataFrame.( CSV.File.( files ) );"
   ]
  },
  {
   "cell_type": "code",
   "execution_count": 31,
   "metadata": {},
   "outputs": [],
   "source": [
    "T = 800; n = length(dfs);\n",
    "stocks_retur = zeros(T,n);\n",
    "for i = 1:n\n",
    "    # compute the realized return R_i(t)\n",
    "    stocks_retur[:,i] = (dfs[i].close-dfs[i].open) ./ dfs[i].open;\n",
    "end\n",
    "names_stocks = [ dfs[i].Name[1] for i in 1:n ];"
   ]
  },
  {
   "cell_type": "markdown",
   "metadata": {},
   "source": [
    "## Task 4: Warm-up Exercise\n",
    "\n",
    "For part (a) of this task, you have to plot the return of 3-4 stocks over time. An example is provided for you as follows. Use \"Insert\" -> \"Insert Cell Below/After\" if you want to keep the plots together in one place."
   ]
  },
  {
   "cell_type": "code",
   "execution_count": 32,
   "metadata": {},
   "outputs": [],
   "source": [
    "stock_id = 1; # You may change this stock_id to different numbers from 1 to 20\n",
    "stock1=plot( dfs[stock_id].date, stocks_retur[:,stock_id] , label = dfs[stock_id].Name[1], title = dfs[stock_id].Name[1]*\"'s return over time\" )\n",
    "savefig(stock1,\"stock1.png\");"
   ]
  },
  {
   "cell_type": "code",
   "execution_count": 33,
   "metadata": {},
   "outputs": [],
   "source": [
    "stock_id = 8; # You may change this stock_id to different numbers from 1 to 20\n",
    "stock2 =plot( dfs[stock_id].date, stocks_retur[:,stock_id] , label = dfs[stock_id].Name[1], title = dfs[stock_id].Name[1]*\"'s return over time\" )\n",
    "savefig(stock2,\"stock2.png\");"
   ]
  },
  {
   "cell_type": "code",
   "execution_count": 34,
   "metadata": {},
   "outputs": [],
   "source": [
    "stock_id = 15; # You may change this stock_id to different numbers from 1 to 20\n",
    "stock3 = plot( dfs[stock_id].date, stocks_retur[:,stock_id] , label = dfs[stock_id].Name[1], title = dfs[stock_id].Name[1]*\"'s return over time\" )\n",
    "savefig(stock3,\"stock3.png\");"
   ]
  },
  {
   "cell_type": "code",
   "execution_count": 35,
   "metadata": {},
   "outputs": [],
   "source": [
    "stock_id = 20; # You may change this stock_id to different numbers from 1 to 20\n",
    "stock4= plot( dfs[stock_id].date, stocks_retur[:,stock_id] , label = dfs[stock_id].Name[1], title = dfs[stock_id].Name[1]*\"'s return over time\" )\n",
    "savefig(stock4,\"stock4.png\");"
   ]
  },
  {
   "cell_type": "markdown",
   "metadata": {},
   "source": [
    "For part (b) of this task, we need to estimate the expected return $\\hat{r}_i$ and covariance $\\hat\\rho_{ij}$. Notice that these terms are given by (1.6) in the project specification. For your convenience, they have been calculated as follows:"
   ]
  },
  {
   "cell_type": "code",
   "execution_count": 36,
   "metadata": {},
   "outputs": [],
   "source": [
    "# calculate r_i and Sigma\n",
    "bar_R = [ mean( stocks_retur[:,i] ) for i in 1:length(dfs) ];\n",
    "Sigma = [ mean( (stocks_retur[:,i].-bar_R[i]).*(stocks_retur[:,j].-bar_R[j]) ) for i=1:n, j=1:n ]; "
   ]
  },
  {
   "cell_type": "markdown",
   "metadata": {},
   "source": [
    "where \"bar_R\" is a $20$-dimensional vector containing the expected return $\\hat{r}$ for the stocks; and \"Sigma\" is the $20 \\times 20$ matrix of the covariance. "
   ]
  },
  {
   "cell_type": "markdown",
   "metadata": {},
   "source": [
    "## Task 5: Closed Form Solution to (1.1)\n",
    "\n",
    "This task computes the optimal portfolio using the closed form solution derived in Task 1. Here are a few hints of useful syntax in computing the optimal solution:\n",
    "\n",
    "- To compute the inverse of a square matrix, e.g., \"$\\texttt{Sigma}$\", it can be done by \n",
    "$$\\texttt{Sigma^-1}$$\n",
    "- To create a (column) vector of all ones of $n$-dimensional. you may use \n",
    "$$\\texttt{ones(n)}.$$ \n",
    "- In your closed form solution, you may need encounter something such as ${\\bf 1}^\\top {S} {b}$ for some $n \\times n$ square matrix ${S}$, and $n$-dimensional vector ${b}$. The above expression can be computed in Julia as\n",
    "$$\\texttt{ones(n)'*S*b}$$\n",
    "where $\\texttt{ones(n)'}$ has denoted the transpose of the vector $\\texttt{ones(n)}$. "
   ]
  },
  {
   "cell_type": "code",
   "execution_count": 37,
   "metadata": {},
   "outputs": [],
   "source": [
    "# your code here\n",
    "B = 20;\n",
    "B1=30;\n",
    "B2=40;\n",
    "one_vec = ones(20);\n",
    "Rd = 1.01 * sum(bar_R);\n",
    "Rd1 = 1.1*sum(bar_R);\n",
    "Rd2 = 1.5*sum(bar_R);\n",
    "r0 = bar_R'*Sigma^-1*bar_R;\n",
    "r1 = one_vec'*Sigma^-1*bar_R;\n",
    "r2 = one_vec'*Sigma^-1*one_vec;\n",
    "portfolio_opt = Sigma^-1 *((r0*B-r1*Rd)*one_vec+(r2*Rd-r1*B)*bar_R)/(r0*r2-r1^2);"
   ]
  },
  {
   "cell_type": "code",
   "execution_count": 38,
   "metadata": {},
   "outputs": [],
   "source": [
    "portfolio_opt1 = Sigma^-1 *((r0*B1-r1*Rd)*one_vec+(r2*Rd-r1*B1)*bar_R)/(r0*r2-r1^2);\n",
    "portfolio_opt2 = Sigma^-1 *((r0*B2-r1*Rd)*one_vec+(r2*Rd-r1*B2)*bar_R)/(r0*r2-r1^2);\n",
    "portfolio_opt3 = Sigma^-1 *((r0*B-r1*Rd1)*one_vec+(r2*Rd1-r1*B)*bar_R)/(r0*r2-r1^2);\n",
    "portfolio_opt4 = Sigma^-1 *((r0*B-r1*Rd2)*one_vec+(r2*Rd2-r1*B)*bar_R)/(r0*r2-r1^2);"
   ]
  },
  {
   "cell_type": "markdown",
   "metadata": {},
   "source": [
    "Suppose that $\\texttt{portfolio_opt}$ has been created as a 20-dimensional vector of the optimal portfolio. The following helper code should plot the comparison of the portfolio for you. "
   ]
  },
  {
   "cell_type": "code",
   "execution_count": 39,
   "metadata": {},
   "outputs": [],
   "source": [
    "normal = plot( names_stocks, portfolio_opt, labels = \"portfolio\", xticks = :all )\n",
    "# you may adjust the scale factor \"1000\" to scale up/down the expected return to make it comparable with \n",
    "# the value of the portfolio (*for improved visualization only*).\n",
    "plot!( names_stocks, 3000*bar_R , labels = \"(scaled) expected return\") \n",
    "plot!( names_stocks, 3000*[Sigma[i,i] for i in 1:n], labels = \"(scaled) variance\" )\n",
    "savefig(normal,\"5-normal.png\");"
   ]
  },
  {
   "cell_type": "code",
   "execution_count": 40,
   "metadata": {},
   "outputs": [],
   "source": [
    "B_p=plot( names_stocks, portfolio_opt, labels = \"portfolio-B=20\", xticks = :all )\n",
    "plot!(names_stocks, portfolio_opt1, labels = \"portfolio-B=30\", xticks = :all )\n",
    "plot!(names_stocks, portfolio_opt2, labels = \"portfolio-B=40\", xticks = :all )\n",
    "# you may adjust the scale factor \"1000\" to scale up/down the expected return to make it comparable with \n",
    "# the value of the portfolio (*for improved visualization only*).\n",
    "plot!( names_stocks, 3000*bar_R , labels = \"(scaled) expected return\") \n",
    "plot!( names_stocks, 3000*[Sigma[i,i] for i in 1:n], labels = \"(scaled) variance\" )\n",
    "savefig(B_p,\"5-exp-B.png\")"
   ]
  },
  {
   "cell_type": "code",
   "execution_count": 41,
   "metadata": {},
   "outputs": [],
   "source": [
    "Rd_p=plot( names_stocks, portfolio_opt, labels = \"portfolio-Rd=1.01\", xticks = :all )\n",
    "plot!(names_stocks, portfolio_opt3, labels = \"portfolio-Rd=1.1\", xticks = :all )\n",
    "plot!(names_stocks, portfolio_opt4, labels = \"portfolio-Rd=1.5\", xticks = :all )\n",
    "# you may adjust the scale factor \"1000\" to scale up/down the expected return to make it comparable with \n",
    "# the value of the portfolio (*for improved visualization only*).\n",
    "plot!( names_stocks, 3000*bar_R , labels = \"(scaled) expected return\") \n",
    "plot!( names_stocks, 3000*[Sigma[i,i] for i in 1:n], labels = \"(scaled) variance\" )\n",
    "savefig(Rd_p,\"5-exp-Rd.png\")"
   ]
  },
  {
   "cell_type": "markdown",
   "metadata": {},
   "source": [
    "## Task 6 (a): Mixed Integer Programming Solution\n",
    "\n",
    "For this task, we shall implement the MI-NLP problem. As usual, we have to define the optimization object and specify a few parameters, as follows. The solver we are going to apply is \"Juniper\"."
   ]
  },
  {
   "cell_type": "code",
   "execution_count": 42,
   "metadata": {},
   "outputs": [],
   "source": [
    "# the following code specifies the constants as described in the problem\n",
    "M = 20; B = 20; c = 2; w = 1*ones(n); Rd = 1.01*sum( w.*bar_R ); \n",
    "\n",
    "# the following code setup the JuMP model with the right solver\n",
    "nl_solver = optimizer_with_attributes(Ipopt.Optimizer, \"print_level\"=>0)\n",
    "optimizer = Juniper.Optimizer\n",
    "model = Model(optimizer_with_attributes(optimizer, \"nl_solver\"=>nl_solver, \"atol\"=>1e-10));"
   ]
  },
  {
   "cell_type": "markdown",
   "metadata": {},
   "source": [
    "You can program the MI-NLP problem in the following cell and solve it. Here are a few hints that maybe useful.\n",
    "\n",
    "- To be compatible with the helper codes in the latter section, please call the decision variable for the portfolio by \"x_mip\". \n",
    "- You may use for-loop to specify a large number of constraints. \n",
    "- To model constraint given in the form of \n",
    "$$ \\sum_{i=1}^n x_i y_i \\geq r $$\n",
    "withe the $n$-dimensional vectors $x$, $y$. You may do so by\n",
    "\n",
    "$$ \\texttt{@constraint(model, sum( x .* y ) >= r)} $$\n",
    "\n",
    "where $\\texttt{.*}$ denotes an \"element-wise\" product \n",
    "- To minimize quadratic function of the form\n",
    "$$ f(x) = x^\\top \\Sigma x $$\n",
    "\n",
    "we first notice that \n",
    "\n",
    "$$ f(x) = ( \\Sigma^{1/2} x )^\\top ( \\Sigma^{1/2} x ) $$\n",
    "\n",
    "and the above can be modeled in JuMP by\n",
    "\n",
    "$$ \\texttt{@variable( model, y[1:n] )}$$\n",
    "$$ \\texttt{@constraint( model, y .== sqrt(Sigma)*x );}$$ \n",
    "$$ \\texttt{@NLobjective( model, Min, sum(y[i]^2 for i in 1:n) )} $$\n",
    "\n",
    "Notice that we shall use \"$\\texttt{NLObjective}$ to specify that the objective function is nonlinear."
   ]
  },
  {
   "cell_type": "code",
   "execution_count": 43,
   "metadata": {},
   "outputs": [
    {
     "name": "stdout",
     "output_type": "stream",
     "text": [
      "atol              : 1.0e-10\n",
      "nl_solver         : MathOptInterface.OptimizerWithAttributes(Ipopt.Optimizer, Pair{MathOptInterface.AbstractOptimizerAttribute,Any}[RawParameter(\"print_level\")=>0])\n",
      "feasibility_pump  : false\n",
      "log_levels        : Symbol[:Options, :Table, :Info]\n",
      "\n",
      "#Variables: 60\n",
      "#IntBinVar: 20\n",
      "#Constraints: 82\n",
      "#Linear Constraints: 82\n",
      "#Quadratic Constraints: 0\n",
      "#NonLinear Constraints: 0\n",
      "Obj Sense: Min\n",
      "\n",
      "Start values are not feasible.\n",
      "Status of relaxation: LOCALLY_SOLVED\n",
      "Time for relaxation: 0.12100005149841309\n",
      "Relaxation Obj: 0.004248858348537354\n",
      "\n",
      " ONodes   CLevel          Incumbent                   BestBound            Gap    Time   Restarts  GainGap  \n",
      "============================================================================================================\n",
      "    2       2                 -                          0.0                -     0.6       0         -     \n",
      "    3       3                 -                          0.0                -     0.6       -       77.5%   \n",
      "    4       4                 -                          0.0                -     0.6       -       78.3%   \n",
      "    5       5                 -                          0.0                -     0.7       -       79.2%   \n",
      "    6       6                 -                          0.0                -     0.7       -       79.6%   \n",
      "    7       7                 -                          0.0                -     0.7       -       81.4%   \n",
      "    8       8                 -                          0.0                -     0.8       -       82.7%   \n",
      "    9       9                 -                          0.0                -     0.8       -       84.2%   \n",
      "   10       10                -                          0.0                -     0.8       -       86.0%   \n",
      "   11       11                -                          0.0                -     0.9       -       89.0%   \n",
      "   12       12                -                          0.0                -     0.9       -       90.4%   \n",
      "   13       13                -                          0.0                -     0.9       -       92.3%   \n",
      "   14       14                -                          0.0                -     1.0       -       94.8%   \n",
      "   15       15                -                          0.0                -     1.0       -       97.2%   \n",
      "   16       16                -                          0.0                -     1.0       -       99.6%   \n",
      "   17       17                -                          0.0                -     1.1       -       100.0%  \n",
      "   18       18                -                          0.0                -     1.1       -       100.0%  \n",
      "   19       16                -                          0.0                -     1.1       -       478.9%  \n",
      "   20       17                -                          0.0                -     1.2       -       83.3%   \n",
      "   21       18                -                          0.0                -     1.3       -       96.3%   \n",
      "   22       19                -                          0.0                -     1.3       -       100.0%  \n",
      "   22       20                -                          0.0                -     1.3       -       98.5%   \n",
      "   23       17                -                          0.0                -     1.4       -       93.8%   \n",
      "   24       18                -                          0.0                -     1.4       -       69.9%   \n",
      "   25       15                -                          0.0                -     1.5       -       57.1%   \n",
      "   26       16                -                          0.0                -     1.5       -       434.6%  \n",
      "   27       17                -                          0.0                -     1.5       -       94.1%   \n",
      "    2       21             0.00459                     0.00458            0.19%   1.6       -       97.0%   \n",
      "    3       14             0.004591                    0.004587           0.07%   1.6       -       268.6%  \n",
      "    3       15             0.004591                    0.004587           0.07%   1.6       -       285.9%  \n",
      "    3       16             0.004591                    0.004587           0.07%   1.7       -       94.2%   \n",
      "    2       17             0.004591                    0.004587           0.07%   1.7       -       99.1%   \n",
      "    2       15             0.004591                    0.004588           0.06%   1.8       -       64.8%   \n",
      "    2       16             0.004591                    0.004588           0.06%   1.8       -       92.5%   \n",
      "    2       17             0.004591                    0.004588           0.06%   1.9       -       96.2%   \n",
      "    1       18             0.004591                    0.004588           0.06%   2.0       -       98.9%   \n",
      "\n",
      "#branches: 36\n",
      "Obj: 0.004590697466082379\n"
     ]
    }
   ],
   "source": [
    "# your code here\n",
    "n = 20;\n",
    "@variable(model, k[1:n]);\n",
    "@variable(model, y[1:n], Bin);\n",
    "@variable(model, x_mip[1:n]);\n",
    "@constraint(model, k .== sqrt(Sigma)*(x_mip+w));\n",
    "@constraint(model, sum((x_mip+w) .* bar_R) >= Rd);\n",
    "@constraint(model, sum(x_mip+y.*c)<=B);\n",
    "@constraint(model, x_mip .>= -M.*y);\n",
    "@constraint(model, x_mip .<= M.*y);\n",
    "@constraint(model, x_mip .>= -w);\n",
    "@NLobjective(model, Min, sum(k[i]^2 for i in 1:n));\n",
    "optimize!(model);"
   ]
  },
  {
   "cell_type": "markdown",
   "metadata": {},
   "source": [
    "## Task 6(b): SOCP Solution\n",
    "\n",
    "For this task, we shall implement the SOCP program formulated in Task 3. As usual, we have to define the optimization object and specify a few parameters, as follows. The solver we are going to apply is \"ECOS\"."
   ]
  },
  {
   "cell_type": "code",
   "execution_count": 44,
   "metadata": {},
   "outputs": [],
   "source": [
    "# specify the problem parameters\n",
    "M = 20; B = 20; a = 2; w = ones(n); Rd = 1.01*sum( w.*bar_R ); \n",
    "# specify the JuMP model with ECOS as the optimizer\n",
    "m_socp = Model( ECOS.Optimizer );"
   ]
  },
  {
   "cell_type": "markdown",
   "metadata": {},
   "source": [
    "You may program the SOCP problem into JuMP as follows. Again, for convenience, you may name the decision variable of the portfolio as \"x_socp\". \n",
    "\n",
    "Further, wou may find that some constraints are similar to the MI-NLP from the previous task. However, when you \"copy-and-paste\" those code, don't forget to change the model name and the variable name. Here are some hints on modeling the second order cone constraints:\n",
    "\n",
    "- To model a SOC constraint given in the form\n",
    "\n",
    "$$ \\| Ax + d \\| \\leq c^\\top x + d, $$\n",
    "\n",
    "you can use\n",
    "\n",
    "$$ \\texttt{ @constraint( m_socp, [c'*x + d; A*x + d] in SecondOrderCone() ) } $$\n",
    "\n",
    "Essentially, \"$\\texttt{[c'*x + d; A*x + d]}$\" defines a vector whose first element describes the RHS of the SOC constraint, the the remaining elements describe the vector found inside the norm of the SOC constraint. "
   ]
  },
  {
   "cell_type": "code",
   "execution_count": 45,
   "metadata": {},
   "outputs": [
    {
     "name": "stdout",
     "output_type": "stream",
     "text": [
      "\n",
      "ECOS 2.0.5 - (C) embotech GmbH, Zurich Switzerland, 2012-15. Web: www.embotech.com/ECOS\n",
      "\n",
      "It     pcost       dcost      gap   pres   dres    k/t    mu     step   sigma     IR    |   BT\n",
      " 0  +0.000e+00  -8.984e+02  +1e+03  8e-02  6e-01  1e+00  2e+01    ---    ---    1  1  - |  -  - \n",
      " 1  +1.005e+00  -4.956e+02  +6e+02  4e-02  5e-01  3e+00  1e+01  0.5795  3e-01   1  1  1 |  0  0\n",
      " 2  +7.074e-01  -1.868e+02  +2e+02  2e-02  2e-01  1e+00  4e+00  0.6350  5e-02   1  1  1 |  0  0\n",
      " 3  +1.114e+00  -1.236e+02  +2e+02  1e-02  2e-02  2e+00  2e+00  0.8912  6e-01   1  2  2 |  0  0\n",
      " 4  +1.214e-01  -1.409e+01  +2e+01  1e-03  5e-03  2e-01  3e-01  0.9091  4e-02   2  2  2 |  0  0\n",
      " 5  +1.102e-01  -4.652e-01  +8e-01  5e-05  1e-03  9e-03  1e-02  0.9890  3e-02   2  2  2 |  0  0\n",
      " 6  +8.429e-02  -2.818e-02  +2e-01  1e-05  2e-04  2e-03  3e-03  0.8194  2e-02   1  1  1 |  0  0\n",
      " 7  +8.578e-02  -1.586e-02  +1e-01  9e-06  2e-04  2e-03  2e-03  0.2615  6e-01   1  1  1 |  0  0\n",
      " 8  +7.437e-02  +3.386e-02  +6e-02  4e-06  8e-05  6e-04  9e-04  0.7519  2e-01   1  1  1 |  0  0\n",
      " 9  +7.318e-02  +5.665e-02  +2e-02  1e-06  3e-05  3e-04  4e-04  0.8015  3e-01   1  1  1 |  0  0\n",
      "10  +7.081e-02  +6.807e-02  +4e-03  2e-07  5e-06  4e-05  6e-05  0.8482  2e-02   1  1  1 |  0  0\n",
      "11  +7.049e-02  +6.975e-02  +1e-03  6e-08  1e-06  1e-05  2e-05  0.9410  2e-01   1  1  1 |  0  0\n",
      "12  +7.041e-02  +7.023e-02  +3e-04  2e-08  3e-07  3e-06  4e-06  0.7730  2e-02   1  1  1 |  0  0\n",
      "13  +7.040e-02  +7.027e-02  +2e-04  1e-08  2e-07  2e-06  3e-06  0.4506  4e-01   1  1  1 |  0  0\n",
      "14  +7.039e-02  +7.035e-02  +5e-05  3e-09  6e-08  5e-07  8e-07  0.7789  4e-02   1  1  1 |  0  0\n",
      "15  +7.038e-02  +7.037e-02  +2e-05  1e-09  3e-08  2e-07  3e-07  0.6730  2e-01   2  1  1 |  0  0\n",
      "16  +7.038e-02  +7.038e-02  +6e-06  4e-10  8e-09  7e-08  1e-07  0.7677  7e-02   2  1  1 |  0  0\n",
      "17  +7.038e-02  +7.038e-02  +1e-06  9e-11  2e-09  2e-08  2e-08  0.8634  1e-01   1  1  1 |  0  0\n",
      "18  +7.038e-02  +7.038e-02  +3e-07  2e-11  4e-10  4e-09  5e-09  0.8095  4e-02   1  1  1 |  0  0\n",
      "19  +7.038e-02  +7.038e-02  +4e-08  2e-12  5e-11  4e-10  6e-10  0.9526  7e-02   2  1  1 |  0  0\n",
      "20  +7.038e-02  +7.038e-02  +5e-09  8e-13  7e-12  6e-11  9e-11  0.8583  1e-02   3  1  1 |  0  0\n",
      "\n",
      "OPTIMAL (within feastol=7.1e-12, reltol=7.6e-08, abstol=5.4e-09).\n",
      "Runtime: 0.001252 seconds.\n",
      "\n"
     ]
    }
   ],
   "source": [
    "# your code here\n",
    "using LinearAlgebra\n",
    "n = 20;\n",
    "a1 = zeros(n+1,n+1);\n",
    "b1 = [Rd;zeros(n)];\n",
    "c1 = [0;bar_R];\n",
    "d1 = bar_R'*w;\n",
    "a2 = [zeros(n) sqrt(a).*Array{Float64}(I,n,n)];\n",
    "b2 = 1/(2*sqrt(a)).*ones(n);\n",
    "d2 = sqrt(B+n/(4*a));\n",
    "a3 = [zeros(n) sqrt(Sigma)];\n",
    "b3 = sqrt(Sigma)*w;\n",
    "c3 = [1;zeros(n)];\n",
    "@variable(m_socp,x_socp[1:n+1]);\n",
    "@constraint(m_socp,[c1'*x_socp+d1;a1*x_socp+b1] in SecondOrderCone());\n",
    "@constraint(m_socp,[d2;a2*x_socp+b2] in SecondOrderCone());\n",
    "@constraint(m_socp,[c3'*x_socp;a3*x_socp+b3] in SecondOrderCone());\n",
    "@constraint(m_socp,[i=2:n+1],-M <= x_socp[i] <= M);\n",
    "@constraint(m_socp,[i=2:n+1],x_socp[i] >= -w[i-1]);\n",
    "@objective(m_socp, Min, x_socp[1]);\n",
    "optimize!(m_socp)"
   ]
  },
  {
   "cell_type": "markdown",
   "metadata": {},
   "source": [
    "## Task 6(c): Plotting the portfolios found\n",
    "\n",
    "Given that you have programmed and executed the optimization problems correctly, the following helper code shall plot the portfolios nicely for you. "
   ]
  },
  {
   "cell_type": "code",
   "execution_count": 46,
   "metadata": {},
   "outputs": [],
   "source": [
    "com = plot( names_stocks, portfolio_opt, labels = \"unconstrained portfolio\" )\n",
    "plot!( names_stocks, JuMP.value.(x_mip + w), labels = \"MI-NLP\")\n",
    "plot!( names_stocks, JuMP.value.(x_socp[2:n+1] + w), labels = \"SOCP\")\n",
    "plot!( names_stocks, 3000*bar_R, labels =\"(Scaled) Expected Return\")\n",
    "plot!( names_stocks, 3000*[Sigma[i,i] for i in 1:n], labels =\"(Scaled) Variance\")\n",
    "savefig(com, \"three.png\")"
   ]
  },
  {
   "cell_type": "markdown",
   "metadata": {},
   "source": [
    "## Task 7: Evaluating the Solution on Testing Set\n",
    "\n",
    "Again, provided that you have programmed and executed the optimization problems correctly, the following helper code shall compute the Sharpe ratio and other benchmarks for you."
   ]
  },
  {
   "cell_type": "code",
   "execution_count": 47,
   "metadata": {},
   "outputs": [
    {
     "name": "stdout",
     "output_type": "stream",
     "text": [
      "Sharpe Ratio = 0.0774304690440949, Return = 0.004365910354997727, Tx Cost = 28, Portfo Value = 11.160588194426605"
     ]
    }
   ],
   "source": [
    "sharpe_IP = sharpe_ratio( path_subgroup, JuMP.value.(x_mip), ones(n), 2 );"
   ]
  },
  {
   "cell_type": "code",
   "execution_count": 48,
   "metadata": {},
   "outputs": [
    {
     "name": "stdout",
     "output_type": "stream",
     "text": [
      "Sharpe Ratio = 0.062327854157761015, Return = 0.0034451790827156716, Tx Cost = 40, Portfo Value = 11.226746195677338"
     ]
    }
   ],
   "source": [
    "sharpe_SOCP = sharpe_ratio( path_subgroup, JuMP.value.(x_socp[2:n+1]), ones(n) , 2 );"
   ]
  },
  {
   "cell_type": "code",
   "execution_count": 49,
   "metadata": {},
   "outputs": [
    {
     "name": "stdout",
     "output_type": "stream",
     "text": [
      "Sharpe Ratio = 0.10687408899641698, Return = 0.010452885714344946, Tx Cost = 40, Portfo Value = 19.99999999999999"
     ]
    }
   ],
   "source": [
    "sharpe_Opt = sharpe_ratio( path_subgroup, portfolio_opt, zeros(n), 2 );"
   ]
  },
  {
   "cell_type": "markdown",
   "metadata": {},
   "source": [
    "# Part II - Competitive Task"
   ]
  },
  {
   "cell_type": "markdown",
   "metadata": {},
   "source": [
    "In the compulsory task, we shall implement a projected gradient method (using a constant step size) for the approximated Portfolio optimization problem. \n",
    "\n",
    "We shall consider the full portfolio optimization problem. For this, let us first load the stock data with the following helper code."
   ]
  },
  {
   "cell_type": "code",
   "execution_count": 50,
   "metadata": {},
   "outputs": [],
   "source": [
    "# load the full data set!\n",
    "files = glob( \"*_train.csv\", \"./ftec_project_files/\");\n",
    "dfs = DataFrame.( CSV.File.( files ) );\n",
    "T = 800; n = length(dfs);\n",
    "stocks_retur_full = zeros(T,n);\n",
    "for i = 1:n\n",
    "    # compute the realized return R_i(t)\n",
    "    stocks_retur_full[:,i] = (dfs[i].close-dfs[i].open) ./ dfs[i].open;\n",
    "end\n",
    "names_stocks_full = [ dfs[i].Name[1] for i in 1:n ];\n",
    "# calculate r_i and Sigma\n",
    "bar_R_full = [ mean( stocks_retur_full[:,i] ) for i in 1:length(dfs) ];\n",
    "Sigma_full = [ mean( (stocks_retur_full[:,i].-bar_R_full[i]).*(stocks_retur_full[:,j].-bar_R_full[j]) ) for i=1:n, j=1:n ]; "
   ]
  },
  {
   "cell_type": "markdown",
   "metadata": {},
   "source": [
    "Notice that \"bar_R_full\" is the expected return for all the $n=471$ stocks considered, and \"Sigma_full\" is the $471 \\times 471$ covariance matrix for them. "
   ]
  },
  {
   "cell_type": "markdown",
   "metadata": {},
   "source": [
    "## Task 8: Implementing a Customized Solver for Approximated problem\n",
    "\n",
    "You shall write a few helper functions to compute the objective values, the gradient vector, the projection into the box constraint, etc.. to help you with implementing the customized solver. Some useful syntax are as follows:\n",
    "\n",
    "- For a nonlinear function $h(z)$ (such as the Huber function) on a scalar $z$. Suppose that $x$ is an $n$-dimensional vector, to create the vector \n",
    "\n",
    "$$ [h(x)]_i = h(x_i) $$\n",
    "\n",
    "you may use the syntax\n",
    "\n",
    "$$ \\texttt{h.(x)} $$\n",
    "\n",
    "where the \".\" after \"h\" broadcasts the function to every elements of the vector. \n",
    "- Note that the objective function should be dependent on \"x\", \"w\", \"a\", \"bar_R_full\", \"Sigma_full\", \"upsilon\", \"zeta\". "
   ]
  },
  {
   "cell_type": "code",
   "execution_count": 51,
   "metadata": {},
   "outputs": [],
   "source": [
    "# your code/functions here"
   ]
  },
  {
   "cell_type": "markdown",
   "metadata": {},
   "source": [
    "You may program the iterative algorithm of your choice as follows. "
   ]
  },
  {
   "cell_type": "code",
   "execution_count": 52,
   "metadata": {},
   "outputs": [
    {
     "ename": "UndefVarError",
     "evalue": "UndefVarError: .. not defined",
     "output_type": "error",
     "traceback": [
      "UndefVarError: .. not defined",
      "",
      "Stacktrace:",
      " [1] top-level scope at In[52]:7"
     ]
    }
   ],
   "source": [
    "# set the parameters as specified by the problem\n",
    "M = 20; w = 1*ones(n); a = 0.75; upsilon = 1000; lambda = 0.5; delta = 0.01;\n",
    "\n",
    "# initialize the algorithm\n",
    "x_custom = zeros(n); \n",
    "store_obj = []\n",
    "push!(store_obj, .. ) # replace \"..\" with the function you wrote for computing the objective val.\n",
    "\n",
    "# calculate l and u - your code here (should be a simple formula)\n",
    "\n",
    "\n",
    "for iteration_no = 1 : 50000 # feel free to adjust the number of iterations run here.\n",
    "    # your code here\n",
    "    \n",
    "    push!(store_obj, .. ) # replace \"..\" with the function you wrote for computing the objective val.\n",
    "end"
   ]
  },
  {
   "cell_type": "code",
   "execution_count": 53,
   "metadata": {},
   "outputs": [
    {
     "data": {
      "image/svg+xml": [
       "<?xml version=\"1.0\" encoding=\"utf-8\"?>\n",
       "<svg xmlns=\"http://www.w3.org/2000/svg\" xmlns:xlink=\"http://www.w3.org/1999/xlink\" width=\"600\" height=\"400\" viewBox=\"0 0 2400 1600\">\n",
       "<defs>\n",
       "  <clipPath id=\"clip890\">\n",
       "    <rect x=\"0\" y=\"0\" width=\"2400\" height=\"1600\"/>\n",
       "  </clipPath>\n",
       "</defs>\n",
       "<path clip-path=\"url(#clip890)\" d=\"\n",
       "M0 1600 L2400 1600 L2400 0 L0 0  Z\n",
       "  \" fill=\"#ffffff\" fill-rule=\"evenodd\" fill-opacity=\"1\"/>\n",
       "<defs>\n",
       "  <clipPath id=\"clip891\">\n",
       "    <rect x=\"480\" y=\"0\" width=\"1681\" height=\"1600\"/>\n",
       "  </clipPath>\n",
       "</defs>\n",
       "<path clip-path=\"url(#clip890)\" d=\"\n",
       "M174.862 1486.45 L2352.76 1486.45 L2352.76 123.472 L174.862 123.472  Z\n",
       "  \" fill=\"#ffffff\" fill-rule=\"evenodd\" fill-opacity=\"1\"/>\n",
       "<defs>\n",
       "  <clipPath id=\"clip892\">\n",
       "    <rect x=\"174\" y=\"123\" width=\"2179\" height=\"1364\"/>\n",
       "  </clipPath>\n",
       "</defs>\n",
       "<polyline clip-path=\"url(#clip892)\" style=\"stroke:#000000; stroke-width:2; stroke-opacity:0.1; fill:none\" points=\"\n",
       "  236.501,1486.45 236.501,123.472 \n",
       "  \"/>\n",
       "<polyline clip-path=\"url(#clip892)\" style=\"stroke:#000000; stroke-width:2; stroke-opacity:0.1; fill:none\" points=\"\n",
       "  750.155,1486.45 750.155,123.472 \n",
       "  \"/>\n",
       "<polyline clip-path=\"url(#clip892)\" style=\"stroke:#000000; stroke-width:2; stroke-opacity:0.1; fill:none\" points=\"\n",
       "  1263.81,1486.45 1263.81,123.472 \n",
       "  \"/>\n",
       "<polyline clip-path=\"url(#clip892)\" style=\"stroke:#000000; stroke-width:2; stroke-opacity:0.1; fill:none\" points=\"\n",
       "  1777.46,1486.45 1777.46,123.472 \n",
       "  \"/>\n",
       "<polyline clip-path=\"url(#clip892)\" style=\"stroke:#000000; stroke-width:2; stroke-opacity:0.1; fill:none\" points=\"\n",
       "  2291.12,1486.45 2291.12,123.472 \n",
       "  \"/>\n",
       "<polyline clip-path=\"url(#clip892)\" style=\"stroke:#000000; stroke-width:2; stroke-opacity:0.1; fill:none\" points=\"\n",
       "  174.862,1447.87 2352.76,1447.87 \n",
       "  \"/>\n",
       "<polyline clip-path=\"url(#clip892)\" style=\"stroke:#000000; stroke-width:2; stroke-opacity:0.1; fill:none\" points=\"\n",
       "  174.862,1126.42 2352.76,1126.42 \n",
       "  \"/>\n",
       "<polyline clip-path=\"url(#clip892)\" style=\"stroke:#000000; stroke-width:2; stroke-opacity:0.1; fill:none\" points=\"\n",
       "  174.862,804.96 2352.76,804.96 \n",
       "  \"/>\n",
       "<polyline clip-path=\"url(#clip892)\" style=\"stroke:#000000; stroke-width:2; stroke-opacity:0.1; fill:none\" points=\"\n",
       "  174.862,483.503 2352.76,483.503 \n",
       "  \"/>\n",
       "<polyline clip-path=\"url(#clip892)\" style=\"stroke:#000000; stroke-width:2; stroke-opacity:0.1; fill:none\" points=\"\n",
       "  174.862,162.047 2352.76,162.047 \n",
       "  \"/>\n",
       "<polyline clip-path=\"url(#clip890)\" style=\"stroke:#000000; stroke-width:4; stroke-opacity:1; fill:none\" points=\"\n",
       "  174.862,1486.45 2352.76,1486.45 \n",
       "  \"/>\n",
       "<polyline clip-path=\"url(#clip890)\" style=\"stroke:#000000; stroke-width:4; stroke-opacity:1; fill:none\" points=\"\n",
       "  174.862,1486.45 174.862,123.472 \n",
       "  \"/>\n",
       "<polyline clip-path=\"url(#clip890)\" style=\"stroke:#000000; stroke-width:4; stroke-opacity:1; fill:none\" points=\"\n",
       "  236.501,1486.45 236.501,1470.09 \n",
       "  \"/>\n",
       "<polyline clip-path=\"url(#clip890)\" style=\"stroke:#000000; stroke-width:4; stroke-opacity:1; fill:none\" points=\"\n",
       "  750.155,1486.45 750.155,1470.09 \n",
       "  \"/>\n",
       "<polyline clip-path=\"url(#clip890)\" style=\"stroke:#000000; stroke-width:4; stroke-opacity:1; fill:none\" points=\"\n",
       "  1263.81,1486.45 1263.81,1470.09 \n",
       "  \"/>\n",
       "<polyline clip-path=\"url(#clip890)\" style=\"stroke:#000000; stroke-width:4; stroke-opacity:1; fill:none\" points=\"\n",
       "  1777.46,1486.45 1777.46,1470.09 \n",
       "  \"/>\n",
       "<polyline clip-path=\"url(#clip890)\" style=\"stroke:#000000; stroke-width:4; stroke-opacity:1; fill:none\" points=\"\n",
       "  2291.12,1486.45 2291.12,1470.09 \n",
       "  \"/>\n",
       "<polyline clip-path=\"url(#clip890)\" style=\"stroke:#000000; stroke-width:4; stroke-opacity:1; fill:none\" points=\"\n",
       "  174.862,1447.87 200.997,1447.87 \n",
       "  \"/>\n",
       "<polyline clip-path=\"url(#clip890)\" style=\"stroke:#000000; stroke-width:4; stroke-opacity:1; fill:none\" points=\"\n",
       "  174.862,1126.42 200.997,1126.42 \n",
       "  \"/>\n",
       "<polyline clip-path=\"url(#clip890)\" style=\"stroke:#000000; stroke-width:4; stroke-opacity:1; fill:none\" points=\"\n",
       "  174.862,804.96 200.997,804.96 \n",
       "  \"/>\n",
       "<polyline clip-path=\"url(#clip890)\" style=\"stroke:#000000; stroke-width:4; stroke-opacity:1; fill:none\" points=\"\n",
       "  174.862,483.503 200.997,483.503 \n",
       "  \"/>\n",
       "<polyline clip-path=\"url(#clip890)\" style=\"stroke:#000000; stroke-width:4; stroke-opacity:1; fill:none\" points=\"\n",
       "  174.862,162.047 200.997,162.047 \n",
       "  \"/>\n",
       "<path clip-path=\"url(#clip890)\" d=\"M 0 0 M204.51 1508.44 Q200.899 1508.44 199.07 1512 Q197.265 1515.55 197.265 1522.67 Q197.265 1529.78 199.07 1533.35 Q200.899 1536.89 204.51 1536.89 Q208.144 1536.89 209.95 1533.35 Q211.778 1529.78 211.778 1522.67 Q211.778 1515.55 209.95 1512 Q208.144 1508.44 204.51 1508.44 M204.51 1504.73 Q210.32 1504.73 213.376 1509.34 Q216.454 1513.92 216.454 1522.67 Q216.454 1531.4 213.376 1536.01 Q210.32 1540.59 204.51 1540.59 Q198.7 1540.59 195.621 1536.01 Q192.566 1531.4 192.566 1522.67 Q192.566 1513.92 195.621 1509.34 Q198.7 1504.73 204.51 1504.73 Z\" fill=\"#000000\" fill-rule=\"evenodd\" fill-opacity=\"1\" /><path clip-path=\"url(#clip890)\" d=\"M 0 0 M221.524 1534.04 L226.408 1534.04 L226.408 1539.92 L221.524 1539.92 L221.524 1534.04 Z\" fill=\"#000000\" fill-rule=\"evenodd\" fill-opacity=\"1\" /><path clip-path=\"url(#clip890)\" d=\"M 0 0 M241.477 1508.44 Q237.866 1508.44 236.038 1512 Q234.232 1515.55 234.232 1522.67 Q234.232 1529.78 236.038 1533.35 Q237.866 1536.89 241.477 1536.89 Q245.112 1536.89 246.917 1533.35 Q248.746 1529.78 248.746 1522.67 Q248.746 1515.55 246.917 1512 Q245.112 1508.44 241.477 1508.44 M241.477 1504.73 Q247.288 1504.73 250.343 1509.34 Q253.422 1513.92 253.422 1522.67 Q253.422 1531.4 250.343 1536.01 Q247.288 1540.59 241.477 1540.59 Q235.667 1540.59 232.589 1536.01 Q229.533 1531.4 229.533 1522.67 Q229.533 1513.92 232.589 1509.34 Q235.667 1504.73 241.477 1504.73 Z\" fill=\"#000000\" fill-rule=\"evenodd\" fill-opacity=\"1\" /><path clip-path=\"url(#clip890)\" d=\"M 0 0 M268.491 1508.44 Q264.88 1508.44 263.051 1512 Q261.246 1515.55 261.246 1522.67 Q261.246 1529.78 263.051 1533.35 Q264.88 1536.89 268.491 1536.89 Q272.125 1536.89 273.931 1533.35 Q275.76 1529.78 275.76 1522.67 Q275.76 1515.55 273.931 1512 Q272.125 1508.44 268.491 1508.44 M268.491 1504.73 Q274.301 1504.73 277.357 1509.34 Q280.435 1513.92 280.435 1522.67 Q280.435 1531.4 277.357 1536.01 Q274.301 1540.59 268.491 1540.59 Q262.681 1540.59 259.602 1536.01 Q256.547 1531.4 256.547 1522.67 Q256.547 1513.92 259.602 1509.34 Q262.681 1504.73 268.491 1504.73 Z\" fill=\"#000000\" fill-rule=\"evenodd\" fill-opacity=\"1\" /><path clip-path=\"url(#clip890)\" d=\"M 0 0 M719.46 1508.44 Q715.849 1508.44 714.021 1512 Q712.215 1515.55 712.215 1522.67 Q712.215 1529.78 714.021 1533.35 Q715.849 1536.89 719.46 1536.89 Q723.095 1536.89 724.9 1533.35 Q726.729 1529.78 726.729 1522.67 Q726.729 1515.55 724.9 1512 Q723.095 1508.44 719.46 1508.44 M719.46 1504.73 Q725.271 1504.73 728.326 1509.34 Q731.405 1513.92 731.405 1522.67 Q731.405 1531.4 728.326 1536.01 Q725.271 1540.59 719.46 1540.59 Q713.65 1540.59 710.572 1536.01 Q707.516 1531.4 707.516 1522.67 Q707.516 1513.92 710.572 1509.34 Q713.65 1504.73 719.46 1504.73 Z\" fill=\"#000000\" fill-rule=\"evenodd\" fill-opacity=\"1\" /><path clip-path=\"url(#clip890)\" d=\"M 0 0 M736.474 1534.04 L741.358 1534.04 L741.358 1539.92 L736.474 1539.92 L736.474 1534.04 Z\" fill=\"#000000\" fill-rule=\"evenodd\" fill-opacity=\"1\" /><path clip-path=\"url(#clip890)\" d=\"M 0 0 M750.456 1535.98 L766.775 1535.98 L766.775 1539.92 L744.831 1539.92 L744.831 1535.98 Q747.493 1533.23 752.076 1528.6 Q756.682 1523.95 757.863 1522.61 Q760.108 1520.08 760.988 1518.35 Q761.891 1516.59 761.891 1514.9 Q761.891 1512.14 759.946 1510.41 Q758.025 1508.67 754.923 1508.67 Q752.724 1508.67 750.27 1509.43 Q747.84 1510.2 745.062 1511.75 L745.062 1507.03 Q747.886 1505.89 750.34 1505.31 Q752.794 1504.73 754.831 1504.73 Q760.201 1504.73 763.395 1507.42 Q766.59 1510.11 766.59 1514.6 Q766.59 1516.73 765.78 1518.65 Q764.993 1520.54 762.886 1523.14 Q762.307 1523.81 759.206 1527.03 Q756.104 1530.22 750.456 1535.98 Z\" fill=\"#000000\" fill-rule=\"evenodd\" fill-opacity=\"1\" /><path clip-path=\"url(#clip890)\" d=\"M 0 0 M771.891 1505.36 L790.247 1505.36 L790.247 1509.3 L776.173 1509.3 L776.173 1517.77 Q777.192 1517.42 778.21 1517.26 Q779.229 1517.07 780.247 1517.07 Q786.034 1517.07 789.414 1520.24 Q792.793 1523.42 792.793 1528.83 Q792.793 1534.41 789.321 1537.51 Q785.849 1540.59 779.53 1540.59 Q777.354 1540.59 775.085 1540.22 Q772.84 1539.85 770.432 1539.11 L770.432 1534.41 Q772.516 1535.54 774.738 1536.1 Q776.96 1536.66 779.437 1536.66 Q783.442 1536.66 785.78 1534.55 Q788.118 1532.44 788.118 1528.83 Q788.118 1525.22 785.78 1523.11 Q783.442 1521.01 779.437 1521.01 Q777.562 1521.01 775.687 1521.42 Q773.835 1521.84 771.891 1522.72 L771.891 1505.36 Z\" fill=\"#000000\" fill-rule=\"evenodd\" fill-opacity=\"1\" /><path clip-path=\"url(#clip890)\" d=\"M 0 0 M1232.32 1508.44 Q1228.7 1508.44 1226.88 1512 Q1225.07 1515.55 1225.07 1522.67 Q1225.07 1529.78 1226.88 1533.35 Q1228.7 1536.89 1232.32 1536.89 Q1235.95 1536.89 1237.76 1533.35 Q1239.58 1529.78 1239.58 1522.67 Q1239.58 1515.55 1237.76 1512 Q1235.95 1508.44 1232.32 1508.44 M1232.32 1504.73 Q1238.13 1504.73 1241.18 1509.34 Q1244.26 1513.92 1244.26 1522.67 Q1244.26 1531.4 1241.18 1536.01 Q1238.13 1540.59 1232.32 1540.59 Q1226.51 1540.59 1223.43 1536.01 Q1220.37 1531.4 1220.37 1522.67 Q1220.37 1513.92 1223.43 1509.34 Q1226.51 1504.73 1232.32 1504.73 Z\" fill=\"#000000\" fill-rule=\"evenodd\" fill-opacity=\"1\" /><path clip-path=\"url(#clip890)\" d=\"M 0 0 M1249.33 1534.04 L1254.21 1534.04 L1254.21 1539.92 L1249.33 1539.92 L1249.33 1534.04 Z\" fill=\"#000000\" fill-rule=\"evenodd\" fill-opacity=\"1\" /><path clip-path=\"url(#clip890)\" d=\"M 0 0 M1259.33 1505.36 L1277.69 1505.36 L1277.69 1509.3 L1263.61 1509.3 L1263.61 1517.77 Q1264.63 1517.42 1265.65 1517.26 Q1266.67 1517.07 1267.69 1517.07 Q1273.47 1517.07 1276.85 1520.24 Q1280.23 1523.42 1280.23 1528.83 Q1280.23 1534.41 1276.76 1537.51 Q1273.29 1540.59 1266.97 1540.59 Q1264.79 1540.59 1262.52 1540.22 Q1260.28 1539.85 1257.87 1539.11 L1257.87 1534.41 Q1259.95 1535.54 1262.18 1536.1 Q1264.4 1536.66 1266.88 1536.66 Q1270.88 1536.66 1273.22 1534.55 Q1275.56 1532.44 1275.56 1528.83 Q1275.56 1525.22 1273.22 1523.11 Q1270.88 1521.01 1266.88 1521.01 Q1265 1521.01 1263.13 1521.42 Q1261.27 1521.84 1259.33 1522.72 L1259.33 1505.36 Z\" fill=\"#000000\" fill-rule=\"evenodd\" fill-opacity=\"1\" /><path clip-path=\"url(#clip890)\" d=\"M 0 0 M1295.3 1508.44 Q1291.69 1508.44 1289.86 1512 Q1288.06 1515.55 1288.06 1522.67 Q1288.06 1529.78 1289.86 1533.35 Q1291.69 1536.89 1295.3 1536.89 Q1298.94 1536.89 1300.74 1533.35 Q1302.57 1529.78 1302.57 1522.67 Q1302.57 1515.55 1300.74 1512 Q1298.94 1508.44 1295.3 1508.44 M1295.3 1504.73 Q1301.11 1504.73 1304.17 1509.34 Q1307.25 1513.92 1307.25 1522.67 Q1307.25 1531.4 1304.17 1536.01 Q1301.11 1540.59 1295.3 1540.59 Q1289.49 1540.59 1286.41 1536.01 Q1283.36 1531.4 1283.36 1522.67 Q1283.36 1513.92 1286.41 1509.34 Q1289.49 1504.73 1295.3 1504.73 Z\" fill=\"#000000\" fill-rule=\"evenodd\" fill-opacity=\"1\" /><path clip-path=\"url(#clip890)\" d=\"M 0 0 M1746.42 1508.44 Q1742.81 1508.44 1740.98 1512 Q1739.18 1515.55 1739.18 1522.67 Q1739.18 1529.78 1740.98 1533.35 Q1742.81 1536.89 1746.42 1536.89 Q1750.06 1536.89 1751.86 1533.35 Q1753.69 1529.78 1753.69 1522.67 Q1753.69 1515.55 1751.86 1512 Q1750.06 1508.44 1746.42 1508.44 M1746.42 1504.73 Q1752.23 1504.73 1755.29 1509.34 Q1758.37 1513.92 1758.37 1522.67 Q1758.37 1531.4 1755.29 1536.01 Q1752.23 1540.59 1746.42 1540.59 Q1740.61 1540.59 1737.53 1536.01 Q1734.48 1531.4 1734.48 1522.67 Q1734.48 1513.92 1737.53 1509.34 Q1740.61 1504.73 1746.42 1504.73 Z\" fill=\"#000000\" fill-rule=\"evenodd\" fill-opacity=\"1\" /><path clip-path=\"url(#clip890)\" d=\"M 0 0 M1763.44 1534.04 L1768.32 1534.04 L1768.32 1539.92 L1763.44 1539.92 L1763.44 1534.04 Z\" fill=\"#000000\" fill-rule=\"evenodd\" fill-opacity=\"1\" /><path clip-path=\"url(#clip890)\" d=\"M 0 0 M1772.21 1505.36 L1794.43 1505.36 L1794.43 1507.35 L1781.88 1539.92 L1777 1539.92 L1788.81 1509.3 L1772.21 1509.3 L1772.21 1505.36 Z\" fill=\"#000000\" fill-rule=\"evenodd\" fill-opacity=\"1\" /><path clip-path=\"url(#clip890)\" d=\"M 0 0 M1799.55 1505.36 L1817.9 1505.36 L1817.9 1509.3 L1803.83 1509.3 L1803.83 1517.77 Q1804.85 1517.42 1805.87 1517.26 Q1806.88 1517.07 1807.9 1517.07 Q1813.69 1517.07 1817.07 1520.24 Q1820.45 1523.42 1820.45 1528.83 Q1820.45 1534.41 1816.98 1537.51 Q1813.5 1540.59 1807.19 1540.59 Q1805.01 1540.59 1802.74 1540.22 Q1800.5 1539.85 1798.09 1539.11 L1798.09 1534.41 Q1800.17 1535.54 1802.39 1536.1 Q1804.62 1536.66 1807.09 1536.66 Q1811.1 1536.66 1813.44 1534.55 Q1815.77 1532.44 1815.77 1528.83 Q1815.77 1525.22 1813.44 1523.11 Q1811.1 1521.01 1807.09 1521.01 Q1805.22 1521.01 1803.34 1521.42 Q1801.49 1521.84 1799.55 1522.72 L1799.55 1505.36 Z\" fill=\"#000000\" fill-rule=\"evenodd\" fill-opacity=\"1\" /><path clip-path=\"url(#clip890)\" d=\"M 0 0 M2249.51 1535.98 L2257.15 1535.98 L2257.15 1509.62 L2248.84 1511.29 L2248.84 1507.03 L2257.1 1505.36 L2261.78 1505.36 L2261.78 1535.98 L2269.42 1535.98 L2269.42 1539.92 L2249.51 1539.92 L2249.51 1535.98 Z\" fill=\"#000000\" fill-rule=\"evenodd\" fill-opacity=\"1\" /><path clip-path=\"url(#clip890)\" d=\"M 0 0 M2274.49 1534.04 L2279.37 1534.04 L2279.37 1539.92 L2274.49 1539.92 L2274.49 1534.04 Z\" fill=\"#000000\" fill-rule=\"evenodd\" fill-opacity=\"1\" /><path clip-path=\"url(#clip890)\" d=\"M 0 0 M2294.44 1508.44 Q2290.83 1508.44 2289 1512 Q2287.19 1515.55 2287.19 1522.67 Q2287.19 1529.78 2289 1533.35 Q2290.83 1536.89 2294.44 1536.89 Q2298.07 1536.89 2299.88 1533.35 Q2301.71 1529.78 2301.71 1522.67 Q2301.71 1515.55 2299.88 1512 Q2298.07 1508.44 2294.44 1508.44 M2294.44 1504.73 Q2300.25 1504.73 2303.3 1509.34 Q2306.38 1513.92 2306.38 1522.67 Q2306.38 1531.4 2303.3 1536.01 Q2300.25 1540.59 2294.44 1540.59 Q2288.63 1540.59 2285.55 1536.01 Q2282.49 1531.4 2282.49 1522.67 Q2282.49 1513.92 2285.55 1509.34 Q2288.63 1504.73 2294.44 1504.73 Z\" fill=\"#000000\" fill-rule=\"evenodd\" fill-opacity=\"1\" /><path clip-path=\"url(#clip890)\" d=\"M 0 0 M2321.45 1508.44 Q2317.84 1508.44 2316.01 1512 Q2314.21 1515.55 2314.21 1522.67 Q2314.21 1529.78 2316.01 1533.35 Q2317.84 1536.89 2321.45 1536.89 Q2325.09 1536.89 2326.89 1533.35 Q2328.72 1529.78 2328.72 1522.67 Q2328.72 1515.55 2326.89 1512 Q2325.09 1508.44 2321.45 1508.44 M2321.45 1504.73 Q2327.26 1504.73 2330.32 1509.34 Q2333.4 1513.92 2333.4 1522.67 Q2333.4 1531.4 2330.32 1536.01 Q2327.26 1540.59 2321.45 1540.59 Q2315.64 1540.59 2312.56 1536.01 Q2309.51 1531.4 2309.51 1522.67 Q2309.51 1513.92 2312.56 1509.34 Q2315.64 1504.73 2321.45 1504.73 Z\" fill=\"#000000\" fill-rule=\"evenodd\" fill-opacity=\"1\" /><path clip-path=\"url(#clip890)\" d=\"M 0 0 M74.9365 1433.67 Q71.3254 1433.67 69.4967 1437.24 Q67.6912 1440.78 67.6912 1447.91 Q67.6912 1455.01 69.4967 1458.58 Q71.3254 1462.12 74.9365 1462.12 Q78.5707 1462.12 80.3763 1458.58 Q82.205 1455.01 82.205 1447.91 Q82.205 1440.78 80.3763 1437.24 Q78.5707 1433.67 74.9365 1433.67 M74.9365 1429.97 Q80.7467 1429.97 83.8022 1434.57 Q86.8809 1439.16 86.8809 1447.91 Q86.8809 1456.63 83.8022 1461.24 Q80.7467 1465.82 74.9365 1465.82 Q69.1264 1465.82 66.0477 1461.24 Q62.9921 1456.63 62.9921 1447.91 Q62.9921 1439.16 66.0477 1434.57 Q69.1264 1429.97 74.9365 1429.97 Z\" fill=\"#000000\" fill-rule=\"evenodd\" fill-opacity=\"1\" /><path clip-path=\"url(#clip890)\" d=\"M 0 0 M91.9503 1459.27 L96.8345 1459.27 L96.8345 1465.15 L91.9503 1465.15 L91.9503 1459.27 Z\" fill=\"#000000\" fill-rule=\"evenodd\" fill-opacity=\"1\" /><path clip-path=\"url(#clip890)\" d=\"M 0 0 M111.904 1433.67 Q108.293 1433.67 106.464 1437.24 Q104.659 1440.78 104.659 1447.91 Q104.659 1455.01 106.464 1458.58 Q108.293 1462.12 111.904 1462.12 Q115.538 1462.12 117.344 1458.58 Q119.172 1455.01 119.172 1447.91 Q119.172 1440.78 117.344 1437.24 Q115.538 1433.67 111.904 1433.67 M111.904 1429.97 Q117.714 1429.97 120.77 1434.57 Q123.848 1439.16 123.848 1447.91 Q123.848 1456.63 120.77 1461.24 Q117.714 1465.82 111.904 1465.82 Q106.094 1465.82 103.015 1461.24 Q99.9595 1456.63 99.9595 1447.91 Q99.9595 1439.16 103.015 1434.57 Q106.094 1429.97 111.904 1429.97 Z\" fill=\"#000000\" fill-rule=\"evenodd\" fill-opacity=\"1\" /><path clip-path=\"url(#clip890)\" d=\"M 0 0 M138.918 1433.67 Q135.307 1433.67 133.478 1437.24 Q131.672 1440.78 131.672 1447.91 Q131.672 1455.01 133.478 1458.58 Q135.307 1462.12 138.918 1462.12 Q142.552 1462.12 144.357 1458.58 Q146.186 1455.01 146.186 1447.91 Q146.186 1440.78 144.357 1437.24 Q142.552 1433.67 138.918 1433.67 M138.918 1429.97 Q144.728 1429.97 147.783 1434.57 Q150.862 1439.16 150.862 1447.91 Q150.862 1456.63 147.783 1461.24 Q144.728 1465.82 138.918 1465.82 Q133.107 1465.82 130.029 1461.24 Q126.973 1456.63 126.973 1447.91 Q126.973 1439.16 130.029 1434.57 Q133.107 1429.97 138.918 1429.97 Z\" fill=\"#000000\" fill-rule=\"evenodd\" fill-opacity=\"1\" /><path clip-path=\"url(#clip890)\" d=\"M 0 0 M77.5291 1112.22 Q73.918 1112.22 72.0893 1115.78 Q70.2838 1119.32 70.2838 1126.45 Q70.2838 1133.56 72.0893 1137.12 Q73.918 1140.66 77.5291 1140.66 Q81.1633 1140.66 82.9689 1137.12 Q84.7976 1133.56 84.7976 1126.45 Q84.7976 1119.32 82.9689 1115.78 Q81.1633 1112.22 77.5291 1112.22 M77.5291 1108.51 Q83.3392 1108.51 86.3948 1113.12 Q89.4735 1117.7 89.4735 1126.45 Q89.4735 1135.18 86.3948 1139.78 Q83.3392 1144.37 77.5291 1144.37 Q71.7189 1144.37 68.6402 1139.78 Q65.5847 1135.18 65.5847 1126.45 Q65.5847 1117.7 68.6402 1113.12 Q71.7189 1108.51 77.5291 1108.51 Z\" fill=\"#000000\" fill-rule=\"evenodd\" fill-opacity=\"1\" /><path clip-path=\"url(#clip890)\" d=\"M 0 0 M94.5429 1137.82 L99.4271 1137.82 L99.4271 1143.7 L94.5429 1143.7 L94.5429 1137.82 Z\" fill=\"#000000\" fill-rule=\"evenodd\" fill-opacity=\"1\" /><path clip-path=\"url(#clip890)\" d=\"M 0 0 M108.524 1139.76 L124.844 1139.76 L124.844 1143.7 L102.899 1143.7 L102.899 1139.76 Q105.561 1137.01 110.145 1132.38 Q114.751 1127.72 115.932 1126.38 Q118.177 1123.86 119.057 1122.12 Q119.959 1120.36 119.959 1118.67 Q119.959 1115.92 118.015 1114.18 Q116.094 1112.45 112.992 1112.45 Q110.793 1112.45 108.339 1113.21 Q105.909 1113.97 103.131 1115.53 L103.131 1110.8 Q105.955 1109.67 108.409 1109.09 Q110.862 1108.51 112.899 1108.51 Q118.27 1108.51 121.464 1111.2 Q124.658 1113.88 124.658 1118.37 Q124.658 1120.5 123.848 1122.42 Q123.061 1124.32 120.955 1126.91 Q120.376 1127.59 117.274 1130.8 Q114.172 1134 108.524 1139.76 Z\" fill=\"#000000\" fill-rule=\"evenodd\" fill-opacity=\"1\" /><path clip-path=\"url(#clip890)\" d=\"M 0 0 M129.959 1109.14 L148.316 1109.14 L148.316 1113.07 L134.242 1113.07 L134.242 1121.54 Q135.26 1121.2 136.279 1121.03 Q137.297 1120.85 138.316 1120.85 Q144.103 1120.85 147.482 1124.02 Q150.862 1127.19 150.862 1132.61 Q150.862 1138.19 147.39 1141.29 Q143.918 1144.37 137.598 1144.37 Q135.422 1144.37 133.154 1144 Q130.908 1143.63 128.501 1142.89 L128.501 1138.19 Q130.584 1139.32 132.807 1139.88 Q135.029 1140.43 137.506 1140.43 Q141.51 1140.43 143.848 1138.33 Q146.186 1136.22 146.186 1132.61 Q146.186 1129 143.848 1126.89 Q141.51 1124.78 137.506 1124.78 Q135.631 1124.78 133.756 1125.2 Q131.904 1125.62 129.959 1126.5 L129.959 1109.14 Z\" fill=\"#000000\" fill-rule=\"evenodd\" fill-opacity=\"1\" /><path clip-path=\"url(#clip890)\" d=\"M 0 0 M75.9319 790.759 Q72.3208 790.759 70.4921 794.323 Q68.6865 797.865 68.6865 804.995 Q68.6865 812.101 70.4921 815.666 Q72.3208 819.208 75.9319 819.208 Q79.5661 819.208 81.3717 815.666 Q83.2004 812.101 83.2004 804.995 Q83.2004 797.865 81.3717 794.323 Q79.5661 790.759 75.9319 790.759 M75.9319 787.055 Q81.742 787.055 84.7976 791.661 Q87.8763 796.245 87.8763 804.995 Q87.8763 813.722 84.7976 818.328 Q81.742 822.911 75.9319 822.911 Q70.1217 822.911 67.043 818.328 Q63.9875 813.722 63.9875 804.995 Q63.9875 796.245 67.043 791.661 Q70.1217 787.055 75.9319 787.055 Z\" fill=\"#000000\" fill-rule=\"evenodd\" fill-opacity=\"1\" /><path clip-path=\"url(#clip890)\" d=\"M 0 0 M92.9457 816.36 L97.8299 816.36 L97.8299 822.24 L92.9457 822.24 L92.9457 816.36 Z\" fill=\"#000000\" fill-rule=\"evenodd\" fill-opacity=\"1\" /><path clip-path=\"url(#clip890)\" d=\"M 0 0 M102.946 787.68 L121.302 787.68 L121.302 791.615 L107.228 791.615 L107.228 800.087 Q108.247 799.74 109.265 799.578 Q110.284 799.393 111.302 799.393 Q117.089 799.393 120.469 802.564 Q123.848 805.735 123.848 811.152 Q123.848 816.731 120.376 819.833 Q116.904 822.911 110.584 822.911 Q108.409 822.911 106.14 822.541 Q103.895 822.171 101.487 821.43 L101.487 816.731 Q103.571 817.865 105.793 818.421 Q108.015 818.976 110.492 818.976 Q114.496 818.976 116.834 816.87 Q119.172 814.763 119.172 811.152 Q119.172 807.541 116.834 805.435 Q114.496 803.328 110.492 803.328 Q108.617 803.328 106.742 803.745 Q104.89 804.161 102.946 805.041 L102.946 787.68 Z\" fill=\"#000000\" fill-rule=\"evenodd\" fill-opacity=\"1\" /><path clip-path=\"url(#clip890)\" d=\"M 0 0 M138.918 790.759 Q135.307 790.759 133.478 794.323 Q131.672 797.865 131.672 804.995 Q131.672 812.101 133.478 815.666 Q135.307 819.208 138.918 819.208 Q142.552 819.208 144.357 815.666 Q146.186 812.101 146.186 804.995 Q146.186 797.865 144.357 794.323 Q142.552 790.759 138.918 790.759 M138.918 787.055 Q144.728 787.055 147.783 791.661 Q150.862 796.245 150.862 804.995 Q150.862 813.722 147.783 818.328 Q144.728 822.911 138.918 822.911 Q133.107 822.911 130.029 818.328 Q126.973 813.722 126.973 804.995 Q126.973 796.245 130.029 791.661 Q133.107 787.055 138.918 787.055 Z\" fill=\"#000000\" fill-rule=\"evenodd\" fill-opacity=\"1\" /><path clip-path=\"url(#clip890)\" d=\"M 0 0 M76.8346 469.302 Q73.2236 469.302 71.3949 472.867 Q69.5893 476.409 69.5893 483.538 Q69.5893 490.645 71.3949 494.209 Q73.2236 497.751 76.8346 497.751 Q80.4689 497.751 82.2744 494.209 Q84.1031 490.645 84.1031 483.538 Q84.1031 476.409 82.2744 472.867 Q80.4689 469.302 76.8346 469.302 M76.8346 465.598 Q82.6448 465.598 85.7003 470.205 Q88.779 474.788 88.779 483.538 Q88.779 492.265 85.7003 496.871 Q82.6448 501.455 76.8346 501.455 Q71.0245 501.455 67.9458 496.871 Q64.8903 492.265 64.8903 483.538 Q64.8903 474.788 67.9458 470.205 Q71.0245 465.598 76.8346 465.598 Z\" fill=\"#000000\" fill-rule=\"evenodd\" fill-opacity=\"1\" /><path clip-path=\"url(#clip890)\" d=\"M 0 0 M93.8484 494.904 L98.7327 494.904 L98.7327 500.783 L93.8484 500.783 L93.8484 494.904 Z\" fill=\"#000000\" fill-rule=\"evenodd\" fill-opacity=\"1\" /><path clip-path=\"url(#clip890)\" d=\"M 0 0 M102.622 466.223 L124.844 466.223 L124.844 468.214 L112.297 500.783 L107.413 500.783 L119.219 470.159 L102.622 470.159 L102.622 466.223 Z\" fill=\"#000000\" fill-rule=\"evenodd\" fill-opacity=\"1\" /><path clip-path=\"url(#clip890)\" d=\"M 0 0 M129.959 466.223 L148.316 466.223 L148.316 470.159 L134.242 470.159 L134.242 478.631 Q135.26 478.284 136.279 478.122 Q137.297 477.936 138.316 477.936 Q144.103 477.936 147.482 481.108 Q150.862 484.279 150.862 489.696 Q150.862 495.274 147.39 498.376 Q143.918 501.455 137.598 501.455 Q135.422 501.455 133.154 501.084 Q130.908 500.714 128.501 499.973 L128.501 495.274 Q130.584 496.408 132.807 496.964 Q135.029 497.52 137.506 497.52 Q141.51 497.52 143.848 495.413 Q146.186 493.307 146.186 489.696 Q146.186 486.084 143.848 483.978 Q141.51 481.872 137.506 481.872 Q135.631 481.872 133.756 482.288 Q131.904 482.705 129.959 483.584 L129.959 466.223 Z\" fill=\"#000000\" fill-rule=\"evenodd\" fill-opacity=\"1\" /><path clip-path=\"url(#clip890)\" d=\"M 0 0 M66.9736 175.392 L74.6124 175.392 L74.6124 149.026 L66.3023 150.693 L66.3023 146.434 L74.5661 144.767 L79.242 144.767 L79.242 175.392 L86.8809 175.392 L86.8809 179.327 L66.9736 179.327 L66.9736 175.392 Z\" fill=\"#000000\" fill-rule=\"evenodd\" fill-opacity=\"1\" /><path clip-path=\"url(#clip890)\" d=\"M 0 0 M91.9503 173.447 L96.8345 173.447 L96.8345 179.327 L91.9503 179.327 L91.9503 173.447 Z\" fill=\"#000000\" fill-rule=\"evenodd\" fill-opacity=\"1\" /><path clip-path=\"url(#clip890)\" d=\"M 0 0 M111.904 147.846 Q108.293 147.846 106.464 151.41 Q104.659 154.952 104.659 162.082 Q104.659 169.188 106.464 172.753 Q108.293 176.295 111.904 176.295 Q115.538 176.295 117.344 172.753 Q119.172 169.188 119.172 162.082 Q119.172 154.952 117.344 151.41 Q115.538 147.846 111.904 147.846 M111.904 144.142 Q117.714 144.142 120.77 148.748 Q123.848 153.332 123.848 162.082 Q123.848 170.808 120.77 175.415 Q117.714 179.998 111.904 179.998 Q106.094 179.998 103.015 175.415 Q99.9595 170.808 99.9595 162.082 Q99.9595 153.332 103.015 148.748 Q106.094 144.142 111.904 144.142 Z\" fill=\"#000000\" fill-rule=\"evenodd\" fill-opacity=\"1\" /><path clip-path=\"url(#clip890)\" d=\"M 0 0 M138.918 147.846 Q135.307 147.846 133.478 151.41 Q131.672 154.952 131.672 162.082 Q131.672 169.188 133.478 172.753 Q135.307 176.295 138.918 176.295 Q142.552 176.295 144.357 172.753 Q146.186 169.188 146.186 162.082 Q146.186 154.952 144.357 151.41 Q142.552 147.846 138.918 147.846 M138.918 144.142 Q144.728 144.142 147.783 148.748 Q150.862 153.332 150.862 162.082 Q150.862 170.808 147.783 175.415 Q144.728 179.998 138.918 179.998 Q133.107 179.998 130.029 175.415 Q126.973 170.808 126.973 162.082 Q126.973 153.332 130.029 148.748 Q133.107 144.142 138.918 144.142 Z\" fill=\"#000000\" fill-rule=\"evenodd\" fill-opacity=\"1\" /><path clip-path=\"url(#clip890)\" d=\"M 0 0 M1007.41 32.4315 Q1001.41 32.4315 997.928 37.1306 Q994.444 41.7891 994.444 49.9314 Q994.444 58.0738 997.887 62.7728 Q1001.37 67.4314 1007.41 67.4314 Q1013.36 67.4314 1016.85 62.7323 Q1020.33 58.0333 1020.33 49.9314 Q1020.33 41.8701 1016.85 37.1711 Q1013.36 32.4315 1007.41 32.4315 M1007.41 26.1121 Q1017.13 26.1121 1022.68 32.4315 Q1028.23 38.7509 1028.23 49.9314 Q1028.23 61.0714 1022.68 67.4314 Q1017.13 73.7508 1007.41 73.7508 Q997.644 73.7508 992.095 67.4314 Q986.585 61.0714 986.585 49.9314 Q986.585 38.7509 992.095 32.4315 Q997.644 26.1121 1007.41 26.1121 Z\" fill=\"#000000\" fill-rule=\"evenodd\" fill-opacity=\"1\" /><path clip-path=\"url(#clip890)\" d=\"M 0 0 M1068.62 49.9314 Q1068.62 41.7081 1065.21 37.0496 Q1061.85 32.3505 1055.94 32.3505 Q1050.02 32.3505 1046.62 37.0496 Q1043.26 41.7081 1043.26 49.9314 Q1043.26 58.1548 1046.62 62.8538 Q1050.02 67.5124 1055.94 67.5124 Q1061.85 67.5124 1065.21 62.8538 Q1068.62 58.1548 1068.62 49.9314 M1043.26 34.0924 Q1045.61 30.0415 1049.17 28.0971 Q1052.78 26.1121 1057.76 26.1121 Q1066.02 26.1121 1071.17 32.6746 Q1076.35 39.2371 1076.35 49.9314 Q1076.35 60.6258 1071.17 67.1883 Q1066.02 73.7508 1057.76 73.7508 Q1052.78 73.7508 1049.17 71.8063 Q1045.61 69.8214 1043.26 65.7705 L1043.26 72.576 L1035.76 72.576 L1035.76 9.54393 L1043.26 9.54393 L1043.26 34.0924 Z\" fill=\"#000000\" fill-rule=\"evenodd\" fill-opacity=\"1\" /><path clip-path=\"url(#clip890)\" d=\"M 0 0 M1084.17 27.2059 L1091.63 27.2059 L1091.63 73.3862 Q1091.63 82.0551 1088.3 85.944 Q1085.02 89.8329 1077.69 89.8329 L1074.85 89.8329 L1074.85 83.5134 L1076.84 83.5134 Q1081.09 83.5134 1082.63 81.5285 Q1084.17 79.5841 1084.17 73.3862 L1084.17 27.2059 M1084.17 9.54393 L1091.63 9.54393 L1091.63 18.9825 L1084.17 18.9825 L1084.17 9.54393 Z\" fill=\"#000000\" fill-rule=\"evenodd\" fill-opacity=\"1\" /><path clip-path=\"url(#clip890)\" d=\"M 0 0 M1138.25 48.0275 L1138.25 51.6733 L1103.98 51.6733 Q1104.47 59.3701 1108.6 63.421 Q1112.77 67.4314 1120.18 67.4314 Q1124.48 67.4314 1128.49 66.3781 Q1132.54 65.3249 1136.51 63.2184 L1136.51 70.267 Q1132.5 71.9684 1128.29 72.8596 Q1124.07 73.7508 1119.74 73.7508 Q1108.88 73.7508 1102.52 67.4314 Q1096.2 61.1119 1096.2 50.3365 Q1096.2 39.1965 1102.2 32.6746 Q1108.23 26.1121 1118.44 26.1121 Q1127.6 26.1121 1132.9 32.0264 Q1138.25 37.9003 1138.25 48.0275 M1130.8 45.84 Q1130.72 39.7232 1127.35 36.0774 Q1124.03 32.4315 1118.52 32.4315 Q1112.28 32.4315 1108.52 35.9558 Q1104.79 39.4801 1104.22 45.8805 L1130.8 45.84 Z\" fill=\"#000000\" fill-rule=\"evenodd\" fill-opacity=\"1\" /><path clip-path=\"url(#clip890)\" d=\"M 0 0 M1178.72 28.9478 L1178.72 35.9153 Q1175.56 34.1734 1172.36 33.3227 Q1169.2 32.4315 1165.96 32.4315 Q1158.71 32.4315 1154.7 37.0496 Q1150.69 41.6271 1150.69 49.9314 Q1150.69 58.2358 1154.7 62.8538 Q1158.71 67.4314 1165.96 67.4314 Q1169.2 67.4314 1172.36 66.5807 Q1175.56 65.6895 1178.72 63.9476 L1178.72 70.8341 Q1175.6 72.2924 1172.24 73.0216 Q1168.92 73.7508 1165.15 73.7508 Q1154.9 73.7508 1148.86 67.3098 Q1142.83 60.8689 1142.83 49.9314 Q1142.83 38.832 1148.91 32.472 Q1155.02 26.1121 1165.64 26.1121 Q1169.08 26.1121 1172.36 26.8413 Q1175.64 27.5299 1178.72 28.9478 Z\" fill=\"#000000\" fill-rule=\"evenodd\" fill-opacity=\"1\" /><path clip-path=\"url(#clip890)\" d=\"M 0 0 M1193.91 14.324 L1193.91 27.2059 L1209.26 27.2059 L1209.26 32.9987 L1193.91 32.9987 L1193.91 57.6282 Q1193.91 63.1779 1195.41 64.7578 Q1196.95 66.3376 1201.61 66.3376 L1209.26 66.3376 L1209.26 72.576 L1201.61 72.576 Q1192.98 72.576 1189.7 69.3758 Q1186.42 66.1351 1186.42 57.6282 L1186.42 32.9987 L1180.95 32.9987 L1180.95 27.2059 L1186.42 27.2059 L1186.42 14.324 L1193.91 14.324 Z\" fill=\"#000000\" fill-rule=\"evenodd\" fill-opacity=\"1\" /><path clip-path=\"url(#clip890)\" d=\"M 0 0 M1217.08 27.2059 L1224.54 27.2059 L1224.54 72.576 L1217.08 72.576 L1217.08 27.2059 M1217.08 9.54393 L1224.54 9.54393 L1224.54 18.9825 L1217.08 18.9825 L1217.08 9.54393 Z\" fill=\"#000000\" fill-rule=\"evenodd\" fill-opacity=\"1\" /><path clip-path=\"url(#clip890)\" d=\"M 0 0 M1227.01 27.2059 L1234.91 27.2059 L1249.08 65.2844 L1263.26 27.2059 L1271.16 27.2059 L1254.15 72.576 L1244.02 72.576 L1227.01 27.2059 Z\" fill=\"#000000\" fill-rule=\"evenodd\" fill-opacity=\"1\" /><path clip-path=\"url(#clip890)\" d=\"M 0 0 M1317.79 48.0275 L1317.79 51.6733 L1283.52 51.6733 Q1284 59.3701 1288.13 63.421 Q1292.31 67.4314 1299.72 67.4314 Q1304.01 67.4314 1308.02 66.3781 Q1312.08 65.3249 1316.05 63.2184 L1316.05 70.267 Q1312.03 71.9684 1307.82 72.8596 Q1303.61 73.7508 1299.27 73.7508 Q1288.42 73.7508 1282.06 67.4314 Q1275.74 61.1119 1275.74 50.3365 Q1275.74 39.1965 1281.73 32.6746 Q1287.77 26.1121 1297.98 26.1121 Q1307.13 26.1121 1312.44 32.0264 Q1317.79 37.9003 1317.79 48.0275 M1310.33 45.84 Q1310.25 39.7232 1306.89 36.0774 Q1303.57 32.4315 1298.06 32.4315 Q1291.82 32.4315 1288.05 35.9558 Q1284.33 39.4801 1283.76 45.8805 L1310.33 45.84 Z\" fill=\"#000000\" fill-rule=\"evenodd\" fill-opacity=\"1\" /><path clip-path=\"url(#clip890)\" d=\"M 0 0 M1346.63 27.2059 L1354.53 27.2059 L1368.71 65.2844 L1382.89 27.2059 L1390.78 27.2059 L1373.77 72.576 L1363.64 72.576 L1346.63 27.2059 Z\" fill=\"#000000\" fill-rule=\"evenodd\" fill-opacity=\"1\" /><path clip-path=\"url(#clip890)\" d=\"M 0 0 M1419.22 49.7694 Q1410.19 49.7694 1406.7 51.8354 Q1403.22 53.9013 1403.22 58.8839 Q1403.22 62.8538 1405.81 65.2034 Q1408.45 67.5124 1412.94 67.5124 Q1419.14 67.5124 1422.87 63.1374 Q1426.64 58.7219 1426.64 51.4303 L1426.64 49.7694 L1419.22 49.7694 M1434.09 46.6907 L1434.09 72.576 L1426.64 72.576 L1426.64 65.6895 Q1424.08 69.8214 1420.28 71.8063 Q1416.47 73.7508 1410.96 73.7508 Q1403.99 73.7508 1399.86 69.8619 Q1395.77 65.9325 1395.77 59.3701 Q1395.77 51.7138 1400.87 47.825 Q1406.02 43.9361 1416.18 43.9361 L1426.64 43.9361 L1426.64 43.2069 Q1426.64 38.0623 1423.23 35.2672 Q1419.87 32.4315 1413.75 32.4315 Q1409.86 32.4315 1406.18 33.3632 Q1402.49 34.295 1399.09 36.1584 L1399.09 29.2718 Q1403.18 27.692 1407.03 26.9223 Q1410.88 26.1121 1414.52 26.1121 Q1424.37 26.1121 1429.23 31.2163 Q1434.09 36.3204 1434.09 46.6907 Z\" fill=\"#000000\" fill-rule=\"evenodd\" fill-opacity=\"1\" /><path clip-path=\"url(#clip890)\" d=\"M 0 0 M1441.91 9.54393 L1449.36 9.54393 L1449.36 72.576 L1441.91 72.576 L1441.91 9.54393 Z\" fill=\"#000000\" fill-rule=\"evenodd\" fill-opacity=\"1\" /><path clip-path=\"url(#clip890)\" d=\"M 0 0 M1456.41 54.671 L1456.41 27.2059 L1463.86 27.2059 L1463.86 54.3874 Q1463.86 60.8284 1466.37 64.0691 Q1468.89 67.2693 1473.91 67.2693 Q1479.94 67.2693 1483.43 63.421 Q1486.95 59.5726 1486.95 52.9291 L1486.95 27.2059 L1494.41 27.2059 L1494.41 72.576 L1486.95 72.576 L1486.95 65.6084 Q1484.24 69.7404 1480.63 71.7658 Q1477.07 73.7508 1472.33 73.7508 Q1464.51 73.7508 1460.46 68.8897 Q1456.41 64.0286 1456.41 54.671 M1475.16 26.1121 L1475.16 26.1121 Z\" fill=\"#000000\" fill-rule=\"evenodd\" fill-opacity=\"1\" /><path clip-path=\"url(#clip890)\" d=\"M 0 0 M1541.03 48.0275 L1541.03 51.6733 L1506.76 51.6733 Q1507.25 59.3701 1511.38 63.421 Q1515.55 67.4314 1522.97 67.4314 Q1527.26 67.4314 1531.27 66.3781 Q1535.32 65.3249 1539.29 63.2184 L1539.29 70.267 Q1535.28 71.9684 1531.07 72.8596 Q1526.85 73.7508 1522.52 73.7508 Q1511.66 73.7508 1505.3 67.4314 Q1498.98 61.1119 1498.98 50.3365 Q1498.98 39.1965 1504.98 32.6746 Q1511.02 26.1121 1521.22 26.1121 Q1530.38 26.1121 1535.69 32.0264 Q1541.03 37.9003 1541.03 48.0275 M1533.58 45.84 Q1533.5 39.7232 1530.14 36.0774 Q1526.81 32.4315 1521.3 32.4315 Q1515.07 32.4315 1511.3 35.9558 Q1507.57 39.4801 1507.01 45.8805 L1533.58 45.84 Z\" fill=\"#000000\" fill-rule=\"evenodd\" fill-opacity=\"1\" /><path clip-path=\"url(#clip890)\" d=\"\n",
       "M1989.74 327.952 L2280.76 327.952 L2280.76 206.992 L1989.74 206.992  Z\n",
       "  \" fill=\"#ffffff\" fill-rule=\"evenodd\" fill-opacity=\"1\"/>\n",
       "<polyline clip-path=\"url(#clip890)\" style=\"stroke:#000000; stroke-width:4; stroke-opacity:1; fill:none\" points=\"\n",
       "  1989.74,327.952 2280.76,327.952 2280.76,206.992 1989.74,206.992 1989.74,327.952 \n",
       "  \"/>\n",
       "<polyline clip-path=\"url(#clip890)\" style=\"stroke:#009af9; stroke-width:4; stroke-opacity:1; fill:none\" points=\"\n",
       "  2013.74,267.472 2157.74,267.472 \n",
       "  \"/>\n",
       "<path clip-path=\"url(#clip890)\" d=\"M 0 0 M2195.58 287.16 Q2193.77 291.789 2192.06 293.201 Q2190.35 294.613 2187.48 294.613 L2184.08 294.613 L2184.08 291.048 L2186.58 291.048 Q2188.33 291.048 2189.31 290.215 Q2190.28 289.382 2191.46 286.28 L2192.22 284.335 L2181.74 258.826 L2186.25 258.826 L2194.35 279.104 L2202.46 258.826 L2206.97 258.826 L2195.58 287.16 Z\" fill=\"#000000\" fill-rule=\"evenodd\" fill-opacity=\"1\" /><path clip-path=\"url(#clip890)\" d=\"M 0 0 M2212.85 280.817 L2220.49 280.817 L2220.49 254.451 L2212.18 256.118 L2212.18 251.859 L2220.44 250.192 L2225.12 250.192 L2225.12 280.817 L2232.76 280.817 L2232.76 284.752 L2212.85 284.752 L2212.85 280.817 Z\" fill=\"#000000\" fill-rule=\"evenodd\" fill-opacity=\"1\" /></svg>\n"
      ]
     },
     "execution_count": 53,
     "metadata": {},
     "output_type": "execute_result"
    }
   ],
   "source": [
    "plot( store_obj, title = \"objective value\") # plot the trajectory of the optimization algorithm"
   ]
  },
  {
   "cell_type": "markdown",
   "metadata": {},
   "source": [
    "Apply the post-processing step as specified in the project."
   ]
  },
  {
   "cell_type": "code",
   "execution_count": 54,
   "metadata": {},
   "outputs": [],
   "source": [
    "x_custom_pp = copy( x_custom )\n",
    "x_custom_pp[ abs.(x_custom_pp) .< delta ] .= 0;"
   ]
  },
  {
   "cell_type": "markdown",
   "metadata": {},
   "source": [
    "The following code computes the sharpe ratio, return, transaction cost, total cost of portfolio which will be used to calculate your score for the competitive task!"
   ]
  },
  {
   "cell_type": "code",
   "execution_count": 55,
   "metadata": {},
   "outputs": [
    {
     "name": "stdout",
     "output_type": "stream",
     "text": [
      "Sharpe Ratio = 0, Return = 0.0, Tx Cost = 0, Portfo Value = 0.0"
     ]
    },
    {
     "data": {
      "text/plain": [
       "0"
      ]
     },
     "execution_count": 55,
     "metadata": {},
     "output_type": "execute_result"
    }
   ],
   "source": [
    "sharpe_PPGD = sharpe_ratio( \"./ftec_project_files/\", x_custom_pp, ones(n), 2 )"
   ]
  },
  {
   "cell_type": "markdown",
   "metadata": {},
   "source": [
    "It may also help to visualize the portfolio with the following code:"
   ]
  },
  {
   "cell_type": "code",
   "execution_count": 56,
   "metadata": {},
   "outputs": [
    {
     "data": {
      "image/svg+xml": [
       "<?xml version=\"1.0\" encoding=\"utf-8\"?>\n",
       "<svg xmlns=\"http://www.w3.org/2000/svg\" xmlns:xlink=\"http://www.w3.org/1999/xlink\" width=\"600\" height=\"400\" viewBox=\"0 0 2400 1600\">\n",
       "<defs>\n",
       "  <clipPath id=\"clip930\">\n",
       "    <rect x=\"0\" y=\"0\" width=\"2400\" height=\"1600\"/>\n",
       "  </clipPath>\n",
       "</defs>\n",
       "<path clip-path=\"url(#clip930)\" d=\"\n",
       "M0 1600 L2400 1600 L2400 0 L0 0  Z\n",
       "  \" fill=\"#ffffff\" fill-rule=\"evenodd\" fill-opacity=\"1\"/>\n",
       "<defs>\n",
       "  <clipPath id=\"clip931\">\n",
       "    <rect x=\"480\" y=\"0\" width=\"1681\" height=\"1600\"/>\n",
       "  </clipPath>\n",
       "</defs>\n",
       "<path clip-path=\"url(#clip930)\" d=\"\n",
       "M174.862 1486.45 L2352.76 1486.45 L2352.76 47.2441 L174.862 47.2441  Z\n",
       "  \" fill=\"#ffffff\" fill-rule=\"evenodd\" fill-opacity=\"1\"/>\n",
       "<defs>\n",
       "  <clipPath id=\"clip932\">\n",
       "    <rect x=\"174\" y=\"47\" width=\"2179\" height=\"1440\"/>\n",
       "  </clipPath>\n",
       "</defs>\n",
       "<polyline clip-path=\"url(#clip932)\" style=\"stroke:#000000; stroke-width:2; stroke-opacity:0.1; fill:none\" points=\"\n",
       "  236.501,1486.45 236.501,47.2441 \n",
       "  \"/>\n",
       "<polyline clip-path=\"url(#clip932)\" style=\"stroke:#000000; stroke-width:2; stroke-opacity:0.1; fill:none\" points=\"\n",
       "  750.155,1486.45 750.155,47.2441 \n",
       "  \"/>\n",
       "<polyline clip-path=\"url(#clip932)\" style=\"stroke:#000000; stroke-width:2; stroke-opacity:0.1; fill:none\" points=\"\n",
       "  1263.81,1486.45 1263.81,47.2441 \n",
       "  \"/>\n",
       "<polyline clip-path=\"url(#clip932)\" style=\"stroke:#000000; stroke-width:2; stroke-opacity:0.1; fill:none\" points=\"\n",
       "  1777.46,1486.45 1777.46,47.2441 \n",
       "  \"/>\n",
       "<polyline clip-path=\"url(#clip932)\" style=\"stroke:#000000; stroke-width:2; stroke-opacity:0.1; fill:none\" points=\"\n",
       "  2291.12,1486.45 2291.12,47.2441 \n",
       "  \"/>\n",
       "<polyline clip-path=\"url(#clip932)\" style=\"stroke:#000000; stroke-width:2; stroke-opacity:0.1; fill:none\" points=\"\n",
       "  174.862,1445.72 2352.76,1445.72 \n",
       "  \"/>\n",
       "<polyline clip-path=\"url(#clip932)\" style=\"stroke:#000000; stroke-width:2; stroke-opacity:0.1; fill:none\" points=\"\n",
       "  174.862,1106.28 2352.76,1106.28 \n",
       "  \"/>\n",
       "<polyline clip-path=\"url(#clip932)\" style=\"stroke:#000000; stroke-width:2; stroke-opacity:0.1; fill:none\" points=\"\n",
       "  174.862,766.846 2352.76,766.846 \n",
       "  \"/>\n",
       "<polyline clip-path=\"url(#clip932)\" style=\"stroke:#000000; stroke-width:2; stroke-opacity:0.1; fill:none\" points=\"\n",
       "  174.862,427.411 2352.76,427.411 \n",
       "  \"/>\n",
       "<polyline clip-path=\"url(#clip932)\" style=\"stroke:#000000; stroke-width:2; stroke-opacity:0.1; fill:none\" points=\"\n",
       "  174.862,87.9763 2352.76,87.9763 \n",
       "  \"/>\n",
       "<polyline clip-path=\"url(#clip930)\" style=\"stroke:#000000; stroke-width:4; stroke-opacity:1; fill:none\" points=\"\n",
       "  174.862,1486.45 2352.76,1486.45 \n",
       "  \"/>\n",
       "<polyline clip-path=\"url(#clip930)\" style=\"stroke:#000000; stroke-width:4; stroke-opacity:1; fill:none\" points=\"\n",
       "  174.862,1486.45 174.862,47.2441 \n",
       "  \"/>\n",
       "<polyline clip-path=\"url(#clip930)\" style=\"stroke:#000000; stroke-width:4; stroke-opacity:1; fill:none\" points=\"\n",
       "  236.501,1486.45 236.501,1469.18 \n",
       "  \"/>\n",
       "<polyline clip-path=\"url(#clip930)\" style=\"stroke:#000000; stroke-width:4; stroke-opacity:1; fill:none\" points=\"\n",
       "  750.155,1486.45 750.155,1469.18 \n",
       "  \"/>\n",
       "<polyline clip-path=\"url(#clip930)\" style=\"stroke:#000000; stroke-width:4; stroke-opacity:1; fill:none\" points=\"\n",
       "  1263.81,1486.45 1263.81,1469.18 \n",
       "  \"/>\n",
       "<polyline clip-path=\"url(#clip930)\" style=\"stroke:#000000; stroke-width:4; stroke-opacity:1; fill:none\" points=\"\n",
       "  1777.46,1486.45 1777.46,1469.18 \n",
       "  \"/>\n",
       "<polyline clip-path=\"url(#clip930)\" style=\"stroke:#000000; stroke-width:4; stroke-opacity:1; fill:none\" points=\"\n",
       "  2291.12,1486.45 2291.12,1469.18 \n",
       "  \"/>\n",
       "<polyline clip-path=\"url(#clip930)\" style=\"stroke:#000000; stroke-width:4; stroke-opacity:1; fill:none\" points=\"\n",
       "  174.862,1445.72 200.997,1445.72 \n",
       "  \"/>\n",
       "<polyline clip-path=\"url(#clip930)\" style=\"stroke:#000000; stroke-width:4; stroke-opacity:1; fill:none\" points=\"\n",
       "  174.862,1106.28 200.997,1106.28 \n",
       "  \"/>\n",
       "<polyline clip-path=\"url(#clip930)\" style=\"stroke:#000000; stroke-width:4; stroke-opacity:1; fill:none\" points=\"\n",
       "  174.862,766.846 200.997,766.846 \n",
       "  \"/>\n",
       "<polyline clip-path=\"url(#clip930)\" style=\"stroke:#000000; stroke-width:4; stroke-opacity:1; fill:none\" points=\"\n",
       "  174.862,427.411 200.997,427.411 \n",
       "  \"/>\n",
       "<polyline clip-path=\"url(#clip930)\" style=\"stroke:#000000; stroke-width:4; stroke-opacity:1; fill:none\" points=\"\n",
       "  174.862,87.9763 200.997,87.9763 \n",
       "  \"/>\n",
       "<path clip-path=\"url(#clip930)\" d=\"M 0 0 M204.51 1508.44 Q200.899 1508.44 199.07 1512 Q197.265 1515.55 197.265 1522.67 Q197.265 1529.78 199.07 1533.35 Q200.899 1536.89 204.51 1536.89 Q208.144 1536.89 209.95 1533.35 Q211.778 1529.78 211.778 1522.67 Q211.778 1515.55 209.95 1512 Q208.144 1508.44 204.51 1508.44 M204.51 1504.73 Q210.32 1504.73 213.376 1509.34 Q216.454 1513.92 216.454 1522.67 Q216.454 1531.4 213.376 1536.01 Q210.32 1540.59 204.51 1540.59 Q198.7 1540.59 195.621 1536.01 Q192.566 1531.4 192.566 1522.67 Q192.566 1513.92 195.621 1509.34 Q198.7 1504.73 204.51 1504.73 Z\" fill=\"#000000\" fill-rule=\"evenodd\" fill-opacity=\"1\" /><path clip-path=\"url(#clip930)\" d=\"M 0 0 M221.524 1534.04 L226.408 1534.04 L226.408 1539.92 L221.524 1539.92 L221.524 1534.04 Z\" fill=\"#000000\" fill-rule=\"evenodd\" fill-opacity=\"1\" /><path clip-path=\"url(#clip930)\" d=\"M 0 0 M241.477 1508.44 Q237.866 1508.44 236.038 1512 Q234.232 1515.55 234.232 1522.67 Q234.232 1529.78 236.038 1533.35 Q237.866 1536.89 241.477 1536.89 Q245.112 1536.89 246.917 1533.35 Q248.746 1529.78 248.746 1522.67 Q248.746 1515.55 246.917 1512 Q245.112 1508.44 241.477 1508.44 M241.477 1504.73 Q247.288 1504.73 250.343 1509.34 Q253.422 1513.92 253.422 1522.67 Q253.422 1531.4 250.343 1536.01 Q247.288 1540.59 241.477 1540.59 Q235.667 1540.59 232.589 1536.01 Q229.533 1531.4 229.533 1522.67 Q229.533 1513.92 232.589 1509.34 Q235.667 1504.73 241.477 1504.73 Z\" fill=\"#000000\" fill-rule=\"evenodd\" fill-opacity=\"1\" /><path clip-path=\"url(#clip930)\" d=\"M 0 0 M268.491 1508.44 Q264.88 1508.44 263.051 1512 Q261.246 1515.55 261.246 1522.67 Q261.246 1529.78 263.051 1533.35 Q264.88 1536.89 268.491 1536.89 Q272.125 1536.89 273.931 1533.35 Q275.76 1529.78 275.76 1522.67 Q275.76 1515.55 273.931 1512 Q272.125 1508.44 268.491 1508.44 M268.491 1504.73 Q274.301 1504.73 277.357 1509.34 Q280.435 1513.92 280.435 1522.67 Q280.435 1531.4 277.357 1536.01 Q274.301 1540.59 268.491 1540.59 Q262.681 1540.59 259.602 1536.01 Q256.547 1531.4 256.547 1522.67 Q256.547 1513.92 259.602 1509.34 Q262.681 1504.73 268.491 1504.73 Z\" fill=\"#000000\" fill-rule=\"evenodd\" fill-opacity=\"1\" /><path clip-path=\"url(#clip930)\" d=\"M 0 0 M719.46 1508.44 Q715.849 1508.44 714.021 1512 Q712.215 1515.55 712.215 1522.67 Q712.215 1529.78 714.021 1533.35 Q715.849 1536.89 719.46 1536.89 Q723.095 1536.89 724.9 1533.35 Q726.729 1529.78 726.729 1522.67 Q726.729 1515.55 724.9 1512 Q723.095 1508.44 719.46 1508.44 M719.46 1504.73 Q725.271 1504.73 728.326 1509.34 Q731.405 1513.92 731.405 1522.67 Q731.405 1531.4 728.326 1536.01 Q725.271 1540.59 719.46 1540.59 Q713.65 1540.59 710.572 1536.01 Q707.516 1531.4 707.516 1522.67 Q707.516 1513.92 710.572 1509.34 Q713.65 1504.73 719.46 1504.73 Z\" fill=\"#000000\" fill-rule=\"evenodd\" fill-opacity=\"1\" /><path clip-path=\"url(#clip930)\" d=\"M 0 0 M736.474 1534.04 L741.358 1534.04 L741.358 1539.92 L736.474 1539.92 L736.474 1534.04 Z\" fill=\"#000000\" fill-rule=\"evenodd\" fill-opacity=\"1\" /><path clip-path=\"url(#clip930)\" d=\"M 0 0 M750.456 1535.98 L766.775 1535.98 L766.775 1539.92 L744.831 1539.92 L744.831 1535.98 Q747.493 1533.23 752.076 1528.6 Q756.682 1523.95 757.863 1522.61 Q760.108 1520.08 760.988 1518.35 Q761.891 1516.59 761.891 1514.9 Q761.891 1512.14 759.946 1510.41 Q758.025 1508.67 754.923 1508.67 Q752.724 1508.67 750.27 1509.43 Q747.84 1510.2 745.062 1511.75 L745.062 1507.03 Q747.886 1505.89 750.34 1505.31 Q752.794 1504.73 754.831 1504.73 Q760.201 1504.73 763.395 1507.42 Q766.59 1510.11 766.59 1514.6 Q766.59 1516.73 765.78 1518.65 Q764.993 1520.54 762.886 1523.14 Q762.307 1523.81 759.206 1527.03 Q756.104 1530.22 750.456 1535.98 Z\" fill=\"#000000\" fill-rule=\"evenodd\" fill-opacity=\"1\" /><path clip-path=\"url(#clip930)\" d=\"M 0 0 M771.891 1505.36 L790.247 1505.36 L790.247 1509.3 L776.173 1509.3 L776.173 1517.77 Q777.192 1517.42 778.21 1517.26 Q779.229 1517.07 780.247 1517.07 Q786.034 1517.07 789.414 1520.24 Q792.793 1523.42 792.793 1528.83 Q792.793 1534.41 789.321 1537.51 Q785.849 1540.59 779.53 1540.59 Q777.354 1540.59 775.085 1540.22 Q772.84 1539.85 770.432 1539.11 L770.432 1534.41 Q772.516 1535.54 774.738 1536.1 Q776.96 1536.66 779.437 1536.66 Q783.442 1536.66 785.78 1534.55 Q788.118 1532.44 788.118 1528.83 Q788.118 1525.22 785.78 1523.11 Q783.442 1521.01 779.437 1521.01 Q777.562 1521.01 775.687 1521.42 Q773.835 1521.84 771.891 1522.72 L771.891 1505.36 Z\" fill=\"#000000\" fill-rule=\"evenodd\" fill-opacity=\"1\" /><path clip-path=\"url(#clip930)\" d=\"M 0 0 M1232.32 1508.44 Q1228.7 1508.44 1226.88 1512 Q1225.07 1515.55 1225.07 1522.67 Q1225.07 1529.78 1226.88 1533.35 Q1228.7 1536.89 1232.32 1536.89 Q1235.95 1536.89 1237.76 1533.35 Q1239.58 1529.78 1239.58 1522.67 Q1239.58 1515.55 1237.76 1512 Q1235.95 1508.44 1232.32 1508.44 M1232.32 1504.73 Q1238.13 1504.73 1241.18 1509.34 Q1244.26 1513.92 1244.26 1522.67 Q1244.26 1531.4 1241.18 1536.01 Q1238.13 1540.59 1232.32 1540.59 Q1226.51 1540.59 1223.43 1536.01 Q1220.37 1531.4 1220.37 1522.67 Q1220.37 1513.92 1223.43 1509.34 Q1226.51 1504.73 1232.32 1504.73 Z\" fill=\"#000000\" fill-rule=\"evenodd\" fill-opacity=\"1\" /><path clip-path=\"url(#clip930)\" d=\"M 0 0 M1249.33 1534.04 L1254.21 1534.04 L1254.21 1539.92 L1249.33 1539.92 L1249.33 1534.04 Z\" fill=\"#000000\" fill-rule=\"evenodd\" fill-opacity=\"1\" /><path clip-path=\"url(#clip930)\" d=\"M 0 0 M1259.33 1505.36 L1277.69 1505.36 L1277.69 1509.3 L1263.61 1509.3 L1263.61 1517.77 Q1264.63 1517.42 1265.65 1517.26 Q1266.67 1517.07 1267.69 1517.07 Q1273.47 1517.07 1276.85 1520.24 Q1280.23 1523.42 1280.23 1528.83 Q1280.23 1534.41 1276.76 1537.51 Q1273.29 1540.59 1266.97 1540.59 Q1264.79 1540.59 1262.52 1540.22 Q1260.28 1539.85 1257.87 1539.11 L1257.87 1534.41 Q1259.95 1535.54 1262.18 1536.1 Q1264.4 1536.66 1266.88 1536.66 Q1270.88 1536.66 1273.22 1534.55 Q1275.56 1532.44 1275.56 1528.83 Q1275.56 1525.22 1273.22 1523.11 Q1270.88 1521.01 1266.88 1521.01 Q1265 1521.01 1263.13 1521.42 Q1261.27 1521.84 1259.33 1522.72 L1259.33 1505.36 Z\" fill=\"#000000\" fill-rule=\"evenodd\" fill-opacity=\"1\" /><path clip-path=\"url(#clip930)\" d=\"M 0 0 M1295.3 1508.44 Q1291.69 1508.44 1289.86 1512 Q1288.06 1515.55 1288.06 1522.67 Q1288.06 1529.78 1289.86 1533.35 Q1291.69 1536.89 1295.3 1536.89 Q1298.94 1536.89 1300.74 1533.35 Q1302.57 1529.78 1302.57 1522.67 Q1302.57 1515.55 1300.74 1512 Q1298.94 1508.44 1295.3 1508.44 M1295.3 1504.73 Q1301.11 1504.73 1304.17 1509.34 Q1307.25 1513.92 1307.25 1522.67 Q1307.25 1531.4 1304.17 1536.01 Q1301.11 1540.59 1295.3 1540.59 Q1289.49 1540.59 1286.41 1536.01 Q1283.36 1531.4 1283.36 1522.67 Q1283.36 1513.92 1286.41 1509.34 Q1289.49 1504.73 1295.3 1504.73 Z\" fill=\"#000000\" fill-rule=\"evenodd\" fill-opacity=\"1\" /><path clip-path=\"url(#clip930)\" d=\"M 0 0 M1746.42 1508.44 Q1742.81 1508.44 1740.98 1512 Q1739.18 1515.55 1739.18 1522.67 Q1739.18 1529.78 1740.98 1533.35 Q1742.81 1536.89 1746.42 1536.89 Q1750.06 1536.89 1751.86 1533.35 Q1753.69 1529.78 1753.69 1522.67 Q1753.69 1515.55 1751.86 1512 Q1750.06 1508.44 1746.42 1508.44 M1746.42 1504.73 Q1752.23 1504.73 1755.29 1509.34 Q1758.37 1513.92 1758.37 1522.67 Q1758.37 1531.4 1755.29 1536.01 Q1752.23 1540.59 1746.42 1540.59 Q1740.61 1540.59 1737.53 1536.01 Q1734.48 1531.4 1734.48 1522.67 Q1734.48 1513.92 1737.53 1509.34 Q1740.61 1504.73 1746.42 1504.73 Z\" fill=\"#000000\" fill-rule=\"evenodd\" fill-opacity=\"1\" /><path clip-path=\"url(#clip930)\" d=\"M 0 0 M1763.44 1534.04 L1768.32 1534.04 L1768.32 1539.92 L1763.44 1539.92 L1763.44 1534.04 Z\" fill=\"#000000\" fill-rule=\"evenodd\" fill-opacity=\"1\" /><path clip-path=\"url(#clip930)\" d=\"M 0 0 M1772.21 1505.36 L1794.43 1505.36 L1794.43 1507.35 L1781.88 1539.92 L1777 1539.92 L1788.81 1509.3 L1772.21 1509.3 L1772.21 1505.36 Z\" fill=\"#000000\" fill-rule=\"evenodd\" fill-opacity=\"1\" /><path clip-path=\"url(#clip930)\" d=\"M 0 0 M1799.55 1505.36 L1817.9 1505.36 L1817.9 1509.3 L1803.83 1509.3 L1803.83 1517.77 Q1804.85 1517.42 1805.87 1517.26 Q1806.88 1517.07 1807.9 1517.07 Q1813.69 1517.07 1817.07 1520.24 Q1820.45 1523.42 1820.45 1528.83 Q1820.45 1534.41 1816.98 1537.51 Q1813.5 1540.59 1807.19 1540.59 Q1805.01 1540.59 1802.74 1540.22 Q1800.5 1539.85 1798.09 1539.11 L1798.09 1534.41 Q1800.17 1535.54 1802.39 1536.1 Q1804.62 1536.66 1807.09 1536.66 Q1811.1 1536.66 1813.44 1534.55 Q1815.77 1532.44 1815.77 1528.83 Q1815.77 1525.22 1813.44 1523.11 Q1811.1 1521.01 1807.09 1521.01 Q1805.22 1521.01 1803.34 1521.42 Q1801.49 1521.84 1799.55 1522.72 L1799.55 1505.36 Z\" fill=\"#000000\" fill-rule=\"evenodd\" fill-opacity=\"1\" /><path clip-path=\"url(#clip930)\" d=\"M 0 0 M2249.51 1535.98 L2257.15 1535.98 L2257.15 1509.62 L2248.84 1511.29 L2248.84 1507.03 L2257.1 1505.36 L2261.78 1505.36 L2261.78 1535.98 L2269.42 1535.98 L2269.42 1539.92 L2249.51 1539.92 L2249.51 1535.98 Z\" fill=\"#000000\" fill-rule=\"evenodd\" fill-opacity=\"1\" /><path clip-path=\"url(#clip930)\" d=\"M 0 0 M2274.49 1534.04 L2279.37 1534.04 L2279.37 1539.92 L2274.49 1539.92 L2274.49 1534.04 Z\" fill=\"#000000\" fill-rule=\"evenodd\" fill-opacity=\"1\" /><path clip-path=\"url(#clip930)\" d=\"M 0 0 M2294.44 1508.44 Q2290.83 1508.44 2289 1512 Q2287.19 1515.55 2287.19 1522.67 Q2287.19 1529.78 2289 1533.35 Q2290.83 1536.89 2294.44 1536.89 Q2298.07 1536.89 2299.88 1533.35 Q2301.71 1529.78 2301.71 1522.67 Q2301.71 1515.55 2299.88 1512 Q2298.07 1508.44 2294.44 1508.44 M2294.44 1504.73 Q2300.25 1504.73 2303.3 1509.34 Q2306.38 1513.92 2306.38 1522.67 Q2306.38 1531.4 2303.3 1536.01 Q2300.25 1540.59 2294.44 1540.59 Q2288.63 1540.59 2285.55 1536.01 Q2282.49 1531.4 2282.49 1522.67 Q2282.49 1513.92 2285.55 1509.34 Q2288.63 1504.73 2294.44 1504.73 Z\" fill=\"#000000\" fill-rule=\"evenodd\" fill-opacity=\"1\" /><path clip-path=\"url(#clip930)\" d=\"M 0 0 M2321.45 1508.44 Q2317.84 1508.44 2316.01 1512 Q2314.21 1515.55 2314.21 1522.67 Q2314.21 1529.78 2316.01 1533.35 Q2317.84 1536.89 2321.45 1536.89 Q2325.09 1536.89 2326.89 1533.35 Q2328.72 1529.78 2328.72 1522.67 Q2328.72 1515.55 2326.89 1512 Q2325.09 1508.44 2321.45 1508.44 M2321.45 1504.73 Q2327.26 1504.73 2330.32 1509.34 Q2333.4 1513.92 2333.4 1522.67 Q2333.4 1531.4 2330.32 1536.01 Q2327.26 1540.59 2321.45 1540.59 Q2315.64 1540.59 2312.56 1536.01 Q2309.51 1531.4 2309.51 1522.67 Q2309.51 1513.92 2312.56 1509.34 Q2315.64 1504.73 2321.45 1504.73 Z\" fill=\"#000000\" fill-rule=\"evenodd\" fill-opacity=\"1\" /><path clip-path=\"url(#clip930)\" d=\"M 0 0 M74.9365 1431.51 Q71.3254 1431.51 69.4967 1435.08 Q67.6912 1438.62 67.6912 1445.75 Q67.6912 1452.86 69.4967 1456.42 Q71.3254 1459.96 74.9365 1459.96 Q78.5707 1459.96 80.3763 1456.42 Q82.205 1452.86 82.205 1445.75 Q82.205 1438.62 80.3763 1435.08 Q78.5707 1431.51 74.9365 1431.51 M74.9365 1427.81 Q80.7467 1427.81 83.8022 1432.42 Q86.8809 1437 86.8809 1445.75 Q86.8809 1454.48 83.8022 1459.08 Q80.7467 1463.67 74.9365 1463.67 Q69.1264 1463.67 66.0477 1459.08 Q62.9921 1454.48 62.9921 1445.75 Q62.9921 1437 66.0477 1432.42 Q69.1264 1427.81 74.9365 1427.81 Z\" fill=\"#000000\" fill-rule=\"evenodd\" fill-opacity=\"1\" /><path clip-path=\"url(#clip930)\" d=\"M 0 0 M91.9503 1457.12 L96.8345 1457.12 L96.8345 1463 L91.9503 1463 L91.9503 1457.12 Z\" fill=\"#000000\" fill-rule=\"evenodd\" fill-opacity=\"1\" /><path clip-path=\"url(#clip930)\" d=\"M 0 0 M111.904 1431.51 Q108.293 1431.51 106.464 1435.08 Q104.659 1438.62 104.659 1445.75 Q104.659 1452.86 106.464 1456.42 Q108.293 1459.96 111.904 1459.96 Q115.538 1459.96 117.344 1456.42 Q119.172 1452.86 119.172 1445.75 Q119.172 1438.62 117.344 1435.08 Q115.538 1431.51 111.904 1431.51 M111.904 1427.81 Q117.714 1427.81 120.77 1432.42 Q123.848 1437 123.848 1445.75 Q123.848 1454.48 120.77 1459.08 Q117.714 1463.67 111.904 1463.67 Q106.094 1463.67 103.015 1459.08 Q99.9595 1454.48 99.9595 1445.75 Q99.9595 1437 103.015 1432.42 Q106.094 1427.81 111.904 1427.81 Z\" fill=\"#000000\" fill-rule=\"evenodd\" fill-opacity=\"1\" /><path clip-path=\"url(#clip930)\" d=\"M 0 0 M138.918 1431.51 Q135.307 1431.51 133.478 1435.08 Q131.672 1438.62 131.672 1445.75 Q131.672 1452.86 133.478 1456.42 Q135.307 1459.96 138.918 1459.96 Q142.552 1459.96 144.357 1456.42 Q146.186 1452.86 146.186 1445.75 Q146.186 1438.62 144.357 1435.08 Q142.552 1431.51 138.918 1431.51 M138.918 1427.81 Q144.728 1427.81 147.783 1432.42 Q150.862 1437 150.862 1445.75 Q150.862 1454.48 147.783 1459.08 Q144.728 1463.67 138.918 1463.67 Q133.107 1463.67 130.029 1459.08 Q126.973 1454.48 126.973 1445.75 Q126.973 1437 130.029 1432.42 Q133.107 1427.81 138.918 1427.81 Z\" fill=\"#000000\" fill-rule=\"evenodd\" fill-opacity=\"1\" /><path clip-path=\"url(#clip930)\" d=\"M 0 0 M77.5291 1092.08 Q73.918 1092.08 72.0893 1095.64 Q70.2838 1099.19 70.2838 1106.32 Q70.2838 1113.42 72.0893 1116.99 Q73.918 1120.53 77.5291 1120.53 Q81.1633 1120.53 82.9689 1116.99 Q84.7976 1113.42 84.7976 1106.32 Q84.7976 1099.19 82.9689 1095.64 Q81.1633 1092.08 77.5291 1092.08 M77.5291 1088.38 Q83.3392 1088.38 86.3948 1092.98 Q89.4735 1097.57 89.4735 1106.32 Q89.4735 1115.04 86.3948 1119.65 Q83.3392 1124.23 77.5291 1124.23 Q71.7189 1124.23 68.6402 1119.65 Q65.5847 1115.04 65.5847 1106.32 Q65.5847 1097.57 68.6402 1092.98 Q71.7189 1088.38 77.5291 1088.38 Z\" fill=\"#000000\" fill-rule=\"evenodd\" fill-opacity=\"1\" /><path clip-path=\"url(#clip930)\" d=\"M 0 0 M94.5429 1117.68 L99.4271 1117.68 L99.4271 1123.56 L94.5429 1123.56 L94.5429 1117.68 Z\" fill=\"#000000\" fill-rule=\"evenodd\" fill-opacity=\"1\" /><path clip-path=\"url(#clip930)\" d=\"M 0 0 M108.524 1119.63 L124.844 1119.63 L124.844 1123.56 L102.899 1123.56 L102.899 1119.63 Q105.561 1116.87 110.145 1112.24 Q114.751 1107.59 115.932 1106.25 Q118.177 1103.72 119.057 1101.99 Q119.959 1100.23 119.959 1098.54 Q119.959 1095.78 118.015 1094.05 Q116.094 1092.31 112.992 1092.31 Q110.793 1092.31 108.339 1093.07 Q105.909 1093.84 103.131 1095.39 L103.131 1090.67 Q105.955 1089.53 108.409 1088.95 Q110.862 1088.38 112.899 1088.38 Q118.27 1088.38 121.464 1091.06 Q124.658 1093.75 124.658 1098.24 Q124.658 1100.37 123.848 1102.29 Q123.061 1104.19 120.955 1106.78 Q120.376 1107.45 117.274 1110.67 Q114.172 1113.86 108.524 1119.63 Z\" fill=\"#000000\" fill-rule=\"evenodd\" fill-opacity=\"1\" /><path clip-path=\"url(#clip930)\" d=\"M 0 0 M129.959 1089 L148.316 1089 L148.316 1092.94 L134.242 1092.94 L134.242 1101.41 Q135.26 1101.06 136.279 1100.9 Q137.297 1100.71 138.316 1100.71 Q144.103 1100.71 147.482 1103.89 Q150.862 1107.06 150.862 1112.47 Q150.862 1118.05 147.39 1121.15 Q143.918 1124.23 137.598 1124.23 Q135.422 1124.23 133.154 1123.86 Q130.908 1123.49 128.501 1122.75 L128.501 1118.05 Q130.584 1119.19 132.807 1119.74 Q135.029 1120.3 137.506 1120.3 Q141.51 1120.3 143.848 1118.19 Q146.186 1116.08 146.186 1112.47 Q146.186 1108.86 143.848 1106.76 Q141.51 1104.65 137.506 1104.65 Q135.631 1104.65 133.756 1105.07 Q131.904 1105.48 129.959 1106.36 L129.959 1089 Z\" fill=\"#000000\" fill-rule=\"evenodd\" fill-opacity=\"1\" /><path clip-path=\"url(#clip930)\" d=\"M 0 0 M75.9319 752.645 Q72.3208 752.645 70.4921 756.209 Q68.6865 759.751 68.6865 766.881 Q68.6865 773.987 70.4921 777.552 Q72.3208 781.094 75.9319 781.094 Q79.5661 781.094 81.3717 777.552 Q83.2004 773.987 83.2004 766.881 Q83.2004 759.751 81.3717 756.209 Q79.5661 752.645 75.9319 752.645 M75.9319 748.941 Q81.742 748.941 84.7976 753.547 Q87.8763 758.131 87.8763 766.881 Q87.8763 775.608 84.7976 780.214 Q81.742 784.797 75.9319 784.797 Q70.1217 784.797 67.043 780.214 Q63.9875 775.608 63.9875 766.881 Q63.9875 758.131 67.043 753.547 Q70.1217 748.941 75.9319 748.941 Z\" fill=\"#000000\" fill-rule=\"evenodd\" fill-opacity=\"1\" /><path clip-path=\"url(#clip930)\" d=\"M 0 0 M92.9457 778.246 L97.8299 778.246 L97.8299 784.126 L92.9457 784.126 L92.9457 778.246 Z\" fill=\"#000000\" fill-rule=\"evenodd\" fill-opacity=\"1\" /><path clip-path=\"url(#clip930)\" d=\"M 0 0 M102.946 749.566 L121.302 749.566 L121.302 753.501 L107.228 753.501 L107.228 761.973 Q108.247 761.626 109.265 761.464 Q110.284 761.279 111.302 761.279 Q117.089 761.279 120.469 764.45 Q123.848 767.621 123.848 773.038 Q123.848 778.617 120.376 781.719 Q116.904 784.797 110.584 784.797 Q108.409 784.797 106.14 784.427 Q103.895 784.057 101.487 783.316 L101.487 778.617 Q103.571 779.751 105.793 780.307 Q108.015 780.862 110.492 780.862 Q114.496 780.862 116.834 778.756 Q119.172 776.649 119.172 773.038 Q119.172 769.427 116.834 767.321 Q114.496 765.214 110.492 765.214 Q108.617 765.214 106.742 765.631 Q104.89 766.047 102.946 766.927 L102.946 749.566 Z\" fill=\"#000000\" fill-rule=\"evenodd\" fill-opacity=\"1\" /><path clip-path=\"url(#clip930)\" d=\"M 0 0 M138.918 752.645 Q135.307 752.645 133.478 756.209 Q131.672 759.751 131.672 766.881 Q131.672 773.987 133.478 777.552 Q135.307 781.094 138.918 781.094 Q142.552 781.094 144.357 777.552 Q146.186 773.987 146.186 766.881 Q146.186 759.751 144.357 756.209 Q142.552 752.645 138.918 752.645 M138.918 748.941 Q144.728 748.941 147.783 753.547 Q150.862 758.131 150.862 766.881 Q150.862 775.608 147.783 780.214 Q144.728 784.797 138.918 784.797 Q133.107 784.797 130.029 780.214 Q126.973 775.608 126.973 766.881 Q126.973 758.131 130.029 753.547 Q133.107 748.941 138.918 748.941 Z\" fill=\"#000000\" fill-rule=\"evenodd\" fill-opacity=\"1\" /><path clip-path=\"url(#clip930)\" d=\"M 0 0 M76.8346 413.21 Q73.2236 413.21 71.3949 416.775 Q69.5893 420.316 69.5893 427.446 Q69.5893 434.552 71.3949 438.117 Q73.2236 441.659 76.8346 441.659 Q80.4689 441.659 82.2744 438.117 Q84.1031 434.552 84.1031 427.446 Q84.1031 420.316 82.2744 416.775 Q80.4689 413.21 76.8346 413.21 M76.8346 409.506 Q82.6448 409.506 85.7003 414.113 Q88.779 418.696 88.779 427.446 Q88.779 436.173 85.7003 440.779 Q82.6448 445.362 76.8346 445.362 Q71.0245 445.362 67.9458 440.779 Q64.8903 436.173 64.8903 427.446 Q64.8903 418.696 67.9458 414.113 Q71.0245 409.506 76.8346 409.506 Z\" fill=\"#000000\" fill-rule=\"evenodd\" fill-opacity=\"1\" /><path clip-path=\"url(#clip930)\" d=\"M 0 0 M93.8484 438.812 L98.7327 438.812 L98.7327 444.691 L93.8484 444.691 L93.8484 438.812 Z\" fill=\"#000000\" fill-rule=\"evenodd\" fill-opacity=\"1\" /><path clip-path=\"url(#clip930)\" d=\"M 0 0 M102.622 410.131 L124.844 410.131 L124.844 412.122 L112.297 444.691 L107.413 444.691 L119.219 414.066 L102.622 414.066 L102.622 410.131 Z\" fill=\"#000000\" fill-rule=\"evenodd\" fill-opacity=\"1\" /><path clip-path=\"url(#clip930)\" d=\"M 0 0 M129.959 410.131 L148.316 410.131 L148.316 414.066 L134.242 414.066 L134.242 422.538 Q135.26 422.191 136.279 422.029 Q137.297 421.844 138.316 421.844 Q144.103 421.844 147.482 425.015 Q150.862 428.187 150.862 433.603 Q150.862 439.182 147.39 442.284 Q143.918 445.362 137.598 445.362 Q135.422 445.362 133.154 444.992 Q130.908 444.622 128.501 443.881 L128.501 439.182 Q130.584 440.316 132.807 440.872 Q135.029 441.427 137.506 441.427 Q141.51 441.427 143.848 439.321 Q146.186 437.214 146.186 433.603 Q146.186 429.992 143.848 427.886 Q141.51 425.779 137.506 425.779 Q135.631 425.779 133.756 426.196 Q131.904 426.613 129.959 427.492 L129.959 410.131 Z\" fill=\"#000000\" fill-rule=\"evenodd\" fill-opacity=\"1\" /><path clip-path=\"url(#clip930)\" d=\"M 0 0 M66.9736 101.321 L74.6124 101.321 L74.6124 74.9555 L66.3023 76.6222 L66.3023 72.3629 L74.5661 70.6963 L79.242 70.6963 L79.242 101.321 L86.8809 101.321 L86.8809 105.256 L66.9736 105.256 L66.9736 101.321 Z\" fill=\"#000000\" fill-rule=\"evenodd\" fill-opacity=\"1\" /><path clip-path=\"url(#clip930)\" d=\"M 0 0 M91.9503 99.3767 L96.8345 99.3767 L96.8345 105.256 L91.9503 105.256 L91.9503 99.3767 Z\" fill=\"#000000\" fill-rule=\"evenodd\" fill-opacity=\"1\" /><path clip-path=\"url(#clip930)\" d=\"M 0 0 M111.904 73.775 Q108.293 73.775 106.464 77.3398 Q104.659 80.8814 104.659 88.011 Q104.659 95.1174 106.464 98.6822 Q108.293 102.224 111.904 102.224 Q115.538 102.224 117.344 98.6822 Q119.172 95.1174 119.172 88.011 Q119.172 80.8814 117.344 77.3398 Q115.538 73.775 111.904 73.775 M111.904 70.0713 Q117.714 70.0713 120.77 74.6777 Q123.848 79.261 123.848 88.011 Q123.848 96.7378 120.77 101.344 Q117.714 105.928 111.904 105.928 Q106.094 105.928 103.015 101.344 Q99.9595 96.7378 99.9595 88.011 Q99.9595 79.261 103.015 74.6777 Q106.094 70.0713 111.904 70.0713 Z\" fill=\"#000000\" fill-rule=\"evenodd\" fill-opacity=\"1\" /><path clip-path=\"url(#clip930)\" d=\"M 0 0 M138.918 73.775 Q135.307 73.775 133.478 77.3398 Q131.672 80.8814 131.672 88.011 Q131.672 95.1174 133.478 98.6822 Q135.307 102.224 138.918 102.224 Q142.552 102.224 144.357 98.6822 Q146.186 95.1174 146.186 88.011 Q146.186 80.8814 144.357 77.3398 Q142.552 73.775 138.918 73.775 M138.918 70.0713 Q144.728 70.0713 147.783 74.6777 Q150.862 79.261 150.862 88.011 Q150.862 96.7378 147.783 101.344 Q144.728 105.928 138.918 105.928 Q133.107 105.928 130.029 101.344 Q126.973 96.7378 126.973 88.011 Q126.973 79.261 130.029 74.6777 Q133.107 70.0713 138.918 70.0713 Z\" fill=\"#000000\" fill-rule=\"evenodd\" fill-opacity=\"1\" /><path clip-path=\"url(#clip930)\" d=\"\n",
       "M1504.56 372.684 L2280.76 372.684 L2280.76 130.764 L1504.56 130.764  Z\n",
       "  \" fill=\"#ffffff\" fill-rule=\"evenodd\" fill-opacity=\"1\"/>\n",
       "<polyline clip-path=\"url(#clip930)\" style=\"stroke:#000000; stroke-width:4; stroke-opacity:1; fill:none\" points=\"\n",
       "  1504.56,372.684 2280.76,372.684 2280.76,130.764 1504.56,130.764 1504.56,372.684 \n",
       "  \"/>\n",
       "<polyline clip-path=\"url(#clip930)\" style=\"stroke:#009af9; stroke-width:4; stroke-opacity:1; fill:none\" points=\"\n",
       "  1528.56,191.244 1672.56,191.244 \n",
       "  \"/>\n",
       "<path clip-path=\"url(#clip930)\" d=\"M 0 0 M1715.47 195.26 Q1715.47 190.631 1713.55 188.084 Q1711.65 185.538 1708.2 185.538 Q1704.77 185.538 1702.85 188.084 Q1700.95 190.631 1700.95 195.26 Q1700.95 199.867 1702.85 202.413 Q1704.77 204.959 1708.2 204.959 Q1711.65 204.959 1713.55 202.413 Q1715.47 199.867 1715.47 195.26 M1719.73 205.307 Q1719.73 211.927 1716.79 215.144 Q1713.85 218.385 1707.78 218.385 Q1705.54 218.385 1703.55 218.038 Q1701.56 217.714 1699.68 217.019 L1699.68 212.876 Q1701.56 213.894 1703.38 214.381 Q1705.21 214.867 1707.11 214.867 Q1711.3 214.867 1713.38 212.668 Q1715.47 210.492 1715.47 206.07 L1715.47 203.964 Q1714.15 206.256 1712.09 207.39 Q1710.03 208.524 1707.16 208.524 Q1702.39 208.524 1699.47 204.89 Q1696.56 201.256 1696.56 195.26 Q1696.56 189.242 1699.47 185.608 Q1702.39 181.973 1707.16 181.973 Q1710.03 181.973 1712.09 183.108 Q1714.15 184.242 1715.47 186.533 L1715.47 182.598 L1719.73 182.598 L1719.73 205.307 Z\" fill=\"#000000\" fill-rule=\"evenodd\" fill-opacity=\"1\" /><path clip-path=\"url(#clip930)\" d=\"M 0 0 M1739.22 186.58 Q1738.5 186.163 1737.64 185.978 Q1736.81 185.77 1735.79 185.77 Q1732.18 185.77 1730.24 188.131 Q1728.31 190.469 1728.31 194.867 L1728.31 208.524 L1724.03 208.524 L1724.03 182.598 L1728.31 182.598 L1728.31 186.626 Q1729.66 184.265 1731.81 183.131 Q1733.96 181.973 1737.04 181.973 Q1737.48 181.973 1738.01 182.043 Q1738.55 182.089 1739.19 182.205 L1739.22 186.58 Z\" fill=\"#000000\" fill-rule=\"evenodd\" fill-opacity=\"1\" /><path clip-path=\"url(#clip930)\" d=\"M 0 0 M1755.47 195.492 Q1750.3 195.492 1748.31 196.672 Q1746.32 197.853 1746.32 200.7 Q1746.32 202.969 1747.8 204.311 Q1749.31 205.631 1751.88 205.631 Q1755.42 205.631 1757.55 203.131 Q1759.7 200.607 1759.7 196.441 L1759.7 195.492 L1755.47 195.492 M1763.96 193.733 L1763.96 208.524 L1759.7 208.524 L1759.7 204.589 Q1758.24 206.95 1756.07 208.084 Q1753.89 209.195 1750.74 209.195 Q1746.76 209.195 1744.4 206.973 Q1742.06 204.728 1742.06 200.978 Q1742.06 196.603 1744.98 194.381 Q1747.92 192.158 1753.73 192.158 L1759.7 192.158 L1759.7 191.742 Q1759.7 188.802 1757.76 187.205 Q1755.84 185.584 1752.34 185.584 Q1750.12 185.584 1748.01 186.117 Q1745.91 186.649 1743.96 187.714 L1743.96 183.779 Q1746.3 182.876 1748.5 182.436 Q1750.7 181.973 1752.78 181.973 Q1758.41 181.973 1761.18 184.89 Q1763.96 187.807 1763.96 193.733 Z\" fill=\"#000000\" fill-rule=\"evenodd\" fill-opacity=\"1\" /><path clip-path=\"url(#clip930)\" d=\"M 0 0 M1785.49 186.533 L1785.49 172.506 L1789.75 172.506 L1789.75 208.524 L1785.49 208.524 L1785.49 204.635 Q1784.15 206.95 1782.09 208.084 Q1780.05 209.195 1777.18 209.195 Q1772.48 209.195 1769.52 205.445 Q1766.58 201.695 1766.58 195.584 Q1766.58 189.473 1769.52 185.723 Q1772.48 181.973 1777.18 181.973 Q1780.05 181.973 1782.09 183.108 Q1784.15 184.219 1785.49 186.533 M1770.98 195.584 Q1770.98 200.283 1772.9 202.969 Q1774.84 205.631 1778.22 205.631 Q1781.6 205.631 1783.55 202.969 Q1785.49 200.283 1785.49 195.584 Q1785.49 190.885 1783.55 188.223 Q1781.6 185.538 1778.22 185.538 Q1774.84 185.538 1772.9 188.223 Q1770.98 190.885 1770.98 195.584 Z\" fill=\"#000000\" fill-rule=\"evenodd\" fill-opacity=\"1\" /><path clip-path=\"url(#clip930)\" d=\"M 0 0 M1794.22 182.598 L1798.48 182.598 L1798.48 208.524 L1794.22 208.524 L1794.22 182.598 M1794.22 172.506 L1798.48 172.506 L1798.48 177.899 L1794.22 177.899 L1794.22 172.506 Z\" fill=\"#000000\" fill-rule=\"evenodd\" fill-opacity=\"1\" /><path clip-path=\"url(#clip930)\" d=\"M 0 0 M1825.12 194.496 L1825.12 196.58 L1805.54 196.58 Q1805.81 200.978 1808.17 203.293 Q1810.56 205.584 1814.8 205.584 Q1817.25 205.584 1819.54 204.982 Q1821.86 204.381 1824.12 203.177 L1824.12 207.205 Q1821.83 208.177 1819.42 208.686 Q1817.02 209.195 1814.54 209.195 Q1808.34 209.195 1804.7 205.584 Q1801.09 201.973 1801.09 195.816 Q1801.09 189.45 1804.52 185.723 Q1807.97 181.973 1813.8 181.973 Q1819.03 181.973 1822.06 185.353 Q1825.12 188.709 1825.12 194.496 M1820.86 193.246 Q1820.81 189.751 1818.89 187.668 Q1816.99 185.584 1813.85 185.584 Q1810.28 185.584 1808.13 187.598 Q1806 189.612 1805.67 193.27 L1820.86 193.246 Z\" fill=\"#000000\" fill-rule=\"evenodd\" fill-opacity=\"1\" /><path clip-path=\"url(#clip930)\" d=\"M 0 0 M1851.14 192.876 L1851.14 208.524 L1846.88 208.524 L1846.88 193.015 Q1846.88 189.334 1845.44 187.506 Q1844.01 185.677 1841.14 185.677 Q1837.69 185.677 1835.7 187.876 Q1833.71 190.075 1833.71 193.871 L1833.71 208.524 L1829.42 208.524 L1829.42 182.598 L1833.71 182.598 L1833.71 186.626 Q1835.23 184.288 1837.3 183.131 Q1839.38 181.973 1842.09 181.973 Q1846.55 181.973 1848.85 184.751 Q1851.14 187.506 1851.14 192.876 Z\" fill=\"#000000\" fill-rule=\"evenodd\" fill-opacity=\"1\" /><path clip-path=\"url(#clip930)\" d=\"M 0 0 M1859.82 175.237 L1859.82 182.598 L1868.59 182.598 L1868.59 185.908 L1859.82 185.908 L1859.82 199.982 Q1859.82 203.154 1860.67 204.057 Q1861.55 204.959 1864.22 204.959 L1868.59 204.959 L1868.59 208.524 L1864.22 208.524 Q1859.29 208.524 1857.41 206.695 Q1855.54 204.844 1855.54 199.982 L1855.54 185.908 L1852.41 185.908 L1852.41 182.598 L1855.54 182.598 L1855.54 175.237 L1859.82 175.237 Z\" fill=\"#000000\" fill-rule=\"evenodd\" fill-opacity=\"1\" /><path clip-path=\"url(#clip930)\" d=\"M 0 0 M1905.19 186.533 L1905.19 172.506 L1909.45 172.506 L1909.45 208.524 L1905.19 208.524 L1905.19 204.635 Q1903.85 206.95 1901.79 208.084 Q1899.75 209.195 1896.88 209.195 Q1892.18 209.195 1889.22 205.445 Q1886.28 201.695 1886.28 195.584 Q1886.28 189.473 1889.22 185.723 Q1892.18 181.973 1896.88 181.973 Q1899.75 181.973 1901.79 183.108 Q1903.85 184.219 1905.19 186.533 M1890.67 195.584 Q1890.67 200.283 1892.6 202.969 Q1894.54 205.631 1897.92 205.631 Q1901.3 205.631 1903.24 202.969 Q1905.19 200.283 1905.19 195.584 Q1905.19 190.885 1903.24 188.223 Q1901.3 185.538 1897.92 185.538 Q1894.54 185.538 1892.6 188.223 Q1890.67 190.885 1890.67 195.584 Z\" fill=\"#000000\" fill-rule=\"evenodd\" fill-opacity=\"1\" /><path clip-path=\"url(#clip930)\" d=\"M 0 0 M1936.09 194.496 L1936.09 196.58 L1916.51 196.58 Q1916.79 200.978 1919.15 203.293 Q1921.53 205.584 1925.77 205.584 Q1928.22 205.584 1930.51 204.982 Q1932.83 204.381 1935.1 203.177 L1935.1 207.205 Q1932.8 208.177 1930.4 208.686 Q1927.99 209.195 1925.51 209.195 Q1919.31 209.195 1915.67 205.584 Q1912.06 201.973 1912.06 195.816 Q1912.06 189.45 1915.49 185.723 Q1918.94 181.973 1924.77 181.973 Q1930 181.973 1933.04 185.353 Q1936.09 188.709 1936.09 194.496 M1931.83 193.246 Q1931.79 189.751 1929.86 187.668 Q1927.97 185.584 1924.82 185.584 Q1921.25 185.584 1919.1 187.598 Q1916.97 189.612 1916.65 193.27 L1931.83 193.246 Z\" fill=\"#000000\" fill-rule=\"evenodd\" fill-opacity=\"1\" /><path clip-path=\"url(#clip930)\" d=\"M 0 0 M1957.09 183.362 L1957.09 187.39 Q1955.28 186.464 1953.34 186.001 Q1951.39 185.538 1949.31 185.538 Q1946.14 185.538 1944.54 186.51 Q1942.97 187.483 1942.97 189.427 Q1942.97 190.908 1944.1 191.765 Q1945.23 192.598 1948.66 193.362 L1950.12 193.686 Q1954.66 194.658 1956.55 196.441 Q1958.47 198.2 1958.47 201.371 Q1958.47 204.982 1955.6 207.089 Q1952.76 209.195 1947.76 209.195 Q1945.67 209.195 1943.41 208.779 Q1941.16 208.385 1938.66 207.575 L1938.66 203.177 Q1941.02 204.404 1943.31 205.029 Q1945.6 205.631 1947.85 205.631 Q1950.86 205.631 1952.48 204.612 Q1954.1 203.57 1954.1 201.695 Q1954.1 199.959 1952.92 199.033 Q1951.76 198.107 1947.8 197.251 L1946.32 196.904 Q1942.36 196.07 1940.6 194.358 Q1938.85 192.621 1938.85 189.612 Q1938.85 185.955 1941.44 183.964 Q1944.03 181.973 1948.8 181.973 Q1951.16 181.973 1953.24 182.321 Q1955.33 182.668 1957.09 183.362 Z\" fill=\"#000000\" fill-rule=\"evenodd\" fill-opacity=\"1\" /><path clip-path=\"url(#clip930)\" d=\"M 0 0 M1981.6 183.594 L1981.6 187.575 Q1979.79 186.58 1977.97 186.094 Q1976.16 185.584 1974.31 185.584 Q1970.16 185.584 1967.87 188.223 Q1965.58 190.839 1965.58 195.584 Q1965.58 200.33 1967.87 202.969 Q1970.16 205.584 1974.31 205.584 Q1976.16 205.584 1977.97 205.098 Q1979.79 204.589 1981.6 203.594 L1981.6 207.529 Q1979.82 208.362 1977.9 208.779 Q1976 209.195 1973.85 209.195 Q1967.99 209.195 1964.54 205.515 Q1961.09 201.834 1961.09 195.584 Q1961.09 189.242 1964.56 185.608 Q1968.06 181.973 1974.12 181.973 Q1976.09 181.973 1977.97 182.39 Q1979.84 182.783 1981.6 183.594 Z\" fill=\"#000000\" fill-rule=\"evenodd\" fill-opacity=\"1\" /><path clip-path=\"url(#clip930)\" d=\"M 0 0 M2008.24 194.496 L2008.24 196.58 L1988.66 196.58 Q1988.94 200.978 1991.3 203.293 Q1993.68 205.584 1997.92 205.584 Q2000.37 205.584 2002.66 204.982 Q2004.98 204.381 2007.25 203.177 L2007.25 207.205 Q2004.96 208.177 2002.55 208.686 Q2000.14 209.195 1997.66 209.195 Q1991.46 209.195 1987.83 205.584 Q1984.22 201.973 1984.22 195.816 Q1984.22 189.45 1987.64 185.723 Q1991.09 181.973 1996.92 181.973 Q2002.16 181.973 2005.19 185.353 Q2008.24 188.709 2008.24 194.496 M2003.98 193.246 Q2003.94 189.751 2002.02 187.668 Q2000.12 185.584 1996.97 185.584 Q1993.41 185.584 1991.25 187.598 Q1989.12 189.612 1988.8 193.27 L2003.98 193.246 Z\" fill=\"#000000\" fill-rule=\"evenodd\" fill-opacity=\"1\" /><path clip-path=\"url(#clip930)\" d=\"M 0 0 M2034.26 192.876 L2034.26 208.524 L2030 208.524 L2030 193.015 Q2030 189.334 2028.57 187.506 Q2027.13 185.677 2024.26 185.677 Q2020.81 185.677 2018.82 187.876 Q2016.83 190.075 2016.83 193.871 L2016.83 208.524 L2012.55 208.524 L2012.55 182.598 L2016.83 182.598 L2016.83 186.626 Q2018.36 184.288 2020.42 183.131 Q2022.5 181.973 2025.21 181.973 Q2029.68 181.973 2031.97 184.751 Q2034.26 187.506 2034.26 192.876 Z\" fill=\"#000000\" fill-rule=\"evenodd\" fill-opacity=\"1\" /><path clip-path=\"url(#clip930)\" d=\"M 0 0 M2042.94 175.237 L2042.94 182.598 L2051.72 182.598 L2051.72 185.908 L2042.94 185.908 L2042.94 199.982 Q2042.94 203.154 2043.8 204.057 Q2044.68 204.959 2047.34 204.959 L2051.72 204.959 L2051.72 208.524 L2047.34 208.524 Q2042.41 208.524 2040.53 206.695 Q2038.66 204.844 2038.66 199.982 L2038.66 185.908 L2035.53 185.908 L2035.53 182.598 L2038.66 182.598 L2038.66 175.237 L2042.94 175.237 Z\" fill=\"#000000\" fill-rule=\"evenodd\" fill-opacity=\"1\" /><polyline clip-path=\"url(#clip930)\" style=\"stroke:#e26f46; stroke-width:4; stroke-opacity:1; fill:none\" points=\"\n",
       "  1528.56,251.724 1672.56,251.724 \n",
       "  \"/>\n",
       "<path clip-path=\"url(#clip930)\" d=\"M 0 0 M1707.18 233.032 Q1704.08 238.356 1702.57 243.564 Q1701.07 248.773 1701.07 254.12 Q1701.07 259.467 1702.57 264.722 Q1704.1 269.953 1707.18 275.254 L1703.48 275.254 Q1700 269.814 1698.27 264.56 Q1696.56 259.305 1696.56 254.12 Q1696.56 248.958 1698.27 243.726 Q1699.98 238.495 1703.48 233.032 L1707.18 233.032 Z\" fill=\"#000000\" fill-rule=\"evenodd\" fill-opacity=\"1\" /><path clip-path=\"url(#clip930)\" d=\"M 0 0 M1732.55 235.578 L1732.55 240.139 Q1729.89 238.865 1727.53 238.24 Q1725.17 237.615 1722.97 237.615 Q1719.15 237.615 1717.06 239.097 Q1715 240.578 1715 243.31 Q1715 245.601 1716.37 246.782 Q1717.76 247.939 1721.6 248.657 L1724.43 249.236 Q1729.66 250.231 1732.13 252.754 Q1734.63 255.254 1734.63 259.467 Q1734.63 264.49 1731.25 267.083 Q1727.9 269.675 1721.39 269.675 Q1718.94 269.675 1716.16 269.12 Q1713.41 268.564 1710.44 267.476 L1710.44 262.662 Q1713.29 264.259 1716.02 265.069 Q1718.75 265.879 1721.39 265.879 Q1725.4 265.879 1727.57 264.305 Q1729.75 262.731 1729.75 259.814 Q1729.75 257.268 1728.18 255.833 Q1726.62 254.398 1723.06 253.68 L1720.21 253.125 Q1714.98 252.083 1712.64 249.861 Q1710.31 247.638 1710.31 243.68 Q1710.31 239.097 1713.52 236.458 Q1716.76 233.819 1722.43 233.819 Q1724.87 233.819 1727.39 234.259 Q1729.91 234.699 1732.55 235.578 Z\" fill=\"#000000\" fill-rule=\"evenodd\" fill-opacity=\"1\" /><path clip-path=\"url(#clip930)\" d=\"M 0 0 M1757.76 244.074 L1757.76 248.055 Q1755.95 247.06 1754.12 246.574 Q1752.32 246.064 1750.47 246.064 Q1746.32 246.064 1744.03 248.703 Q1741.74 251.319 1741.74 256.064 Q1741.74 260.81 1744.03 263.449 Q1746.32 266.064 1750.47 266.064 Q1752.32 266.064 1754.12 265.578 Q1755.95 265.069 1757.76 264.074 L1757.76 268.009 Q1755.98 268.842 1754.05 269.259 Q1752.16 269.675 1750 269.675 Q1744.15 269.675 1740.7 265.995 Q1737.25 262.314 1737.25 256.064 Q1737.25 249.722 1740.72 246.088 Q1744.22 242.453 1750.28 242.453 Q1752.25 242.453 1754.12 242.87 Q1756 243.263 1757.76 244.074 Z\" fill=\"#000000\" fill-rule=\"evenodd\" fill-opacity=\"1\" /><path clip-path=\"url(#clip930)\" d=\"M 0 0 M1774.01 255.972 Q1768.85 255.972 1766.86 257.152 Q1764.86 258.333 1764.86 261.18 Q1764.86 263.449 1766.35 264.791 Q1767.85 266.111 1770.42 266.111 Q1773.96 266.111 1776.09 263.611 Q1778.24 261.087 1778.24 256.921 L1778.24 255.972 L1774.01 255.972 M1782.5 254.213 L1782.5 269.004 L1778.24 269.004 L1778.24 265.069 Q1776.79 267.43 1774.61 268.564 Q1772.43 269.675 1769.29 269.675 Q1765.3 269.675 1762.94 267.453 Q1760.61 265.208 1760.61 261.458 Q1760.61 257.083 1763.52 254.861 Q1766.46 252.638 1772.27 252.638 L1778.24 252.638 L1778.24 252.222 Q1778.24 249.282 1776.3 247.685 Q1774.38 246.064 1770.88 246.064 Q1768.66 246.064 1766.55 246.597 Q1764.45 247.129 1762.5 248.194 L1762.5 244.259 Q1764.84 243.356 1767.04 242.916 Q1769.24 242.453 1771.32 242.453 Q1776.95 242.453 1779.73 245.37 Q1782.5 248.287 1782.5 254.213 Z\" fill=\"#000000\" fill-rule=\"evenodd\" fill-opacity=\"1\" /><path clip-path=\"url(#clip930)\" d=\"M 0 0 M1786.97 232.986 L1791.23 232.986 L1791.23 269.004 L1786.97 269.004 L1786.97 232.986 Z\" fill=\"#000000\" fill-rule=\"evenodd\" fill-opacity=\"1\" /><path clip-path=\"url(#clip930)\" d=\"M 0 0 M1817.87 254.976 L1817.87 257.06 L1798.29 257.06 Q1798.57 261.458 1800.93 263.773 Q1803.31 266.064 1807.55 266.064 Q1810 266.064 1812.3 265.462 Q1814.61 264.861 1816.88 263.657 L1816.88 267.685 Q1814.59 268.657 1812.18 269.166 Q1809.77 269.675 1807.3 269.675 Q1801.09 269.675 1797.46 266.064 Q1793.85 262.453 1793.85 256.296 Q1793.85 249.93 1797.27 246.203 Q1800.72 242.453 1806.55 242.453 Q1811.79 242.453 1814.82 245.833 Q1817.87 249.189 1817.87 254.976 M1813.61 253.726 Q1813.57 250.231 1811.65 248.148 Q1809.75 246.064 1806.6 246.064 Q1803.04 246.064 1800.88 248.078 Q1798.75 250.092 1798.43 253.75 L1813.61 253.726 Z\" fill=\"#000000\" fill-rule=\"evenodd\" fill-opacity=\"1\" /><path clip-path=\"url(#clip930)\" d=\"M 0 0 M1839.4 247.013 L1839.4 232.986 L1843.66 232.986 L1843.66 269.004 L1839.4 269.004 L1839.4 265.115 Q1838.06 267.43 1836 268.564 Q1833.96 269.675 1831.09 269.675 Q1826.39 269.675 1823.43 265.925 Q1820.49 262.175 1820.49 256.064 Q1820.49 249.953 1823.43 246.203 Q1826.39 242.453 1831.09 242.453 Q1833.96 242.453 1836 243.588 Q1838.06 244.699 1839.4 247.013 M1824.89 256.064 Q1824.89 260.763 1826.81 263.449 Q1828.75 266.111 1832.13 266.111 Q1835.51 266.111 1837.46 263.449 Q1839.4 260.763 1839.4 256.064 Q1839.4 251.365 1837.46 248.703 Q1835.51 246.018 1832.13 246.018 Q1828.75 246.018 1826.81 248.703 Q1824.89 251.365 1824.89 256.064 Z\" fill=\"#000000\" fill-rule=\"evenodd\" fill-opacity=\"1\" /><path clip-path=\"url(#clip930)\" d=\"M 0 0 M1847.46 233.032 L1851.16 233.032 Q1854.63 238.495 1856.35 243.726 Q1858.08 248.958 1858.08 254.12 Q1858.08 259.305 1856.35 264.56 Q1854.63 269.814 1851.16 275.254 L1847.46 275.254 Q1850.54 269.953 1852.04 264.722 Q1853.57 259.467 1853.57 254.12 Q1853.57 248.773 1852.04 243.564 Q1850.54 238.356 1847.46 233.032 Z\" fill=\"#000000\" fill-rule=\"evenodd\" fill-opacity=\"1\" /><path clip-path=\"url(#clip930)\" d=\"M 0 0 M1877.8 234.444 L1899.66 234.444 L1899.66 238.379 L1882.48 238.379 L1882.48 248.611 L1898.94 248.611 L1898.94 252.546 L1882.48 252.546 L1882.48 265.069 L1900.07 265.069 L1900.07 269.004 L1877.8 269.004 L1877.8 234.444 Z\" fill=\"#000000\" fill-rule=\"evenodd\" fill-opacity=\"1\" /><path clip-path=\"url(#clip930)\" d=\"M 0 0 M1926.09 243.078 L1916.72 255.694 L1926.58 269.004 L1921.55 269.004 L1914.01 258.819 L1906.46 269.004 L1901.44 269.004 L1911.51 255.439 L1902.29 243.078 L1907.32 243.078 L1914.19 252.314 L1921.07 243.078 L1926.09 243.078 Z\" fill=\"#000000\" fill-rule=\"evenodd\" fill-opacity=\"1\" /><path clip-path=\"url(#clip930)\" d=\"M 0 0 M1935.16 265.115 L1935.16 278.865 L1930.88 278.865 L1930.88 243.078 L1935.16 243.078 L1935.16 247.013 Q1936.51 244.699 1938.54 243.588 Q1940.6 242.453 1943.45 242.453 Q1948.17 242.453 1951.11 246.203 Q1954.08 249.953 1954.08 256.064 Q1954.08 262.175 1951.11 265.925 Q1948.17 269.675 1943.45 269.675 Q1940.6 269.675 1938.54 268.564 Q1936.51 267.43 1935.16 265.115 M1949.66 256.064 Q1949.66 251.365 1947.71 248.703 Q1945.79 246.018 1942.41 246.018 Q1939.03 246.018 1937.09 248.703 Q1935.16 251.365 1935.16 256.064 Q1935.16 260.763 1937.09 263.449 Q1939.03 266.111 1942.41 266.111 Q1945.79 266.111 1947.71 263.449 Q1949.66 260.763 1949.66 256.064 Z\" fill=\"#000000\" fill-rule=\"evenodd\" fill-opacity=\"1\" /><path clip-path=\"url(#clip930)\" d=\"M 0 0 M1980.72 254.976 L1980.72 257.06 L1961.14 257.06 Q1961.41 261.458 1963.78 263.773 Q1966.16 266.064 1970.4 266.064 Q1972.85 266.064 1975.14 265.462 Q1977.46 264.861 1979.72 263.657 L1979.72 267.685 Q1977.43 268.657 1975.03 269.166 Q1972.62 269.675 1970.14 269.675 Q1963.94 269.675 1960.3 266.064 Q1956.69 262.453 1956.69 256.296 Q1956.69 249.93 1960.12 246.203 Q1963.57 242.453 1969.4 242.453 Q1974.63 242.453 1977.66 245.833 Q1980.72 249.189 1980.72 254.976 M1976.46 253.726 Q1976.41 250.231 1974.49 248.148 Q1972.6 246.064 1969.45 246.064 Q1965.88 246.064 1963.73 248.078 Q1961.6 250.092 1961.28 253.75 L1976.46 253.726 Z\" fill=\"#000000\" fill-rule=\"evenodd\" fill-opacity=\"1\" /><path clip-path=\"url(#clip930)\" d=\"M 0 0 M2003.85 244.074 L2003.85 248.055 Q2002.04 247.06 2000.21 246.574 Q1998.41 246.064 1996.55 246.064 Q1992.41 246.064 1990.12 248.703 Q1987.83 251.319 1987.83 256.064 Q1987.83 260.81 1990.12 263.449 Q1992.41 266.064 1996.55 266.064 Q1998.41 266.064 2000.21 265.578 Q2002.04 265.069 2003.85 264.074 L2003.85 268.009 Q2002.06 268.842 2000.14 269.259 Q1998.24 269.675 1996.09 269.675 Q1990.23 269.675 1986.79 265.995 Q1983.34 262.314 1983.34 256.064 Q1983.34 249.722 1986.81 246.088 Q1990.3 242.453 1996.37 242.453 Q1998.34 242.453 2000.21 242.87 Q2002.09 243.263 2003.85 244.074 Z\" fill=\"#000000\" fill-rule=\"evenodd\" fill-opacity=\"1\" /><path clip-path=\"url(#clip930)\" d=\"M 0 0 M2012.53 235.717 L2012.53 243.078 L2021.3 243.078 L2021.3 246.388 L2012.53 246.388 L2012.53 260.462 Q2012.53 263.634 2013.38 264.537 Q2014.26 265.439 2016.92 265.439 L2021.3 265.439 L2021.3 269.004 L2016.92 269.004 Q2011.99 269.004 2010.12 267.175 Q2008.24 265.324 2008.24 260.462 L2008.24 246.388 L2005.12 246.388 L2005.12 243.078 L2008.24 243.078 L2008.24 235.717 L2012.53 235.717 Z\" fill=\"#000000\" fill-rule=\"evenodd\" fill-opacity=\"1\" /><path clip-path=\"url(#clip930)\" d=\"M 0 0 M2047.94 254.976 L2047.94 257.06 L2028.36 257.06 Q2028.64 261.458 2031 263.773 Q2033.38 266.064 2037.62 266.064 Q2040.07 266.064 2042.36 265.462 Q2044.68 264.861 2046.95 263.657 L2046.95 267.685 Q2044.66 268.657 2042.25 269.166 Q2039.84 269.675 2037.36 269.675 Q2031.16 269.675 2027.53 266.064 Q2023.91 262.453 2023.91 256.296 Q2023.91 249.93 2027.34 246.203 Q2030.79 242.453 2036.62 242.453 Q2041.85 242.453 2044.89 245.833 Q2047.94 249.189 2047.94 254.976 M2043.68 253.726 Q2043.64 250.231 2041.72 248.148 Q2039.82 246.064 2036.67 246.064 Q2033.1 246.064 2030.95 248.078 Q2028.82 250.092 2028.5 253.75 L2043.68 253.726 Z\" fill=\"#000000\" fill-rule=\"evenodd\" fill-opacity=\"1\" /><path clip-path=\"url(#clip930)\" d=\"M 0 0 M2069.47 247.013 L2069.47 232.986 L2073.73 232.986 L2073.73 269.004 L2069.47 269.004 L2069.47 265.115 Q2068.13 267.43 2066.07 268.564 Q2064.03 269.675 2061.16 269.675 Q2056.46 269.675 2053.5 265.925 Q2050.56 262.175 2050.56 256.064 Q2050.56 249.953 2053.5 246.203 Q2056.46 242.453 2061.16 242.453 Q2064.03 242.453 2066.07 243.588 Q2068.13 244.699 2069.47 247.013 M2054.96 256.064 Q2054.96 260.763 2056.88 263.449 Q2058.82 266.111 2062.2 266.111 Q2065.58 266.111 2067.53 263.449 Q2069.47 260.763 2069.47 256.064 Q2069.47 251.365 2067.53 248.703 Q2065.58 246.018 2062.2 246.018 Q2058.82 246.018 2056.88 248.703 Q2054.96 251.365 2054.96 256.064 Z\" fill=\"#000000\" fill-rule=\"evenodd\" fill-opacity=\"1\" /><path clip-path=\"url(#clip930)\" d=\"M 0 0 M2109.84 252.8 Q2111.34 253.31 2112.76 254.976 Q2114.19 256.643 2115.63 259.56 L2120.37 269.004 L2115.35 269.004 L2110.93 260.138 Q2109.21 256.666 2107.59 255.532 Q2106 254.398 2103.22 254.398 L2098.13 254.398 L2098.13 269.004 L2093.45 269.004 L2093.45 234.444 L2104.01 234.444 Q2109.93 234.444 2112.85 236.921 Q2115.77 239.398 2115.77 244.398 Q2115.77 247.662 2114.24 249.814 Q2112.73 251.967 2109.84 252.8 M2098.13 238.287 L2098.13 250.555 L2104.01 250.555 Q2107.39 250.555 2109.1 249.004 Q2110.84 247.43 2110.84 244.398 Q2110.84 241.365 2109.1 239.838 Q2107.39 238.287 2104.01 238.287 L2098.13 238.287 Z\" fill=\"#000000\" fill-rule=\"evenodd\" fill-opacity=\"1\" /><path clip-path=\"url(#clip930)\" d=\"M 0 0 M2144.89 254.976 L2144.89 257.06 L2125.3 257.06 Q2125.58 261.458 2127.94 263.773 Q2130.33 266.064 2134.56 266.064 Q2137.02 266.064 2139.31 265.462 Q2141.62 264.861 2143.89 263.657 L2143.89 267.685 Q2141.6 268.657 2139.19 269.166 Q2136.78 269.675 2134.31 269.675 Q2128.1 269.675 2124.47 266.064 Q2120.86 262.453 2120.86 256.296 Q2120.86 249.93 2124.28 246.203 Q2127.73 242.453 2133.57 242.453 Q2138.8 242.453 2141.83 245.833 Q2144.89 249.189 2144.89 254.976 M2140.63 253.726 Q2140.58 250.231 2138.66 248.148 Q2136.76 246.064 2133.61 246.064 Q2130.05 246.064 2127.9 248.078 Q2125.77 250.092 2125.44 253.75 L2140.63 253.726 Z\" fill=\"#000000\" fill-rule=\"evenodd\" fill-opacity=\"1\" /><path clip-path=\"url(#clip930)\" d=\"M 0 0 M2153.57 235.717 L2153.57 243.078 L2162.34 243.078 L2162.34 246.388 L2153.57 246.388 L2153.57 260.462 Q2153.57 263.634 2154.42 264.537 Q2155.3 265.439 2157.96 265.439 L2162.34 265.439 L2162.34 269.004 L2157.96 269.004 Q2153.03 269.004 2151.16 267.175 Q2149.28 265.324 2149.28 260.462 L2149.28 246.388 L2146.16 246.388 L2146.16 243.078 L2149.28 243.078 L2149.28 235.717 L2153.57 235.717 Z\" fill=\"#000000\" fill-rule=\"evenodd\" fill-opacity=\"1\" /><path clip-path=\"url(#clip930)\" d=\"M 0 0 M2166.37 258.773 L2166.37 243.078 L2170.63 243.078 L2170.63 258.611 Q2170.63 262.291 2172.06 264.143 Q2173.5 265.972 2176.37 265.972 Q2179.82 265.972 2181.81 263.773 Q2183.82 261.574 2183.82 257.777 L2183.82 243.078 L2188.08 243.078 L2188.08 269.004 L2183.82 269.004 L2183.82 265.023 Q2182.27 267.384 2180.21 268.541 Q2178.17 269.675 2175.46 269.675 Q2171 269.675 2168.68 266.898 Q2166.37 264.12 2166.37 258.773 M2177.08 242.453 L2177.08 242.453 Z\" fill=\"#000000\" fill-rule=\"evenodd\" fill-opacity=\"1\" /><path clip-path=\"url(#clip930)\" d=\"M 0 0 M2207.57 247.06 Q2206.85 246.643 2206 246.458 Q2205.16 246.25 2204.14 246.25 Q2200.53 246.25 2198.59 248.611 Q2196.67 250.949 2196.67 255.347 L2196.67 269.004 L2192.39 269.004 L2192.39 243.078 L2196.67 243.078 L2196.67 247.106 Q2198.01 244.745 2200.16 243.611 Q2202.32 242.453 2205.39 242.453 Q2205.83 242.453 2206.37 242.523 Q2206.9 242.569 2207.55 242.685 L2207.57 247.06 Z\" fill=\"#000000\" fill-rule=\"evenodd\" fill-opacity=\"1\" /><path clip-path=\"url(#clip930)\" d=\"M 0 0 M2232.76 253.356 L2232.76 269.004 L2228.5 269.004 L2228.5 253.495 Q2228.5 249.814 2227.06 247.986 Q2225.63 246.157 2222.76 246.157 Q2219.31 246.157 2217.32 248.356 Q2215.33 250.555 2215.33 254.351 L2215.33 269.004 L2211.04 269.004 L2211.04 243.078 L2215.33 243.078 L2215.33 247.106 Q2216.85 244.768 2218.91 243.611 Q2221 242.453 2223.71 242.453 Q2228.17 242.453 2230.46 245.231 Q2232.76 247.986 2232.76 253.356 Z\" fill=\"#000000\" fill-rule=\"evenodd\" fill-opacity=\"1\" /><polyline clip-path=\"url(#clip930)\" style=\"stroke:#3da44d; stroke-width:4; stroke-opacity:1; fill:none\" points=\"\n",
       "  1528.56,312.204 1672.56,312.204 \n",
       "  \"/>\n",
       "<path clip-path=\"url(#clip930)\" d=\"M 0 0 M1707.18 293.512 Q1704.08 298.836 1702.57 304.044 Q1701.07 309.253 1701.07 314.6 Q1701.07 319.947 1702.57 325.202 Q1704.1 330.433 1707.18 335.734 L1703.48 335.734 Q1700 330.294 1698.27 325.04 Q1696.56 319.785 1696.56 314.6 Q1696.56 309.438 1698.27 304.206 Q1699.98 298.975 1703.48 293.512 L1707.18 293.512 Z\" fill=\"#000000\" fill-rule=\"evenodd\" fill-opacity=\"1\" /><path clip-path=\"url(#clip930)\" d=\"M 0 0 M1732.55 296.058 L1732.55 300.619 Q1729.89 299.345 1727.53 298.72 Q1725.17 298.095 1722.97 298.095 Q1719.15 298.095 1717.06 299.577 Q1715 301.058 1715 303.79 Q1715 306.081 1716.37 307.262 Q1717.76 308.419 1721.6 309.137 L1724.43 309.716 Q1729.66 310.711 1732.13 313.234 Q1734.63 315.734 1734.63 319.947 Q1734.63 324.97 1731.25 327.563 Q1727.9 330.155 1721.39 330.155 Q1718.94 330.155 1716.16 329.6 Q1713.41 329.044 1710.44 327.956 L1710.44 323.142 Q1713.29 324.739 1716.02 325.549 Q1718.75 326.359 1721.39 326.359 Q1725.4 326.359 1727.57 324.785 Q1729.75 323.211 1729.75 320.294 Q1729.75 317.748 1728.18 316.313 Q1726.62 314.878 1723.06 314.16 L1720.21 313.605 Q1714.98 312.563 1712.64 310.341 Q1710.31 308.118 1710.31 304.16 Q1710.31 299.577 1713.52 296.938 Q1716.76 294.299 1722.43 294.299 Q1724.87 294.299 1727.39 294.739 Q1729.91 295.179 1732.55 296.058 Z\" fill=\"#000000\" fill-rule=\"evenodd\" fill-opacity=\"1\" /><path clip-path=\"url(#clip930)\" d=\"M 0 0 M1757.76 304.554 L1757.76 308.535 Q1755.95 307.54 1754.12 307.054 Q1752.32 306.544 1750.47 306.544 Q1746.32 306.544 1744.03 309.183 Q1741.74 311.799 1741.74 316.544 Q1741.74 321.29 1744.03 323.929 Q1746.32 326.544 1750.47 326.544 Q1752.32 326.544 1754.12 326.058 Q1755.95 325.549 1757.76 324.554 L1757.76 328.489 Q1755.98 329.322 1754.05 329.739 Q1752.16 330.155 1750 330.155 Q1744.15 330.155 1740.7 326.475 Q1737.25 322.794 1737.25 316.544 Q1737.25 310.202 1740.72 306.568 Q1744.22 302.933 1750.28 302.933 Q1752.25 302.933 1754.12 303.35 Q1756 303.743 1757.76 304.554 Z\" fill=\"#000000\" fill-rule=\"evenodd\" fill-opacity=\"1\" /><path clip-path=\"url(#clip930)\" d=\"M 0 0 M1774.01 316.452 Q1768.85 316.452 1766.86 317.632 Q1764.86 318.813 1764.86 321.66 Q1764.86 323.929 1766.35 325.271 Q1767.85 326.591 1770.42 326.591 Q1773.96 326.591 1776.09 324.091 Q1778.24 321.567 1778.24 317.401 L1778.24 316.452 L1774.01 316.452 M1782.5 314.693 L1782.5 329.484 L1778.24 329.484 L1778.24 325.549 Q1776.79 327.91 1774.61 329.044 Q1772.43 330.155 1769.29 330.155 Q1765.3 330.155 1762.94 327.933 Q1760.61 325.688 1760.61 321.938 Q1760.61 317.563 1763.52 315.341 Q1766.46 313.118 1772.27 313.118 L1778.24 313.118 L1778.24 312.702 Q1778.24 309.762 1776.3 308.165 Q1774.38 306.544 1770.88 306.544 Q1768.66 306.544 1766.55 307.077 Q1764.45 307.609 1762.5 308.674 L1762.5 304.739 Q1764.84 303.836 1767.04 303.396 Q1769.24 302.933 1771.32 302.933 Q1776.95 302.933 1779.73 305.85 Q1782.5 308.767 1782.5 314.693 Z\" fill=\"#000000\" fill-rule=\"evenodd\" fill-opacity=\"1\" /><path clip-path=\"url(#clip930)\" d=\"M 0 0 M1786.97 293.466 L1791.23 293.466 L1791.23 329.484 L1786.97 329.484 L1786.97 293.466 Z\" fill=\"#000000\" fill-rule=\"evenodd\" fill-opacity=\"1\" /><path clip-path=\"url(#clip930)\" d=\"M 0 0 M1817.87 315.456 L1817.87 317.54 L1798.29 317.54 Q1798.57 321.938 1800.93 324.253 Q1803.31 326.544 1807.55 326.544 Q1810 326.544 1812.3 325.942 Q1814.61 325.341 1816.88 324.137 L1816.88 328.165 Q1814.59 329.137 1812.18 329.646 Q1809.77 330.155 1807.3 330.155 Q1801.09 330.155 1797.46 326.544 Q1793.85 322.933 1793.85 316.776 Q1793.85 310.41 1797.27 306.683 Q1800.72 302.933 1806.55 302.933 Q1811.79 302.933 1814.82 306.313 Q1817.87 309.669 1817.87 315.456 M1813.61 314.206 Q1813.57 310.711 1811.65 308.628 Q1809.75 306.544 1806.6 306.544 Q1803.04 306.544 1800.88 308.558 Q1798.75 310.572 1798.43 314.23 L1813.61 314.206 Z\" fill=\"#000000\" fill-rule=\"evenodd\" fill-opacity=\"1\" /><path clip-path=\"url(#clip930)\" d=\"M 0 0 M1839.4 307.493 L1839.4 293.466 L1843.66 293.466 L1843.66 329.484 L1839.4 329.484 L1839.4 325.595 Q1838.06 327.91 1836 329.044 Q1833.96 330.155 1831.09 330.155 Q1826.39 330.155 1823.43 326.405 Q1820.49 322.655 1820.49 316.544 Q1820.49 310.433 1823.43 306.683 Q1826.39 302.933 1831.09 302.933 Q1833.96 302.933 1836 304.068 Q1838.06 305.179 1839.4 307.493 M1824.89 316.544 Q1824.89 321.243 1826.81 323.929 Q1828.75 326.591 1832.13 326.591 Q1835.51 326.591 1837.46 323.929 Q1839.4 321.243 1839.4 316.544 Q1839.4 311.845 1837.46 309.183 Q1835.51 306.498 1832.13 306.498 Q1828.75 306.498 1826.81 309.183 Q1824.89 311.845 1824.89 316.544 Z\" fill=\"#000000\" fill-rule=\"evenodd\" fill-opacity=\"1\" /><path clip-path=\"url(#clip930)\" d=\"M 0 0 M1847.46 293.512 L1851.16 293.512 Q1854.63 298.975 1856.35 304.206 Q1858.08 309.438 1858.08 314.6 Q1858.08 319.785 1856.35 325.04 Q1854.63 330.294 1851.16 335.734 L1847.46 335.734 Q1850.54 330.433 1852.04 325.202 Q1853.57 319.947 1853.57 314.6 Q1853.57 309.253 1852.04 304.044 Q1850.54 298.836 1847.46 293.512 Z\" fill=\"#000000\" fill-rule=\"evenodd\" fill-opacity=\"1\" /><path clip-path=\"url(#clip930)\" d=\"M 0 0 M1886.72 329.484 L1873.52 294.924 L1878.41 294.924 L1889.35 324.021 L1900.33 294.924 L1905.19 294.924 L1892.02 329.484 L1886.72 329.484 Z\" fill=\"#000000\" fill-rule=\"evenodd\" fill-opacity=\"1\" /><path clip-path=\"url(#clip930)\" d=\"M 0 0 M1917.76 316.452 Q1912.6 316.452 1910.6 317.632 Q1908.61 318.813 1908.61 321.66 Q1908.61 323.929 1910.1 325.271 Q1911.6 326.591 1914.17 326.591 Q1917.71 326.591 1919.84 324.091 Q1921.99 321.567 1921.99 317.401 L1921.99 316.452 L1917.76 316.452 M1926.25 314.693 L1926.25 329.484 L1921.99 329.484 L1921.99 325.549 Q1920.54 327.91 1918.36 329.044 Q1916.18 330.155 1913.04 330.155 Q1909.05 330.155 1906.69 327.933 Q1904.35 325.688 1904.35 321.938 Q1904.35 317.563 1907.27 315.341 Q1910.21 313.118 1916.02 313.118 L1921.99 313.118 L1921.99 312.702 Q1921.99 309.762 1920.05 308.165 Q1918.13 306.544 1914.63 306.544 Q1912.41 306.544 1910.3 307.077 Q1908.2 307.609 1906.25 308.674 L1906.25 304.739 Q1908.59 303.836 1910.79 303.396 Q1912.99 302.933 1915.07 302.933 Q1920.7 302.933 1923.48 305.85 Q1926.25 308.767 1926.25 314.693 Z\" fill=\"#000000\" fill-rule=\"evenodd\" fill-opacity=\"1\" /><path clip-path=\"url(#clip930)\" d=\"M 0 0 M1945.74 307.54 Q1945.03 307.123 1944.17 306.938 Q1943.34 306.73 1942.32 306.73 Q1938.71 306.73 1936.76 309.091 Q1934.84 311.429 1934.84 315.827 L1934.84 329.484 L1930.56 329.484 L1930.56 303.558 L1934.84 303.558 L1934.84 307.586 Q1936.18 305.225 1938.34 304.091 Q1940.49 302.933 1943.57 302.933 Q1944.01 302.933 1944.54 303.003 Q1945.07 303.049 1945.72 303.165 L1945.74 307.54 Z\" fill=\"#000000\" fill-rule=\"evenodd\" fill-opacity=\"1\" /><path clip-path=\"url(#clip930)\" d=\"M 0 0 M1950.21 303.558 L1954.47 303.558 L1954.47 329.484 L1950.21 329.484 L1950.21 303.558 M1950.21 293.466 L1954.47 293.466 L1954.47 298.859 L1950.21 298.859 L1950.21 293.466 Z\" fill=\"#000000\" fill-rule=\"evenodd\" fill-opacity=\"1\" /><path clip-path=\"url(#clip930)\" d=\"M 0 0 M1970.72 316.452 Q1965.56 316.452 1963.57 317.632 Q1961.58 318.813 1961.58 321.66 Q1961.58 323.929 1963.06 325.271 Q1964.56 326.591 1967.13 326.591 Q1970.67 326.591 1972.8 324.091 Q1974.96 321.567 1974.96 317.401 L1974.96 316.452 L1970.72 316.452 M1979.22 314.693 L1979.22 329.484 L1974.96 329.484 L1974.96 325.549 Q1973.5 327.91 1971.32 329.044 Q1969.15 330.155 1966 330.155 Q1962.02 330.155 1959.66 327.933 Q1957.32 325.688 1957.32 321.938 Q1957.32 317.563 1960.23 315.341 Q1963.17 313.118 1968.98 313.118 L1974.96 313.118 L1974.96 312.702 Q1974.96 309.762 1973.01 308.165 Q1971.09 306.544 1967.6 306.544 Q1965.37 306.544 1963.27 307.077 Q1961.16 307.609 1959.22 308.674 L1959.22 304.739 Q1961.55 303.836 1963.75 303.396 Q1965.95 302.933 1968.04 302.933 Q1973.66 302.933 1976.44 305.85 Q1979.22 308.767 1979.22 314.693 Z\" fill=\"#000000\" fill-rule=\"evenodd\" fill-opacity=\"1\" /><path clip-path=\"url(#clip930)\" d=\"M 0 0 M2005.23 313.836 L2005.23 329.484 L2000.97 329.484 L2000.97 313.975 Q2000.97 310.294 1999.54 308.466 Q1998.1 306.637 1995.23 306.637 Q1991.78 306.637 1989.79 308.836 Q1987.8 311.035 1987.8 314.831 L1987.8 329.484 L1983.52 329.484 L1983.52 303.558 L1987.8 303.558 L1987.8 307.586 Q1989.33 305.248 1991.39 304.091 Q1993.47 302.933 1996.18 302.933 Q2000.65 302.933 2002.94 305.711 Q2005.23 308.466 2005.23 313.836 Z\" fill=\"#000000\" fill-rule=\"evenodd\" fill-opacity=\"1\" /><path clip-path=\"url(#clip930)\" d=\"M 0 0 M2028.36 304.554 L2028.36 308.535 Q2026.55 307.54 2024.72 307.054 Q2022.92 306.544 2021.07 306.544 Q2016.92 306.544 2014.63 309.183 Q2012.34 311.799 2012.34 316.544 Q2012.34 321.29 2014.63 323.929 Q2016.92 326.544 2021.07 326.544 Q2022.92 326.544 2024.72 326.058 Q2026.55 325.549 2028.36 324.554 L2028.36 328.489 Q2026.58 329.322 2024.66 329.739 Q2022.76 330.155 2020.6 330.155 Q2014.75 330.155 2011.3 326.475 Q2007.85 322.794 2007.85 316.544 Q2007.85 310.202 2011.32 306.568 Q2014.82 302.933 2020.88 302.933 Q2022.85 302.933 2024.72 303.35 Q2026.6 303.743 2028.36 304.554 Z\" fill=\"#000000\" fill-rule=\"evenodd\" fill-opacity=\"1\" /><path clip-path=\"url(#clip930)\" d=\"M 0 0 M2055 315.456 L2055 317.54 L2035.42 317.54 Q2035.7 321.938 2038.06 324.253 Q2040.44 326.544 2044.68 326.544 Q2047.13 326.544 2049.42 325.942 Q2051.74 325.341 2054.01 324.137 L2054.01 328.165 Q2051.72 329.137 2049.31 329.646 Q2046.9 330.155 2044.42 330.155 Q2038.22 330.155 2034.59 326.544 Q2030.97 322.933 2030.97 316.776 Q2030.97 310.41 2034.4 306.683 Q2037.85 302.933 2043.68 302.933 Q2048.91 302.933 2051.95 306.313 Q2055 309.669 2055 315.456 M2050.74 314.206 Q2050.7 310.711 2048.78 308.628 Q2046.88 306.544 2043.73 306.544 Q2040.16 306.544 2038.01 308.558 Q2035.88 310.572 2035.56 314.23 L2050.74 314.206 Z\" fill=\"#000000\" fill-rule=\"evenodd\" fill-opacity=\"1\" /></svg>\n"
      ]
     },
     "execution_count": 56,
     "metadata": {},
     "output_type": "execute_result"
    }
   ],
   "source": [
    "plot( names_stocks_full, x_custom_pp + w, labels = \"gradient descent\" )\n",
    "plot!( names_stocks_full, 1000*bar_R_full, labels =\"(Scaled) Expected Return\")\n",
    "plot!( names_stocks_full, 1000*[Sigma_full[i,i] for i in 1:n], labels =\"(Scaled) Variance\")"
   ]
  },
  {
   "cell_type": "code",
   "execution_count": null,
   "metadata": {},
   "outputs": [],
   "source": []
  }
 ],
 "metadata": {
  "kernelspec": {
   "display_name": "Julia 1.1.1",
   "language": "julia",
   "name": "julia-1.1"
  },
  "language_info": {
   "file_extension": ".jl",
   "mimetype": "application/julia",
   "name": "julia",
   "version": "1.1.1"
  },
  "varInspector": {
   "cols": {
    "lenName": 16,
    "lenType": 16,
    "lenVar": 40
   },
   "kernels_config": {
    "python": {
     "delete_cmd_postfix": "",
     "delete_cmd_prefix": "del ",
     "library": "var_list.py",
     "varRefreshCmd": "print(var_dic_list())"
    },
    "r": {
     "delete_cmd_postfix": ") ",
     "delete_cmd_prefix": "rm(",
     "library": "var_list.r",
     "varRefreshCmd": "cat(var_dic_list()) "
    }
   },
   "types_to_exclude": [
    "module",
    "function",
    "builtin_function_or_method",
    "instance",
    "_Feature"
   ],
   "window_display": false
  }
 },
 "nbformat": 4,
 "nbformat_minor": 4
}
