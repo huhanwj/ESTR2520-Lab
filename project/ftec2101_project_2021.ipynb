{
 "cells": [
  {
   "cell_type": "markdown",
   "metadata": {},
   "source": [
    "# Practical Project \n",
    "\n",
    "The aim of this project is to solve various forms of the portfolio optimization problem through Julia/computer software. This program template will provide hints/template code for you to focus on the optimization formulation part.\n",
    "\n",
    "As usual, we first need to load a few packages in Julia."
   ]
  },
  {
   "cell_type": "code",
   "execution_count": null,
   "metadata": {},
   "outputs": [],
   "source": [
    "# Load the JuMP related packages and several solvers\n",
    "# ECOS - for solving SOCP problems\n",
    "# Juniper & Ipopt - for solving MI-NLP problems\n",
    "using JuMP, Juniper, ECOS, Ipopt\n",
    "# Load the data/file processing related packages\n",
    "using CSV, Glob, DataFrames, Statistics\n",
    "# Load the Plot package for illustrating the solution\n",
    "using Plots\n",
    "# Load the custom functions for benchmarking  \n",
    "include(\"./reusablefunc.jl\");"
   ]
  },
  {
   "cell_type": "markdown",
   "metadata": {},
   "source": [
    "# Part I - Compulsory Task"
   ]
  },
  {
   "cell_type": "markdown",
   "metadata": {},
   "source": [
    "#### Data Preprocessing\n",
    "The first step is to load the raw data into the memory. The following codes are provided for you to help you get started. "
   ]
  },
  {
   "cell_type": "code",
   "execution_count": null,
   "metadata": {},
   "outputs": [],
   "source": [
    "# Change \"subgroup1\" to other names according to the subgroup you are assigned.\n",
    "path_subgroup = \"./ftec_project_subgroup1/\" \n",
    "files = glob( \"*_train.csv\", path_subgroup );\n",
    "dfs = DataFrame.( CSV.File.( files ) );"
   ]
  },
  {
   "cell_type": "code",
   "execution_count": null,
   "metadata": {},
   "outputs": [],
   "source": [
    "T = 800; n = length(dfs);\n",
    "stocks_retur = zeros(T,n);\n",
    "for i = 1:n\n",
    "    # compute the realized return R_i(t)\n",
    "    stocks_retur[:,i] = (dfs[i].close-dfs[i].open) ./ dfs[i].open;\n",
    "end\n",
    "names_stocks = [ dfs[i].Name[1] for i in 1:n ];"
   ]
  },
  {
   "cell_type": "markdown",
   "metadata": {},
   "source": [
    "## Task 4: Warm-up Exercise\n",
    "\n",
    "For part (a) of this task, you have to plot the return of 3-4 stocks over time. An example is provided for you as follows. Use \"Insert\" -> \"Insert Cell Below/After\" if you want to keep the plots together in one place."
   ]
  },
  {
   "cell_type": "code",
   "execution_count": null,
   "metadata": {},
   "outputs": [],
   "source": [
    "stock_id = 1; # You may change this stock_id to different numbers from 1 to 20\n",
    "plot( dfs[stock_id].date, stocks_retur[:,stock_id] , title = dfs[stock_id].Name[1]*\"'s return over time\" )"
   ]
  },
  {
   "cell_type": "markdown",
   "metadata": {},
   "source": [
    "For part (b) of this task, we need to estimate the expected return $\\hat{r}_i$ and covariance $\\hat\\rho_{ij}$. Notice that these terms are given by (1.6) in the project specification. For your convenience, they have been calculated as follows:"
   ]
  },
  {
   "cell_type": "code",
   "execution_count": null,
   "metadata": {},
   "outputs": [],
   "source": [
    "# calculate r_i and Sigma\n",
    "bar_R = [ mean( stocks_retur[:,i] ) for i in 1:length(dfs) ];\n",
    "Sigma = [ mean( (stocks_retur[:,i].-bar_R[i]).*(stocks_retur[:,j].-bar_R[j]) ) for i=1:n, j=1:n ]; "
   ]
  },
  {
   "cell_type": "markdown",
   "metadata": {},
   "source": [
    "where \"bar_R\" is a $20$-dimensional vector containing the expected return $\\hat{r}$ for the stocks; and \"Sigma\" is the $20 \\times 20$ matrix of the covariance. "
   ]
  },
  {
   "cell_type": "markdown",
   "metadata": {},
   "source": [
    "## Task 5: Closed Form Solution to (1.1)\n",
    "\n",
    "This task computes the optimal portfolio using the closed form solution derived in Task 1. Here are a few hints of useful syntax in computing the optimal solution:\n",
    "\n",
    "- To compute the inverse of a square matrix, e.g., \"$\\texttt{Sigma}$\", it can be done by \n",
    "$$\\texttt{Sigma^-1}$$\n",
    "- To create a (column) vector of all ones of $n$-dimensional. you may use \n",
    "$$\\texttt{ones(n)}.$$ \n",
    "- In your closed form solution, you may need encounter something such as ${\\bf 1}^\\top {S} {b}$ for some $n \\times n$ square matrix ${S}$, and $n$-dimensional vector ${b}$. The above expression can be computed in Julia as\n",
    "$$\\texttt{ones(n)'*S*b}$$\n",
    "where $\\texttt{ones(n)'}$ has denoted the transpose of the vector $\\texttt{ones(n)}$. "
   ]
  },
  {
   "cell_type": "code",
   "execution_count": null,
   "metadata": {},
   "outputs": [],
   "source": [
    "# your code here"
   ]
  },
  {
   "cell_type": "markdown",
   "metadata": {},
   "source": [
    "Suppose that $\\texttt{portfolio_opt}$ has been created as a 20-dimensional vector of the optimal portfolio. The following helper code should plot the comparison of the portfolio for you. "
   ]
  },
  {
   "cell_type": "code",
   "execution_count": null,
   "metadata": {},
   "outputs": [],
   "source": [
    "plot( names_stocks, portfolio_opt, labels = \"portfolio\", xticks = :all )\n",
    "# you may adjust the scale factor \"1000\" to scale up/down the expected return to make it comparable with \n",
    "# the value of the portfolio (*for improved visualization only*).\n",
    "plot!( names_stocks, 1000*bar_R , labels = \"(scaled) expected return\") \n",
    "plot!( names_stocks, 1000*[Sigma[i,i] for i in 1:n], labels = \"(scaled) variance\" )"
   ]
  },
  {
   "cell_type": "markdown",
   "metadata": {},
   "source": [
    "## Task 6 (a): Mixed Integer Programming Solution\n",
    "\n",
    "For this task, we shall implement the MI-NLP problem. As usual, we have to define the optimization object and specify a few parameters, as follows. The solver we are going to apply is \"Juniper\"."
   ]
  },
  {
   "cell_type": "code",
   "execution_count": null,
   "metadata": {},
   "outputs": [],
   "source": [
    "# the following code specifies the constants as described in the problem\n",
    "M = 20; B = 20; c = 2; w = 1*ones(n); Rd = 1.01*sum( w.*bar_R ); \n",
    "\n",
    "# the following code setup the JuMP model with the right solver\n",
    "nl_solver = optimizer_with_attributes(Ipopt.Optimizer, \"print_level\"=>0)\n",
    "optimizer = Juniper.Optimizer\n",
    "model = Model(optimizer_with_attributes(optimizer, \"nl_solver\"=>nl_solver, \"atol\"=>1e-10));"
   ]
  },
  {
   "cell_type": "markdown",
   "metadata": {},
   "source": [
    "You can program the MI-NLP problem in the following cell and solve it. Here are a few hints that maybe useful.\n",
    "\n",
    "- To be compatible with the helper codes in the latter section, please call the decision variable for the portfolio by \"x_mip\". \n",
    "- You may use for-loop to specify a large number of constraints. \n",
    "- To model constraint given in the form of \n",
    "$$ \\sum_{i=1}^n x_i y_i \\geq r $$\n",
    "withe the $n$-dimensional vectors $x$, $y$. You may do so by\n",
    "\n",
    "$$ \\texttt{@constraint(model, sum( x .* y ) >= r)} $$\n",
    "\n",
    "where $\\texttt{.*}$ denotes an \"element-wise\" product \n",
    "- To minimize quadratic function of the form\n",
    "$$ f(x) = x^\\top \\Sigma x $$\n",
    "\n",
    "we first notice that \n",
    "\n",
    "$$ f(x) = ( \\Sigma^{1/2} x )^\\top ( \\Sigma^{1/2} x ) $$\n",
    "\n",
    "and the above can be modeled in JuMP by\n",
    "\n",
    "$$ \\texttt{@variable( model, y[1:n] )}$$\n",
    "$$ \\texttt{@constraint( model, y .== sqrt(Sigma)*x );}$$ \n",
    "$$ \\texttt{@NLobjective( model, Min, sum(y[i]^2 for i in 1:n) )} $$\n",
    "\n",
    "Notice that we shall use \"$\\texttt{NLObjective}$ to specify that the objective function is nonlinear."
   ]
  },
  {
   "cell_type": "code",
   "execution_count": null,
   "metadata": {},
   "outputs": [],
   "source": [
    "# your code here\n",
    "optimize!(model)"
   ]
  },
  {
   "cell_type": "markdown",
   "metadata": {},
   "source": [
    "## Task 6(b): SOCP Solution\n",
    "\n",
    "For this task, we shall implement the SOCP program formulated in Task 3. As usual, we have to define the optimization object and specify a few parameters, as follows. The solver we are going to apply is \"ECOS\"."
   ]
  },
  {
   "cell_type": "code",
   "execution_count": null,
   "metadata": {},
   "outputs": [],
   "source": [
    "# specify the problem parameters\n",
    "M = 20; B = 20; a = 2; w = ones(n); Rd = 1.01*sum( w.*bar_R ); \n",
    "# specify the JuMP model with ECOS as the optimizer\n",
    "m_socp = Model( ECOS.Optimizer );"
   ]
  },
  {
   "cell_type": "markdown",
   "metadata": {},
   "source": [
    "You may program the SOCP problem into JuMP as follows. Again, for convenience, you may name the decision variable of the portfolio as \"x_socp\". \n",
    "\n",
    "Further, wou may find that some constraints are similar to the MI-NLP from the previous task. However, when you \"copy-and-paste\" those code, don't forget to change the model name and the variable name. Here are some hints on modeling the second order cone constraints:\n",
    "\n",
    "- To model a SOC constraint given in the form\n",
    "\n",
    "$$ \\| Ax + d \\| \\leq c^\\top x + d, $$\n",
    "\n",
    "you can use\n",
    "\n",
    "$$ \\texttt{ @constraint( m_socp, [c'*x + d; A*x + d] in SecondOrderCone() ) } $$\n",
    "\n",
    "Essentially, \"$\\texttt{[c'*x + d; A*x + d]}$\" defines a vector whose first element describes the RHS of the SOC constraint, the the remaining elements describe the vector found inside the norm of the SOC constraint. "
   ]
  },
  {
   "cell_type": "code",
   "execution_count": null,
   "metadata": {},
   "outputs": [],
   "source": [
    "# your code here\n",
    "optimize!(m_socp)"
   ]
  },
  {
   "cell_type": "markdown",
   "metadata": {},
   "source": [
    "## Task 6(c): Plotting the portfolios found\n",
    "\n",
    "Given that you have programmed and executed the optimization problems correctly, the following helper code shall plot the portfolios nicely for you. "
   ]
  },
  {
   "cell_type": "code",
   "execution_count": null,
   "metadata": {},
   "outputs": [],
   "source": [
    "plot( names_stocks, portfolio_opt, labels = \"unconstrained portfolio\" )\n",
    "plot!( names_stocks, JuMP.value.(x + w), labels = \"MI-SOCP\")\n",
    "plot!( names_stocks, JuMP.value.(x_socp + w), labels = \"SOCP\")\n",
    "plot!( names_stocks, 1000*bar_R, labels =\"(Scaled) Expected Return\")\n",
    "plot!( names_stocks, 1000*[Sigma[i,i] for i in 1:n], labels =\"(Scaled) Variance\")"
   ]
  },
  {
   "cell_type": "markdown",
   "metadata": {},
   "source": [
    "## Task 7: Evaluating the Solution on Testing Set\n",
    "\n",
    "Again, provided that you have programmed and executed the optimization problems correctly, the following helper code shall compute the Sharpe ratio and other benchmarks for you."
   ]
  },
  {
   "cell_type": "code",
   "execution_count": null,
   "metadata": {},
   "outputs": [],
   "source": [
    "sharpe_IP = sharpe_ratio( path_subgroup, JuMP.value.(x_mip), ones(n), 2 );"
   ]
  },
  {
   "cell_type": "code",
   "execution_count": null,
   "metadata": {},
   "outputs": [],
   "source": [
    "sharpe_SOCP = sharpe_ratio( path_subgroup, JuMP.value.(x_socp), ones(n) , 2 );"
   ]
  },
  {
   "cell_type": "code",
   "execution_count": null,
   "metadata": {},
   "outputs": [],
   "source": [
    "sharpe_Opt = sharpe_ratio( path_subgroup, portfolio_opt, zeros(n), 2 );"
   ]
  },
  {
   "cell_type": "markdown",
   "metadata": {},
   "source": [
    "# Part II - Competitive Task"
   ]
  },
  {
   "cell_type": "markdown",
   "metadata": {},
   "source": [
    "In the compulsory task, we shall implement a projected gradient method (using a constant step size) for the approximated Portfolio optimization problem. \n",
    "\n",
    "We shall consider the full portfolio optimization problem. For this, let us first load the stock data with the following helper code."
   ]
  },
  {
   "cell_type": "code",
   "execution_count": null,
   "metadata": {},
   "outputs": [],
   "source": [
    "# load the full data set!\n",
    "files = glob( \"*_train.csv\", \"./ftec_project_files/\");\n",
    "dfs = DataFrame.( CSV.File.( files ) );\n",
    "T = 800; n = length(dfs);\n",
    "stocks_retur_full = zeros(T,n);\n",
    "for i = 1:n\n",
    "    # compute the realized return R_i(t)\n",
    "    stocks_retur_full[:,i] = (dfs[i].close-dfs[i].open) ./ dfs[i].open;\n",
    "end\n",
    "names_stocks_full = [ dfs[i].Name[1] for i in 1:n ];\n",
    "# calculate r_i and Sigma\n",
    "bar_R_full = [ mean( stocks_retur_full[:,i] ) for i in 1:length(dfs) ];\n",
    "Sigma_full = [ mean( (stocks_retur_full[:,i].-bar_R_full[i]).*(stocks_retur_full[:,j].-bar_R_full[j]) ) for i=1:n, j=1:n ]; "
   ]
  },
  {
   "cell_type": "markdown",
   "metadata": {},
   "source": [
    "Notice that \"bar_R_full\" is the expected return for all the $n=471$ stocks considered, and \"Sigma_full\" is the $471 \\times 471$ covariance matrix for them. "
   ]
  },
  {
   "cell_type": "markdown",
   "metadata": {},
   "source": [
    "## Task 8: Implementing a Customized Solver for Approximated problem\n",
    "\n",
    "You shall write a few helper functions to compute the objective values, the gradient vector, the projection into the box constraint, etc.. to help you with implementing the customized solver. Some useful syntax are as follows:\n",
    "\n",
    "- For a nonlinear function $h(z)$ (such as the Huber function) on a scalar $z$. Suppose that $x$ is an $n$-dimensional vector, to create the vector \n",
    "\n",
    "$$ [h(x)]_i = h(x_i) $$\n",
    "\n",
    "you may use the syntax\n",
    "\n",
    "$$ \\texttt{h.(x)} $$\n",
    "\n",
    "where the \".\" after \"h\" broadcasts the function to every elements of the vector. \n",
    "- Note that the objective function should be dependent on \"x\", \"w\", \"a\", \"bar_R_full\", \"Sigma_full\", \"upsilon\", \"zeta\". "
   ]
  },
  {
   "cell_type": "code",
   "execution_count": null,
   "metadata": {},
   "outputs": [],
   "source": [
    "# your code/functions here"
   ]
  },
  {
   "cell_type": "markdown",
   "metadata": {},
   "source": [
    "You may program the iterative algorithm of your choice as follows. "
   ]
  },
  {
   "cell_type": "code",
   "execution_count": null,
   "metadata": {},
   "outputs": [],
   "source": [
    "# set the parameters as specified by the problem\n",
    "M = 20; w = 1*ones(n); a = 0.75; upsilon = 1000; lambda = 0.5; delta = 0.01;\n",
    "\n",
    "# initialize the algorithm\n",
    "x_custom = zeros(n); \n",
    "store_obj = []\n",
    "push!(store_obj, .. ) # replace \"..\" with the function you wrote for computing the objective val.\n",
    "\n",
    "# calculate l and u - your code here (should be a simple formula)\n",
    "\n",
    "\n",
    "for iteration_no = 1 : 50000 # feel free to adjust the number of iterations run here.\n",
    "    # your code here\n",
    "    \n",
    "    push!(store_obj, .. ) # replace \"..\" with the function you wrote for computing the objective val.\n",
    "end"
   ]
  },
  {
   "cell_type": "code",
   "execution_count": null,
   "metadata": {},
   "outputs": [],
   "source": [
    "plot( store_obj, title = \"objective value\") # plot the trajectory of the optimization algorithm"
   ]
  },
  {
   "cell_type": "markdown",
   "metadata": {},
   "source": [
    "Apply the post-processing step as specified in the project."
   ]
  },
  {
   "cell_type": "code",
   "execution_count": null,
   "metadata": {},
   "outputs": [],
   "source": [
    "x_custom_pp = copy( x_custom )\n",
    "x_custom_pp[ abs.(x_custom_pp) .< delta ] .= 0;"
   ]
  },
  {
   "cell_type": "markdown",
   "metadata": {},
   "source": [
    "The following code computes the sharpe ratio, return, transaction cost, total cost of portfolio which will be used to calculate your score for the competitive task!"
   ]
  },
  {
   "cell_type": "code",
   "execution_count": null,
   "metadata": {},
   "outputs": [],
   "source": [
    "sharpe_PPGD = sharpe_ratio( \"./ftec_project_files/\", x_custom_pp, ones(n), 2 )"
   ]
  },
  {
   "cell_type": "markdown",
   "metadata": {},
   "source": [
    "It may also help to visualize the portfolio with the following code:"
   ]
  },
  {
   "cell_type": "code",
   "execution_count": null,
   "metadata": {},
   "outputs": [],
   "source": [
    "plot( names_stocks_full, x_custom_pp + w, labels = \"gradient descent\" )\n",
    "plot!( names_stocks_full, 1000*bar_R_full, labels =\"(Scaled) Expected Return\")\n",
    "plot!( names_stocks_full, 1000*[Sigma_full[i,i] for i in 1:n], labels =\"(Scaled) Variance\")"
   ]
  },
  {
   "cell_type": "code",
   "execution_count": null,
   "metadata": {},
   "outputs": [],
   "source": []
  }
 ],
 "metadata": {
  "kernelspec": {
   "display_name": "Julia 1.1.1",
   "language": "julia",
   "name": "julia-1.1"
  },
  "language_info": {
   "file_extension": ".jl",
   "mimetype": "application/julia",
   "name": "julia",
   "version": "1.1.1"
  },
  "varInspector": {
   "cols": {
    "lenName": 16,
    "lenType": 16,
    "lenVar": 40
   },
   "kernels_config": {
    "python": {
     "delete_cmd_postfix": "",
     "delete_cmd_prefix": "del ",
     "library": "var_list.py",
     "varRefreshCmd": "print(var_dic_list())"
    },
    "r": {
     "delete_cmd_postfix": ") ",
     "delete_cmd_prefix": "rm(",
     "library": "var_list.r",
     "varRefreshCmd": "cat(var_dic_list()) "
    }
   },
   "types_to_exclude": [
    "module",
    "function",
    "builtin_function_or_method",
    "instance",
    "_Feature"
   ],
   "window_display": false
  }
 },
 "nbformat": 4,
 "nbformat_minor": 4
}
