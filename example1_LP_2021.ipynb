{
 "cells": [
  {
   "cell_type": "code",
   "execution_count": 15,
   "metadata": {},
   "outputs": [],
   "source": [
    "# load the required packages\n",
    "using JuMP\n",
    "using GLPK"
   ]
  },
  {
   "cell_type": "markdown",
   "metadata": {},
   "source": [
    "## Solving your first Linear Program on Julia "
   ]
  },
  {
   "cell_type": "markdown",
   "metadata": {},
   "source": [
    "In this example, we will show how to program a simple LP using the JuMP modeling language. We focus on a simple LP  described as follows:\n",
    "\n",
    "$$ \\begin{array}{rl}\n",
    "\\min_{x_1,x_2}  & 3x_1 + 5x_2 \\\\\n",
    "\\text{s.t.} & x_1 \\leq 4,~2x_2 \\leq 12 \\\\\n",
    "& 3x_1 + 2 x_2 \\leq 18 \\\\\n",
    "& x_1 \\geq 0,~x_2 \\geq 0.\n",
    "\\end{array} $$\n",
    "\n",
    "Once we have obtained a mathematical formulation for an optimization problem, the first thing we have to decide on is which \"solver\" to use with JuMP. Notice that JuMP is only a modeling language / interface, where the heavy lifting is actually done by the \"solver\". Different solvers have been designed for different types of optimization problems, and their supported optimization problems can be found in the table on http://www.juliaopt.org/JuMP.jl/v0.21.1/installation/#Getting-Solvers-1\n",
    "\n",
    "In FTEC2101/ESTR2520, where we deal with mostly LPs, IPs, and convex programs. We only focus on \n",
    "- using \"GLPK\" which supports LPs and IPs; \n",
    "- using \"ECOS\" which supports second order cone program (SOCP);\n",
    "- using \"Juniper\" (with \"Ipopt\") which supports mixed-integer SOCP. \n",
    "\n",
    "These packages have been installed in your Julia environment with the program \"install_packages_2021.ipynb\". For this lab, we only need to use \"GLPK\" since our objective is only to solve an LP problem. \n",
    "\n",
    "The following code sniplet initialize an optimization problem by specifying the solver \"GLPK.Optimizer\" to be used:"
   ]
  },
  {
   "cell_type": "code",
   "execution_count": 16,
   "metadata": {},
   "outputs": [],
   "source": [
    "model = Model(GLPK.Optimizer);"
   ]
  },
  {
   "cell_type": "markdown",
   "metadata": {},
   "source": [
    "We have to specify the decision variable as follows (notice that we can include the $x_1\\geq0,x_2\\geq0$ constraints):"
   ]
  },
  {
   "cell_type": "code",
   "execution_count": 17,
   "metadata": {},
   "outputs": [
    {
     "data": {
      "text/plain": [
       "2-element Array{VariableRef,1}:\n",
       " x[1]\n",
       " x[2]"
      ]
     },
     "execution_count": 17,
     "metadata": {},
     "output_type": "execute_result"
    }
   ],
   "source": [
    "@variable(model, x[1:2] >= 0)"
   ]
  },
  {
   "cell_type": "markdown",
   "metadata": {},
   "source": [
    "We can specify the functional constraints in matrix form. In particular, note that our constraints can be written as:\n",
    "\n",
    "$$ \\left( \\begin{array}{cc} 1 & 0 \\\\ 0 & 2 \\\\ 3 & 2 \\end{array} \\right) \\left( \\begin{array}{c} x_1 \\\\ x_2 \\end{array} \\right) \\leq \\left( \\begin{array}{c} 4 \\\\ 12 \\\\ 18 \\end{array} \\right) $$\n",
    "\n",
    "In JuMP, it can be easily defined using the following code:"
   ]
  },
  {
   "cell_type": "code",
   "execution_count": 18,
   "metadata": {},
   "outputs": [
    {
     "data": {
      "text/plain": [
       "3-element Array{ConstraintRef{Model,MathOptInterface.ConstraintIndex{MathOptInterface.ScalarAffineFunction{Float64},MathOptInterface.LessThan{Float64}},ScalarShape},1}:\n",
       " x[1] <= 4.0            \n",
       " 2 x[2] <= 12.0         \n",
       " 3 x[1] + 2 x[2] <= 18.0"
      ]
     },
     "execution_count": 18,
     "metadata": {},
     "output_type": "execute_result"
    }
   ],
   "source": [
    "A = [1 0; 0 2; 3 2]; b = [4; 12; 18]\n",
    "@constraint(model, A*x .<= b)"
   ]
  },
  {
   "cell_type": "markdown",
   "metadata": {},
   "source": [
    "Notice the following rules:\n",
    "\n",
    "1. A matrix is defined using the square bracket \"[\" and \"]\"; we can specify the values in different columns of it by adding \"spaces\"; and to start a new row in the matrix, we can use the semicolun \";\". \n",
    "2. In Julia syntax, we use \"A*x .<= b\" to denote the \"element-wise\" comparison using the dotted \"<=\".\n",
    "3. Notice that you can use \"@constraint\" for multiple times to \"add\" constraints to your model.\n",
    "\n",
    "Finally, we can specify the objective function, and inspect the final optimization model:"
   ]
  },
  {
   "cell_type": "code",
   "execution_count": 19,
   "metadata": {},
   "outputs": [
    {
     "name": "stdout",
     "output_type": "stream",
     "text": [
      "Max 3 x[1] + 5 x[2]\n",
      "Subject to\n",
      " x[1] <= 4.0\n",
      " 2 x[2] <= 12.0\n",
      " 3 x[1] + 2 x[2] <= 18.0\n",
      " x[1] >= 0.0\n",
      " x[2] >= 0.0\n"
     ]
    }
   ],
   "source": [
    "@objective(model, Max, 3*x[1]+5*x[2])\n",
    "print(model)"
   ]
  },
  {
   "cell_type": "markdown",
   "metadata": {},
   "source": [
    "In case the syntax was still unclear at this point, please note that \"x[1]\" (resp. \"x[2]\") refers to the first (resp. second) element in the vector $x$.\n",
    "\n",
    "Solving the LP problem requires only 1 line."
   ]
  },
  {
   "cell_type": "code",
   "execution_count": 20,
   "metadata": {},
   "outputs": [],
   "source": [
    "status = optimize!(model)"
   ]
  },
  {
   "cell_type": "markdown",
   "metadata": {},
   "source": [
    "Lastly, we can inspect the solution to the LP"
   ]
  },
  {
   "cell_type": "code",
   "execution_count": 21,
   "metadata": {},
   "outputs": [
    {
     "name": "stdout",
     "output_type": "stream",
     "text": [
      "Optimal x = [2.0, 6.0].  Optimal objective value = 36.0"
     ]
    }
   ],
   "source": [
    "print(\"Optimal x = \", value.(x), \".  Optimal objective value = \", objective_value(model))"
   ]
  },
  {
   "cell_type": "markdown",
   "metadata": {},
   "source": [
    "To modify a model, note that you should re-run the jupyter notebook from the line \"model = Model(solver = GLPKSolverMIP());\", otherwise you may be solving a different than the one you wanted. "
   ]
  },
  {
   "cell_type": "markdown",
   "metadata": {},
   "source": [
    "## After-class Exercise"
   ]
  },
  {
   "cell_type": "markdown",
   "metadata": {},
   "source": [
    "Now, let's try to write your own program solving the following LP:\n",
    "\n",
    "$$ \\begin{array}{rl}\n",
    "\\max_{x_1,x_2} & 2x_1 + 3x_2 \\\\\n",
    "\\text{s.t.} & x_1 + 2 x_2 \\leq 4 \\\\\n",
    "& x_1 + x_2  = 3 \\\\\n",
    "& x_1,x_2 \\geq 0.\n",
    "\\end{array} $$\n",
    "\n",
    "Remark: As a good practice, for your program in the same notebook, you should use different names for the variables to avoid conflicts."
   ]
  },
  {
   "cell_type": "code",
   "execution_count": 22,
   "metadata": {},
   "outputs": [],
   "source": [
    "model2 = Model(GLPK.Optimizer);\n",
    "# Your code here, you may use \"y\" instead of \"x\" for the variable here to \n",
    "# avoid \"erasing\" the previously stored variables "
   ]
  },
  {
   "cell_type": "code",
   "execution_count": 23,
   "metadata": {},
   "outputs": [
    {
     "data": {
      "text/plain": [
       "2-element Array{VariableRef,1}:\n",
       " y[1]\n",
       " y[2]"
      ]
     },
     "execution_count": 23,
     "metadata": {},
     "output_type": "execute_result"
    }
   ],
   "source": [
    "@variable(model2, y[1:2]>=0)"
   ]
  },
  {
   "cell_type": "code",
   "execution_count": 24,
   "metadata": {},
   "outputs": [
    {
     "data": {
      "text/plain": [
       "2-element Array{ConstraintRef{Model,MathOptInterface.ConstraintIndex{MathOptInterface.ScalarAffineFunction{Float64},MathOptInterface.LessThan{Float64}},ScalarShape},1}:\n",
       " y[1] + 2 y[2] <= 4.0\n",
       " y[1] + y[2] <= 3.0  "
      ]
     },
     "execution_count": 24,
     "metadata": {},
     "output_type": "execute_result"
    }
   ],
   "source": [
    "A2 = [1 2; 1 1]; b2=[4; 3]\n",
    "@constraint(model2, A2*y.<= b2)"
   ]
  },
  {
   "cell_type": "code",
   "execution_count": 25,
   "metadata": {},
   "outputs": [
    {
     "data": {
      "text/plain": [
       "1-element Array{ConstraintRef{Model,MathOptInterface.ConstraintIndex{MathOptInterface.ScalarAffineFunction{Float64},MathOptInterface.GreaterThan{Float64}},ScalarShape},1}:\n",
       " y[1] + y[2] >= 3.0"
      ]
     },
     "execution_count": 25,
     "metadata": {},
     "output_type": "execute_result"
    }
   ],
   "source": [
    "A3= [1 1]; b3=[3]\n",
    "@constraint(model2, A3*y .>=b3)"
   ]
  },
  {
   "cell_type": "code",
   "execution_count": 26,
   "metadata": {},
   "outputs": [
    {
     "name": "stdout",
     "output_type": "stream",
     "text": [
      "Max 2 y[1] + 3 y[2]\n",
      "Subject to\n",
      " y[1] + y[2] >= 3.0\n",
      " y[1] + 2 y[2] <= 4.0\n",
      " y[1] + y[2] <= 3.0\n",
      " y[1] >= 0.0\n",
      " y[2] >= 0.0\n"
     ]
    }
   ],
   "source": [
    "@objective(model2, Max, 2*y[1]+3*y[2])\n",
    "print(model2)"
   ]
  },
  {
   "cell_type": "code",
   "execution_count": 27,
   "metadata": {},
   "outputs": [],
   "source": [
    "status = optimize!(model2)"
   ]
  },
  {
   "cell_type": "code",
   "execution_count": 28,
   "metadata": {},
   "outputs": [
    {
     "name": "stdout",
     "output_type": "stream",
     "text": [
      "Optimal y = [2.0, 1.0].  Optimal objective value = 7.0"
     ]
    }
   ],
   "source": [
    "print(\"Optimal y = \", value.(y), \".  Optimal objective value = \", objective_value(model2))"
   ]
  },
  {
   "cell_type": "code",
   "execution_count": null,
   "metadata": {},
   "outputs": [],
   "source": []
  }
 ],
 "metadata": {
  "kernelspec": {
   "display_name": "Julia 1.1.1",
   "language": "julia",
   "name": "julia-1.1"
  },
  "language_info": {
   "file_extension": ".jl",
   "mimetype": "application/julia",
   "name": "julia",
   "version": "1.1.1"
  },
  "varInspector": {
   "cols": {
    "lenName": 16,
    "lenType": 16,
    "lenVar": 40
   },
   "kernels_config": {
    "python": {
     "delete_cmd_postfix": "",
     "delete_cmd_prefix": "del ",
     "library": "var_list.py",
     "varRefreshCmd": "print(var_dic_list())"
    },
    "r": {
     "delete_cmd_postfix": ") ",
     "delete_cmd_prefix": "rm(",
     "library": "var_list.r",
     "varRefreshCmd": "cat(var_dic_list()) "
    }
   },
   "types_to_exclude": [
    "module",
    "function",
    "builtin_function_or_method",
    "instance",
    "_Feature"
   ],
   "window_display": false
  }
 },
 "nbformat": 4,
 "nbformat_minor": 2
}
